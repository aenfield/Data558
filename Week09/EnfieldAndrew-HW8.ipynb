{
 "cells": [
  {
   "cell_type": "code",
   "execution_count": 2,
   "metadata": {
    "ExecuteTime": {
     "end_time": "2017-05-30T15:29:09.500274",
     "start_time": "2017-05-30T15:29:09.494274"
    },
    "collapsed": true
   },
   "outputs": [],
   "source": [
    "# general\n",
    "import numpy as np\n",
    "import pandas as pd\n",
    "from IPython.display import display\n",
    "import importlib\n",
    "\n",
    "# first used in exercise one\n",
    "import kernelsvm as svm\n",
    "from sklearn.metrics.pairwise import linear_kernel, polynomial_kernel\n",
    "from sklearn.datasets import fetch_mldata\n",
    "from sklearn import preprocessing\n",
    "from sklearn.model_selection import train_test_split"
   ]
  },
  {
   "cell_type": "code",
   "execution_count": 3,
   "metadata": {
    "collapsed": false
   },
   "outputs": [
    {
     "data": {
      "text/plain": [
       "<module 'kernelsvm' from '/Users/andrewenfield/work/github/Data558/Week09/kernelsvm.py'>"
      ]
     },
     "execution_count": 3,
     "metadata": {},
     "output_type": "execute_result"
    }
   ],
   "source": [
    "importlib.reload(svm)"
   ]
  },
  {
   "cell_type": "code",
   "execution_count": 4,
   "metadata": {
    "ExecuteTime": {
     "end_time": "2017-05-30T15:28:43.281144",
     "start_time": "2017-05-30T15:28:43.260642"
    },
    "collapsed": false
   },
   "outputs": [
    {
     "data": {
      "text/plain": [
       "array([[ 3,  2],\n",
       "       [ 0,  1],\n",
       "       [-1, -2]])"
      ]
     },
     "execution_count": 4,
     "metadata": {},
     "output_type": "execute_result"
    }
   ],
   "source": [
    "x_simple = np.array([3,2,0,1,-1,-2]).reshape(3,2)\n",
    "x_simple"
   ]
  },
  {
   "cell_type": "markdown",
   "metadata": {},
   "source": [
    "Note: Per the request in the \"Collaboration policy\" note, I've discussed at least part of this assignment with many of the MS employees in the class, including Abhishek, Geoff, Suman, and Charles. (Different weeks/different assignments have different people, depending upon who attends our study groups, but I'll probably just include this blurb w/ each homework since it's generally correct.) I've also gotten input from the discussion board."
   ]
  },
  {
   "cell_type": "markdown",
   "metadata": {
    "collapsed": true
   },
   "source": [
    "# Exercise one"
   ]
  },
  {
   "cell_type": "markdown",
   "metadata": {
    "collapsed": true
   },
   "source": [
    "_Compute the gradient ∇F(α) of F."
   ]
  },
  {
   "cell_type": "code",
   "execution_count": null,
   "metadata": {
    "collapsed": true
   },
   "outputs": [],
   "source": []
  },
  {
   "cell_type": "markdown",
   "metadata": {},
   "source": [
    "_Write a function computegram that computes, for any set of datapoints x1, . . . , xn, the kernel matrix K._"
   ]
  },
  {
   "cell_type": "markdown",
   "metadata": {},
   "source": [
    "I implemented the computegram_linear function, and all of the supporting functions including the gradient and objective functions, in the file kernelsvm.py, which I imported into this notebook with the alias svm. I also include my (relatively minimal) unit tests, in linearsvm-test.py."
   ]
  },
  {
   "cell_type": "code",
   "execution_count": 5,
   "metadata": {
    "collapsed": false
   },
   "outputs": [
    {
     "data": {
      "text/plain": [
       "array([[13,  2, -7],\n",
       "       [ 2,  1, -2],\n",
       "       [-7, -2,  5]])"
      ]
     },
     "execution_count": 5,
     "metadata": {},
     "output_type": "execute_result"
    }
   ],
   "source": [
    "svm.computegram_linear(x_simple)"
   ]
  },
  {
   "cell_type": "code",
   "execution_count": 6,
   "metadata": {
    "collapsed": false
   },
   "outputs": [
    {
     "data": {
      "text/plain": [
       "array([[196,   9,  36],\n",
       "       [  9,   4,   1],\n",
       "       [ 36,   1,  36]])"
      ]
     },
     "execution_count": 6,
     "metadata": {},
     "output_type": "execute_result"
    }
   ],
   "source": [
    "svm.computegram_polynomial(x_simple, 2, 1)"
   ]
  },
  {
   "cell_type": "markdown",
   "metadata": {},
   "source": [
    "_Write a function kerneleval that computes, for any set of datapoints x1, . . . , xn and a new datapoint x⋆, the vector of kernel evaluations [k(x1, x⋆), . . . , k(xn, x⋆)]T._"
   ]
  },
  {
   "cell_type": "markdown",
   "metadata": {},
   "source": [
    "My understanding here is that I'm not using the kernel matrix - that is, the reference to 'kernel evaluation' means to use the kernel _function_, not the kernel matrix. I think this is just (part of - since no alpha weighting yet) the predict step, which - for a linear kernel - is the sum of the inner products between each observation and the value to be predicted, weighted by each learned value of alpha."
   ]
  },
  {
   "cell_type": "code",
   "execution_count": 7,
   "metadata": {
    "collapsed": false
   },
   "outputs": [
    {
     "data": {
      "text/plain": [
       "array([10,  2, -6])"
      ]
     },
     "execution_count": 7,
     "metadata": {},
     "output_type": "execute_result"
    }
   ],
   "source": [
    "svm.kerneleval_linear(x_simple, np.array([2,2]))"
   ]
  },
  {
   "cell_type": "markdown",
   "metadata": {},
   "source": [
    "**TODO** Is there a way this function should be generalized to work with different kinds of kernels?"
   ]
  },
  {
   "cell_type": "markdown",
   "metadata": {},
   "source": [
    "_Consider the MNIST dataset. You can find instructions on how to download it here: http://scikit-learn.org/stable/datasets/mldata.html. Pick two classes of your choice. Your are going to work on the dataset consisting of the data from these two classes. Standardize the data, if you have not done so already._"
   ]
  },
  {
   "cell_type": "code",
   "execution_count": 8,
   "metadata": {
    "collapsed": false
   },
   "outputs": [
    {
     "data": {
      "text/plain": [
       "((70000, 784), (70000,))"
      ]
     },
     "execution_count": 8,
     "metadata": {},
     "output_type": "execute_result"
    }
   ],
   "source": [
    "mnist = fetch_mldata('MNIST original')\n",
    "mnist.data.shape, mnist.target.shape"
   ]
  },
  {
   "cell_type": "markdown",
   "metadata": {},
   "source": [
    "We'll use 1 and 8. "
   ]
  },
  {
   "cell_type": "code",
   "execution_count": 9,
   "metadata": {
    "collapsed": false
   },
   "outputs": [
    {
     "data": {
      "text/plain": [
       "((14702, 784), (14702,), array([ 1.,  8.]))"
      ]
     },
     "execution_count": 9,
     "metadata": {},
     "output_type": "execute_result"
    }
   ],
   "source": [
    "ones_and_eights = (mnist.target == 1) | (mnist.target == 8)\n",
    "X = mnist.data[ones_and_eights]\n",
    "y = mnist.target[ones_and_eights]\n",
    "X.shape, y.shape, np.unique(y)"
   ]
  },
  {
   "cell_type": "code",
   "execution_count": 10,
   "metadata": {
    "collapsed": false
   },
   "outputs": [
    {
     "name": "stderr",
     "output_type": "stream",
     "text": [
      "/Users/andrewenfield/miniconda3/envs/data558/lib/python3.6/site-packages/sklearn/utils/validation.py:429: DataConversionWarning: Data with input dtype uint8 was converted to float64 by the scale function.\n",
      "  warnings.warn(msg, _DataConversionWarning)\n"
     ]
    },
    {
     "data": {
      "text/plain": [
       "(14702, 784)"
      ]
     },
     "execution_count": 10,
     "metadata": {},
     "output_type": "execute_result"
    }
   ],
   "source": [
    "X_scaled = preprocessing.scale(X)\n",
    "X_scaled.shape"
   ]
  },
  {
   "cell_type": "code",
   "execution_count": 11,
   "metadata": {
    "collapsed": false
   },
   "outputs": [
    {
     "data": {
      "text/plain": [
       "((11026, 784), (3676, 784), (11026,), (3676,))"
      ]
     },
     "execution_count": 11,
     "metadata": {},
     "output_type": "execute_result"
    }
   ],
   "source": [
    "X_scaled_train, X_scaled_test, y_train, y_test = train_test_split(X_scaled, y)\n",
    "X_scaled_train.shape, X_scaled_test.shape, y_train.shape, y_test.shape"
   ]
  },
  {
   "cell_type": "markdown",
   "metadata": {},
   "source": [
    "_Write a function mysvm that implements the fast gradient algorithm to train the kernel support vector machine with the squared hinge loss. The function takes as input the initial step-size value for the backtracking rule and a maximum number of iterations._"
   ]
  },
  {
   "cell_type": "markdown",
   "metadata": {},
   "source": [
    "As noted above, I implemented this in the kernelsvm.py file. Instead of creating a function named mysvm, I just call my fastgradalgo function and pass in references to the kernel SVM gradient and objective functions (which are also implemented in the same file)."
   ]
  },
  {
   "cell_type": "code",
   "execution_count": null,
   "metadata": {
    "collapsed": true
   },
   "outputs": [],
   "source": []
  },
  {
   "cell_type": "markdown",
   "metadata": {},
   "source": [
    "_Train your kernel support vector machine with the squared hinge loss and the polyno- mial kernel of order 7 on the the MNIST dataset, tuning the regularization parameter λ using cross-validation._"
   ]
  },
  {
   "cell_type": "code",
   "execution_count": 11,
   "metadata": {
    "collapsed": false
   },
   "outputs": [
    {
     "data": {
      "text/plain": [
       "<module 'kernelsvm' from '/Users/andrewenfield/work/github/Data558/Week09/kernelsvm.py'>"
      ]
     },
     "execution_count": 11,
     "metadata": {},
     "output_type": "execute_result"
    }
   ],
   "source": [
    "importlib.reload(svm)"
   ]
  },
  {
   "cell_type": "code",
   "execution_count": 12,
   "metadata": {
    "collapsed": true
   },
   "outputs": [],
   "source": [
    "t_init = 0.01\n",
    "max_iters = 10"
   ]
  },
  {
   "cell_type": "code",
   "execution_count": 14,
   "metadata": {
    "collapsed": false
   },
   "outputs": [
    {
     "data": {
      "text/html": [
       "<div>\n",
       "<table border=\"1\" class=\"dataframe\">\n",
       "  <thead>\n",
       "    <tr style=\"text-align: right;\">\n",
       "      <th></th>\n",
       "      <th>0</th>\n",
       "      <th>1</th>\n",
       "      <th>2</th>\n",
       "      <th>3</th>\n",
       "      <th>4</th>\n",
       "      <th>5</th>\n",
       "      <th>6</th>\n",
       "      <th>7</th>\n",
       "      <th>8</th>\n",
       "      <th>9</th>\n",
       "      <th>...</th>\n",
       "      <th>11016</th>\n",
       "      <th>11017</th>\n",
       "      <th>11018</th>\n",
       "      <th>11019</th>\n",
       "      <th>11020</th>\n",
       "      <th>11021</th>\n",
       "      <th>11022</th>\n",
       "      <th>11023</th>\n",
       "      <th>11024</th>\n",
       "      <th>11025</th>\n",
       "    </tr>\n",
       "  </thead>\n",
       "  <tbody>\n",
       "    <tr>\n",
       "      <th>8</th>\n",
       "      <td>1.962679e-07</td>\n",
       "      <td>-3.714314e-07</td>\n",
       "      <td>-3.599574e-07</td>\n",
       "      <td>6.254346e-08</td>\n",
       "      <td>-1.937236e-07</td>\n",
       "      <td>1.196436e-07</td>\n",
       "      <td>-2.794986e-07</td>\n",
       "      <td>2.249385e-07</td>\n",
       "      <td>1.222759e-07</td>\n",
       "      <td>-1.317698e-07</td>\n",
       "      <td>...</td>\n",
       "      <td>1.797507e-07</td>\n",
       "      <td>-3.081618e-07</td>\n",
       "      <td>-1.392155e-07</td>\n",
       "      <td>-2.482354e-07</td>\n",
       "      <td>-1.926423e-07</td>\n",
       "      <td>4.772608e-08</td>\n",
       "      <td>8.568301e-08</td>\n",
       "      <td>7.770417e-08</td>\n",
       "      <td>-2.091966e-07</td>\n",
       "      <td>-2.811912e-07</td>\n",
       "    </tr>\n",
       "    <tr>\n",
       "      <th>9</th>\n",
       "      <td>2.006736e-07</td>\n",
       "      <td>-3.920476e-07</td>\n",
       "      <td>-3.829207e-07</td>\n",
       "      <td>1.686493e-08</td>\n",
       "      <td>-2.112396e-07</td>\n",
       "      <td>1.306675e-07</td>\n",
       "      <td>-2.874655e-07</td>\n",
       "      <td>2.055603e-07</td>\n",
       "      <td>1.441291e-07</td>\n",
       "      <td>-1.480287e-07</td>\n",
       "      <td>...</td>\n",
       "      <td>1.883978e-07</td>\n",
       "      <td>-3.181666e-07</td>\n",
       "      <td>-1.389441e-07</td>\n",
       "      <td>-2.468098e-07</td>\n",
       "      <td>-1.849821e-07</td>\n",
       "      <td>8.132389e-08</td>\n",
       "      <td>3.805241e-08</td>\n",
       "      <td>7.846875e-08</td>\n",
       "      <td>-2.128476e-07</td>\n",
       "      <td>-2.880118e-07</td>\n",
       "    </tr>\n",
       "    <tr>\n",
       "      <th>10</th>\n",
       "      <td>2.123096e-07</td>\n",
       "      <td>-4.200657e-07</td>\n",
       "      <td>-4.202606e-07</td>\n",
       "      <td>1.445931e-08</td>\n",
       "      <td>-2.363714e-07</td>\n",
       "      <td>1.612193e-07</td>\n",
       "      <td>-3.029186e-07</td>\n",
       "      <td>1.933410e-07</td>\n",
       "      <td>1.622444e-07</td>\n",
       "      <td>-1.680080e-07</td>\n",
       "      <td>...</td>\n",
       "      <td>1.936730e-07</td>\n",
       "      <td>-3.355555e-07</td>\n",
       "      <td>-1.487826e-07</td>\n",
       "      <td>-2.600592e-07</td>\n",
       "      <td>-1.892138e-07</td>\n",
       "      <td>1.036008e-07</td>\n",
       "      <td>-2.630979e-08</td>\n",
       "      <td>9.976332e-08</td>\n",
       "      <td>-2.299417e-07</td>\n",
       "      <td>-3.118412e-07</td>\n",
       "    </tr>\n",
       "  </tbody>\n",
       "</table>\n",
       "<p>3 rows × 11026 columns</p>\n",
       "</div>"
      ],
      "text/plain": [
       "           0             1             2             3             4      \\\n",
       "8   1.962679e-07 -3.714314e-07 -3.599574e-07  6.254346e-08 -1.937236e-07   \n",
       "9   2.006736e-07 -3.920476e-07 -3.829207e-07  1.686493e-08 -2.112396e-07   \n",
       "10  2.123096e-07 -4.200657e-07 -4.202606e-07  1.445931e-08 -2.363714e-07   \n",
       "\n",
       "           5             6             7             8             9      \\\n",
       "8   1.196436e-07 -2.794986e-07  2.249385e-07  1.222759e-07 -1.317698e-07   \n",
       "9   1.306675e-07 -2.874655e-07  2.055603e-07  1.441291e-07 -1.480287e-07   \n",
       "10  1.612193e-07 -3.029186e-07  1.933410e-07  1.622444e-07 -1.680080e-07   \n",
       "\n",
       "        ...              11016         11017         11018         11019  \\\n",
       "8       ...       1.797507e-07 -3.081618e-07 -1.392155e-07 -2.482354e-07   \n",
       "9       ...       1.883978e-07 -3.181666e-07 -1.389441e-07 -2.468098e-07   \n",
       "10      ...       1.936730e-07 -3.355555e-07 -1.487826e-07 -2.600592e-07   \n",
       "\n",
       "           11020         11021         11022         11023         11024  \\\n",
       "8  -1.926423e-07  4.772608e-08  8.568301e-08  7.770417e-08 -2.091966e-07   \n",
       "9  -1.849821e-07  8.132389e-08  3.805241e-08  7.846875e-08 -2.128476e-07   \n",
       "10 -1.892138e-07  1.036008e-07 -2.630979e-08  9.976332e-08 -2.299417e-07   \n",
       "\n",
       "           11025  \n",
       "8  -2.811912e-07  \n",
       "9  -2.880118e-07  \n",
       "10 -3.118412e-07  \n",
       "\n",
       "[3 rows x 11026 columns]"
      ]
     },
     "execution_count": 14,
     "metadata": {},
     "output_type": "execute_result"
    }
   ],
   "source": [
    "results = svm.fastgradalgo(\n",
    "    svm.computegram_linear(X_scaled_train), y_train, t_init=t_init, \n",
    "    grad_func = svm.compute_kernelsvm_gradient, \n",
    "    obj_func = svm.compute_kernelsvm_objective, \n",
    "    lam=1, max_iter=max_iters, t_func=svm.backtracking)\n",
    "results[-3:]"
   ]
  },
  {
   "cell_type": "code",
   "execution_count": null,
   "metadata": {
    "collapsed": true
   },
   "outputs": [],
   "source": []
  },
  {
   "cell_type": "code",
   "execution_count": null,
   "metadata": {
    "collapsed": true
   },
   "outputs": [],
   "source": []
  },
  {
   "cell_type": "markdown",
   "metadata": {},
   "source": [
    "_Compare the performance of kernel SVMs with different kernels (polynomial kernels with different orders, Gaussian RBF with different bandwidths, etc.)._"
   ]
  },
  {
   "cell_type": "code",
   "execution_count": null,
   "metadata": {
    "collapsed": true
   },
   "outputs": [],
   "source": []
  }
 ],
 "metadata": {
  "kernelspec": {
   "display_name": "Python 3",
   "language": "python",
   "name": "python3"
  },
  "language_info": {
   "codemirror_mode": {
    "name": "ipython",
    "version": 3
   },
   "file_extension": ".py",
   "mimetype": "text/x-python",
   "name": "python",
   "nbconvert_exporter": "python",
   "pygments_lexer": "ipython3",
   "version": "3.6.0"
  }
 },
 "nbformat": 4,
 "nbformat_minor": 2
}
