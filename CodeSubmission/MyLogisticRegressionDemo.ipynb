{
 "cells": [
  {
   "cell_type": "markdown",
   "metadata": {},
   "source": [
    "# Logistic regression, from scratch"
   ]
  },
  {
   "cell_type": "markdown",
   "metadata": {
    "collapsed": true
   },
   "source": [
    "As part of DATA 558, I wrote my own implementation of L2-regularized logistic regression in Python. This file demonstrates how to use my implementation with simple simulated data and with real-world data. \n",
    "\n",
    "If you have the numpy, matplotlib, sklearn, and pandas on your machine, the code should run without any additional setup. (The code uses the iris data set, but since this dataset is included with sklearn you don't need to download any data separately.)"
   ]
  },
  {
   "cell_type": "code",
   "execution_count": 1,
   "metadata": {
    "collapsed": true
   },
   "outputs": [],
   "source": [
    "import numpy as np\n",
    "import matplotlib.pyplot as plt\n",
    "%matplotlib inline\n",
    "plt.rcParams[\"figure.figsize\"] = (15,6) \n",
    "\n",
    "import logistic as lr\n",
    "\n",
    "from sklearn.model_selection import train_test_split\n",
    "from sklearn.metrics import accuracy_score\n",
    "from sklearn.preprocessing import scale\n",
    "from sklearn.linear_model import LogisticRegression\n",
    "\n",
    "from sklearn.datasets import load_iris"
   ]
  },
  {
   "cell_type": "code",
   "execution_count": 2,
   "metadata": {
    "collapsed": false
   },
   "outputs": [],
   "source": [
    "# set a seed so the text can refer to output without worrying about the output changing\n",
    "np.random.seed(42)"
   ]
  },
  {
   "cell_type": "markdown",
   "metadata": {},
   "source": [
    "# Logistic regression with simple simulated data"
   ]
  },
  {
   "cell_type": "markdown",
   "metadata": {},
   "source": [
    "As requested, this section _\"allows a user to launch the method on a simple simulated dataset, visualize the training process, and print the performance\"_.\n",
    "\n",
    "The simulated data consists of:\n",
    "* 50 data points with a class of '1' and a corresponding single X predictor value drawn from a normal distribution with mean 1, and \n",
    "* 50 data points with a class of '-1' and a corresponding single X predictor value drawn from a normal distribution with mean -1.\n",
    "\n",
    "In the simulated data higher values of X are associated with class 1 and lower values are associated with class -1. However, because the centers of the two normal distributions are close, some X values \"overlap\" and exist in the range of numbers that's more common for the other class (as a result we shouldn't expect 100% accuracy)."
   ]
  },
  {
   "cell_type": "code",
   "execution_count": 3,
   "metadata": {
    "collapsed": false
   },
   "outputs": [
    {
     "data": {
      "text/plain": [
       "(100, 1)"
      ]
     },
     "execution_count": 3,
     "metadata": {},
     "output_type": "execute_result"
    }
   ],
   "source": [
    "size_of_each_class = 50\n",
    "X_simple = np.append(np.random.normal(1, size=size_of_each_class), \n",
    "                     np.random.normal(-1, size=size_of_each_class))[:, np.newaxis]\n",
    "X_simple.shape"
   ]
  },
  {
   "cell_type": "code",
   "execution_count": 4,
   "metadata": {
    "collapsed": true
   },
   "outputs": [],
   "source": [
    "# standardize X so that it has a mean of zero, which means we don't need to fit an intercept\n",
    "X_simple = scale(X_simple)"
   ]
  },
  {
   "cell_type": "code",
   "execution_count": 5,
   "metadata": {
    "collapsed": false
   },
   "outputs": [
    {
     "data": {
      "text/plain": [
       "(100,)"
      ]
     },
     "execution_count": 5,
     "metadata": {},
     "output_type": "execute_result"
    }
   ],
   "source": [
    "y_simple = np.append(np.repeat(1, size_of_each_class), np.repeat(-1, size_of_each_class))\n",
    "y_simple.shape"
   ]
  },
  {
   "cell_type": "code",
   "execution_count": 6,
   "metadata": {
    "collapsed": false
   },
   "outputs": [
    {
     "data": {
      "text/plain": [
       "array([ 1,  1,  1,  1,  1,  1,  1,  1,  1,  1,  1,  1,  1,  1,  1,  1,  1,\n",
       "        1,  1,  1,  1,  1,  1,  1,  1,  1,  1,  1,  1,  1,  1,  1,  1,  1,\n",
       "        1,  1,  1,  1,  1,  1,  1,  1,  1,  1,  1,  1,  1,  1,  1,  1, -1,\n",
       "       -1, -1, -1, -1, -1, -1, -1, -1, -1, -1, -1, -1, -1, -1, -1, -1, -1,\n",
       "       -1, -1, -1, -1, -1, -1, -1, -1, -1, -1, -1, -1, -1, -1, -1, -1, -1,\n",
       "       -1, -1, -1, -1, -1, -1, -1, -1, -1, -1, -1, -1, -1, -1, -1])"
      ]
     },
     "execution_count": 6,
     "metadata": {},
     "output_type": "execute_result"
    }
   ],
   "source": [
    "y_simple"
   ]
  },
  {
   "cell_type": "markdown",
   "metadata": {},
   "source": [
    "Split the data into train and test sets, so we can check performance after fitting the model."
   ]
  },
  {
   "cell_type": "code",
   "execution_count": 7,
   "metadata": {
    "collapsed": true
   },
   "outputs": [],
   "source": [
    "X_simple_train, X_simple_test, y_simple_train, y_simple_test = train_test_split(X_simple, y_simple)"
   ]
  },
  {
   "cell_type": "markdown",
   "metadata": {},
   "source": [
    "And now train the model. The fastgradalgo function implements the fast gradient descent algorithm. It requires references to functions that evaluate the gradient and objective equations for the particular kind of regression being performed - in this case, we pass functions appropriate for logistic regression. It returns a matrix of coefficient values with one row per iteration and one column per feature in the passed X data.\n",
    "\n",
    "By default fastgradalgo uses a fixed step size, but if a function is passed using the t_func parameter, the implementation will call the function and use the step size it returns - the call below uses a backtracking implementation in the backtracking function."
   ]
  },
  {
   "cell_type": "code",
   "execution_count": 8,
   "metadata": {
    "collapsed": false
   },
   "outputs": [],
   "source": [
    "all_coefs_simple = lr.fastgradalgo(X_simple_train, y_simple_train, t_init=0.01, \n",
    "                                   grad_func=lr.compute_gradient_logistic_regression, \n",
    "                                   obj_func=lr.compute_objective_logistic_regression, \n",
    "                                   lam=1, iter=300, t_func=lr.backtracking)"
   ]
  },
  {
   "cell_type": "markdown",
   "metadata": {},
   "source": [
    "What are the coefficients from the last iteration?"
   ]
  },
  {
   "cell_type": "code",
   "execution_count": 9,
   "metadata": {
    "collapsed": false
   },
   "outputs": [
    {
     "data": {
      "text/plain": [
       "array([[ 0.1469933]])"
      ]
     },
     "execution_count": 9,
     "metadata": {},
     "output_type": "execute_result"
    }
   ],
   "source": [
    "final_coefs_simple = lr.get_final_coefs(all_coefs_simple)\n",
    "final_coefs_simple"
   ]
  },
  {
   "cell_type": "markdown",
   "metadata": {},
   "source": [
    "And, to visualize the training performance, how does the objective value change, by iteration?\n",
    "\n",
    "Note that the objective function should generally always decrease. The plot below shows an odd bump at around 25 iterations - I'm not sure where this bump is coming from and haven't had time to investigate further. Nonetheless, it does appear that the algorithm converges and so provides a good set of coefficients: the objective value is basically flat after about 50 iterations."
   ]
  },
  {
   "cell_type": "code",
   "execution_count": 10,
   "metadata": {
    "collapsed": false
   },
   "outputs": [
    {
     "data": {
      "image/png": "[encoded data removed]",
      "text/plain": [
       "<matplotlib.figure.Figure at 0x10bd58c88>"
      ]
     },
     "metadata": {},
     "output_type": "display_data"
    }
   ],
   "source": [
    "lr.objective_plot(all_coefs_simple, X_simple_train, y_simple_train)"
   ]
  },
  {
   "cell_type": "markdown",
   "metadata": {},
   "source": [
    "Finally, how accurate are the predictions made by using these coefficients? "
   ]
  },
  {
   "cell_type": "code",
   "execution_count": 11,
   "metadata": {
    "collapsed": false
   },
   "outputs": [
    {
     "name": "stdout",
     "output_type": "stream",
     "text": [
      "Accuracy on this simulated data is 76%.\n"
     ]
    }
   ],
   "source": [
    "print(\"Accuracy on this simulated data is {:.0%}.\".format(accuracy_score(\n",
    "    y_simple_test, lr.get_y_pred(final_coefs_simple, X_simple_test))))"
   ]
  },
  {
   "cell_type": "markdown",
   "metadata": {},
   "source": [
    "# Logistic regression with real world data"
   ]
  },
  {
   "cell_type": "markdown",
   "metadata": {},
   "source": [
    "Per the requirement, this section _\"allows a user to launch the method on a real-world dataset of your choice, visualize the training process, and print the performance\"._\n",
    "\n",
    "For this part of the demo, I'm using the iris data set (loading it via an sklearn convenience method). This data set has 150 observations with four metric predictors (characteristics of different flowers), and an output/target vector that holds one of three values (the type of iris). \n",
    "\n",
    "Logistic regression provides a binary output (without the use of further strategies like one-vs-one or one-vs-rest), so I'll predict if each observation is of the 'setosa' type (target value 0) or not (any other target values)."
   ]
  },
  {
   "cell_type": "code",
   "execution_count": 12,
   "metadata": {
    "collapsed": false
   },
   "outputs": [
    {
     "data": {
      "text/plain": [
       "(150, 4)"
      ]
     },
     "execution_count": 12,
     "metadata": {},
     "output_type": "execute_result"
    }
   ],
   "source": [
    "iris = load_iris()\n",
    "X_iris = scale(iris.data)\n",
    "X_iris.shape"
   ]
  },
  {
   "cell_type": "code",
   "execution_count": 13,
   "metadata": {
    "collapsed": false
   },
   "outputs": [
    {
     "data": {
      "text/plain": [
       "array(['setosa', 'versicolor', 'virginica'], \n",
       "      dtype='<U10')"
      ]
     },
     "execution_count": 13,
     "metadata": {},
     "output_type": "execute_result"
    }
   ],
   "source": [
    "iris.target_names"
   ]
  },
  {
   "cell_type": "code",
   "execution_count": 14,
   "metadata": {
    "collapsed": false
   },
   "outputs": [
    {
     "data": {
      "text/plain": [
       "(150,)"
      ]
     },
     "execution_count": 14,
     "metadata": {},
     "output_type": "execute_result"
    }
   ],
   "source": [
    "y_iris = np.where(iris.target == 0, 1, -1)\n",
    "y_iris.shape"
   ]
  },
  {
   "cell_type": "code",
   "execution_count": 15,
   "metadata": {
    "collapsed": false
   },
   "outputs": [
    {
     "data": {
      "text/plain": [
       "array([ 1,  1,  1,  1,  1,  1,  1,  1,  1,  1,  1,  1,  1,  1,  1,  1,  1,\n",
       "        1,  1,  1,  1,  1,  1,  1,  1,  1,  1,  1,  1,  1,  1,  1,  1,  1,\n",
       "        1,  1,  1,  1,  1,  1,  1,  1,  1,  1,  1,  1,  1,  1,  1,  1, -1,\n",
       "       -1, -1, -1, -1, -1, -1, -1, -1, -1, -1, -1, -1, -1, -1, -1, -1, -1,\n",
       "       -1, -1, -1, -1, -1, -1, -1, -1, -1, -1, -1, -1, -1, -1, -1, -1, -1,\n",
       "       -1, -1, -1, -1, -1, -1, -1, -1, -1, -1, -1, -1, -1, -1, -1, -1, -1,\n",
       "       -1, -1, -1, -1, -1, -1, -1, -1, -1, -1, -1, -1, -1, -1, -1, -1, -1,\n",
       "       -1, -1, -1, -1, -1, -1, -1, -1, -1, -1, -1, -1, -1, -1, -1, -1, -1,\n",
       "       -1, -1, -1, -1, -1, -1, -1, -1, -1, -1, -1, -1, -1, -1])"
      ]
     },
     "execution_count": 15,
     "metadata": {},
     "output_type": "execute_result"
    }
   ],
   "source": [
    "y_iris"
   ]
  },
  {
   "cell_type": "code",
   "execution_count": 16,
   "metadata": {
    "collapsed": true
   },
   "outputs": [],
   "source": [
    "X_iris_train, X_iris_test, y_iris_train, y_iris_test = train_test_split(X_iris, y_iris)"
   ]
  },
  {
   "cell_type": "code",
   "execution_count": 17,
   "metadata": {
    "collapsed": false
   },
   "outputs": [
    {
     "data": {
      "text/plain": [
       "array([[-0.11858237,  0.11835375, -0.1641994 , -0.15594726]])"
      ]
     },
     "execution_count": 17,
     "metadata": {},
     "output_type": "execute_result"
    }
   ],
   "source": [
    "all_coefs_iris = lr.fastgradalgo(X_iris_train, y_iris_train, 0.01, \n",
    "                                 lr.compute_gradient_logistic_regression, \n",
    "                                 lr.compute_objective_logistic_regression, \n",
    "                                 lam=1, iter=300, t_func=lr.backtracking)\n",
    "final_coefs_iris = lr.get_final_coefs(all_coefs_iris)\n",
    "final_coefs_iris"
   ]
  },
  {
   "cell_type": "code",
   "execution_count": 18,
   "metadata": {
    "collapsed": false
   },
   "outputs": [
    {
     "data": {
      "image/png": "[encoded data removed]",
      "text/plain": [
       "<matplotlib.figure.Figure at 0x10be01ac8>"
      ]
     },
     "metadata": {},
     "output_type": "display_data"
    }
   ],
   "source": [
    "lr.objective_plot(all_coefs_iris, X_iris_train, y_iris_train)"
   ]
  },
  {
   "cell_type": "code",
   "execution_count": 19,
   "metadata": {
    "collapsed": false
   },
   "outputs": [
    {
     "name": "stdout",
     "output_type": "stream",
     "text": [
      "Accuracy of my own logistic regression code is 100%.\n"
     ]
    }
   ],
   "source": [
    "print(\"Accuracy of my own logistic regression code is {:.0%}.\".format(accuracy_score(\n",
    "    y_iris_test, lr.get_y_pred(final_coefs_iris, X_iris_test))))"
   ]
  },
  {
   "cell_type": "markdown",
   "metadata": {
    "collapsed": true
   },
   "source": [
    "I also wrote an sklearn estimator wrapper that wraps my implementation. Using this wrapper I can pass in my implementation to any sklearn code that expects an estimator - for example, I can use my implementation with sklearn's OneVsOneClassifier and OneVsRestClassifier objects."
   ]
  },
  {
   "cell_type": "code",
   "execution_count": 20,
   "metadata": {
    "collapsed": false
   },
   "outputs": [
    {
     "data": {
      "text/plain": [
       "MyLogisticRegression(C=1, iter=300)"
      ]
     },
     "execution_count": 20,
     "metadata": {},
     "output_type": "execute_result"
    }
   ],
   "source": [
    "my_lr = lr.MyLogisticRegression()\n",
    "my_lr.fit(X_iris_train, y_iris_train)"
   ]
  },
  {
   "cell_type": "code",
   "execution_count": 21,
   "metadata": {
    "collapsed": false
   },
   "outputs": [
    {
     "name": "stdout",
     "output_type": "stream",
     "text": [
      "Accuracy of my own logistic regression with sklearn wrapper is 100%.\n"
     ]
    }
   ],
   "source": [
    "print(\"Accuracy of my own logistic regression with sklearn wrapper is {:.0%}.\".format(accuracy_score(\n",
    "    y_iris_test, my_lr.predict(X_iris_test))))"
   ]
  },
  {
   "cell_type": "markdown",
   "metadata": {},
   "source": [
    "# Comparison of my code with sklearn's LogisticRegression classifier"
   ]
  },
  {
   "cell_type": "markdown",
   "metadata": {},
   "source": [
    "Per the requirement, this section allows _\"a user to run an experimental comparison between your implementation and scikit-learn’s on either a simulated or real-world dataset.\"_\n",
    "\n",
    "The accuracy of my implementation is shown immediately above. The code below uses sklearn's LogisticRegression classifier on the same data and with the same value for the lambda/C parameter, to produce the accuracy below and show that both my implementation and the sklearn implementation predict equally well."
   ]
  },
  {
   "cell_type": "code",
   "execution_count": 22,
   "metadata": {
    "collapsed": false
   },
   "outputs": [
    {
     "data": {
      "text/plain": [
       "LogisticRegression(C=1.0, class_weight=None, dual=False, fit_intercept=False,\n",
       "          intercept_scaling=1, max_iter=100, multi_class='ovr', n_jobs=1,\n",
       "          penalty='l2', random_state=None, solver='liblinear', tol=0.0001,\n",
       "          verbose=0, warm_start=False)"
      ]
     },
     "execution_count": 22,
     "metadata": {},
     "output_type": "execute_result"
    }
   ],
   "source": [
    "skl_lr = LogisticRegression(fit_intercept=False) # no intercept, just like we do above\n",
    "skl_lr.fit(X_iris_train, y_iris_train)"
   ]
  },
  {
   "cell_type": "code",
   "execution_count": 23,
   "metadata": {
    "collapsed": false
   },
   "outputs": [
    {
     "name": "stdout",
     "output_type": "stream",
     "text": [
      "Accuracy of sklearn LogisticRegression is 100%.\n"
     ]
    }
   ],
   "source": [
    "print(\"Accuracy of sklearn LogisticRegression is {:.0%}.\".format(accuracy_score(\n",
    "    y_iris_test, skl_lr.predict(X_iris_test))))"
   ]
  },
  {
   "cell_type": "code",
   "execution_count": null,
   "metadata": {
    "collapsed": true
   },
   "outputs": [],
   "source": []
  }
 ],
 "metadata": {
  "kernelspec": {
   "display_name": "Python 3",
   "language": "python",
   "name": "python3"
  },
  "language_info": {
   "codemirror_mode": {
    "name": "ipython",
    "version": 3
   },
   "file_extension": ".py",
   "mimetype": "text/x-python",
   "name": "python",
   "nbconvert_exporter": "python",
   "pygments_lexer": "ipython3",
   "version": "3.6.0"
  }
 },
 "nbformat": 4,
 "nbformat_minor": 2
}
