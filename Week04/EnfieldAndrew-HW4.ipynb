{
 "cells": [
  {
   "cell_type": "code",
   "execution_count": 1,
   "metadata": {
    "collapsed": false
   },
   "outputs": [],
   "source": [
    "# general\n",
    "import numpy as np\n",
    "import pandas as pd\n",
    "import matplotlib.pyplot as plt\n",
    "import seaborn as sns\n",
    "from IPython.display import display\n",
    "\n",
    "%matplotlib inline\n",
    "\n",
    "from pylab import rcParams\n",
    "rcParams['figure.figsize'] = 8, 5\n",
    "\n",
    "# first used in exercise one\n",
    "import coorddescent as cd\n",
    "\n",
    "from sklearn import preprocessing\n",
    "from sklearn.model_selection import train_test_split\n",
    "from sklearn.linear_model import LassoCV\n",
    "\n",
    "# first used in exercise two\n",
    "from sklearn.decomposition import PCA\n",
    "from sklearn.cluster import KMeans\n",
    "from sklearn.preprocessing import StandardScaler\n",
    "\n",
    "# first used in exercise three\n",
    "from sklearn.preprocessing import PolynomialFeatures\n",
    "from sklearn.linear_model import Lasso\n",
    "from sklearn.model_selection import cross_val_score"
   ]
  },
  {
   "cell_type": "markdown",
   "metadata": {},
   "source": [
    "# Exercise One"
   ]
  },
  {
   "cell_type": "markdown",
   "metadata": {},
   "source": [
    "Note: I've submitted my implementation in the coorddescent.py file. I use this implementation in this notebook - I imported the module above and gave it the alias 'cp'. In addition, in case it helps understand how my implementation works, I've included the tests I wrote as part of doing the implementation. These are in the file coorddescent-test.py."
   ]
  },
  {
   "cell_type": "markdown",
   "metadata": {},
   "source": [
    "*\"Write a function that computes the formula of the solution of this minimization problem.\"*"
   ]
  },
  {
   "cell_type": "markdown",
   "metadata": {},
   "source": [
    "I did this in coorddescent.py, in the function minimize_beta_term (which calls the a_term and c_term functions). "
   ]
  },
  {
   "cell_type": "markdown",
   "metadata": {},
   "source": [
    "*\"Write a function that computes the formula of the solution of this partial minimization problem with respect to βj for any j = 1,...,d.\"*"
   ]
  },
  {
   "cell_type": "markdown",
   "metadata": {},
   "source": [
    "I did this in coorddescent.py, again in the function minimize_beta_term. "
   ]
  },
  {
   "cell_type": "markdown",
   "metadata": {},
   "source": [
    "*\"Consider the Hitters dataset from [1]. Standardize the data, i.e., center the features and divide them by their standard deviation, and center the outputs.\"*"
   ]
  },
  {
   "cell_type": "code",
   "execution_count": 85,
   "metadata": {
    "collapsed": false
   },
   "outputs": [
    {
     "data": {
      "text/plain": [
       "(322, 20)"
      ]
     },
     "execution_count": 85,
     "metadata": {},
     "output_type": "execute_result"
    }
   ],
   "source": [
    "h = pd.read_csv('Hitters.csv', index_col=0)\n",
    "h.shape"
   ]
  },
  {
   "cell_type": "code",
   "execution_count": 86,
   "metadata": {
    "collapsed": false
   },
   "outputs": [
    {
     "data": {
      "text/html": [
       "<div>\n",
       "<table border=\"1\" class=\"dataframe\">\n",
       "  <thead>\n",
       "    <tr style=\"text-align: right;\">\n",
       "      <th></th>\n",
       "      <th>AtBat</th>\n",
       "      <th>Hits</th>\n",
       "      <th>HmRun</th>\n",
       "      <th>Runs</th>\n",
       "      <th>RBI</th>\n",
       "      <th>Walks</th>\n",
       "      <th>Years</th>\n",
       "      <th>CAtBat</th>\n",
       "      <th>CHits</th>\n",
       "      <th>CHmRun</th>\n",
       "      <th>CRuns</th>\n",
       "      <th>CRBI</th>\n",
       "      <th>CWalks</th>\n",
       "      <th>League</th>\n",
       "      <th>Division</th>\n",
       "      <th>PutOuts</th>\n",
       "      <th>Assists</th>\n",
       "      <th>Errors</th>\n",
       "      <th>Salary</th>\n",
       "      <th>NewLeague</th>\n",
       "    </tr>\n",
       "    <tr>\n",
       "      <th>Name</th>\n",
       "      <th></th>\n",
       "      <th></th>\n",
       "      <th></th>\n",
       "      <th></th>\n",
       "      <th></th>\n",
       "      <th></th>\n",
       "      <th></th>\n",
       "      <th></th>\n",
       "      <th></th>\n",
       "      <th></th>\n",
       "      <th></th>\n",
       "      <th></th>\n",
       "      <th></th>\n",
       "      <th></th>\n",
       "      <th></th>\n",
       "      <th></th>\n",
       "      <th></th>\n",
       "      <th></th>\n",
       "      <th></th>\n",
       "      <th></th>\n",
       "    </tr>\n",
       "  </thead>\n",
       "  <tbody>\n",
       "    <tr>\n",
       "      <th>-Andy Allanson</th>\n",
       "      <td>293</td>\n",
       "      <td>66</td>\n",
       "      <td>1</td>\n",
       "      <td>30</td>\n",
       "      <td>29</td>\n",
       "      <td>14</td>\n",
       "      <td>1</td>\n",
       "      <td>293</td>\n",
       "      <td>66</td>\n",
       "      <td>1</td>\n",
       "      <td>30</td>\n",
       "      <td>29</td>\n",
       "      <td>14</td>\n",
       "      <td>A</td>\n",
       "      <td>E</td>\n",
       "      <td>446</td>\n",
       "      <td>33</td>\n",
       "      <td>20</td>\n",
       "      <td>NaN</td>\n",
       "      <td>A</td>\n",
       "    </tr>\n",
       "    <tr>\n",
       "      <th>-Alan Ashby</th>\n",
       "      <td>315</td>\n",
       "      <td>81</td>\n",
       "      <td>7</td>\n",
       "      <td>24</td>\n",
       "      <td>38</td>\n",
       "      <td>39</td>\n",
       "      <td>14</td>\n",
       "      <td>3449</td>\n",
       "      <td>835</td>\n",
       "      <td>69</td>\n",
       "      <td>321</td>\n",
       "      <td>414</td>\n",
       "      <td>375</td>\n",
       "      <td>N</td>\n",
       "      <td>W</td>\n",
       "      <td>632</td>\n",
       "      <td>43</td>\n",
       "      <td>10</td>\n",
       "      <td>475.0</td>\n",
       "      <td>N</td>\n",
       "    </tr>\n",
       "    <tr>\n",
       "      <th>-Alvin Davis</th>\n",
       "      <td>479</td>\n",
       "      <td>130</td>\n",
       "      <td>18</td>\n",
       "      <td>66</td>\n",
       "      <td>72</td>\n",
       "      <td>76</td>\n",
       "      <td>3</td>\n",
       "      <td>1624</td>\n",
       "      <td>457</td>\n",
       "      <td>63</td>\n",
       "      <td>224</td>\n",
       "      <td>266</td>\n",
       "      <td>263</td>\n",
       "      <td>A</td>\n",
       "      <td>W</td>\n",
       "      <td>880</td>\n",
       "      <td>82</td>\n",
       "      <td>14</td>\n",
       "      <td>480.0</td>\n",
       "      <td>A</td>\n",
       "    </tr>\n",
       "  </tbody>\n",
       "</table>\n",
       "</div>"
      ],
      "text/plain": [
       "                AtBat  Hits  HmRun  Runs  RBI  Walks  Years  CAtBat  CHits  \\\n",
       "Name                                                                         \n",
       "-Andy Allanson    293    66      1    30   29     14      1     293     66   \n",
       "-Alan Ashby       315    81      7    24   38     39     14    3449    835   \n",
       "-Alvin Davis      479   130     18    66   72     76      3    1624    457   \n",
       "\n",
       "                CHmRun  CRuns  CRBI  CWalks League Division  PutOuts  Assists  \\\n",
       "Name                                                                            \n",
       "-Andy Allanson       1     30    29      14      A        E      446       33   \n",
       "-Alan Ashby         69    321   414     375      N        W      632       43   \n",
       "-Alvin Davis        63    224   266     263      A        W      880       82   \n",
       "\n",
       "                Errors  Salary NewLeague  \n",
       "Name                                      \n",
       "-Andy Allanson      20     NaN         A  \n",
       "-Alan Ashby         10   475.0         N  \n",
       "-Alvin Davis        14   480.0         A  "
      ]
     },
     "execution_count": 86,
     "metadata": {},
     "output_type": "execute_result"
    }
   ],
   "source": [
    "h[:3]"
   ]
  },
  {
   "cell_type": "code",
   "execution_count": 87,
   "metadata": {
    "collapsed": false
   },
   "outputs": [
    {
     "data": {
      "text/plain": [
       "(263, 20)"
      ]
     },
     "execution_count": 87,
     "metadata": {},
     "output_type": "execute_result"
    }
   ],
   "source": [
    "# remove rows w/ empty values - i think this is only those w/ no salary\n",
    "h = h.dropna()\n",
    "h.shape"
   ]
  },
  {
   "cell_type": "code",
   "execution_count": 88,
   "metadata": {
    "collapsed": false
   },
   "outputs": [
    {
     "data": {
      "text/plain": [
       "(263, 23)"
      ]
     },
     "execution_count": 88,
     "metadata": {},
     "output_type": "execute_result"
    }
   ],
   "source": [
    "# convert categorical vars to dummy variables\n",
    "h = pd.get_dummies(h)\n",
    "h.shape"
   ]
  },
  {
   "cell_type": "code",
   "execution_count": 89,
   "metadata": {
    "collapsed": false
   },
   "outputs": [
    {
     "data": {
      "text/html": [
       "<div>\n",
       "<table border=\"1\" class=\"dataframe\">\n",
       "  <thead>\n",
       "    <tr style=\"text-align: right;\">\n",
       "      <th></th>\n",
       "      <th>AtBat</th>\n",
       "      <th>Hits</th>\n",
       "      <th>HmRun</th>\n",
       "      <th>Runs</th>\n",
       "      <th>RBI</th>\n",
       "      <th>Walks</th>\n",
       "      <th>Years</th>\n",
       "      <th>CAtBat</th>\n",
       "      <th>CHits</th>\n",
       "      <th>CHmRun</th>\n",
       "      <th>...</th>\n",
       "      <th>PutOuts</th>\n",
       "      <th>Assists</th>\n",
       "      <th>Errors</th>\n",
       "      <th>Salary</th>\n",
       "      <th>League_A</th>\n",
       "      <th>League_N</th>\n",
       "      <th>Division_E</th>\n",
       "      <th>Division_W</th>\n",
       "      <th>NewLeague_A</th>\n",
       "      <th>NewLeague_N</th>\n",
       "    </tr>\n",
       "    <tr>\n",
       "      <th>Name</th>\n",
       "      <th></th>\n",
       "      <th></th>\n",
       "      <th></th>\n",
       "      <th></th>\n",
       "      <th></th>\n",
       "      <th></th>\n",
       "      <th></th>\n",
       "      <th></th>\n",
       "      <th></th>\n",
       "      <th></th>\n",
       "      <th></th>\n",
       "      <th></th>\n",
       "      <th></th>\n",
       "      <th></th>\n",
       "      <th></th>\n",
       "      <th></th>\n",
       "      <th></th>\n",
       "      <th></th>\n",
       "      <th></th>\n",
       "      <th></th>\n",
       "      <th></th>\n",
       "    </tr>\n",
       "  </thead>\n",
       "  <tbody>\n",
       "    <tr>\n",
       "      <th>-Alan Ashby</th>\n",
       "      <td>315</td>\n",
       "      <td>81</td>\n",
       "      <td>7</td>\n",
       "      <td>24</td>\n",
       "      <td>38</td>\n",
       "      <td>39</td>\n",
       "      <td>14</td>\n",
       "      <td>3449</td>\n",
       "      <td>835</td>\n",
       "      <td>69</td>\n",
       "      <td>...</td>\n",
       "      <td>632</td>\n",
       "      <td>43</td>\n",
       "      <td>10</td>\n",
       "      <td>475.0</td>\n",
       "      <td>0</td>\n",
       "      <td>1</td>\n",
       "      <td>0</td>\n",
       "      <td>1</td>\n",
       "      <td>0</td>\n",
       "      <td>1</td>\n",
       "    </tr>\n",
       "  </tbody>\n",
       "</table>\n",
       "<p>1 rows × 23 columns</p>\n",
       "</div>"
      ],
      "text/plain": [
       "             AtBat  Hits  HmRun  Runs  RBI  Walks  Years  CAtBat  CHits  \\\n",
       "Name                                                                      \n",
       "-Alan Ashby    315    81      7    24   38     39     14    3449    835   \n",
       "\n",
       "             CHmRun     ...       PutOuts  Assists  Errors  Salary  League_A  \\\n",
       "Name                    ...                                                    \n",
       "-Alan Ashby      69     ...           632       43      10   475.0         0   \n",
       "\n",
       "             League_N  Division_E  Division_W  NewLeague_A  NewLeague_N  \n",
       "Name                                                                     \n",
       "-Alan Ashby         1           0           1            0            1  \n",
       "\n",
       "[1 rows x 23 columns]"
      ]
     },
     "execution_count": 89,
     "metadata": {},
     "output_type": "execute_result"
    }
   ],
   "source": [
    "h[:1]"
   ]
  },
  {
   "cell_type": "markdown",
   "metadata": {},
   "source": [
    "While the homework doesn't state it specifically, I assume here that we're predicting salary, since that's what we've done previously."
   ]
  },
  {
   "cell_type": "code",
   "execution_count": 145,
   "metadata": {
    "collapsed": false
   },
   "outputs": [
    {
     "data": {
      "text/plain": [
       "((263, 22), (263,))"
      ]
     },
     "execution_count": 145,
     "metadata": {},
     "output_type": "execute_result"
    }
   ],
   "source": [
    "# split into features and the value to predict (x and y)\n",
    "# scale all features so each col has mean zero and std 1\n",
    "X_scaled = preprocessing.scale(h.drop('Salary', axis=1))\n",
    "y = preprocessing.scale(h['Salary'], with_mean=True, with_std=False) \n",
    "# only center y, per the instrs\n",
    "\n",
    "(X_scaled.shape, y.shape)"
   ]
  },
  {
   "cell_type": "code",
   "execution_count": 219,
   "metadata": {
    "collapsed": false
   },
   "outputs": [
    {
     "data": {
      "text/plain": [
       "22"
      ]
     },
     "execution_count": 219,
     "metadata": {},
     "output_type": "execute_result"
    }
   ],
   "source": [
    "feature_count = X_scaled.shape[1]\n",
    "feature_count"
   ]
  },
  {
   "cell_type": "markdown",
   "metadata": {},
   "source": [
    "*\"Write a function computeobj that computes and returns F(β) for any β.\"*"
   ]
  },
  {
   "cell_type": "markdown",
   "metadata": {},
   "source": [
    "I did this in coorddescent.py, in the function lasso_objective."
   ]
  },
  {
   "cell_type": "markdown",
   "metadata": {},
   "source": [
    "*\"Write a function cycliccoorddescent that implements the cyclic coordinate descent al- gorithm.\"*"
   ]
  },
  {
   "cell_type": "markdown",
   "metadata": {},
   "source": [
    "I did this in coorddescent.py, in the function cycliccoorddescent. This function calls the function coorddescent, which handles the the main algorithm for both cyclic and random implementations - this function passes a sequential set of j values."
   ]
  },
  {
   "cell_type": "markdown",
   "metadata": {},
   "source": [
    "*\"Write a function pickcoord that samples uniformly from the set {1, . . . , d} .\"*"
   ]
  },
  {
   "cell_type": "markdown",
   "metadata": {},
   "source": [
    "I implemented this functionality in the get_sequence_of_js function. This function returns a list of values that define the specific beta values/coefficients to be minimized. When called with the random parameter equal to False, the function returns a sequential list of j values (i.e., [1 2 3 1 2 3 ...]). When called with random equal to True, the function samples uniformly from the set {1,...,d} and returns a list of j values built from these random selections."
   ]
  },
  {
   "cell_type": "markdown",
   "metadata": {},
   "source": [
    "*\"Write a function randcoorddescent that implements the randomized coordinate descent algorithm. \"*"
   ]
  },
  {
   "cell_type": "markdown",
   "metadata": {},
   "source": [
    "I did this in coorddescent.py, in the function randcoorddescent. This function calls the function coorddescent, which handles the the main algorithm for both cyclic and random implementations - this function passes a set of j values that have been randomly chosen."
   ]
  },
  {
   "cell_type": "markdown",
   "metadata": {},
   "source": [
    "*\"Set the maximum number of iterations to 1000. In the remainder, the iteration counter iter refers here to t/d, that is the effective number of passes over all coordinates. Run cross-validation on the training set of the Hitters dataset using scikit-learn to find the optimal value of λ. Run cycliccoorddescent and randcoorddescent on the training set of the Hitters dataset for that value of λ found by cross-validation. Plot the curves of the objective values F(βt) for both algorithms versus the iteration counter iter (use different colors). What do you observe?\"*"
   ]
  },
  {
   "cell_type": "markdown",
   "metadata": {},
   "source": [
    "As shown below, and not surprisingly, the random implementation gets to smaller values of the objective function more quickly. Both the cyclic and random implementations get to roughly the same value by around 20 effective iterations (where one 'effective iteration' means an opportunity to update each coefficient one time - i.e., here, one effective iteration is 22 actual iterations, since there are 22 features).\n",
    "\n",
    "The coefficients identified by both the cyclic and random approaches are similar, but not identical. The coefficients from my implementation aren't the same as the best coefficients from the canned LassoCV implementation - I spent significant time debugging to try to find the cause of these difference(s), but couldn't before I needed to turn this in. I notice that the canned implementation zeros out more coefficients with lambda values that I think - but am not sure - are equivalent, and as a result one of my first guesses if I had more time to spend on this would be that I'm not properly adjusting lambda between the canned code and my implementation. As a result the canned routine is actually penalizing coefficients more strongly than my code, with the same or close to the same lambda values, and as a result is zeroing out more coefficients."
   ]
  },
  {
   "cell_type": "code",
   "execution_count": 151,
   "metadata": {
    "collapsed": false
   },
   "outputs": [
    {
     "name": "stdout",
     "output_type": "stream",
     "text": [
      "Estimated lambda = 1.0\n",
      "Estimated coefficients = [ -2.81117268e+02   3.03712775e+02   1.11305087e+01  -2.52375071e+01\n",
      "  -0.00000000e+00   1.20835970e+02  -3.50432874e+01  -1.61321987e+02\n",
      "   0.00000000e+00   1.42718229e+01   3.75151758e+02   1.92215411e+02\n",
      "  -1.90239127e+02   7.86764498e+01   4.18852670e+01  -1.88344509e+01\n",
      "  -2.32090081e+01   0.00000000e+00   5.82344284e+01  -1.09636474e-11\n",
      "   4.94183895e+00  -0.00000000e+00]\n",
      "Estimated intercept = 0.0\n"
     ]
    }
   ],
   "source": [
    "lambda_vals = [10**k for k in range(-5, 5)]\n",
    "# increasing max_iter from default of 1000 to ensure convergence (per\n",
    "# a warning that I'll get when it's the default), also setting \n",
    "# normalize to False as we've already standardized the data (this\n",
    "# may be ignored anyway, per the docs, as fit_intercept is also False)\n",
    "lasso = LassoCV(alphas=lambda_vals, normalize=False, fit_intercept=False, max_iter=3000)\n",
    "\n",
    "lasso.fit(X_scaled, y)\n",
    "print('Estimated lambda =', lasso.alpha_)\n",
    "print('Estimated coefficients =', lasso.coef_)\n",
    "print('Estimated intercept =', lasso.intercept_)"
   ]
  },
  {
   "cell_type": "code",
   "execution_count": 152,
   "metadata": {
    "collapsed": false
   },
   "outputs": [
    {
     "data": {
      "text/plain": [
       "2.0"
      ]
     },
     "execution_count": 152,
     "metadata": {},
     "output_type": "execute_result"
    }
   ],
   "source": [
    "# per the discussion group, I think I understood that sklearn produces\n",
    "# lambda estimates that are 1/2 of what our function uses, so I'll \n",
    "# scale up by two here\n",
    "best_lam = lasso.alpha_ * 2\n",
    "best_lam"
   ]
  },
  {
   "cell_type": "code",
   "execution_count": 220,
   "metadata": {
    "collapsed": false
   },
   "outputs": [
    {
     "data": {
      "text/plain": [
       "2200"
      ]
     },
     "execution_count": 220,
     "metadata": {},
     "output_type": "execute_result"
    }
   ],
   "source": [
    "# Corinne said that the statement in the homework to run it with 1000 iterations\n",
    "# means to run it with 1000 effective iterations, so we need to scale up by\n",
    "# the number of features\n",
    "actual_iteration_count = 100 * feature_count\n",
    "actual_iteration_count"
   ]
  },
  {
   "cell_type": "code",
   "execution_count": 154,
   "metadata": {
    "collapsed": false
   },
   "outputs": [
    {
     "data": {
      "text/plain": [
       "array([ -3.38480647e+02,   3.28934898e+02,  -2.31399255e+00,\n",
       "        -1.57352158e+01,   1.42496409e+01,   1.38767849e+02,\n",
       "        -7.26775817e+01,  -7.61511602e+01,   3.23780937e+02,\n",
       "         1.87053756e+02,   1.47100435e+02,  -9.82388336e+01,\n",
       "        -2.01256803e+02,   8.07226588e+01,   4.93003836e+01,\n",
       "        -2.48421388e+01,  -3.21876071e+01,   0.00000000e+00,\n",
       "         6.14032727e+01,  -1.16604656e-12,   1.76341870e+01,\n",
       "        -1.72907738e-15])"
      ]
     },
     "execution_count": 154,
     "metadata": {},
     "output_type": "execute_result"
    }
   ],
   "source": [
    "betas_cyclic = cd.cycliccoorddescent(X_scaled, y, best_lam, max_iter=actual_iteration_count)\n",
    "cd.get_final_coefs(betas_cyclic)"
   ]
  },
  {
   "cell_type": "code",
   "execution_count": 155,
   "metadata": {
    "collapsed": false
   },
   "outputs": [
    {
     "data": {
      "text/plain": [
       "array([-292.1389253 ,  298.61764833,   10.76322048,  -15.08862952,\n",
       "         -2.31597639,  128.10363368,  -52.79645565, -189.65414231,\n",
       "        239.23432488,   88.07744427,  218.60056076,   80.06025082,\n",
       "       -179.63670635,   78.96718727,   49.28991304,  -24.98640479,\n",
       "        -18.33864214,   13.42282201,   63.40255217,    2.1793557 ,\n",
       "         24.08835787,    8.04490267])"
      ]
     },
     "execution_count": 155,
     "metadata": {},
     "output_type": "execute_result"
    }
   ],
   "source": [
    "betas_random = cd.randcoorddescent(X_scaled, y, best_lam, max_iter=actual_iteration_count)\n",
    "cd.get_final_coefs(betas_random)"
   ]
  },
  {
   "cell_type": "code",
   "execution_count": 156,
   "metadata": {
    "collapsed": false
   },
   "outputs": [
    {
     "data": {
      "text/html": [
       "<div>\n",
       "<table border=\"1\" class=\"dataframe\">\n",
       "  <thead>\n",
       "    <tr style=\"text-align: right;\">\n",
       "      <th></th>\n",
       "      <th>cyclic</th>\n",
       "      <th>random</th>\n",
       "    </tr>\n",
       "  </thead>\n",
       "  <tbody>\n",
       "    <tr>\n",
       "      <th>0</th>\n",
       "      <td>202734.269158</td>\n",
       "      <td>202734.269158</td>\n",
       "    </tr>\n",
       "    <tr>\n",
       "      <th>1</th>\n",
       "      <td>171494.821398</td>\n",
       "      <td>202735.185257</td>\n",
       "    </tr>\n",
       "    <tr>\n",
       "      <th>2</th>\n",
       "      <td>170861.969141</td>\n",
       "      <td>202735.185257</td>\n",
       "    </tr>\n",
       "  </tbody>\n",
       "</table>\n",
       "</div>"
      ],
      "text/plain": [
       "          cyclic         random\n",
       "0  202734.269158  202734.269158\n",
       "1  171494.821398  202735.185257\n",
       "2  170861.969141  202735.185257"
      ]
     },
     "execution_count": 156,
     "metadata": {},
     "output_type": "execute_result"
    }
   ],
   "source": [
    "obj_values = pd.DataFrame({\n",
    "    'cyclic': betas_cyclic.apply(lambda r: cd.lasso_objective(r.as_matrix(), X_scaled, y, best_lam), axis=1),\n",
    "    'random': betas_random.apply(lambda r: cd.lasso_objective(r.as_matrix(), X_scaled, y, best_lam), axis=1)\n",
    "})\n",
    "obj_values[:3]"
   ]
  },
  {
   "cell_type": "code",
   "execution_count": 221,
   "metadata": {
    "collapsed": true
   },
   "outputs": [],
   "source": [
    "def only_full_iterations(df):\n",
    "    \"\"\"Return a filtered dataframe with only rows for complete iterations.\"\"\"\n",
    "    return df[::feature_count].reset_index(drop=True)"
   ]
  },
  {
   "cell_type": "code",
   "execution_count": 222,
   "metadata": {
    "collapsed": false
   },
   "outputs": [
    {
     "data": {
      "text/plain": [
       "<matplotlib.text.Text at 0x114a1f7b8>"
      ]
     },
     "execution_count": 222,
     "metadata": {},
     "output_type": "execute_result"
    },
    {
     "data": {
      "image/png": "[encoded data removed]",
      "text/plain": [
       "<matplotlib.figure.Figure at 0x1140da6d8>"
      ]
     },
     "metadata": {},
     "output_type": "display_data"
    }
   ],
   "source": [
    "ax = only_full_iterations(obj_values).plot(title=\"Objective function value per effective iteration\")\n",
    "ax.set_xlabel(\"Effective iteration\")\n",
    "ax.set_ylabel(\"Value of objective function\")"
   ]
  },
  {
   "cell_type": "markdown",
   "metadata": {},
   "source": [
    "*\"Denote by βT the final iterates of your coordinate descent algorithms for that value of λ. Compute β⋆ found by scikit-learn for that value of λ. Plot the curves of the fraction of correct non-zero coefficients (with respect to β⋆) for both algorithms versus the iteration counter iter (use different colors). What do you observe? Plot the curves of the fraction of correct zero coefficients for both algorithms (with respect to β⋆) versus the iteration counter iter (use different colors). What do you observe?\"*"
   ]
  },
  {
   "cell_type": "markdown",
   "metadata": {},
   "source": [
    "As shown below, my non-zero coefficients quickly converge to about 80% of the correct/sklearn solution. My zero coefficients never get this close: my routine's not zeroing out as many coefficients as the canned code. I commented on this above where I said that my first guess is that I'm not handling the lambda value so that it has the same effect in the canned routine and in my code. If that's not the cause of the problem, then there's likely something wrong with my implementation - I dug into this for some time and wasn't able to find places where I was doing something correctly."
   ]
  },
  {
   "cell_type": "code",
   "execution_count": 183,
   "metadata": {
    "collapsed": true
   },
   "outputs": [],
   "source": [
    "zero_threshold = 1e-10 # treat anything within this as zero, FP rounding?\n",
    "def count_of_matching_nonzeros(test_coefs, actual_coefs):\n",
    "    return sum((abs(test_coefs) > zero_threshold) & (abs(actual_coefs) > zero_threshold))\n",
    "\n",
    "def count_of_matching_zeros(test_coefs, actual_coefs):\n",
    "    return sum((abs(test_coefs) <= zero_threshold) & (abs(actual_coefs) <= zero_threshold))"
   ]
  },
  {
   "cell_type": "code",
   "execution_count": 208,
   "metadata": {
    "collapsed": false
   },
   "outputs": [
    {
     "data": {
      "text/html": [
       "<div>\n",
       "<table border=\"1\" class=\"dataframe\">\n",
       "  <thead>\n",
       "    <tr style=\"text-align: right;\">\n",
       "      <th></th>\n",
       "      <th>cyclic</th>\n",
       "      <th>random</th>\n",
       "    </tr>\n",
       "  </thead>\n",
       "  <tbody>\n",
       "    <tr>\n",
       "      <th>0</th>\n",
       "      <td>0</td>\n",
       "      <td>0</td>\n",
       "    </tr>\n",
       "    <tr>\n",
       "      <th>1</th>\n",
       "      <td>1</td>\n",
       "      <td>1</td>\n",
       "    </tr>\n",
       "    <tr>\n",
       "      <th>2</th>\n",
       "      <td>2</td>\n",
       "      <td>1</td>\n",
       "    </tr>\n",
       "  </tbody>\n",
       "</table>\n",
       "</div>"
      ],
      "text/plain": [
       "   cyclic  random\n",
       "0       0       0\n",
       "1       1       1\n",
       "2       2       1"
      ]
     },
     "execution_count": 208,
     "metadata": {},
     "output_type": "execute_result"
    }
   ],
   "source": [
    "matching_nonzeros = pd.DataFrame({\n",
    "    'cyclic': betas_cyclic.apply(lambda r: count_of_matching_nonzeros(r.as_matrix(), lasso.coef_), axis=1),\n",
    "    'random': betas_random.apply(lambda r: count_of_matching_nonzeros(r.as_matrix(), lasso.coef_), axis=1)\n",
    "})\n",
    "matching_nonzeros[:3]"
   ]
  },
  {
   "cell_type": "code",
   "execution_count": 206,
   "metadata": {
    "collapsed": false
   },
   "outputs": [
    {
     "data": {
      "text/html": [
       "<div>\n",
       "<table border=\"1\" class=\"dataframe\">\n",
       "  <thead>\n",
       "    <tr style=\"text-align: right;\">\n",
       "      <th></th>\n",
       "      <th>cyclic</th>\n",
       "      <th>random</th>\n",
       "    </tr>\n",
       "  </thead>\n",
       "  <tbody>\n",
       "    <tr>\n",
       "      <th>0</th>\n",
       "      <td>5</td>\n",
       "      <td>5</td>\n",
       "    </tr>\n",
       "    <tr>\n",
       "      <th>1</th>\n",
       "      <td>5</td>\n",
       "      <td>5</td>\n",
       "    </tr>\n",
       "    <tr>\n",
       "      <th>2</th>\n",
       "      <td>5</td>\n",
       "      <td>5</td>\n",
       "    </tr>\n",
       "  </tbody>\n",
       "</table>\n",
       "</div>"
      ],
      "text/plain": [
       "   cyclic  random\n",
       "0       5       5\n",
       "1       5       5\n",
       "2       5       5"
      ]
     },
     "execution_count": 206,
     "metadata": {},
     "output_type": "execute_result"
    }
   ],
   "source": [
    "matching_zeros = pd.DataFrame({\n",
    "    'cyclic': betas_cyclic.apply(lambda r: count_of_matching_zeros(r.as_matrix(), lasso.coef_), axis=1),\n",
    "    'random': betas_random.apply(lambda r: count_of_matching_zeros(r.as_matrix(), lasso.coef_), axis=1)\n",
    "})\n",
    "matching_zeros[:3]"
   ]
  },
  {
   "cell_type": "code",
   "execution_count": 223,
   "metadata": {
    "collapsed": false
   },
   "outputs": [
    {
     "data": {
      "text/plain": [
       "<matplotlib.text.Text at 0x114a5d080>"
      ]
     },
     "execution_count": 223,
     "metadata": {},
     "output_type": "execute_result"
    },
    {
     "data": {
      "image/png": "[encoded data removed]",
      "text/plain": [
       "<matplotlib.figure.Figure at 0x114c70e10>"
      ]
     },
     "metadata": {},
     "output_type": "display_data"
    }
   ],
   "source": [
    "ax = (only_full_iterations(matching_nonzeros) / feature_count).plot(title=\"Matching non-zero terms per effective iteration\")\n",
    "ax.set_xlabel(\"Effective iteration\")\n",
    "ax.set_ylabel(\"Proportion matching\")"
   ]
  },
  {
   "cell_type": "code",
   "execution_count": 224,
   "metadata": {
    "collapsed": false
   },
   "outputs": [
    {
     "data": {
      "text/plain": [
       "<matplotlib.text.Text at 0x1140a2550>"
      ]
     },
     "execution_count": 224,
     "metadata": {},
     "output_type": "execute_result"
    },
    {
     "data": {
      "image/png": "[encoded data removed]",
      "text/plain": [
       "<matplotlib.figure.Figure at 0x114078e48>"
      ]
     },
     "metadata": {},
     "output_type": "display_data"
    }
   ],
   "source": [
    "ax = (only_full_iterations(matching_zeros) / feature_count).plot(title=\"Matching zero terms per effective iteration\")\n",
    "ax.set_xlabel(\"Effective iteration\")\n",
    "ax.set_ylabel(\"Proportion matching\")"
   ]
  },
  {
   "cell_type": "markdown",
   "metadata": {},
   "source": [
    "# Exercise Two"
   ]
  },
  {
   "cell_type": "markdown",
   "metadata": {},
   "source": [
    "*\"a) Generate a simulated data set with 20 observations in each of three classes (i.e. 60 observations total), and 50 variables. Hint: There are a number of functions in numpy that you can use to generate data. One example is the numpy.random.normal() func- tion; numpy.random.uniform() is another option. Be sure to add a mean shift to the observations in each class so that there are three distinct classes.\"*"
   ]
  },
  {
   "cell_type": "code",
   "execution_count": 17,
   "metadata": {
    "collapsed": false
   },
   "outputs": [
    {
     "data": {
      "text/html": [
       "<div>\n",
       "<table border=\"1\" class=\"dataframe\">\n",
       "  <thead>\n",
       "    <tr style=\"text-align: right;\">\n",
       "      <th></th>\n",
       "      <th>Class</th>\n",
       "      <th>0</th>\n",
       "      <th>1</th>\n",
       "      <th>2</th>\n",
       "      <th>3</th>\n",
       "      <th>4</th>\n",
       "      <th>5</th>\n",
       "      <th>6</th>\n",
       "      <th>7</th>\n",
       "      <th>8</th>\n",
       "      <th>...</th>\n",
       "      <th>40</th>\n",
       "      <th>41</th>\n",
       "      <th>42</th>\n",
       "      <th>43</th>\n",
       "      <th>44</th>\n",
       "      <th>45</th>\n",
       "      <th>46</th>\n",
       "      <th>47</th>\n",
       "      <th>48</th>\n",
       "      <th>49</th>\n",
       "    </tr>\n",
       "  </thead>\n",
       "  <tbody>\n",
       "    <tr>\n",
       "      <th>0</th>\n",
       "      <td>A</td>\n",
       "      <td>0.546565</td>\n",
       "      <td>1.661999</td>\n",
       "      <td>-0.385265</td>\n",
       "      <td>-0.929298</td>\n",
       "      <td>0.973121</td>\n",
       "      <td>-0.084453</td>\n",
       "      <td>-0.395045</td>\n",
       "      <td>1.278515</td>\n",
       "      <td>1.04161</td>\n",
       "      <td>...</td>\n",
       "      <td>1.07968</td>\n",
       "      <td>-0.667667</td>\n",
       "      <td>1.125655</td>\n",
       "      <td>-0.579719</td>\n",
       "      <td>0.00175</td>\n",
       "      <td>-2.046451</td>\n",
       "      <td>-0.331116</td>\n",
       "      <td>-0.31251</td>\n",
       "      <td>-1.848161</td>\n",
       "      <td>-0.535899</td>\n",
       "    </tr>\n",
       "  </tbody>\n",
       "</table>\n",
       "<p>1 rows × 51 columns</p>\n",
       "</div>"
      ],
      "text/plain": [
       "  Class         0         1         2         3         4         5         6  \\\n",
       "0     A  0.546565  1.661999 -0.385265 -0.929298  0.973121 -0.084453 -0.395045   \n",
       "\n",
       "          7        8    ...          40        41        42        43  \\\n",
       "0  1.278515  1.04161    ...     1.07968 -0.667667  1.125655 -0.579719   \n",
       "\n",
       "        44        45        46       47        48        49  \n",
       "0  0.00175 -2.046451 -0.331116 -0.31251 -1.848161 -0.535899  \n",
       "\n",
       "[1 rows x 51 columns]"
      ]
     },
     "execution_count": 17,
     "metadata": {},
     "output_type": "execute_result"
    }
   ],
   "source": [
    "mean_vals = [0, 0.5, 1]\n",
    "d = pd.DataFrame(np.vstack([np.random.normal(mean, size=(20,50)) for mean in mean_vals]))\n",
    "d.insert(0, 'Class', np.repeat(['A','B','C'], 20))\n",
    "d[:1]"
   ]
  },
  {
   "cell_type": "markdown",
   "metadata": {},
   "source": [
    "*\"b) Perform PCA on the 60 observations and plot the first two principal component score vectors. Use a different color to indicate the observations in each of the three classes. If the three classes appear separated in this plot, then continue on to part (c). If not, then return to part (a) and modify the simulation so that there is greater separation between the three classes. Do not continue to part (c) until the three classes show at least some separation in the first two principal component score vectors.\"*"
   ]
  },
  {
   "cell_type": "markdown",
   "metadata": {},
   "source": [
    "As I haven't yet been able to get color output when exporting notebooks to PDFs, in addition to the color (that isn't visible in the PDF), I also made the different classes appear with different symbols: o, x, and +.\n",
    "\n",
    "I could have made the classes farther apart by adjusting the mean values in the code immediately above, but I left them relatively close (but still apart) to learn more about how K-means would handle the data."
   ]
  },
  {
   "cell_type": "code",
   "execution_count": 18,
   "metadata": {
    "collapsed": false
   },
   "outputs": [],
   "source": [
    "d_train_values = d.values[:, 1:51].astype('float')\n",
    "\n",
    "pca = PCA(2, svd_solver='randomized')\n",
    "pca.fit(d_train_values)\n",
    "values_PCA = pca.transform(d_train_values)"
   ]
  },
  {
   "cell_type": "code",
   "execution_count": 19,
   "metadata": {
    "collapsed": false
   },
   "outputs": [
    {
     "data": {
      "text/plain": [
       "((2, 50), (60, 2))"
      ]
     },
     "execution_count": 19,
     "metadata": {},
     "output_type": "execute_result"
    }
   ],
   "source": [
    "pca.components_.shape, values_PCA.shape"
   ]
  },
  {
   "cell_type": "code",
   "execution_count": 22,
   "metadata": {
    "collapsed": false
   },
   "outputs": [],
   "source": [
    "# add PCA values to the dataframe\n",
    "d['PCA1'] = values_PCA[:, 0]\n",
    "d['PCA2'] = values_PCA[:, 1]"
   ]
  },
  {
   "cell_type": "code",
   "execution_count": 23,
   "metadata": {
    "collapsed": false
   },
   "outputs": [
    {
     "data": {
      "text/plain": [
       "<seaborn.axisgrid.FacetGrid at 0x115e957b8>"
      ]
     },
     "execution_count": 23,
     "metadata": {},
     "output_type": "execute_result"
    },
    {
     "data": {
      "image/png": "[encoded data removed]",
      "text/plain": [
       "<matplotlib.figure.Figure at 0x115baad30>"
      ]
     },
     "metadata": {},
     "output_type": "display_data"
    }
   ],
   "source": [
    "sns.lmplot(\"PCA1\", \"PCA2\", hue=\"Class\", markers=[\"o\",\"x\",\"+\"], data=d, fit_reg=False)"
   ]
  },
  {
   "cell_type": "markdown",
   "metadata": {},
   "source": [
    "*\"c) Perform K-means clustering of the observations with K = 3. How well do the clusters that you obtained in K-means clustering compare to the true class labels? Hint: You can use the value counts() function in the pandas package in Python to compare the true class labels to the class labels obtained by clustering. Be careful how you interpret the results: K-means clustering will arbitrarily number the clusters, so you cannot simply check whether the true class labels and clustering labels are the same.\"*"
   ]
  },
  {
   "cell_type": "markdown",
   "metadata": {},
   "source": [
    "As shown below, the clusters are more correct than not, but - because I made my data produce points in different classes that are quite close together - the clusters aren't perfect. "
   ]
  },
  {
   "cell_type": "code",
   "execution_count": 24,
   "metadata": {
    "collapsed": true
   },
   "outputs": [],
   "source": [
    "def cluster_with_kmeans_and_plot(n_clusters, X, name):\n",
    "    k = KMeans(n_clusters=n_clusters, random_state=0)\n",
    "    k.fit(X)\n",
    "    y_kmeans = k.predict(X)\n",
    "    d[name] = y_kmeans\n",
    "    sns.lmplot(\"PCA1\", \"PCA2\", hue=\"Class\", col=name, markers=[\"o\",\"x\",\"+\"], data=d, fit_reg=False, col_wrap=2)"
   ]
  },
  {
   "cell_type": "code",
   "execution_count": 25,
   "metadata": {
    "collapsed": false
   },
   "outputs": [
    {
     "data": {
      "image/png": "[encoded data removed]",
      "text/plain": [
       "<matplotlib.figure.Figure at 0x115eaa6d8>"
      ]
     },
     "metadata": {},
     "output_type": "display_data"
    }
   ],
   "source": [
    "cluster_with_kmeans_and_plot(3, d_train_values, \"K3Cluster\")"
   ]
  },
  {
   "cell_type": "markdown",
   "metadata": {},
   "source": [
    "*\"d) Perform K-means clustering with K = 2. Describe your results.\"*"
   ]
  },
  {
   "cell_type": "markdown",
   "metadata": {},
   "source": [
    "The results aren't as good with K=2, as expected, because there are actually three different classes and the algorithm isn't able to divide the points into just two classes. The algorithm DOES still divide two of the three classes well - it just doesn't handle the class 'in the middle'."
   ]
  },
  {
   "cell_type": "code",
   "execution_count": 26,
   "metadata": {
    "collapsed": false
   },
   "outputs": [
    {
     "data": {
      "image/png": "[encoded data removed]",
      "text/plain": [
       "<matplotlib.figure.Figure at 0x1166b88d0>"
      ]
     },
     "metadata": {},
     "output_type": "display_data"
    }
   ],
   "source": [
    "cluster_with_kmeans_and_plot(2, d_train_values, \"K2Cluster\")"
   ]
  },
  {
   "cell_type": "markdown",
   "metadata": {},
   "source": [
    "*\"e) Now perform K-means clustering with K = 4, and describe your results.\"*"
   ]
  },
  {
   "cell_type": "markdown",
   "metadata": {},
   "source": [
    "Somewhat like with K=2, the algorithm does somewhat correctly identify two of the three classes, but has trouble with one class, putting it into three different clusters."
   ]
  },
  {
   "cell_type": "code",
   "execution_count": 27,
   "metadata": {
    "collapsed": false
   },
   "outputs": [
    {
     "data": {
      "image/png": "[encoded data removed]",
      "text/plain": [
       "<matplotlib.figure.Figure at 0x116723a20>"
      ]
     },
     "metadata": {},
     "output_type": "display_data"
    }
   ],
   "source": [
    "cluster_with_kmeans_and_plot(4, d_train_values, \"K4Cluster\")"
   ]
  },
  {
   "cell_type": "markdown",
   "metadata": {},
   "source": [
    "*\"f) Now perform K-means clustering with K = 3 on the first two principal component score vectors, rather than on the raw data. That is, perform K-means clustering on the 60 × 2 matrix of which the first column is the first principal component score vector, and the second column is the second principal component score vector. Comment on the results.\"*"
   ]
  },
  {
   "cell_type": "markdown",
   "metadata": {},
   "source": [
    "I'm not 100% sure I understand what this question is asking, but based on conversations with other students I think what it's saying to do is to use the two values provided by PCA for each observation by feeding them to K-means, and then see what clusters those values provide. \n",
    "\n",
    "I already have the PCA results from transforming the data - a 60x2 matrix stored in values_PCA - and I used that data here. The results show that two of the three classes are handled well, but that one class is split close to evenly across two different clusters."
   ]
  },
  {
   "cell_type": "code",
   "execution_count": 28,
   "metadata": {
    "collapsed": false
   },
   "outputs": [
    {
     "data": {
      "image/png": "[encoded data removed]",
      "text/plain": [
       "<matplotlib.figure.Figure at 0x116702b70>"
      ]
     },
     "metadata": {},
     "output_type": "display_data"
    }
   ],
   "source": [
    "cluster_with_kmeans_and_plot(3, values_PCA, \"K3ClusterPCA\")"
   ]
  },
  {
   "cell_type": "markdown",
   "metadata": {},
   "source": [
    "*\"g) Use the StandardScaler function in sklearn.preprocessing to scale each variable to have standard deviation one. Then perform K-means clustering with K = 3 on the scaled data. How do these results compare to those obtained in (b)? Explain.\"*"
   ]
  },
  {
   "cell_type": "markdown",
   "metadata": {},
   "source": [
    "Again I think because in my data the classes are relatively close together the algorithm doesn't do a perfect job of splitting the classes. In addition, while I expect each class to have a stddev of roughly one because that's how I generated the random data, it won't be exactly one just because of randomness. Nonetheless, I can see in the actual data that the existing stddevs _are_ already pretty close to one, so I don't expect to see much change when I standardize them to one. (Also, I think I'd choose to use the scale function instead of StandardScaler, myself, but I'll do this with StandardScaler since that's what the homework asks for.)"
   ]
  },
  {
   "cell_type": "code",
   "execution_count": 29,
   "metadata": {
    "collapsed": false
   },
   "outputs": [
    {
     "data": {
      "text/plain": [
       "[1.2455790293380213,\n",
       " 1.083511938063128,\n",
       " 1.0416366966540009,\n",
       " 1.2448136294103151,\n",
       " 1.2747343551403407]"
      ]
     },
     "execution_count": 29,
     "metadata": {},
     "output_type": "execute_result"
    }
   ],
   "source": [
    "[np.std(d_train_values[:,i]) for i in range(0,50)][:5]"
   ]
  },
  {
   "cell_type": "code",
   "execution_count": 30,
   "metadata": {
    "collapsed": false
   },
   "outputs": [
    {
     "data": {
      "text/plain": [
       "StandardScaler(copy=True, with_mean=False, with_std=True)"
      ]
     },
     "execution_count": 30,
     "metadata": {},
     "output_type": "execute_result"
    }
   ],
   "source": [
    "scaler = preprocessing.StandardScaler(with_mean=False, with_std=True).fit(d_train_values)\n",
    "scaler"
   ]
  },
  {
   "cell_type": "code",
   "execution_count": 31,
   "metadata": {
    "collapsed": false
   },
   "outputs": [
    {
     "data": {
      "text/plain": [
       "[1.0, 1.0, 1.0, 1.0, 0.99999999999999978]"
      ]
     },
     "execution_count": 31,
     "metadata": {},
     "output_type": "execute_result"
    }
   ],
   "source": [
    "d_train_values_std = scaler.transform(d_train_values)\n",
    "[np.std(d_train_values_std[:,i]) for i in range(0,50)][:5]"
   ]
  },
  {
   "cell_type": "code",
   "execution_count": 32,
   "metadata": {
    "collapsed": false
   },
   "outputs": [
    {
     "data": {
      "image/png": "[encoded data removed]",
      "text/plain": [
       "<matplotlib.figure.Figure at 0x114449ba8>"
      ]
     },
     "metadata": {},
     "output_type": "display_data"
    }
   ],
   "source": [
    "cluster_with_kmeans_and_plot(3, d_train_values_std, \"K3ClusterStd\")"
   ]
  },
  {
   "cell_type": "markdown",
   "metadata": {},
   "source": [
    "# Exercise Three"
   ]
  },
  {
   "cell_type": "markdown",
   "metadata": {},
   "source": [
    "*\"a) Use the numpy.random.normal() function to generate a predictor X of length n = 100, as well as a noise vector ε of length n = 100.\"*"
   ]
  },
  {
   "cell_type": "code",
   "execution_count": 33,
   "metadata": {
    "collapsed": false
   },
   "outputs": [
    {
     "data": {
      "text/plain": [
       "((100,), (100,))"
      ]
     },
     "execution_count": 33,
     "metadata": {},
     "output_type": "execute_result"
    }
   ],
   "source": [
    "X = np.random.normal(size=100)\n",
    "e = np.random.normal(size=100)\n",
    "(X.shape, e.shape)"
   ]
  },
  {
   "cell_type": "markdown",
   "metadata": {},
   "source": [
    "*\"b) Generate a response vector Y of length n = 100 according to the model Y =β0 +β1X+β2X2 +β3X3 +ε,\n",
    "where β0, β1, β2, and β3 are constants of your choice. Here superscripts denote powers of X.\"*\n",
    "\n",
    "I'm just choosing the coefficients."
   ]
  },
  {
   "cell_type": "code",
   "execution_count": 34,
   "metadata": {
    "collapsed": true
   },
   "outputs": [],
   "source": [
    "b0 = 27\n",
    "b1 = 11\n",
    "b2 = 5\n",
    "b3 = 3"
   ]
  },
  {
   "cell_type": "code",
   "execution_count": 35,
   "metadata": {
    "collapsed": false
   },
   "outputs": [
    {
     "data": {
      "text/plain": [
       "(100,)"
      ]
     },
     "execution_count": 35,
     "metadata": {},
     "output_type": "execute_result"
    }
   ],
   "source": [
    "y = b0 + (b1*X) + (b2*(X**2)) + (b3*(X**3)) + e\n",
    "y.shape"
   ]
  },
  {
   "cell_type": "code",
   "execution_count": 36,
   "metadata": {
    "collapsed": false
   },
   "outputs": [
    {
     "data": {
      "text/plain": [
       "(100, 1)"
      ]
     },
     "execution_count": 36,
     "metadata": {},
     "output_type": "execute_result"
    }
   ],
   "source": [
    "# and we'll make X a 100,1 array rather than a vector, for better use w/ sklearn functions\n",
    "X = X[:, np.newaxis]\n",
    "X.shape"
   ]
  },
  {
   "cell_type": "markdown",
   "metadata": {},
   "source": [
    "*\"c) Now fit a lasso model to the simulated data, using X, X2, . . . , X10 as predictors. Use cross-validation to select the optimal value of λ. Create plots of the cross-validation error as a function of λ. Report the resulting coefficient estimates, and discuss the results obtained.\"*"
   ]
  },
  {
   "cell_type": "markdown",
   "metadata": {},
   "source": [
    "The cross-validation error as a function of lambda is shown below, in addition to the y-intercept and coefficients chosen by the Lasso algorithm with the best value of lambda. It's cool to see that the Lasso algorithm correctly recovers both the y-intercept and the values of the three coefficients actually used to generate the data, AND that the algorithm zeroes out coefficients for higher order polynomials that weren't used when generating the data. Powerful stuff."
   ]
  },
  {
   "cell_type": "code",
   "execution_count": 37,
   "metadata": {
    "collapsed": false
   },
   "outputs": [
    {
     "data": {
      "text/plain": [
       "(100, 11)"
      ]
     },
     "execution_count": 37,
     "metadata": {},
     "output_type": "execute_result"
    }
   ],
   "source": [
    "X_poly10 = PolynomialFeatures(degree=10).fit_transform(X)\n",
    "X_poly10.shape"
   ]
  },
  {
   "cell_type": "code",
   "execution_count": 38,
   "metadata": {
    "collapsed": false
   },
   "outputs": [
    {
     "data": {
      "text/plain": [
       "[1e-05, 0.0001, 0.001, 0.01, 0.1, 1, 10, 100, 1000, 10000]"
      ]
     },
     "execution_count": 38,
     "metadata": {},
     "output_type": "execute_result"
    }
   ],
   "source": [
    "lambda_vals"
   ]
  },
  {
   "cell_type": "markdown",
   "metadata": {},
   "source": [
    "I think, based on the .score method, that the default evaluator for both Lasso and LassoCV is the R^2 (coefficient of determination) - if I pass in a \"r2\" value to the scoring param of cross_val_score, I get the same output as I do when I don't specify anything."
   ]
  },
  {
   "cell_type": "code",
   "execution_count": 42,
   "metadata": {
    "collapsed": false
   },
   "outputs": [
    {
     "data": {
      "text/plain": [
       "0.00001        0.978673\n",
       "0.00010        0.985025\n",
       "0.00100        0.988917\n",
       "0.01000        0.989658\n",
       "0.10000        0.956480\n",
       "1.00000        0.570619\n",
       "10.00000      -0.081761\n",
       "100.00000     -0.081761\n",
       "1000.00000    -0.081761\n",
       "10000.00000   -0.081761\n",
       "dtype: float64"
      ]
     },
     "execution_count": 42,
     "metadata": {},
     "output_type": "execute_result"
    }
   ],
   "source": [
    "r2_by_lambda = pd.Series([np.mean(cross_val_score(Lasso(alpha=lam, \n",
    "                                  normalize=True,\n",
    "                                  max_iter=1000000), X_poly10, y, cv=10, scoring=\"r2\")) for lam in lambda_vals],\n",
    "                         index = lambda_vals)\n",
    "r2_by_lambda"
   ]
  },
  {
   "cell_type": "code",
   "execution_count": 43,
   "metadata": {
    "collapsed": false
   },
   "outputs": [
    {
     "data": {
      "text/plain": [
       "<matplotlib.axes._subplots.AxesSubplot at 0x1145772e8>"
      ]
     },
     "execution_count": 43,
     "metadata": {},
     "output_type": "execute_result"
    },
    {
     "data": {
      "image/png": "[encoded data removed]",
      "text/plain": [
       "<matplotlib.figure.Figure at 0x11441c518>"
      ]
     },
     "metadata": {},
     "output_type": "display_data"
    }
   ],
   "source": [
    "r2_by_lambda.plot(logx=True)"
   ]
  },
  {
   "cell_type": "code",
   "execution_count": 44,
   "metadata": {
    "collapsed": false
   },
   "outputs": [
    {
     "data": {
      "text/plain": [
       "0.01"
      ]
     },
     "execution_count": 44,
     "metadata": {},
     "output_type": "execute_result"
    }
   ],
   "source": [
    "best_lambda = r2_by_lambda.argmax()\n",
    "best_lambda"
   ]
  },
  {
   "cell_type": "code",
   "execution_count": 45,
   "metadata": {
    "collapsed": true
   },
   "outputs": [],
   "source": [
    "def fit_lasso_and_output_coefs_and_intercept(lam, X, y):\n",
    "    results = Lasso(alpha=lam, normalize=True).fit(X, y)\n",
    "    print(results.intercept_)\n",
    "    display(list(zip(PolynomialFeatures(10).fit(X).get_feature_names(), results.coef_)))"
   ]
  },
  {
   "cell_type": "code",
   "execution_count": 46,
   "metadata": {
    "collapsed": false
   },
   "outputs": [
    {
     "name": "stdout",
     "output_type": "stream",
     "text": [
      "27.0157463972\n"
     ]
    },
    {
     "data": {
      "text/plain": [
       "[('1', 0.0),\n",
       " ('x0', 10.915612748121022),\n",
       " ('x1', 4.834053762823439),\n",
       " ('x2', 2.94099579784789),\n",
       " ('x3', 0.0),\n",
       " ('x4', 0.0),\n",
       " ('x5', 0.0),\n",
       " ('x6', 0.0),\n",
       " ('x7', -0.0),\n",
       " ('x8', 0.0),\n",
       " ('x9', -0.0)]"
      ]
     },
     "metadata": {},
     "output_type": "display_data"
    }
   ],
   "source": [
    "fit_lasso_and_output_coefs_and_intercept(best_lambda, X_poly10, y)"
   ]
  },
  {
   "cell_type": "markdown",
   "metadata": {},
   "source": [
    "*\"d) Now generate a response vector Y according to the model Y = β0 + β7X7 + ε,\n",
    "and fit a lasso model. Discuss the results obtained.\"*"
   ]
  },
  {
   "cell_type": "markdown",
   "metadata": {},
   "source": [
    "Now the algorithm hasn't zeroed out the coefficients other than the beta7 coefficient. My guess is that there are multiple ways to use this many different polynomials to produce the value that comes from raising X to the seventh power and the model has chosen one of these other ways."
   ]
  },
  {
   "cell_type": "code",
   "execution_count": 48,
   "metadata": {
    "collapsed": false
   },
   "outputs": [
    {
     "data": {
      "text/plain": [
       "(100,)"
      ]
     },
     "execution_count": 48,
     "metadata": {},
     "output_type": "execute_result"
    }
   ],
   "source": [
    "b7 = 12\n",
    "new_y = b0 + (b7*(X[:,0]**7)) + e\n",
    "new_y.shape"
   ]
  },
  {
   "cell_type": "code",
   "execution_count": 49,
   "metadata": {
    "collapsed": false
   },
   "outputs": [
    {
     "name": "stdout",
     "output_type": "stream",
     "text": [
      "28.0078983925\n"
     ]
    },
    {
     "data": {
      "text/plain": [
       "[('1', 0.0),\n",
       " ('x0', 24.482699381215831),\n",
       " ('x1', -7.7432150130787454),\n",
       " ('x2', -57.880332735340382),\n",
       " ('x3', 7.296121362136776),\n",
       " ('x4', 34.550855255038989),\n",
       " ('x5', -1.6475385839116563),\n",
       " ('x6', 4.7569837433792408),\n",
       " ('x7', -0.0049737614857195333),\n",
       " ('x8', 0.49259525379107544),\n",
       " ('x9', 0.019218134501454123)]"
      ]
     },
     "metadata": {},
     "output_type": "display_data"
    }
   ],
   "source": [
    "fit_lasso_and_output_coefs_and_intercept(0.00001, X_poly10, new_y)"
   ]
  },
  {
   "cell_type": "markdown",
   "metadata": {},
   "source": [
    "# Exercise Four"
   ]
  },
  {
   "cell_type": "markdown",
   "metadata": {
    "collapsed": true
   },
   "source": [
    "This is ungraded exercise with specific suggested steps to work on as part of the Kaggle competition. I haven't yet started this as I've been focused on the homework after returning from my trip last week. I definitely won't wait too long to get started - I expect that it will be time-consuming and not amenable to doing it all last minute."
   ]
  },
  {
   "cell_type": "markdown",
   "metadata": {},
   "source": [
    "# Exercise Five"
   ]
  },
  {
   "cell_type": "markdown",
   "metadata": {},
   "source": [
    "*\"Is there a concept you would love to see covered during the course?\"*\n",
    "\n",
    "It seems like the syllabus is changing/has changed a bit, and I'm not sure what the overall plans are for coverage in the rest of the class. So I'll just jot down quick thoughts about things I'd like to know AND things that I at least have some clue about already but that others have said they want to learn about.\n",
    "\n",
    "* On 4/26 you said that you view ridge, lasso, and logistic regression as the key/core pieces of ML. Can you explain more about why this is? Why are they so important in comparison to lots of other algorithms, for example? I only use ML sometimes in my day job, but when I do use ML I've spent a lot of time trying to understand things we haven't covered in class - for example, practicalities of feature engineering, different performance metrics, the nitty gritty of comparing different algorithms, and so on. For me at least I wonder if more coverage of some of these things that I've wrestled with myself could be more useful (at least immediately) than some of the detailed work and math that we've done.\n",
    "* Specific algorithms: a) tree-based algorithms - likely in some detail, since they're used so heavily in a lot of places, b) SVMs, c) at least an intro to neural nets and deep learning. \n",
    "* That said, I think I'd benefit most from understanding roughly - but not in detail - how these work, how to use them (dials, levers), and pros and cons compared to other algorithms (these often work well with this kind of data, etc.). Mainly given the relatively short amount of time we have - only a single class, to cover all of 'machine learning' - I don't think I'd prefer to spend tons of time actually implementing particular algorithms. It's very interesting and I learn a lot by doing my own implementation, but probably get less practical benefit from time spent on implementation than I would get from a better overall understanding of the pros and cons of more algorithms. No?\n",
    "* Feature engineering. I think we're covering this already for one kind of features, with the image work. But coverage of other kinds of features and transformations would be useful/helpful too. As a rough example of the kinds of things I'd like to learn more of: taking lat/lon and transforming into 'close to this kind of business', taking a single date field and generating 'IsHoliday', etc. From my understanding of Kaggle competitions and my experience at work, it sounds like feature engineering is usually more important for creating better models than the algorithm.\n",
    "* More coverage of 'small data' uses of ML. At least for me at Microsoft, a lot of my work is with data sets that have an understandable number of features - for example, 20-30 instead of 1000s. More coverage of things to do with smaller numbers of features would be valuable to me. "
   ]
  },
  {
   "cell_type": "markdown",
   "metadata": {
    "collapsed": true
   },
   "source": [
    "*\"Is there a concept that has been used multiple times during the course, but you still have no idea what it means?\"*\n",
    "\n",
    "I'm still weak on interpreting mathemtical notation (I prefer words) and linear algebra, although am improving - enough to where I could figure out the coordinate descent stuff based just on a few slides w/ formulas. So I'm probably ok there."
   ]
  },
  {
   "cell_type": "markdown",
   "metadata": {},
   "source": [
    "*\"Do you feel that you learn better when the course material is covered using slides, or tablet/whiteboard, or numerical illustrations?\"*"
   ]
  },
  {
   "cell_type": "markdown",
   "metadata": {},
   "source": [
    "I learn better when the explanations are in words instead of in mathematical notation, at least to start. As part of 'words' I include examples - i.e., rather than just 'here's the formula' I would learn better by seeing a worked example (or by working an example myself)."
   ]
  }
 ],
 "metadata": {
  "kernelspec": {
   "display_name": "Python 3",
   "language": "python",
   "name": "python3"
  },
  "language_info": {
   "codemirror_mode": {
    "name": "ipython",
    "version": 3
   },
   "file_extension": ".py",
   "mimetype": "text/x-python",
   "name": "python",
   "nbconvert_exporter": "python",
   "pygments_lexer": "ipython3",
   "version": "3.6.0"
  }
 },
 "nbformat": 4,
 "nbformat_minor": 2
}
