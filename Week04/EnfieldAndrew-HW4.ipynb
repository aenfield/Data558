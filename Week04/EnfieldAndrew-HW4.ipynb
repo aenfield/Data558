{
 "cells": [
  {
   "cell_type": "code",
   "execution_count": 3,
   "metadata": {
    "collapsed": true
   },
   "outputs": [],
   "source": [
    "import numpy as np\n",
    "import pandas as pd\n",
    "import matplotlib.pyplot as plt\n",
    "import seaborn as sns\n",
    "\n",
    "%matplotlib inline\n",
    "\n",
    "from pylab import rcParams\n",
    "rcParams['figure.figsize'] = 8, 5\n",
    "\n",
    "from sklearn import preprocessing\n",
    "from sklearn.model_selection import train_test_split\n",
    "from sklearn.linear_model import LassoCV\n",
    "\n",
    "from sklearn.decomposition import PCA\n",
    "from sklearn.cluster import KMeans\n",
    "from sklearn.preprocessing import StandardScaler\n",
    "\n",
    "from sklearn.preprocessing import PolynomialFeatures\n",
    "from sklearn.pipeline import make_pipeline\n",
    "\n",
    "import coorddescent as cd"
   ]
  },
  {
   "cell_type": "code",
   "execution_count": 4,
   "metadata": {
    "collapsed": true
   },
   "outputs": [],
   "source": [
    "#import importlib\n",
    "#importlib.reload(cd)"
   ]
  },
  {
   "cell_type": "markdown",
   "metadata": {},
   "source": [
    "# Exercise One"
   ]
  },
  {
   "cell_type": "code",
   "execution_count": 5,
   "metadata": {
    "collapsed": false
   },
   "outputs": [
    {
     "data": {
      "text/plain": [
       "(322, 20)"
      ]
     },
     "execution_count": 5,
     "metadata": {},
     "output_type": "execute_result"
    }
   ],
   "source": [
    "h = pd.read_csv('Hitters.csv', index_col=0)\n",
    "h.shape"
   ]
  },
  {
   "cell_type": "code",
   "execution_count": 6,
   "metadata": {
    "collapsed": false
   },
   "outputs": [
    {
     "data": {
      "text/html": [
       "<div>\n",
       "<table border=\"1\" class=\"dataframe\">\n",
       "  <thead>\n",
       "    <tr style=\"text-align: right;\">\n",
       "      <th></th>\n",
       "      <th>AtBat</th>\n",
       "      <th>Hits</th>\n",
       "      <th>HmRun</th>\n",
       "      <th>Runs</th>\n",
       "      <th>RBI</th>\n",
       "      <th>Walks</th>\n",
       "      <th>Years</th>\n",
       "      <th>CAtBat</th>\n",
       "      <th>CHits</th>\n",
       "      <th>CHmRun</th>\n",
       "      <th>CRuns</th>\n",
       "      <th>CRBI</th>\n",
       "      <th>CWalks</th>\n",
       "      <th>League</th>\n",
       "      <th>Division</th>\n",
       "      <th>PutOuts</th>\n",
       "      <th>Assists</th>\n",
       "      <th>Errors</th>\n",
       "      <th>Salary</th>\n",
       "      <th>NewLeague</th>\n",
       "    </tr>\n",
       "    <tr>\n",
       "      <th>Name</th>\n",
       "      <th></th>\n",
       "      <th></th>\n",
       "      <th></th>\n",
       "      <th></th>\n",
       "      <th></th>\n",
       "      <th></th>\n",
       "      <th></th>\n",
       "      <th></th>\n",
       "      <th></th>\n",
       "      <th></th>\n",
       "      <th></th>\n",
       "      <th></th>\n",
       "      <th></th>\n",
       "      <th></th>\n",
       "      <th></th>\n",
       "      <th></th>\n",
       "      <th></th>\n",
       "      <th></th>\n",
       "      <th></th>\n",
       "      <th></th>\n",
       "    </tr>\n",
       "  </thead>\n",
       "  <tbody>\n",
       "    <tr>\n",
       "      <th>-Andy Allanson</th>\n",
       "      <td>293</td>\n",
       "      <td>66</td>\n",
       "      <td>1</td>\n",
       "      <td>30</td>\n",
       "      <td>29</td>\n",
       "      <td>14</td>\n",
       "      <td>1</td>\n",
       "      <td>293</td>\n",
       "      <td>66</td>\n",
       "      <td>1</td>\n",
       "      <td>30</td>\n",
       "      <td>29</td>\n",
       "      <td>14</td>\n",
       "      <td>A</td>\n",
       "      <td>E</td>\n",
       "      <td>446</td>\n",
       "      <td>33</td>\n",
       "      <td>20</td>\n",
       "      <td>NaN</td>\n",
       "      <td>A</td>\n",
       "    </tr>\n",
       "    <tr>\n",
       "      <th>-Alan Ashby</th>\n",
       "      <td>315</td>\n",
       "      <td>81</td>\n",
       "      <td>7</td>\n",
       "      <td>24</td>\n",
       "      <td>38</td>\n",
       "      <td>39</td>\n",
       "      <td>14</td>\n",
       "      <td>3449</td>\n",
       "      <td>835</td>\n",
       "      <td>69</td>\n",
       "      <td>321</td>\n",
       "      <td>414</td>\n",
       "      <td>375</td>\n",
       "      <td>N</td>\n",
       "      <td>W</td>\n",
       "      <td>632</td>\n",
       "      <td>43</td>\n",
       "      <td>10</td>\n",
       "      <td>475.0</td>\n",
       "      <td>N</td>\n",
       "    </tr>\n",
       "    <tr>\n",
       "      <th>-Alvin Davis</th>\n",
       "      <td>479</td>\n",
       "      <td>130</td>\n",
       "      <td>18</td>\n",
       "      <td>66</td>\n",
       "      <td>72</td>\n",
       "      <td>76</td>\n",
       "      <td>3</td>\n",
       "      <td>1624</td>\n",
       "      <td>457</td>\n",
       "      <td>63</td>\n",
       "      <td>224</td>\n",
       "      <td>266</td>\n",
       "      <td>263</td>\n",
       "      <td>A</td>\n",
       "      <td>W</td>\n",
       "      <td>880</td>\n",
       "      <td>82</td>\n",
       "      <td>14</td>\n",
       "      <td>480.0</td>\n",
       "      <td>A</td>\n",
       "    </tr>\n",
       "  </tbody>\n",
       "</table>\n",
       "</div>"
      ],
      "text/plain": [
       "                AtBat  Hits  HmRun  Runs  RBI  Walks  Years  CAtBat  CHits  \\\n",
       "Name                                                                         \n",
       "-Andy Allanson    293    66      1    30   29     14      1     293     66   \n",
       "-Alan Ashby       315    81      7    24   38     39     14    3449    835   \n",
       "-Alvin Davis      479   130     18    66   72     76      3    1624    457   \n",
       "\n",
       "                CHmRun  CRuns  CRBI  CWalks League Division  PutOuts  Assists  \\\n",
       "Name                                                                            \n",
       "-Andy Allanson       1     30    29      14      A        E      446       33   \n",
       "-Alan Ashby         69    321   414     375      N        W      632       43   \n",
       "-Alvin Davis        63    224   266     263      A        W      880       82   \n",
       "\n",
       "                Errors  Salary NewLeague  \n",
       "Name                                      \n",
       "-Andy Allanson      20     NaN         A  \n",
       "-Alan Ashby         10   475.0         N  \n",
       "-Alvin Davis        14   480.0         A  "
      ]
     },
     "execution_count": 6,
     "metadata": {},
     "output_type": "execute_result"
    }
   ],
   "source": [
    "h[:3]"
   ]
  },
  {
   "cell_type": "code",
   "execution_count": 7,
   "metadata": {
    "collapsed": false
   },
   "outputs": [
    {
     "data": {
      "text/plain": [
       "(263, 20)"
      ]
     },
     "execution_count": 7,
     "metadata": {},
     "output_type": "execute_result"
    }
   ],
   "source": [
    "# remove rows w/ empty values - i think this is only those w/ no salary\n",
    "h = h.dropna()\n",
    "h.shape"
   ]
  },
  {
   "cell_type": "code",
   "execution_count": 8,
   "metadata": {
    "collapsed": false
   },
   "outputs": [
    {
     "data": {
      "text/plain": [
       "(263, 23)"
      ]
     },
     "execution_count": 8,
     "metadata": {},
     "output_type": "execute_result"
    }
   ],
   "source": [
    "# convert categorical vars to dummy variables\n",
    "h = pd.get_dummies(h)\n",
    "h.shape"
   ]
  },
  {
   "cell_type": "code",
   "execution_count": 102,
   "metadata": {
    "collapsed": false
   },
   "outputs": [
    {
     "data": {
      "text/html": [
       "<div>\n",
       "<table border=\"1\" class=\"dataframe\">\n",
       "  <thead>\n",
       "    <tr style=\"text-align: right;\">\n",
       "      <th></th>\n",
       "      <th>AtBat</th>\n",
       "      <th>Hits</th>\n",
       "      <th>HmRun</th>\n",
       "      <th>Runs</th>\n",
       "      <th>RBI</th>\n",
       "      <th>Walks</th>\n",
       "      <th>Years</th>\n",
       "      <th>CAtBat</th>\n",
       "      <th>CHits</th>\n",
       "      <th>CHmRun</th>\n",
       "      <th>...</th>\n",
       "      <th>PutOuts</th>\n",
       "      <th>Assists</th>\n",
       "      <th>Errors</th>\n",
       "      <th>Salary</th>\n",
       "      <th>League_A</th>\n",
       "      <th>League_N</th>\n",
       "      <th>Division_E</th>\n",
       "      <th>Division_W</th>\n",
       "      <th>NewLeague_A</th>\n",
       "      <th>NewLeague_N</th>\n",
       "    </tr>\n",
       "    <tr>\n",
       "      <th>Name</th>\n",
       "      <th></th>\n",
       "      <th></th>\n",
       "      <th></th>\n",
       "      <th></th>\n",
       "      <th></th>\n",
       "      <th></th>\n",
       "      <th></th>\n",
       "      <th></th>\n",
       "      <th></th>\n",
       "      <th></th>\n",
       "      <th></th>\n",
       "      <th></th>\n",
       "      <th></th>\n",
       "      <th></th>\n",
       "      <th></th>\n",
       "      <th></th>\n",
       "      <th></th>\n",
       "      <th></th>\n",
       "      <th></th>\n",
       "      <th></th>\n",
       "      <th></th>\n",
       "    </tr>\n",
       "  </thead>\n",
       "  <tbody>\n",
       "    <tr>\n",
       "      <th>-Alan Ashby</th>\n",
       "      <td>315</td>\n",
       "      <td>81</td>\n",
       "      <td>7</td>\n",
       "      <td>24</td>\n",
       "      <td>38</td>\n",
       "      <td>39</td>\n",
       "      <td>14</td>\n",
       "      <td>3449</td>\n",
       "      <td>835</td>\n",
       "      <td>69</td>\n",
       "      <td>...</td>\n",
       "      <td>632</td>\n",
       "      <td>43</td>\n",
       "      <td>10</td>\n",
       "      <td>475.0</td>\n",
       "      <td>0</td>\n",
       "      <td>1</td>\n",
       "      <td>0</td>\n",
       "      <td>1</td>\n",
       "      <td>0</td>\n",
       "      <td>1</td>\n",
       "    </tr>\n",
       "  </tbody>\n",
       "</table>\n",
       "<p>1 rows × 23 columns</p>\n",
       "</div>"
      ],
      "text/plain": [
       "             AtBat  Hits  HmRun  Runs  RBI  Walks  Years  CAtBat  CHits  \\\n",
       "Name                                                                      \n",
       "-Alan Ashby    315    81      7    24   38     39     14    3449    835   \n",
       "\n",
       "             CHmRun     ...       PutOuts  Assists  Errors  Salary  League_A  \\\n",
       "Name                    ...                                                    \n",
       "-Alan Ashby      69     ...           632       43      10   475.0         0   \n",
       "\n",
       "             League_N  Division_E  Division_W  NewLeague_A  NewLeague_N  \n",
       "Name                                                                     \n",
       "-Alan Ashby         1           0           1            0            1  \n",
       "\n",
       "[1 rows x 23 columns]"
      ]
     },
     "execution_count": 102,
     "metadata": {},
     "output_type": "execute_result"
    }
   ],
   "source": [
    "h[:1]"
   ]
  },
  {
   "cell_type": "markdown",
   "metadata": {},
   "source": [
    "While the homework doesn't state it specifically, I assume here that we're predicting salary, since that's what we've done previously."
   ]
  },
  {
   "cell_type": "code",
   "execution_count": 125,
   "metadata": {
    "collapsed": false
   },
   "outputs": [
    {
     "data": {
      "text/plain": [
       "((263, 22), (263,))"
      ]
     },
     "execution_count": 125,
     "metadata": {},
     "output_type": "execute_result"
    }
   ],
   "source": [
    "# split into features and the value to predict (x and y)\n",
    "# scale all features so each col has mean zero and std 1\n",
    "X_scaled = preprocessing.scale(h.drop('Salary', axis=1))\n",
    "y = preprocessing.scale(h['Salary'], with_mean=True, with_std=False) # TODO Geoff said just to center - correct?\n",
    "\n",
    "(X_scaled.shape, y.shape)"
   ]
  },
  {
   "cell_type": "code",
   "execution_count": 126,
   "metadata": {
    "collapsed": false
   },
   "outputs": [],
   "source": [
    "X_train, X_test, y_train, y_test = train_test_split(X_scaled, y, random_state=0, test_size=0.25)"
   ]
  },
  {
   "cell_type": "code",
   "execution_count": 127,
   "metadata": {
    "collapsed": false
   },
   "outputs": [
    {
     "data": {
      "text/plain": [
       "((197, 22), (66, 22), (197,), (66,))"
      ]
     },
     "execution_count": 127,
     "metadata": {},
     "output_type": "execute_result"
    }
   ],
   "source": [
    "(X_train.shape, X_test.shape, y_train.shape, y_test.shape)"
   ]
  },
  {
   "cell_type": "code",
   "execution_count": 128,
   "metadata": {
    "collapsed": false
   },
   "outputs": [
    {
     "name": "stdout",
     "output_type": "stream",
     "text": [
      "Estimated lambda = 10.0\n",
      "Estimated coefficients = [ -0.00000000e+00   8.58601238e+01   2.31341180e+01   0.00000000e+00\n",
      "   0.00000000e+00   5.30007543e+01  -0.00000000e+00   0.00000000e+00\n",
      "   1.81021741e+02   0.00000000e+00   7.94408792e+00   0.00000000e+00\n",
      "  -0.00000000e+00   4.29183221e+01  -0.00000000e+00  -1.69208651e+01\n",
      "  -2.65772925e+00   0.00000000e+00   4.56974438e+01  -1.50312135e-14\n",
      "  -0.00000000e+00   0.00000000e+00]\n",
      "Estimated intercept = 0.0\n"
     ]
    }
   ],
   "source": [
    "lambda_vals = [10**k for k in range(-5, 5)]\n",
    "# increasing max_iter from default of 1000 to ensure convergence (per\n",
    "# a warning that I'll get when it's the default), also setting \n",
    "# normalize to False as we've already standardized the data\n",
    "lasso = LassoCV(alphas=lambda_vals, normalize=False, fit_intercept=False, max_iter=3000)\n",
    "\n",
    "lasso.fit(X_train, y_train)\n",
    "print('Estimated lambda =', lasso.alpha_)\n",
    "print('Estimated coefficients =', lasso.coef_)\n",
    "print('Estimated intercept =', lasso.intercept_)"
   ]
  },
  {
   "cell_type": "code",
   "execution_count": 129,
   "metadata": {
    "collapsed": false
   },
   "outputs": [
    {
     "data": {
      "text/plain": [
       "array([ -3.01286738e+02,   2.99128868e+02,   6.52703798e+01,\n",
       "        -4.08042709e+01,   2.46861773e+00,   1.53332103e+02,\n",
       "        -8.64033965e+01,   1.71077484e+02,   2.70097078e+02,\n",
       "         5.35526842e+01,   9.28557194e+01,  -1.29517289e+02,\n",
       "        -2.03225658e+02,   6.03806106e+01,   3.54852288e+01,\n",
       "        -3.70178409e+01,  -1.77482519e+01,   2.27993363e-12,\n",
       "         5.69311903e+01,  -2.34949429e-12,   9.53202545e+00,\n",
       "         0.00000000e+00])"
      ]
     },
     "execution_count": 129,
     "metadata": {},
     "output_type": "execute_result"
    }
   ],
   "source": [
    "betas_cyclic = cd.cycliccoorddescent(X_train, y_train, lasso.alpha_, max_iter=1000)\n",
    "cd.get_final_coefs(betas_cyclic)"
   ]
  },
  {
   "cell_type": "code",
   "execution_count": 130,
   "metadata": {
    "collapsed": false
   },
   "outputs": [
    {
     "data": {
      "text/plain": [
       "array([ -1.68455512e+02,   1.68533254e+02,   6.33393034e+01,\n",
       "        -1.82744723e+01,   6.09461122e-01,   1.23022541e+02,\n",
       "        -6.33800988e+01,  -7.43572206e+01,   2.22920670e+02,\n",
       "        -9.61693905e+01,   1.99874770e+02,   1.47695646e+02,\n",
       "        -1.71531569e+02,   5.77674893e+01,   3.73656201e+01,\n",
       "        -4.18656431e+01,  -2.18332544e+01,  -6.02323017e-01,\n",
       "        -3.53314491e-02,  -5.77883831e+01,   1.02792801e+01,\n",
       "        -3.43774963e-01])"
      ]
     },
     "execution_count": 130,
     "metadata": {},
     "output_type": "execute_result"
    }
   ],
   "source": [
    "betas_random = cd.randcoorddescent(X_train, y_train, lasso.alpha_, max_iter=1000)\n",
    "cd.get_final_coefs(betas_random)"
   ]
  },
  {
   "cell_type": "code",
   "execution_count": 131,
   "metadata": {
    "collapsed": false
   },
   "outputs": [
    {
     "data": {
      "text/html": [
       "<div>\n",
       "<table border=\"1\" class=\"dataframe\">\n",
       "  <thead>\n",
       "    <tr style=\"text-align: right;\">\n",
       "      <th></th>\n",
       "      <th>cyclic</th>\n",
       "      <th>random</th>\n",
       "    </tr>\n",
       "  </thead>\n",
       "  <tbody>\n",
       "    <tr>\n",
       "      <th>0</th>\n",
       "      <td>171049.579605</td>\n",
       "      <td>171049.579605</td>\n",
       "    </tr>\n",
       "    <tr>\n",
       "      <th>1</th>\n",
       "      <td>145555.195978</td>\n",
       "      <td>170814.738601</td>\n",
       "    </tr>\n",
       "    <tr>\n",
       "      <th>2</th>\n",
       "      <td>145146.306599</td>\n",
       "      <td>132250.701295</td>\n",
       "    </tr>\n",
       "  </tbody>\n",
       "</table>\n",
       "</div>"
      ],
      "text/plain": [
       "          cyclic         random\n",
       "0  171049.579605  171049.579605\n",
       "1  145555.195978  170814.738601\n",
       "2  145146.306599  132250.701295"
      ]
     },
     "execution_count": 131,
     "metadata": {},
     "output_type": "execute_result"
    }
   ],
   "source": [
    "obj_values = pd.DataFrame({\n",
    "    'cyclic': betas_cyclic.apply(lambda r: cd.lasso_objective(r.as_matrix(), X_train, y_train, lasso.alpha_), axis=1),\n",
    "    'random': betas_random.apply(lambda r: cd.lasso_objective(r.as_matrix(), X_train, y_train, lasso.alpha_), axis=1)\n",
    "})\n",
    "obj_values[:3]"
   ]
  },
  {
   "cell_type": "code",
   "execution_count": 132,
   "metadata": {
    "collapsed": false
   },
   "outputs": [
    {
     "data": {
      "text/plain": [
       "<matplotlib.text.Text at 0x11be8dd68>"
      ]
     },
     "execution_count": 132,
     "metadata": {},
     "output_type": "execute_result"
    },
    {
     "data": {
      "image/png": "[encoded data removed]",
      "text/plain": [
       "<matplotlib.figure.Figure at 0x11be79b70>"
      ]
     },
     "metadata": {},
     "output_type": "display_data"
    }
   ],
   "source": [
    "ax = obj_values[::X_train.shape[1]].reset_index(drop=True).plot(title=\"Objective function value per effective iteration\")\n",
    "ax.set_xlabel(\"Effective iteration\")\n",
    "ax.set_ylabel(\"Value of objective function\")"
   ]
  },
  {
   "cell_type": "code",
   "execution_count": 133,
   "metadata": {
    "collapsed": false
   },
   "outputs": [
    {
     "data": {
      "text/plain": [
       "(263, 22)"
      ]
     },
     "execution_count": 133,
     "metadata": {},
     "output_type": "execute_result"
    }
   ],
   "source": [
    "X_scaled.shape"
   ]
  },
  {
   "cell_type": "code",
   "execution_count": 135,
   "metadata": {
    "collapsed": false
   },
   "outputs": [
    {
     "data": {
      "text/plain": [
       "197.51759554509758"
      ]
     },
     "execution_count": 135,
     "metadata": {},
     "output_type": "execute_result"
    }
   ],
   "source": [
    "cd.minimize_beta_term(np.zeros(X_scaled.shape[1]), X_scaled, y, 2, 0.1)"
   ]
  },
  {
   "cell_type": "markdown",
   "metadata": {},
   "source": [
    "**TODO** do code (and of course text) for the last bullet."
   ]
  },
  {
   "cell_type": "markdown",
   "metadata": {},
   "source": [
    "# Exercise Two"
   ]
  },
  {
   "cell_type": "markdown",
   "metadata": {},
   "source": [
    "\"a) Generate a simulated data set with 20 observations in each of three classes (i.e. 60 observations total), and 50 variables. Hint: There are a number of functions in numpy that you can use to generate data. One example is the numpy.random.normal() func- tion; numpy.random.uniform() is another option. Be sure to add a mean shift to the observations in each class so that there are three distinct classes.\""
   ]
  },
  {
   "cell_type": "code",
   "execution_count": 82,
   "metadata": {
    "collapsed": false
   },
   "outputs": [
    {
     "data": {
      "text/html": [
       "<div>\n",
       "<table border=\"1\" class=\"dataframe\">\n",
       "  <thead>\n",
       "    <tr style=\"text-align: right;\">\n",
       "      <th></th>\n",
       "      <th>Class</th>\n",
       "      <th>0</th>\n",
       "      <th>1</th>\n",
       "      <th>2</th>\n",
       "      <th>3</th>\n",
       "      <th>4</th>\n",
       "      <th>5</th>\n",
       "      <th>6</th>\n",
       "      <th>7</th>\n",
       "      <th>8</th>\n",
       "      <th>...</th>\n",
       "      <th>40</th>\n",
       "      <th>41</th>\n",
       "      <th>42</th>\n",
       "      <th>43</th>\n",
       "      <th>44</th>\n",
       "      <th>45</th>\n",
       "      <th>46</th>\n",
       "      <th>47</th>\n",
       "      <th>48</th>\n",
       "      <th>49</th>\n",
       "    </tr>\n",
       "  </thead>\n",
       "  <tbody>\n",
       "    <tr>\n",
       "      <th>0</th>\n",
       "      <td>A</td>\n",
       "      <td>-1.207093</td>\n",
       "      <td>1.31864</td>\n",
       "      <td>-0.222457</td>\n",
       "      <td>0.891268</td>\n",
       "      <td>0.347184</td>\n",
       "      <td>1.234023</td>\n",
       "      <td>-0.181576</td>\n",
       "      <td>-0.709227</td>\n",
       "      <td>0.460359</td>\n",
       "      <td>...</td>\n",
       "      <td>-0.046607</td>\n",
       "      <td>0.808866</td>\n",
       "      <td>0.533404</td>\n",
       "      <td>0.509502</td>\n",
       "      <td>-1.15591</td>\n",
       "      <td>0.038744</td>\n",
       "      <td>1.37655</td>\n",
       "      <td>-3.041708</td>\n",
       "      <td>-0.376492</td>\n",
       "      <td>-1.804077</td>\n",
       "    </tr>\n",
       "  </tbody>\n",
       "</table>\n",
       "<p>1 rows × 51 columns</p>\n",
       "</div>"
      ],
      "text/plain": [
       "  Class         0        1         2         3         4         5         6  \\\n",
       "0     A -1.207093  1.31864 -0.222457  0.891268  0.347184  1.234023 -0.181576   \n",
       "\n",
       "          7         8    ...           40        41        42        43  \\\n",
       "0 -0.709227  0.460359    ...    -0.046607  0.808866  0.533404  0.509502   \n",
       "\n",
       "        44        45       46        47        48        49  \n",
       "0 -1.15591  0.038744  1.37655 -3.041708 -0.376492 -1.804077  \n",
       "\n",
       "[1 rows x 51 columns]"
      ]
     },
     "execution_count": 82,
     "metadata": {},
     "output_type": "execute_result"
    }
   ],
   "source": [
    "d = pd.DataFrame(np.vstack([np.random.normal(mean, size=(20,50)) for mean in [0,0.5,1]]))\n",
    "d.insert(0, 'Class', np.repeat(['A','B','C'], 20))\n",
    "d[:1]"
   ]
  },
  {
   "cell_type": "markdown",
   "metadata": {},
   "source": [
    "\"b) Perform PCA on the 60 observations and plot the first two principal component score vectors. Use a different color to indicate the observations in each of the three classes. If the three classes appear separated in this plot, then continue on to part (c). If not, then return to part (a) and modify the simulation so that there is greater separation between the three classes. Do not continue to part (c) until the three classes show at least some separation in the first two principal component score vectors.\""
   ]
  },
  {
   "cell_type": "markdown",
   "metadata": {},
   "source": [
    "**TODO** How to \"plot the first two principal component score vectors\"? We can't plot actual vectors (i.e., lines and arrow heads) on the actual data, since the data is 50-D. Are we just doing a scatter plot? If yes, what is this showing us? Or, perhaps the seaborn plot below is actually what's being asked for, since the text above says to use a different color?"
   ]
  },
  {
   "cell_type": "markdown",
   "metadata": {},
   "source": [
    "**TODO** Make sure I figure out how to generate a PDF w/ color. Or, I can update the plot to use different symbols for each class?"
   ]
  },
  {
   "cell_type": "code",
   "execution_count": 83,
   "metadata": {
    "collapsed": false
   },
   "outputs": [],
   "source": [
    "d_train_values = d.values[:, 1:51].astype('float')\n",
    "\n",
    "pca = PCA(2, svd_solver='randomized')\n",
    "pca.fit(d_train_values)\n",
    "values_PCA = pca.transform(d_train_values)"
   ]
  },
  {
   "cell_type": "code",
   "execution_count": 84,
   "metadata": {
    "collapsed": false
   },
   "outputs": [
    {
     "data": {
      "text/plain": [
       "((2, 50), (60, 2))"
      ]
     },
     "execution_count": 84,
     "metadata": {},
     "output_type": "execute_result"
    }
   ],
   "source": [
    "pca.components_.shape, values_PCA.shape"
   ]
  },
  {
   "cell_type": "code",
   "execution_count": 85,
   "metadata": {
    "collapsed": false
   },
   "outputs": [
    {
     "data": {
      "text/plain": [
       "(array([ 0.21957347,  0.13022934,  0.13772483,  0.11653723,  0.1424797 ,\n",
       "         0.17930894,  0.18342521,  0.06586374,  0.14765893,  0.11924106,\n",
       "         0.09762461,  0.08877102,  0.1403092 ,  0.11326038,  0.15899123,\n",
       "         0.15566398,  0.07254617,  0.10084683,  0.17290335,  0.15706983,\n",
       "         0.14447316,  0.11541762,  0.17974385,  0.11474687,  0.10014615,\n",
       "         0.12286963,  0.06984987,  0.13089033,  0.21251058,  0.17620961,\n",
       "         0.12810629,  0.2006094 ,  0.1128996 ,  0.16876802,  0.11168352,\n",
       "         0.12226813,  0.11655641,  0.05631946,  0.13714304,  0.02011967,\n",
       "         0.15306462,  0.14420472,  0.07644488,  0.10919152,  0.15427254,\n",
       "         0.15146642,  0.13909582,  0.28003792,  0.1233559 ,  0.14274408]),\n",
       " array([-0.14398213, -0.08018011,  0.06039699,  0.00604955,  0.09470047,\n",
       "         0.01782014, -0.1616673 ,  0.03752533,  0.11722224, -0.08067206,\n",
       "        -0.04700837, -0.00528352,  0.09121206,  0.149174  , -0.01027233,\n",
       "         0.213369  , -0.04899706,  0.10695092,  0.10209424, -0.12724082,\n",
       "        -0.19681991, -0.12617741, -0.03867026, -0.04473335,  0.19930249,\n",
       "         0.28972334,  0.06961215, -0.15724634,  0.04052132,  0.06829443,\n",
       "        -0.24360613, -0.11037302,  0.04413066, -0.0574853 , -0.19421333,\n",
       "         0.16947705,  0.02207223,  0.21786969, -0.03615682, -0.16266599,\n",
       "         0.23896404, -0.19423372,  0.15119967, -0.03915075, -0.3027682 ,\n",
       "         0.28653525,  0.02614605, -0.08537708, -0.03140146,  0.23364743]))"
      ]
     },
     "execution_count": 85,
     "metadata": {},
     "output_type": "execute_result"
    }
   ],
   "source": [
    "pca.components_[0], pca.components_[1]"
   ]
  },
  {
   "cell_type": "markdown",
   "metadata": {},
   "source": [
    "**TODO** I don't think i need this at all."
   ]
  },
  {
   "cell_type": "code",
   "execution_count": 86,
   "metadata": {
    "collapsed": false
   },
   "outputs": [
    {
     "data": {
      "text/plain": [
       "<matplotlib.collections.PathCollection at 0x119559208>"
      ]
     },
     "execution_count": 86,
     "metadata": {},
     "output_type": "execute_result"
    },
    {
     "data": {
      "image/png": "[encoded data removed]",
      "text/plain": [
       "<matplotlib.figure.Figure at 0x118e14a90>"
      ]
     },
     "metadata": {},
     "output_type": "display_data"
    }
   ],
   "source": [
    "plt.scatter(pca.components_[0], pca.components_[1])"
   ]
  },
  {
   "cell_type": "code",
   "execution_count": 87,
   "metadata": {
    "collapsed": false
   },
   "outputs": [],
   "source": [
    "# add PCA values to the dataframe\n",
    "d['PCA1'] = values_PCA[:, 0]\n",
    "d['PCA2'] = values_PCA[:, 1]"
   ]
  },
  {
   "cell_type": "code",
   "execution_count": 88,
   "metadata": {
    "collapsed": false
   },
   "outputs": [
    {
     "data": {
      "text/plain": [
       "<seaborn.axisgrid.FacetGrid at 0x118db6438>"
      ]
     },
     "execution_count": 88,
     "metadata": {},
     "output_type": "execute_result"
    },
    {
     "data": {
      "image/png": "[encoded data removed]",
      "text/plain": [
       "<matplotlib.figure.Figure at 0x118db6240>"
      ]
     },
     "metadata": {},
     "output_type": "display_data"
    }
   ],
   "source": [
    "sns.lmplot(\"PCA1\", \"PCA2\", hue=\"Class\", markers=[\"o\",\"x\",\"+\"], data=d, fit_reg=False)"
   ]
  },
  {
   "cell_type": "markdown",
   "metadata": {},
   "source": [
    "\"c) Perform K-means clustering of the observations with K = 3. How well do the clusters that you obtained in K-means clustering compare to the true class labels? Hint: You can use the value counts() function in the pandas package in Python to compare the true class labels to the class labels obtained by clustering. Be careful how you interpret the results: K-means clustering will arbitrarily number the clusters, so you cannot simply check whether the true class labels and clustering labels are the same.\""
   ]
  },
  {
   "cell_type": "code",
   "execution_count": 89,
   "metadata": {
    "collapsed": false
   },
   "outputs": [
    {
     "data": {
      "text/html": [
       "<div>\n",
       "<table border=\"1\" class=\"dataframe\">\n",
       "  <thead>\n",
       "    <tr style=\"text-align: right;\">\n",
       "      <th></th>\n",
       "      <th>Class</th>\n",
       "      <th>0</th>\n",
       "      <th>1</th>\n",
       "      <th>2</th>\n",
       "      <th>3</th>\n",
       "      <th>4</th>\n",
       "      <th>5</th>\n",
       "      <th>6</th>\n",
       "      <th>7</th>\n",
       "      <th>8</th>\n",
       "      <th>...</th>\n",
       "      <th>42</th>\n",
       "      <th>43</th>\n",
       "      <th>44</th>\n",
       "      <th>45</th>\n",
       "      <th>46</th>\n",
       "      <th>47</th>\n",
       "      <th>48</th>\n",
       "      <th>49</th>\n",
       "      <th>PCA1</th>\n",
       "      <th>PCA2</th>\n",
       "    </tr>\n",
       "  </thead>\n",
       "  <tbody>\n",
       "    <tr>\n",
       "      <th>0</th>\n",
       "      <td>A</td>\n",
       "      <td>-1.207093</td>\n",
       "      <td>1.318640</td>\n",
       "      <td>-0.222457</td>\n",
       "      <td>0.891268</td>\n",
       "      <td>0.347184</td>\n",
       "      <td>1.234023</td>\n",
       "      <td>-0.181576</td>\n",
       "      <td>-0.709227</td>\n",
       "      <td>0.460359</td>\n",
       "      <td>...</td>\n",
       "      <td>0.533404</td>\n",
       "      <td>0.509502</td>\n",
       "      <td>-1.155910</td>\n",
       "      <td>0.038744</td>\n",
       "      <td>1.376550</td>\n",
       "      <td>-3.041708</td>\n",
       "      <td>-0.376492</td>\n",
       "      <td>-1.804077</td>\n",
       "      <td>-3.802184</td>\n",
       "      <td>0.773169</td>\n",
       "    </tr>\n",
       "    <tr>\n",
       "      <th>1</th>\n",
       "      <td>A</td>\n",
       "      <td>-1.331451</td>\n",
       "      <td>-0.259216</td>\n",
       "      <td>-0.880494</td>\n",
       "      <td>0.634753</td>\n",
       "      <td>0.451302</td>\n",
       "      <td>-0.867397</td>\n",
       "      <td>0.141717</td>\n",
       "      <td>0.540076</td>\n",
       "      <td>0.525779</td>\n",
       "      <td>...</td>\n",
       "      <td>0.188515</td>\n",
       "      <td>-0.353831</td>\n",
       "      <td>-0.089548</td>\n",
       "      <td>-0.463684</td>\n",
       "      <td>-1.895688</td>\n",
       "      <td>0.246319</td>\n",
       "      <td>1.176609</td>\n",
       "      <td>0.142395</td>\n",
       "      <td>-5.127393</td>\n",
       "      <td>-1.668851</td>\n",
       "    </tr>\n",
       "    <tr>\n",
       "      <th>2</th>\n",
       "      <td>A</td>\n",
       "      <td>-0.176319</td>\n",
       "      <td>-0.041857</td>\n",
       "      <td>-0.172353</td>\n",
       "      <td>-0.489712</td>\n",
       "      <td>0.357624</td>\n",
       "      <td>-0.484906</td>\n",
       "      <td>-0.319954</td>\n",
       "      <td>0.469427</td>\n",
       "      <td>2.839946</td>\n",
       "      <td>...</td>\n",
       "      <td>-0.753055</td>\n",
       "      <td>-1.037159</td>\n",
       "      <td>0.671379</td>\n",
       "      <td>0.031753</td>\n",
       "      <td>0.037037</td>\n",
       "      <td>-0.582691</td>\n",
       "      <td>1.986515</td>\n",
       "      <td>0.739770</td>\n",
       "      <td>-2.093811</td>\n",
       "      <td>-2.254474</td>\n",
       "    </tr>\n",
       "  </tbody>\n",
       "</table>\n",
       "<p>3 rows × 53 columns</p>\n",
       "</div>"
      ],
      "text/plain": [
       "  Class         0         1         2         3         4         5         6  \\\n",
       "0     A -1.207093  1.318640 -0.222457  0.891268  0.347184  1.234023 -0.181576   \n",
       "1     A -1.331451 -0.259216 -0.880494  0.634753  0.451302 -0.867397  0.141717   \n",
       "2     A -0.176319 -0.041857 -0.172353 -0.489712  0.357624 -0.484906 -0.319954   \n",
       "\n",
       "          7         8    ...           42        43        44        45  \\\n",
       "0 -0.709227  0.460359    ...     0.533404  0.509502 -1.155910  0.038744   \n",
       "1  0.540076  0.525779    ...     0.188515 -0.353831 -0.089548 -0.463684   \n",
       "2  0.469427  2.839946    ...    -0.753055 -1.037159  0.671379  0.031753   \n",
       "\n",
       "         46        47        48        49      PCA1      PCA2  \n",
       "0  1.376550 -3.041708 -0.376492 -1.804077 -3.802184  0.773169  \n",
       "1 -1.895688  0.246319  1.176609  0.142395 -5.127393 -1.668851  \n",
       "2  0.037037 -0.582691  1.986515  0.739770 -2.093811 -2.254474  \n",
       "\n",
       "[3 rows x 53 columns]"
      ]
     },
     "execution_count": 89,
     "metadata": {},
     "output_type": "execute_result"
    }
   ],
   "source": [
    "d[:3]"
   ]
  },
  {
   "cell_type": "code",
   "execution_count": 90,
   "metadata": {
    "collapsed": false
   },
   "outputs": [
    {
     "data": {
      "text/plain": [
       "(60, 50)"
      ]
     },
     "execution_count": 90,
     "metadata": {},
     "output_type": "execute_result"
    }
   ],
   "source": [
    "d.values[:, 1:51].shape"
   ]
  },
  {
   "cell_type": "code",
   "execution_count": 91,
   "metadata": {
    "collapsed": false
   },
   "outputs": [
    {
     "data": {
      "text/plain": [
       "(60, 50)"
      ]
     },
     "execution_count": 91,
     "metadata": {},
     "output_type": "execute_result"
    }
   ],
   "source": [
    "d_train_values.shape"
   ]
  },
  {
   "cell_type": "code",
   "execution_count": 92,
   "metadata": {
    "collapsed": false
   },
   "outputs": [
    {
     "data": {
      "text/plain": [
       "KMeans(algorithm='auto', copy_x=True, init='k-means++', max_iter=300,\n",
       "    n_clusters=3, n_init=10, n_jobs=1, precompute_distances='auto',\n",
       "    random_state=0, tol=0.0001, verbose=0)"
      ]
     },
     "execution_count": 92,
     "metadata": {},
     "output_type": "execute_result"
    }
   ],
   "source": [
    "k = KMeans(n_clusters=3, random_state=0)\n",
    "k.fit(d_train_values)"
   ]
  },
  {
   "cell_type": "code",
   "execution_count": 93,
   "metadata": {
    "collapsed": false
   },
   "outputs": [
    {
     "data": {
      "text/plain": [
       "array([0, 0, 1, 0, 0, 0, 0, 0, 0, 0, 0, 0, 0, 0, 1, 0, 0, 0, 0, 0, 2, 1, 1,\n",
       "       1, 1, 2, 1, 1, 1, 2, 1, 0, 1, 1, 2, 1, 2, 1, 0, 1, 2, 2, 2, 2, 2, 2,\n",
       "       2, 2, 2, 2, 2, 2, 2, 2, 2, 2, 2, 2, 2, 2], dtype=int32)"
      ]
     },
     "execution_count": 93,
     "metadata": {},
     "output_type": "execute_result"
    }
   ],
   "source": [
    "y_kmeans = k.predict(d_train_values)\n",
    "y_kmeans"
   ]
  },
  {
   "cell_type": "code",
   "execution_count": 94,
   "metadata": {
    "collapsed": false
   },
   "outputs": [
    {
     "data": {
      "text/plain": [
       "2    25\n",
       "0    20\n",
       "1    15\n",
       "dtype: int64"
      ]
     },
     "execution_count": 94,
     "metadata": {},
     "output_type": "execute_result"
    }
   ],
   "source": [
    "pd.Series(y_kmeans).value_counts()"
   ]
  },
  {
   "cell_type": "code",
   "execution_count": 95,
   "metadata": {
    "collapsed": false
   },
   "outputs": [],
   "source": [
    "# add k=3 cluster predicted values to the dataframe\n",
    "d['K3Cluster'] = y_kmeans"
   ]
  },
  {
   "cell_type": "code",
   "execution_count": 96,
   "metadata": {
    "collapsed": false
   },
   "outputs": [
    {
     "data": {
      "text/plain": [
       "<seaborn.axisgrid.FacetGrid at 0x119f65d30>"
      ]
     },
     "execution_count": 96,
     "metadata": {},
     "output_type": "execute_result"
    },
    {
     "data": {
      "image/png": "[encoded data removed]",
      "text/plain": [
       "<matplotlib.figure.Figure at 0x119f1d208>"
      ]
     },
     "metadata": {},
     "output_type": "display_data"
    }
   ],
   "source": [
    "sns.lmplot(\"PCA1\", \"PCA2\", hue=\"Class\", col=\"K3Cluster\", markers=[\"o\",\"x\",\"+\"], data=d, fit_reg=False)"
   ]
  },
  {
   "cell_type": "markdown",
   "metadata": {},
   "source": [
    "\"d) Perform K-means clustering with K = 2. Describe your results.\""
   ]
  },
  {
   "cell_type": "code",
   "execution_count": 97,
   "metadata": {
    "collapsed": true
   },
   "outputs": [],
   "source": [
    "def cluster_with_kmeans_and_plot(n_clusters, X, name):\n",
    "    k = KMeans(n_clusters=n_clusters, random_state=0)\n",
    "    k.fit(X)\n",
    "    y_kmeans = k.predict(X)\n",
    "    d[name] = y_kmeans\n",
    "    sns.lmplot(\"PCA1\", \"PCA2\", hue=\"Class\", col=name, markers=[\"o\",\"x\",\"+\"], data=d, fit_reg=False)"
   ]
  },
  {
   "cell_type": "code",
   "execution_count": 98,
   "metadata": {
    "collapsed": false
   },
   "outputs": [
    {
     "data": {
      "image/png": "[encoded data removed]",
      "text/plain": [
       "<matplotlib.figure.Figure at 0x11a1af710>"
      ]
     },
     "metadata": {},
     "output_type": "display_data"
    }
   ],
   "source": [
    "cluster_with_kmeans_and_plot(2, d_train_values, \"K2Cluster\")"
   ]
  },
  {
   "cell_type": "markdown",
   "metadata": {},
   "source": [
    "\"e) Now perform K-means clustering with K = 4, and describe your results.\""
   ]
  },
  {
   "cell_type": "code",
   "execution_count": 99,
   "metadata": {
    "collapsed": false
   },
   "outputs": [
    {
     "data": {
      "image/png": "[encoded data removed]",
      "text/plain": [
       "<matplotlib.figure.Figure at 0x11a2a7048>"
      ]
     },
     "metadata": {},
     "output_type": "display_data"
    }
   ],
   "source": [
    "cluster_with_kmeans_and_plot(4, d_train_values, \"K4Cluster\")"
   ]
  },
  {
   "cell_type": "markdown",
   "metadata": {},
   "source": [
    "\"f) Now perform K-means clustering with K = 3 on the first two principal component score vectors, rather than on the raw data. That is, perform K-means clustering on the 60 × 2 matrix of which the first column is the first principal component score vector, and the second column is the second principal component score vector. Comment on the results.\""
   ]
  },
  {
   "cell_type": "code",
   "execution_count": 100,
   "metadata": {
    "collapsed": false
   },
   "outputs": [
    {
     "data": {
      "text/plain": [
       "(2, 50)"
      ]
     },
     "execution_count": 100,
     "metadata": {},
     "output_type": "execute_result"
    }
   ],
   "source": [
    "pca.components_.shape"
   ]
  },
  {
   "cell_type": "markdown",
   "metadata": {},
   "source": [
    "**TODO** Not sure what this is asking. Above, I clustered the observations - i.e., I clustered a 60x2 matrix. The first two principal component score vectors are a 2x50 matrix, not 60x2. In the 2x50 matrix, I think, each row is a principal component and each column (50 of them) is a coefficient that adjusts the influence of that particular feature in the particular principal component. How would we cluster based on these?\n",
    "\n",
    "I suppose we could flip the 2x50 to 50x2 and cluster that way... giving us 50 observations?"
   ]
  },
  {
   "cell_type": "code",
   "execution_count": 34,
   "metadata": {
    "collapsed": true
   },
   "outputs": [],
   "source": [
    "k = KMeans(n_clusters=2, random_state=0)\n",
    "k.fit(pca.components_.T)\n",
    "y_kmeans = k.predict(pca.components_.T)"
   ]
  },
  {
   "cell_type": "code",
   "execution_count": 35,
   "metadata": {
    "collapsed": false
   },
   "outputs": [
    {
     "data": {
      "text/plain": [
       "array([0, 0, 1, 0, 0, 0, 0, 0, 0, 0, 1, 0, 0, 1, 0, 1, 1, 0, 0, 0, 0, 0, 0,\n",
       "       0, 0, 0, 0, 1, 0, 0, 0, 0, 0, 0, 1, 0, 0, 1, 0, 1, 0, 0, 1, 1, 0, 1,\n",
       "       0, 0, 0, 0], dtype=int32)"
      ]
     },
     "execution_count": 35,
     "metadata": {},
     "output_type": "execute_result"
    }
   ],
   "source": [
    "y_kmeans"
   ]
  },
  {
   "cell_type": "code",
   "execution_count": null,
   "metadata": {
    "collapsed": true
   },
   "outputs": [],
   "source": []
  },
  {
   "cell_type": "markdown",
   "metadata": {},
   "source": [
    "**TODO** Give kmeans the PCA1 and PCA2 data - this is a 60x2 matrix. I should get the same clusters>"
   ]
  },
  {
   "cell_type": "markdown",
   "metadata": {},
   "source": [
    "\"g) Use the StandardScaler function in sklearn.preprocessing to scale each variable to have standard deviation one. Then perform K-means clustering with K = 3 on the scaled data. How do these results compare to those obtained in (b)? Explain.\""
   ]
  },
  {
   "cell_type": "markdown",
   "metadata": {},
   "source": [
    "My note: while we should expect each to have a stddev of roughly one because that's how we defined the random data that we got, it won't be exactly one just because of randomness. Nonetheless, I can see in the actual data that the existing stddevs _are_ pretty close to one, so I don't expect to see much change. Also, I think I'd choose to use the scale function instead of StandardScaler, myself, but I'll do this with StandardScaler since that's what the homework asks for."
   ]
  },
  {
   "cell_type": "code",
   "execution_count": 36,
   "metadata": {
    "collapsed": false
   },
   "outputs": [
    {
     "data": {
      "text/plain": [
       "[1.1373500514402355,\n",
       " 1.0103310278040383,\n",
       " 0.94320407782324656,\n",
       " 0.86302641585045348,\n",
       " 1.1809887992077421]"
      ]
     },
     "execution_count": 36,
     "metadata": {},
     "output_type": "execute_result"
    }
   ],
   "source": [
    "[np.std(d_train_values[:,i]) for i in range(0,50)][:5]"
   ]
  },
  {
   "cell_type": "code",
   "execution_count": 37,
   "metadata": {
    "collapsed": false
   },
   "outputs": [
    {
     "data": {
      "text/plain": [
       "StandardScaler(copy=True, with_mean=False, with_std=True)"
      ]
     },
     "execution_count": 37,
     "metadata": {},
     "output_type": "execute_result"
    }
   ],
   "source": [
    "scaler = preprocessing.StandardScaler(with_mean=False, with_std=True).fit(d_train_values)\n",
    "scaler"
   ]
  },
  {
   "cell_type": "code",
   "execution_count": 38,
   "metadata": {
    "collapsed": false
   },
   "outputs": [
    {
     "data": {
      "text/plain": [
       "[1.0000000000000002,\n",
       " 0.99999999999999989,\n",
       " 1.0000000000000002,\n",
       " 0.99999999999999989,\n",
       " 0.99999999999999989]"
      ]
     },
     "execution_count": 38,
     "metadata": {},
     "output_type": "execute_result"
    }
   ],
   "source": [
    "d_train_values_std = scaler.transform(d_train_values)\n",
    "[np.std(d_train_values_std[:,i]) for i in range(0,50)][:5]"
   ]
  },
  {
   "cell_type": "code",
   "execution_count": 39,
   "metadata": {
    "collapsed": false
   },
   "outputs": [
    {
     "data": {
      "image/png": "[encoded data removed]",
      "text/plain": [
       "<matplotlib.figure.Figure at 0x118ba2a58>"
      ]
     },
     "metadata": {},
     "output_type": "display_data"
    }
   ],
   "source": [
    "cluster_with_kmeans_and_plot(3, d_train_values_std, \"K3ClusterStd\")"
   ]
  },
  {
   "cell_type": "markdown",
   "metadata": {},
   "source": [
    "# Exercise Three"
   ]
  },
  {
   "cell_type": "markdown",
   "metadata": {},
   "source": [
    "\"a) Use the numpy.random.normal() function to generate a predictor X of length n = 100, as well as a noise vector ε of length n = 100.\""
   ]
  },
  {
   "cell_type": "code",
   "execution_count": 101,
   "metadata": {
    "collapsed": true
   },
   "outputs": [],
   "source": [
    "np.reshape?"
   ]
  },
  {
   "cell_type": "code",
   "execution_count": 40,
   "metadata": {
    "collapsed": false
   },
   "outputs": [
    {
     "data": {
      "text/plain": [
       "((100,), (100,))"
      ]
     },
     "execution_count": 40,
     "metadata": {},
     "output_type": "execute_result"
    }
   ],
   "source": [
    "X = np.random.normal(size=100)\n",
    "e = np.random.normal(size=100)\n",
    "(X.shape, e.shape)"
   ]
  },
  {
   "cell_type": "markdown",
   "metadata": {},
   "source": [
    "\"b) Generate a response vector Y of length n = 100 according to the model Y =β0 +β1X+β2X2 +β3X3 +ε,\n",
    "where β0, β1, β2, and β3 are constants of your choice. Here superscripts denote powers of X.\""
   ]
  },
  {
   "cell_type": "code",
   "execution_count": 41,
   "metadata": {
    "collapsed": true
   },
   "outputs": [],
   "source": [
    "b0 = 27\n",
    "b1 = 11\n",
    "b2 = 5\n",
    "b3 = 3"
   ]
  },
  {
   "cell_type": "code",
   "execution_count": 42,
   "metadata": {
    "collapsed": false
   },
   "outputs": [
    {
     "data": {
      "text/plain": [
       "(100,)"
      ]
     },
     "execution_count": 42,
     "metadata": {},
     "output_type": "execute_result"
    }
   ],
   "source": [
    "y = b0 + (b1*X) + (b2*(X**2)) + (b3*(X**3)) + e\n",
    "y.shape"
   ]
  },
  {
   "cell_type": "code",
   "execution_count": 43,
   "metadata": {
    "collapsed": false
   },
   "outputs": [
    {
     "data": {
      "text/plain": [
       "(100, 1)"
      ]
     },
     "execution_count": 43,
     "metadata": {},
     "output_type": "execute_result"
    }
   ],
   "source": [
    "# and we'll make X a 100,1 array rather than a vector, for better use w/ sklearn functions\n",
    "X = X[:, np.newaxis]\n",
    "X.shape"
   ]
  },
  {
   "cell_type": "markdown",
   "metadata": {},
   "source": [
    "\"c) Now fit a lasso model to the simulated data, using X, X2, . . . , X10 as predictors. Use cross-validation to select the optimal value of λ. Create plots of the cross-validation error as a function of λ. Report the resulting coefficient estimates, and discuss the results obtained.\""
   ]
  },
  {
   "cell_type": "code",
   "execution_count": 44,
   "metadata": {
    "collapsed": false
   },
   "outputs": [
    {
     "data": {
      "text/plain": [
       "array([-3.15017554, -3.01731447, -2.88445339, -2.75159232, -2.61873124,\n",
       "       -2.48587017, -2.35300909, -2.22014802, -2.08728694, -1.95442587,\n",
       "       -1.82156479, -1.68870372, -1.55584265, -1.42298157, -1.2901205 ,\n",
       "       -1.15725942, -1.02439835, -0.89153727, -0.7586762 , -0.62581512,\n",
       "       -0.49295405, -0.36009297, -0.2272319 , -0.09437082,  0.03849025,\n",
       "        0.17135133,  0.3042124 ,  0.43707348,  0.56993455,  0.70279563,\n",
       "        0.8356567 ,  0.96851777,  1.10137885,  1.23423992,  1.367101  ,\n",
       "        1.49996207,  1.63282315,  1.76568422,  1.8985453 ,  2.03140637,\n",
       "        2.16426745,  2.29712852,  2.4299896 ,  2.56285067,  2.69571175,\n",
       "        2.82857282,  2.9614339 ,  3.09429497,  3.22715605,  3.36001712])"
      ]
     },
     "execution_count": 44,
     "metadata": {},
     "output_type": "execute_result"
    }
   ],
   "source": [
    "x_plot = np.linspace(X.min(), X.max())\n",
    "x_plot"
   ]
  },
  {
   "cell_type": "code",
   "execution_count": 51,
   "metadata": {
    "collapsed": false
   },
   "outputs": [
    {
     "data": {
      "text/plain": [
       "<matplotlib.collections.PathCollection at 0x1199e0e10>"
      ]
     },
     "execution_count": 51,
     "metadata": {},
     "output_type": "execute_result"
    },
    {
     "data": {
      "image/png": "[encoded data removed]",
      "text/plain": [
       "<matplotlib.figure.Figure at 0x119972978>"
      ]
     },
     "metadata": {},
     "output_type": "display_data"
    }
   ],
   "source": [
    "plt.scatter(X[:,0], y)"
   ]
  },
  {
   "cell_type": "code",
   "execution_count": 46,
   "metadata": {
    "collapsed": false
   },
   "outputs": [
    {
     "data": {
      "text/plain": [
       "[(-1.0543776559909372, 17.9095543165216),\n",
       " (1.1215042179230654, 52.361105900209353),\n",
       " (-0.51418673408091209, 21.297745292114119),\n",
       " (-0.1695946446644733, 24.545960663206028),\n",
       " (-0.23902837756531112, 25.204683063940067),\n",
       " (-0.17309766644123806, 25.753557686379406),\n",
       " (1.1954325662251213, 53.225142246002711),\n",
       " (1.2277236695920934, 53.820932970449839),\n",
       " (-0.083574564318684902, 27.772381400212002),\n",
       " (-0.056983462888363368, 24.937315273225995),\n",
       " (-1.1940615099620731, 16.503091119145108),\n",
       " (0.2374949225103915, 31.29025909052902),\n",
       " (-2.1158009060911045, -1.3448839279247231),\n",
       " (-0.52761041089465432, 25.133505381890078),\n",
       " (1.9349336571617495, 88.563277639541951),\n",
       " (0.72556739009573445, 38.982990476999333),\n",
       " (-1.0256426741360949, 18.345178286665718),\n",
       " (0.23409365484130568, 29.077975550322471),\n",
       " (1.8168943702515081, 81.700175836341103),\n",
       " (-0.4398759616281348, 22.823193068905926),\n",
       " (-0.11520640422582944, 25.873244942961392),\n",
       " (-0.91889903670622397, 18.568171548042091),\n",
       " (1.2034461636787819, 52.455979150662273),\n",
       " (-1.2082053628014089, 17.707218950225226),\n",
       " (-1.2797385679291233, 16.400755168286555),\n",
       " (1.2641598330426793, 55.378020707578948),\n",
       " (0.48152008254155881, 33.581681538699478),\n",
       " (0.65154163794647146, 37.745452318847839),\n",
       " (-1.6943167782715338, 8.0528729295591823),\n",
       " (0.10505637080011603, 27.095569214557106),\n",
       " (0.98298075120983264, 45.143000840632773),\n",
       " (0.27009519887869388, 31.250479813669742),\n",
       " (1.2259380385882845, 54.013117592678178),\n",
       " (-0.6707533077674569, 20.830877999232662),\n",
       " (0.49173887784564879, 31.000562850289548),\n",
       " (0.12997044171159433, 28.605395298262717),\n",
       " (0.85127571225187848, 42.509749971890805),\n",
       " (-0.16513482599863061, 25.177739486181782),\n",
       " (0.38283229264583951, 33.939055644243254),\n",
       " (-1.1211187223705086, 16.377644723055685),\n",
       " (0.38745878775761683, 31.768656738500432),\n",
       " (0.80845903173975264, 39.956160725498876),\n",
       " (2.6049334425604536, 143.24096605167782),\n",
       " (-1.0104489328092696, 18.298292686051219),\n",
       " (1.2480241542425099, 54.798800433441613),\n",
       " (-0.86695661152996339, 19.410912753320268),\n",
       " (0.12620223924985099, 29.643446468947459),\n",
       " (-1.9062767776463536, 3.713163050854027),\n",
       " (1.153981852947787, 49.780792005809992),\n",
       " (0.56726247525499485, 35.317944517157208),\n",
       " (-0.58138000869936135, 21.678900412933462),\n",
       " (1.2492940777701445, 55.39203311844728),\n",
       " (-0.37684966178594992, 23.842701599817637),\n",
       " (0.28110155426717348, 31.067342702735839),\n",
       " (1.1801575099021568, 52.364329554444964),\n",
       " (0.27265837225042466, 30.361622873019378),\n",
       " (0.064513406960405556, 27.368685621397379),\n",
       " (0.27244163516766312, 32.277225044780074),\n",
       " (0.37510412309098146, 31.55917090392019),\n",
       " (-0.77285889079548775, 20.874539306706609),\n",
       " (-3.1501755422289026, -50.350560988689374),\n",
       " (0.83891295650041431, 39.771934180024751),\n",
       " (0.25690750550808028, 29.336334474217828),\n",
       " (-1.2797443496246019, 14.777543764420489),\n",
       " (-0.66104992809932395, 23.785433935577291),\n",
       " (0.35498625475940959, 30.912697053161434),\n",
       " (0.39800955311516573, 33.416890077992115),\n",
       " (0.41908112218379606, 33.975863850372754),\n",
       " (-0.055983918013591968, 26.337900071607727),\n",
       " (0.26976263475791051, 30.466534739448861),\n",
       " (0.49019269201789151, 31.447210936941115),\n",
       " (-1.2353110872844133, 15.437901922049553),\n",
       " (3.3600171202316171, 235.50436510571168),\n",
       " (-0.1686553599103168, 24.962462615255586),\n",
       " (-0.322867000460067, 24.53429894396541),\n",
       " (1.8373347839283602, 83.747938682458695),\n",
       " (2.0966895408513628, 101.5306433871972),\n",
       " (-0.25669612061550795, 24.840839594791017),\n",
       " (-0.61640721874423443, 20.906662458986954),\n",
       " (0.20029440962722064, 31.058604628745552),\n",
       " (0.22141318182499406, 31.022129253343785),\n",
       " (1.1938401156303657, 51.65224580563526),\n",
       " (0.90582420222984616, 44.370762749946138),\n",
       " (-0.98588375046327792, 19.74750780189007),\n",
       " (1.1946143156215507, 51.874508651616914),\n",
       " (-0.15237522992419925, 26.775682641639825),\n",
       " (0.47773878471222547, 34.037279484823088),\n",
       " (0.6862071834126896, 38.147050685714419),\n",
       " (0.56565832644819036, 35.911709825490561),\n",
       " (-0.76843800925226335, 19.752796146453559),\n",
       " (0.19633472022340984, 30.586880578732011),\n",
       " (1.8783599929139294, 85.034882038593224),\n",
       " (-0.80648927527825065, 20.992719506523471),\n",
       " (0.4807674120294208, 34.334547271378433),\n",
       " (-0.75094341059404945, 21.428438145300635),\n",
       " (-0.57901522116396398, 21.320019042327182),\n",
       " (-0.51166031822796387, 22.504311890235677),\n",
       " (0.077540713705522429, 27.769582705407476),\n",
       " (1.6953506580578257, 75.068457857657606),\n",
       " (-0.43605928383372949, 22.72601666620222)]"
      ]
     },
     "execution_count": 46,
     "metadata": {},
     "output_type": "execute_result"
    }
   ],
   "source": [
    "list(zip(X[:, 0], y))"
   ]
  },
  {
   "cell_type": "code",
   "execution_count": null,
   "metadata": {
    "collapsed": true
   },
   "outputs": [],
   "source": []
  },
  {
   "cell_type": "code",
   "execution_count": 47,
   "metadata": {
    "collapsed": false
   },
   "outputs": [
    {
     "data": {
      "text/plain": [
       "['1',\n",
       " 'x0',\n",
       " 'x0^2',\n",
       " 'x0^3',\n",
       " 'x0^4',\n",
       " 'x0^5',\n",
       " 'x0^6',\n",
       " 'x0^7',\n",
       " 'x0^8',\n",
       " 'x0^9',\n",
       " 'x0^10']"
      ]
     },
     "execution_count": 47,
     "metadata": {},
     "output_type": "execute_result"
    }
   ],
   "source": [
    "foo = PolynomialFeatures(degree=10).fit(X)\n",
    "foo.get_feature_names()"
   ]
  },
  {
   "cell_type": "code",
   "execution_count": 48,
   "metadata": {
    "collapsed": false
   },
   "outputs": [
    {
     "data": {
      "text/plain": [
       "(100, 11)"
      ]
     },
     "execution_count": 48,
     "metadata": {},
     "output_type": "execute_result"
    }
   ],
   "source": [
    "foo.transform(X).shape"
   ]
  },
  {
   "cell_type": "code",
   "execution_count": 49,
   "metadata": {
    "collapsed": false
   },
   "outputs": [
    {
     "data": {
      "text/plain": [
       "array([[  1.00000000e+00,  -1.05437766e+00,   1.11171224e+00, ...,\n",
       "          1.52745896e+00,  -1.61051860e+00,   1.69809483e+00],\n",
       "       [  1.00000000e+00,   1.12150422e+00,   1.25777171e+00, ...,\n",
       "          2.50269134e+00,   2.80677889e+00,   3.14781436e+00],\n",
       "       [  1.00000000e+00,  -5.14186734e-01,   2.64387998e-01, ...,\n",
       "          4.88615165e-03,  -2.51239436e-03,   1.29183985e-03],\n",
       "       ..., \n",
       "       [  1.00000000e+00,   7.75407137e-02,   6.01256228e-03, ...,\n",
       "          1.30688795e-09,   1.01337024e-10,   7.85774517e-12],\n",
       "       [  1.00000000e+00,   1.69535066e+00,   2.87421385e+00, ...,\n",
       "          6.82458604e+01,   1.15700664e+02,   1.96153197e+02],\n",
       "       [  1.00000000e+00,  -4.36059284e-01,   1.90147699e-01, ...,\n",
       "          1.30726700e-03,  -5.70045911e-04,   2.48573812e-04]])"
      ]
     },
     "execution_count": 49,
     "metadata": {},
     "output_type": "execute_result"
    }
   ],
   "source": [
    "foo.transform(X)"
   ]
  },
  {
   "cell_type": "code",
   "execution_count": 50,
   "metadata": {
    "collapsed": false
   },
   "outputs": [
    {
     "data": {
      "text/plain": [
       "array([[ 1.69809483]])"
      ]
     },
     "execution_count": 50,
     "metadata": {},
     "output_type": "execute_result"
    }
   ],
   "source": [
    "X[:1]**10"
   ]
  },
  {
   "cell_type": "code",
   "execution_count": null,
   "metadata": {
    "collapsed": true
   },
   "outputs": [],
   "source": []
  },
  {
   "cell_type": "code",
   "execution_count": 54,
   "metadata": {
    "collapsed": false
   },
   "outputs": [
    {
     "data": {
      "text/plain": [
       "[1e-05, 0.0001, 0.001, 0.01, 0.1, 1, 10, 100, 1000, 10000]"
      ]
     },
     "execution_count": 54,
     "metadata": {},
     "output_type": "execute_result"
    }
   ],
   "source": [
    "lambda_vals"
   ]
  },
  {
   "cell_type": "code",
   "execution_count": null,
   "metadata": {
    "collapsed": true
   },
   "outputs": [],
   "source": []
  },
  {
   "cell_type": "code",
   "execution_count": null,
   "metadata": {
    "collapsed": true
   },
   "outputs": [],
   "source": []
  },
  {
   "cell_type": "code",
   "execution_count": null,
   "metadata": {
    "collapsed": true
   },
   "outputs": [],
   "source": []
  },
  {
   "cell_type": "code",
   "execution_count": 55,
   "metadata": {
    "collapsed": false
   },
   "outputs": [
    {
     "name": "stderr",
     "output_type": "stream",
     "text": [
      "/Users/andrewenfield/miniconda3/envs/data558/lib/python3.6/site-packages/sklearn/utils/validation.py:395: DeprecationWarning: Passing 1d arrays as data is deprecated in 0.17 and will raise ValueError in 0.19. Reshape your data either using X.reshape(-1, 1) if your data has a single feature or X.reshape(1, -1) if it contains a single sample.\n",
      "  DeprecationWarning)\n"
     ]
    },
    {
     "ename": "ValueError",
     "evalue": "X and y have inconsistent dimensions (1 != 100)",
     "output_type": "error",
     "traceback": [
      "\u001b[0;31m---------------------------------------------------------------------------\u001b[0m",
      "\u001b[0;31mValueError\u001b[0m                                Traceback (most recent call last)",
      "\u001b[0;32m<ipython-input-55-e22d63b64f4c>\u001b[0m in \u001b[0;36m<module>\u001b[0;34m()\u001b[0m\n\u001b[1;32m      1\u001b[0m \u001b[0mlasso\u001b[0m \u001b[0;34m=\u001b[0m \u001b[0mLassoCV\u001b[0m\u001b[0;34m(\u001b[0m\u001b[0malphas\u001b[0m\u001b[0;34m=\u001b[0m\u001b[0mlambda_vals\u001b[0m\u001b[0;34m,\u001b[0m \u001b[0mnormalize\u001b[0m\u001b[0;34m=\u001b[0m\u001b[0;32mTrue\u001b[0m\u001b[0;34m)\u001b[0m\u001b[0;34m\u001b[0m\u001b[0m\n\u001b[0;32m----> 2\u001b[0;31m \u001b[0mlasso\u001b[0m\u001b[0;34m.\u001b[0m\u001b[0mfit\u001b[0m\u001b[0;34m(\u001b[0m\u001b[0mX\u001b[0m\u001b[0;34m,\u001b[0m \u001b[0my\u001b[0m\u001b[0;34m)\u001b[0m\u001b[0;34m\u001b[0m\u001b[0m\n\u001b[0m\u001b[1;32m      3\u001b[0m \u001b[0mprint\u001b[0m\u001b[0;34m(\u001b[0m\u001b[0;34m'Estimated lambda ='\u001b[0m\u001b[0;34m,\u001b[0m \u001b[0mlasso\u001b[0m\u001b[0;34m.\u001b[0m\u001b[0malpha_\u001b[0m\u001b[0;34m)\u001b[0m\u001b[0;34m\u001b[0m\u001b[0m\n\u001b[1;32m      4\u001b[0m \u001b[0mprint\u001b[0m\u001b[0;34m(\u001b[0m\u001b[0;34m'Estimated coefficients ='\u001b[0m\u001b[0;34m,\u001b[0m \u001b[0mlasso\u001b[0m\u001b[0;34m.\u001b[0m\u001b[0mcoef_\u001b[0m\u001b[0;34m)\u001b[0m\u001b[0;34m\u001b[0m\u001b[0m\n\u001b[1;32m      5\u001b[0m \u001b[0mprint\u001b[0m\u001b[0;34m(\u001b[0m\u001b[0;34m'Estimated intercept ='\u001b[0m\u001b[0;34m,\u001b[0m \u001b[0mlasso\u001b[0m\u001b[0;34m.\u001b[0m\u001b[0mintercept_\u001b[0m\u001b[0;34m)\u001b[0m\u001b[0;34m\u001b[0m\u001b[0m\n",
      "\u001b[0;32m/Users/andrewenfield/miniconda3/envs/data558/lib/python3.6/site-packages/sklearn/linear_model/coordinate_descent.py\u001b[0m in \u001b[0;36mfit\u001b[0;34m(self, X, y)\u001b[0m\n\u001b[1;32m   1124\u001b[0m         \u001b[0;32mif\u001b[0m \u001b[0mX\u001b[0m\u001b[0;34m.\u001b[0m\u001b[0mshape\u001b[0m\u001b[0;34m[\u001b[0m\u001b[0;36m0\u001b[0m\u001b[0;34m]\u001b[0m \u001b[0;34m!=\u001b[0m \u001b[0my\u001b[0m\u001b[0;34m.\u001b[0m\u001b[0mshape\u001b[0m\u001b[0;34m[\u001b[0m\u001b[0;36m0\u001b[0m\u001b[0;34m]\u001b[0m\u001b[0;34m:\u001b[0m\u001b[0;34m\u001b[0m\u001b[0m\n\u001b[1;32m   1125\u001b[0m             raise ValueError(\"X and y have inconsistent dimensions (%d != %d)\"\n\u001b[0;32m-> 1126\u001b[0;31m                              % (X.shape[0], y.shape[0]))\n\u001b[0m\u001b[1;32m   1127\u001b[0m \u001b[0;34m\u001b[0m\u001b[0m\n\u001b[1;32m   1128\u001b[0m         \u001b[0;31m# All LinearModelCV parameters except 'cv' are acceptable\u001b[0m\u001b[0;34m\u001b[0m\u001b[0;34m\u001b[0m\u001b[0m\n",
      "\u001b[0;31mValueError\u001b[0m: X and y have inconsistent dimensions (1 != 100)"
     ]
    }
   ],
   "source": [
    "lasso = LassoCV(alphas=lambda_vals, normalize=True)\n",
    "lasso.fit(X, y)\n",
    "print('Estimated lambda =', lasso.alpha_)\n",
    "print('Estimated coefficients =', lasso.coef_)\n",
    "print('Estimated intercept =', lasso.intercept_)"
   ]
  },
  {
   "cell_type": "code",
   "execution_count": null,
   "metadata": {
    "collapsed": true
   },
   "outputs": [],
   "source": [
    "lambda_vals = [10**k for k in range(-5, 5)]\n",
    "# increasing max_iter from default of 1000 to ensure convergence (per\n",
    "# a warning that I'll get when it's the default), also setting \n",
    "# normalize to False as we've already standardized the data\n",
    "lasso = LassoCV(alphas=lambda_vals, normalize=False, fit_intercept=False, max_iter=3000)\n",
    "\n",
    "lasso.fit(X_train, y_train)\n",
    "print('Estimated lambda =', lasso.alpha_)\n",
    "print('Estimated coefficients =', lasso.coef_)\n",
    "print('Estimated intercept =', lasso.intercept_)"
   ]
  },
  {
   "cell_type": "markdown",
   "metadata": {},
   "source": [
    "\"d) Now generate a response vector Y according to the model Y = β0 + β7X7 + ε,\n",
    "and fit a lasso model. Discuss the results obtained.\""
   ]
  },
  {
   "cell_type": "code",
   "execution_count": null,
   "metadata": {
    "collapsed": true
   },
   "outputs": [],
   "source": []
  },
  {
   "cell_type": "code",
   "execution_count": null,
   "metadata": {
    "collapsed": true
   },
   "outputs": [],
   "source": []
  },
  {
   "cell_type": "code",
   "execution_count": null,
   "metadata": {
    "collapsed": true
   },
   "outputs": [],
   "source": []
  },
  {
   "cell_type": "markdown",
   "metadata": {},
   "source": [
    "# Exercise Four"
   ]
  },
  {
   "cell_type": "code",
   "execution_count": null,
   "metadata": {
    "collapsed": true
   },
   "outputs": [],
   "source": []
  },
  {
   "cell_type": "code",
   "execution_count": null,
   "metadata": {
    "collapsed": true
   },
   "outputs": [],
   "source": []
  },
  {
   "cell_type": "code",
   "execution_count": null,
   "metadata": {
    "collapsed": true
   },
   "outputs": [],
   "source": []
  },
  {
   "cell_type": "markdown",
   "metadata": {},
   "source": [
    "# Exercise Five"
   ]
  },
  {
   "cell_type": "markdown",
   "metadata": {},
   "source": [
    "* Is there a concept you would love to see covered during the course?\n",
    "* Is there a concept that has been used multiple times during the course, but you still have no idea what it means?\n",
    "* Do you feel that you learn better when the course material is covered using slides, or tablet/whiteboard, or numerical illustrations?"
   ]
  },
  {
   "cell_type": "code",
   "execution_count": null,
   "metadata": {
    "collapsed": true
   },
   "outputs": [],
   "source": []
  }
 ],
 "metadata": {
  "kernelspec": {
   "display_name": "Python 3",
   "language": "python",
   "name": "python3"
  },
  "language_info": {
   "codemirror_mode": {
    "name": "ipython",
    "version": 3
   },
   "file_extension": ".py",
   "mimetype": "text/x-python",
   "name": "python",
   "nbconvert_exporter": "python",
   "pygments_lexer": "ipython3",
   "version": "3.6.0"
  }
 },
 "nbformat": 4,
 "nbformat_minor": 2
}
