{
 "cells": [
  {
   "cell_type": "code",
   "execution_count": 304,
   "metadata": {
    "collapsed": false
   },
   "outputs": [],
   "source": [
    "# general\n",
    "import numpy as np\n",
    "import pandas as pd\n",
    "import matplotlib.pyplot as plt\n",
    "import seaborn as sns\n",
    "from IPython.display import display\n",
    "\n",
    "%matplotlib inline\n",
    "\n",
    "from pylab import rcParams\n",
    "rcParams['figure.figsize'] = 8, 5\n",
    "\n",
    "# first used in exercise one\n",
    "import coorddescent as cd\n",
    "\n",
    "from sklearn import preprocessing\n",
    "from sklearn.model_selection import train_test_split\n",
    "from sklearn.linear_model import LassoCV\n",
    "\n",
    "# first used in exercise two\n",
    "from sklearn.decomposition import PCA\n",
    "from sklearn.cluster import KMeans\n",
    "from sklearn.preprocessing import StandardScaler\n",
    "\n",
    "# first used in exercise three\n",
    "from sklearn.preprocessing import PolynomialFeatures\n",
    "from sklearn.linear_model import Lasso\n",
    "from sklearn.model_selection import cross_val_score"
   ]
  },
  {
   "cell_type": "code",
   "execution_count": 4,
   "metadata": {
    "collapsed": true
   },
   "outputs": [],
   "source": [
    "#import importlib\n",
    "#importlib.reload(cd)"
   ]
  },
  {
   "cell_type": "markdown",
   "metadata": {},
   "source": [
    "# Exercise One"
   ]
  },
  {
   "cell_type": "code",
   "execution_count": 5,
   "metadata": {
    "collapsed": false
   },
   "outputs": [
    {
     "data": {
      "text/plain": [
       "(322, 20)"
      ]
     },
     "execution_count": 5,
     "metadata": {},
     "output_type": "execute_result"
    }
   ],
   "source": [
    "h = pd.read_csv('Hitters.csv', index_col=0)\n",
    "h.shape"
   ]
  },
  {
   "cell_type": "code",
   "execution_count": 6,
   "metadata": {
    "collapsed": false
   },
   "outputs": [
    {
     "data": {
      "text/html": [
       "<div>\n",
       "<table border=\"1\" class=\"dataframe\">\n",
       "  <thead>\n",
       "    <tr style=\"text-align: right;\">\n",
       "      <th></th>\n",
       "      <th>AtBat</th>\n",
       "      <th>Hits</th>\n",
       "      <th>HmRun</th>\n",
       "      <th>Runs</th>\n",
       "      <th>RBI</th>\n",
       "      <th>Walks</th>\n",
       "      <th>Years</th>\n",
       "      <th>CAtBat</th>\n",
       "      <th>CHits</th>\n",
       "      <th>CHmRun</th>\n",
       "      <th>CRuns</th>\n",
       "      <th>CRBI</th>\n",
       "      <th>CWalks</th>\n",
       "      <th>League</th>\n",
       "      <th>Division</th>\n",
       "      <th>PutOuts</th>\n",
       "      <th>Assists</th>\n",
       "      <th>Errors</th>\n",
       "      <th>Salary</th>\n",
       "      <th>NewLeague</th>\n",
       "    </tr>\n",
       "    <tr>\n",
       "      <th>Name</th>\n",
       "      <th></th>\n",
       "      <th></th>\n",
       "      <th></th>\n",
       "      <th></th>\n",
       "      <th></th>\n",
       "      <th></th>\n",
       "      <th></th>\n",
       "      <th></th>\n",
       "      <th></th>\n",
       "      <th></th>\n",
       "      <th></th>\n",
       "      <th></th>\n",
       "      <th></th>\n",
       "      <th></th>\n",
       "      <th></th>\n",
       "      <th></th>\n",
       "      <th></th>\n",
       "      <th></th>\n",
       "      <th></th>\n",
       "      <th></th>\n",
       "    </tr>\n",
       "  </thead>\n",
       "  <tbody>\n",
       "    <tr>\n",
       "      <th>-Andy Allanson</th>\n",
       "      <td>293</td>\n",
       "      <td>66</td>\n",
       "      <td>1</td>\n",
       "      <td>30</td>\n",
       "      <td>29</td>\n",
       "      <td>14</td>\n",
       "      <td>1</td>\n",
       "      <td>293</td>\n",
       "      <td>66</td>\n",
       "      <td>1</td>\n",
       "      <td>30</td>\n",
       "      <td>29</td>\n",
       "      <td>14</td>\n",
       "      <td>A</td>\n",
       "      <td>E</td>\n",
       "      <td>446</td>\n",
       "      <td>33</td>\n",
       "      <td>20</td>\n",
       "      <td>NaN</td>\n",
       "      <td>A</td>\n",
       "    </tr>\n",
       "    <tr>\n",
       "      <th>-Alan Ashby</th>\n",
       "      <td>315</td>\n",
       "      <td>81</td>\n",
       "      <td>7</td>\n",
       "      <td>24</td>\n",
       "      <td>38</td>\n",
       "      <td>39</td>\n",
       "      <td>14</td>\n",
       "      <td>3449</td>\n",
       "      <td>835</td>\n",
       "      <td>69</td>\n",
       "      <td>321</td>\n",
       "      <td>414</td>\n",
       "      <td>375</td>\n",
       "      <td>N</td>\n",
       "      <td>W</td>\n",
       "      <td>632</td>\n",
       "      <td>43</td>\n",
       "      <td>10</td>\n",
       "      <td>475.0</td>\n",
       "      <td>N</td>\n",
       "    </tr>\n",
       "    <tr>\n",
       "      <th>-Alvin Davis</th>\n",
       "      <td>479</td>\n",
       "      <td>130</td>\n",
       "      <td>18</td>\n",
       "      <td>66</td>\n",
       "      <td>72</td>\n",
       "      <td>76</td>\n",
       "      <td>3</td>\n",
       "      <td>1624</td>\n",
       "      <td>457</td>\n",
       "      <td>63</td>\n",
       "      <td>224</td>\n",
       "      <td>266</td>\n",
       "      <td>263</td>\n",
       "      <td>A</td>\n",
       "      <td>W</td>\n",
       "      <td>880</td>\n",
       "      <td>82</td>\n",
       "      <td>14</td>\n",
       "      <td>480.0</td>\n",
       "      <td>A</td>\n",
       "    </tr>\n",
       "  </tbody>\n",
       "</table>\n",
       "</div>"
      ],
      "text/plain": [
       "                AtBat  Hits  HmRun  Runs  RBI  Walks  Years  CAtBat  CHits  \\\n",
       "Name                                                                         \n",
       "-Andy Allanson    293    66      1    30   29     14      1     293     66   \n",
       "-Alan Ashby       315    81      7    24   38     39     14    3449    835   \n",
       "-Alvin Davis      479   130     18    66   72     76      3    1624    457   \n",
       "\n",
       "                CHmRun  CRuns  CRBI  CWalks League Division  PutOuts  Assists  \\\n",
       "Name                                                                            \n",
       "-Andy Allanson       1     30    29      14      A        E      446       33   \n",
       "-Alan Ashby         69    321   414     375      N        W      632       43   \n",
       "-Alvin Davis        63    224   266     263      A        W      880       82   \n",
       "\n",
       "                Errors  Salary NewLeague  \n",
       "Name                                      \n",
       "-Andy Allanson      20     NaN         A  \n",
       "-Alan Ashby         10   475.0         N  \n",
       "-Alvin Davis        14   480.0         A  "
      ]
     },
     "execution_count": 6,
     "metadata": {},
     "output_type": "execute_result"
    }
   ],
   "source": [
    "h[:3]"
   ]
  },
  {
   "cell_type": "code",
   "execution_count": 7,
   "metadata": {
    "collapsed": false
   },
   "outputs": [
    {
     "data": {
      "text/plain": [
       "(263, 20)"
      ]
     },
     "execution_count": 7,
     "metadata": {},
     "output_type": "execute_result"
    }
   ],
   "source": [
    "# remove rows w/ empty values - i think this is only those w/ no salary\n",
    "h = h.dropna()\n",
    "h.shape"
   ]
  },
  {
   "cell_type": "code",
   "execution_count": 8,
   "metadata": {
    "collapsed": false
   },
   "outputs": [
    {
     "data": {
      "text/plain": [
       "(263, 23)"
      ]
     },
     "execution_count": 8,
     "metadata": {},
     "output_type": "execute_result"
    }
   ],
   "source": [
    "# convert categorical vars to dummy variables\n",
    "h = pd.get_dummies(h)\n",
    "h.shape"
   ]
  },
  {
   "cell_type": "code",
   "execution_count": 102,
   "metadata": {
    "collapsed": false
   },
   "outputs": [
    {
     "data": {
      "text/html": [
       "<div>\n",
       "<table border=\"1\" class=\"dataframe\">\n",
       "  <thead>\n",
       "    <tr style=\"text-align: right;\">\n",
       "      <th></th>\n",
       "      <th>AtBat</th>\n",
       "      <th>Hits</th>\n",
       "      <th>HmRun</th>\n",
       "      <th>Runs</th>\n",
       "      <th>RBI</th>\n",
       "      <th>Walks</th>\n",
       "      <th>Years</th>\n",
       "      <th>CAtBat</th>\n",
       "      <th>CHits</th>\n",
       "      <th>CHmRun</th>\n",
       "      <th>...</th>\n",
       "      <th>PutOuts</th>\n",
       "      <th>Assists</th>\n",
       "      <th>Errors</th>\n",
       "      <th>Salary</th>\n",
       "      <th>League_A</th>\n",
       "      <th>League_N</th>\n",
       "      <th>Division_E</th>\n",
       "      <th>Division_W</th>\n",
       "      <th>NewLeague_A</th>\n",
       "      <th>NewLeague_N</th>\n",
       "    </tr>\n",
       "    <tr>\n",
       "      <th>Name</th>\n",
       "      <th></th>\n",
       "      <th></th>\n",
       "      <th></th>\n",
       "      <th></th>\n",
       "      <th></th>\n",
       "      <th></th>\n",
       "      <th></th>\n",
       "      <th></th>\n",
       "      <th></th>\n",
       "      <th></th>\n",
       "      <th></th>\n",
       "      <th></th>\n",
       "      <th></th>\n",
       "      <th></th>\n",
       "      <th></th>\n",
       "      <th></th>\n",
       "      <th></th>\n",
       "      <th></th>\n",
       "      <th></th>\n",
       "      <th></th>\n",
       "      <th></th>\n",
       "    </tr>\n",
       "  </thead>\n",
       "  <tbody>\n",
       "    <tr>\n",
       "      <th>-Alan Ashby</th>\n",
       "      <td>315</td>\n",
       "      <td>81</td>\n",
       "      <td>7</td>\n",
       "      <td>24</td>\n",
       "      <td>38</td>\n",
       "      <td>39</td>\n",
       "      <td>14</td>\n",
       "      <td>3449</td>\n",
       "      <td>835</td>\n",
       "      <td>69</td>\n",
       "      <td>...</td>\n",
       "      <td>632</td>\n",
       "      <td>43</td>\n",
       "      <td>10</td>\n",
       "      <td>475.0</td>\n",
       "      <td>0</td>\n",
       "      <td>1</td>\n",
       "      <td>0</td>\n",
       "      <td>1</td>\n",
       "      <td>0</td>\n",
       "      <td>1</td>\n",
       "    </tr>\n",
       "  </tbody>\n",
       "</table>\n",
       "<p>1 rows × 23 columns</p>\n",
       "</div>"
      ],
      "text/plain": [
       "             AtBat  Hits  HmRun  Runs  RBI  Walks  Years  CAtBat  CHits  \\\n",
       "Name                                                                      \n",
       "-Alan Ashby    315    81      7    24   38     39     14    3449    835   \n",
       "\n",
       "             CHmRun     ...       PutOuts  Assists  Errors  Salary  League_A  \\\n",
       "Name                    ...                                                    \n",
       "-Alan Ashby      69     ...           632       43      10   475.0         0   \n",
       "\n",
       "             League_N  Division_E  Division_W  NewLeague_A  NewLeague_N  \n",
       "Name                                                                     \n",
       "-Alan Ashby         1           0           1            0            1  \n",
       "\n",
       "[1 rows x 23 columns]"
      ]
     },
     "execution_count": 102,
     "metadata": {},
     "output_type": "execute_result"
    }
   ],
   "source": [
    "h[:1]"
   ]
  },
  {
   "cell_type": "markdown",
   "metadata": {},
   "source": [
    "While the homework doesn't state it specifically, I assume here that we're predicting salary, since that's what we've done previously."
   ]
  },
  {
   "cell_type": "code",
   "execution_count": 125,
   "metadata": {
    "collapsed": false
   },
   "outputs": [
    {
     "data": {
      "text/plain": [
       "((263, 22), (263,))"
      ]
     },
     "execution_count": 125,
     "metadata": {},
     "output_type": "execute_result"
    }
   ],
   "source": [
    "# split into features and the value to predict (x and y)\n",
    "# scale all features so each col has mean zero and std 1\n",
    "X_scaled = preprocessing.scale(h.drop('Salary', axis=1))\n",
    "y = preprocessing.scale(h['Salary'], with_mean=True, with_std=False) # TODO Geoff said just to center - correct?\n",
    "\n",
    "(X_scaled.shape, y.shape)"
   ]
  },
  {
   "cell_type": "code",
   "execution_count": 126,
   "metadata": {
    "collapsed": false
   },
   "outputs": [],
   "source": [
    "X_train, X_test, y_train, y_test = train_test_split(X_scaled, y, random_state=0, test_size=0.25)"
   ]
  },
  {
   "cell_type": "code",
   "execution_count": 127,
   "metadata": {
    "collapsed": false
   },
   "outputs": [
    {
     "data": {
      "text/plain": [
       "((197, 22), (66, 22), (197,), (66,))"
      ]
     },
     "execution_count": 127,
     "metadata": {},
     "output_type": "execute_result"
    }
   ],
   "source": [
    "(X_train.shape, X_test.shape, y_train.shape, y_test.shape)"
   ]
  },
  {
   "cell_type": "code",
   "execution_count": 128,
   "metadata": {
    "collapsed": false
   },
   "outputs": [
    {
     "name": "stdout",
     "output_type": "stream",
     "text": [
      "Estimated lambda = 10.0\n",
      "Estimated coefficients = [ -0.00000000e+00   8.58601238e+01   2.31341180e+01   0.00000000e+00\n",
      "   0.00000000e+00   5.30007543e+01  -0.00000000e+00   0.00000000e+00\n",
      "   1.81021741e+02   0.00000000e+00   7.94408792e+00   0.00000000e+00\n",
      "  -0.00000000e+00   4.29183221e+01  -0.00000000e+00  -1.69208651e+01\n",
      "  -2.65772925e+00   0.00000000e+00   4.56974438e+01  -1.50312135e-14\n",
      "  -0.00000000e+00   0.00000000e+00]\n",
      "Estimated intercept = 0.0\n"
     ]
    }
   ],
   "source": [
    "lambda_vals = [10**k for k in range(-5, 5)]\n",
    "# increasing max_iter from default of 1000 to ensure convergence (per\n",
    "# a warning that I'll get when it's the default), also setting \n",
    "# normalize to False as we've already standardized the data\n",
    "lasso = LassoCV(alphas=lambda_vals, normalize=False, fit_intercept=False, max_iter=3000)\n",
    "\n",
    "lasso.fit(X_train, y_train)\n",
    "print('Estimated lambda =', lasso.alpha_)\n",
    "print('Estimated coefficients =', lasso.coef_)\n",
    "print('Estimated intercept =', lasso.intercept_)"
   ]
  },
  {
   "cell_type": "code",
   "execution_count": 129,
   "metadata": {
    "collapsed": false
   },
   "outputs": [
    {
     "data": {
      "text/plain": [
       "array([ -3.01286738e+02,   2.99128868e+02,   6.52703798e+01,\n",
       "        -4.08042709e+01,   2.46861773e+00,   1.53332103e+02,\n",
       "        -8.64033965e+01,   1.71077484e+02,   2.70097078e+02,\n",
       "         5.35526842e+01,   9.28557194e+01,  -1.29517289e+02,\n",
       "        -2.03225658e+02,   6.03806106e+01,   3.54852288e+01,\n",
       "        -3.70178409e+01,  -1.77482519e+01,   2.27993363e-12,\n",
       "         5.69311903e+01,  -2.34949429e-12,   9.53202545e+00,\n",
       "         0.00000000e+00])"
      ]
     },
     "execution_count": 129,
     "metadata": {},
     "output_type": "execute_result"
    }
   ],
   "source": [
    "betas_cyclic = cd.cycliccoorddescent(X_train, y_train, lasso.alpha_, max_iter=1000)\n",
    "cd.get_final_coefs(betas_cyclic)"
   ]
  },
  {
   "cell_type": "code",
   "execution_count": 130,
   "metadata": {
    "collapsed": false
   },
   "outputs": [
    {
     "data": {
      "text/plain": [
       "array([ -1.68455512e+02,   1.68533254e+02,   6.33393034e+01,\n",
       "        -1.82744723e+01,   6.09461122e-01,   1.23022541e+02,\n",
       "        -6.33800988e+01,  -7.43572206e+01,   2.22920670e+02,\n",
       "        -9.61693905e+01,   1.99874770e+02,   1.47695646e+02,\n",
       "        -1.71531569e+02,   5.77674893e+01,   3.73656201e+01,\n",
       "        -4.18656431e+01,  -2.18332544e+01,  -6.02323017e-01,\n",
       "        -3.53314491e-02,  -5.77883831e+01,   1.02792801e+01,\n",
       "        -3.43774963e-01])"
      ]
     },
     "execution_count": 130,
     "metadata": {},
     "output_type": "execute_result"
    }
   ],
   "source": [
    "betas_random = cd.randcoorddescent(X_train, y_train, lasso.alpha_, max_iter=1000)\n",
    "cd.get_final_coefs(betas_random)"
   ]
  },
  {
   "cell_type": "code",
   "execution_count": 131,
   "metadata": {
    "collapsed": false
   },
   "outputs": [
    {
     "data": {
      "text/html": [
       "<div>\n",
       "<table border=\"1\" class=\"dataframe\">\n",
       "  <thead>\n",
       "    <tr style=\"text-align: right;\">\n",
       "      <th></th>\n",
       "      <th>cyclic</th>\n",
       "      <th>random</th>\n",
       "    </tr>\n",
       "  </thead>\n",
       "  <tbody>\n",
       "    <tr>\n",
       "      <th>0</th>\n",
       "      <td>171049.579605</td>\n",
       "      <td>171049.579605</td>\n",
       "    </tr>\n",
       "    <tr>\n",
       "      <th>1</th>\n",
       "      <td>145555.195978</td>\n",
       "      <td>170814.738601</td>\n",
       "    </tr>\n",
       "    <tr>\n",
       "      <th>2</th>\n",
       "      <td>145146.306599</td>\n",
       "      <td>132250.701295</td>\n",
       "    </tr>\n",
       "  </tbody>\n",
       "</table>\n",
       "</div>"
      ],
      "text/plain": [
       "          cyclic         random\n",
       "0  171049.579605  171049.579605\n",
       "1  145555.195978  170814.738601\n",
       "2  145146.306599  132250.701295"
      ]
     },
     "execution_count": 131,
     "metadata": {},
     "output_type": "execute_result"
    }
   ],
   "source": [
    "obj_values = pd.DataFrame({\n",
    "    'cyclic': betas_cyclic.apply(lambda r: cd.lasso_objective(r.as_matrix(), X_train, y_train, lasso.alpha_), axis=1),\n",
    "    'random': betas_random.apply(lambda r: cd.lasso_objective(r.as_matrix(), X_train, y_train, lasso.alpha_), axis=1)\n",
    "})\n",
    "obj_values[:3]"
   ]
  },
  {
   "cell_type": "code",
   "execution_count": 132,
   "metadata": {
    "collapsed": false
   },
   "outputs": [
    {
     "data": {
      "text/plain": [
       "<matplotlib.text.Text at 0x11be8dd68>"
      ]
     },
     "execution_count": 132,
     "metadata": {},
     "output_type": "execute_result"
    },
    {
     "data": {
      "image/png": "[encoded data removed]",
      "text/plain": [
       "<matplotlib.figure.Figure at 0x11be79b70>"
      ]
     },
     "metadata": {},
     "output_type": "display_data"
    }
   ],
   "source": [
    "ax = obj_values[::X_train.shape[1]].reset_index(drop=True).plot(title=\"Objective function value per effective iteration\")\n",
    "ax.set_xlabel(\"Effective iteration\")\n",
    "ax.set_ylabel(\"Value of objective function\")"
   ]
  },
  {
   "cell_type": "code",
   "execution_count": 133,
   "metadata": {
    "collapsed": false
   },
   "outputs": [
    {
     "data": {
      "text/plain": [
       "(263, 22)"
      ]
     },
     "execution_count": 133,
     "metadata": {},
     "output_type": "execute_result"
    }
   ],
   "source": [
    "X_scaled.shape"
   ]
  },
  {
   "cell_type": "code",
   "execution_count": 135,
   "metadata": {
    "collapsed": false
   },
   "outputs": [
    {
     "data": {
      "text/plain": [
       "197.51759554509758"
      ]
     },
     "execution_count": 135,
     "metadata": {},
     "output_type": "execute_result"
    }
   ],
   "source": [
    "cd.minimize_beta_term(np.zeros(X_scaled.shape[1]), X_scaled, y, 2, 0.1)"
   ]
  },
  {
   "cell_type": "markdown",
   "metadata": {},
   "source": [
    "**TODO** do code (and of course text) for the last bullet."
   ]
  },
  {
   "cell_type": "markdown",
   "metadata": {},
   "source": [
    "# Exercise Two"
   ]
  },
  {
   "cell_type": "markdown",
   "metadata": {},
   "source": [
    "\"a) Generate a simulated data set with 20 observations in each of three classes (i.e. 60 observations total), and 50 variables. Hint: There are a number of functions in numpy that you can use to generate data. One example is the numpy.random.normal() func- tion; numpy.random.uniform() is another option. Be sure to add a mean shift to the observations in each class so that there are three distinct classes.\""
   ]
  },
  {
   "cell_type": "code",
   "execution_count": 220,
   "metadata": {
    "collapsed": false
   },
   "outputs": [
    {
     "data": {
      "text/html": [
       "<div>\n",
       "<table border=\"1\" class=\"dataframe\">\n",
       "  <thead>\n",
       "    <tr style=\"text-align: right;\">\n",
       "      <th></th>\n",
       "      <th>Class</th>\n",
       "      <th>0</th>\n",
       "      <th>1</th>\n",
       "      <th>2</th>\n",
       "      <th>3</th>\n",
       "      <th>4</th>\n",
       "      <th>5</th>\n",
       "      <th>6</th>\n",
       "      <th>7</th>\n",
       "      <th>8</th>\n",
       "      <th>...</th>\n",
       "      <th>40</th>\n",
       "      <th>41</th>\n",
       "      <th>42</th>\n",
       "      <th>43</th>\n",
       "      <th>44</th>\n",
       "      <th>45</th>\n",
       "      <th>46</th>\n",
       "      <th>47</th>\n",
       "      <th>48</th>\n",
       "      <th>49</th>\n",
       "    </tr>\n",
       "  </thead>\n",
       "  <tbody>\n",
       "    <tr>\n",
       "      <th>0</th>\n",
       "      <td>A</td>\n",
       "      <td>1.238545</td>\n",
       "      <td>0.248186</td>\n",
       "      <td>0.070708</td>\n",
       "      <td>2.068699</td>\n",
       "      <td>-1.748564</td>\n",
       "      <td>-0.757585</td>\n",
       "      <td>-1.148017</td>\n",
       "      <td>1.395933</td>\n",
       "      <td>0.337178</td>\n",
       "      <td>...</td>\n",
       "      <td>-1.451193</td>\n",
       "      <td>-0.665275</td>\n",
       "      <td>-0.585129</td>\n",
       "      <td>0.194674</td>\n",
       "      <td>0.358302</td>\n",
       "      <td>-0.315859</td>\n",
       "      <td>-1.810976</td>\n",
       "      <td>-1.7268</td>\n",
       "      <td>-0.144119</td>\n",
       "      <td>-1.056794</td>\n",
       "    </tr>\n",
       "  </tbody>\n",
       "</table>\n",
       "<p>1 rows × 51 columns</p>\n",
       "</div>"
      ],
      "text/plain": [
       "  Class         0         1         2         3         4         5         6  \\\n",
       "0     A  1.238545  0.248186  0.070708  2.068699 -1.748564 -0.757585 -1.148017   \n",
       "\n",
       "          7         8    ...           40        41        42        43  \\\n",
       "0  1.395933  0.337178    ...    -1.451193 -0.665275 -0.585129  0.194674   \n",
       "\n",
       "         44        45        46      47        48        49  \n",
       "0  0.358302 -0.315859 -1.810976 -1.7268 -0.144119 -1.056794  \n",
       "\n",
       "[1 rows x 51 columns]"
      ]
     },
     "execution_count": 220,
     "metadata": {},
     "output_type": "execute_result"
    }
   ],
   "source": [
    "mean_vals = [0, 0.5, 1]\n",
    "d = pd.DataFrame(np.vstack([np.random.normal(mean, size=(20,50)) for mean in mean_vals]))\n",
    "d.insert(0, 'Class', np.repeat(['A','B','C'], 20))\n",
    "d[:1]"
   ]
  },
  {
   "cell_type": "markdown",
   "metadata": {},
   "source": [
    "\"b) Perform PCA on the 60 observations and plot the first two principal component score vectors. Use a different color to indicate the observations in each of the three classes. If the three classes appear separated in this plot, then continue on to part (c). If not, then return to part (a) and modify the simulation so that there is greater separation between the three classes. Do not continue to part (c) until the three classes show at least some separation in the first two principal component score vectors.\""
   ]
  },
  {
   "cell_type": "markdown",
   "metadata": {},
   "source": [
    "**TODO** Make sure I figure out how to generate a PDF w/ color. Or, I can update the plot to use different symbols for each class?"
   ]
  },
  {
   "cell_type": "code",
   "execution_count": 221,
   "metadata": {
    "collapsed": false
   },
   "outputs": [],
   "source": [
    "d_train_values = d.values[:, 1:51].astype('float')\n",
    "\n",
    "pca = PCA(2, svd_solver='randomized')\n",
    "pca.fit(d_train_values)\n",
    "values_PCA = pca.transform(d_train_values)"
   ]
  },
  {
   "cell_type": "code",
   "execution_count": 222,
   "metadata": {
    "collapsed": false
   },
   "outputs": [
    {
     "data": {
      "text/plain": [
       "((2, 50), (60, 2))"
      ]
     },
     "execution_count": 222,
     "metadata": {},
     "output_type": "execute_result"
    }
   ],
   "source": [
    "pca.components_.shape, values_PCA.shape"
   ]
  },
  {
   "cell_type": "code",
   "execution_count": 223,
   "metadata": {
    "collapsed": false
   },
   "outputs": [
    {
     "data": {
      "text/plain": [
       "(array([ 0.10890424,  0.11233618,  0.13668824,  0.10781196,  0.19206595,\n",
       "         0.11389879,  0.16387479,  0.16230814,  0.11195264,  0.13775363,\n",
       "         0.21939331,  0.13449196,  0.17891366,  0.12819465,  0.19140607,\n",
       "         0.08806998,  0.06671829,  0.17452005,  0.13373422,  0.1144399 ,\n",
       "         0.11098955,  0.09890244,  0.06828223,  0.20640512,  0.14871112,\n",
       "         0.10077548,  0.12655425,  0.07282374,  0.09159164,  0.02887412,\n",
       "         0.18668021,  0.15427403,  0.21908177,  0.14418334,  0.10513524,\n",
       "         0.07213987,  0.10110487,  0.1843278 ,  0.12517379,  0.15101731,\n",
       "         0.1437282 ,  0.13702164,  0.14527707,  0.15641659,  0.1427031 ,\n",
       "         0.15245191,  0.14717412,  0.13323111,  0.21865342,  0.10639155]),\n",
       " array([ 0.0859277 ,  0.15181005, -0.0954254 , -0.37239926,  0.01299975,\n",
       "         0.03222108,  0.33709085, -0.13578011, -0.11040155, -0.13269174,\n",
       "        -0.02928188,  0.06568807, -0.01784535,  0.11756229, -0.06732855,\n",
       "        -0.24032805,  0.04420312,  0.26737032, -0.00597908,  0.04017435,\n",
       "        -0.0380351 ,  0.05751761, -0.20716492, -0.09841003,  0.31452941,\n",
       "        -0.18653481,  0.00723435, -0.13727948, -0.01410437, -0.043356  ,\n",
       "         0.20668334,  0.23145116, -0.10528526, -0.10380294, -0.01443867,\n",
       "        -0.02007438,  0.17626983,  0.06440693, -0.10151917,  0.01717481,\n",
       "        -0.11899491, -0.06258404,  0.04163793, -0.12878709, -0.27146599,\n",
       "         0.0589049 ,  0.01025098,  0.01190058,  0.01498961,  0.10654754]))"
      ]
     },
     "execution_count": 223,
     "metadata": {},
     "output_type": "execute_result"
    }
   ],
   "source": [
    "pca.components_[0], pca.components_[1]"
   ]
  },
  {
   "cell_type": "markdown",
   "metadata": {},
   "source": [
    "**TODO** I don't think i need this at all."
   ]
  },
  {
   "cell_type": "code",
   "execution_count": 224,
   "metadata": {
    "collapsed": false
   },
   "outputs": [
    {
     "data": {
      "text/plain": [
       "<matplotlib.collections.PathCollection at 0x1195590f0>"
      ]
     },
     "execution_count": 224,
     "metadata": {},
     "output_type": "execute_result"
    },
    {
     "data": {
      "image/png": "[encoded data removed]",
      "text/plain": [
       "<matplotlib.figure.Figure at 0x11be2d588>"
      ]
     },
     "metadata": {},
     "output_type": "display_data"
    }
   ],
   "source": [
    "plt.scatter(pca.components_[0], pca.components_[1])"
   ]
  },
  {
   "cell_type": "code",
   "execution_count": 225,
   "metadata": {
    "collapsed": false
   },
   "outputs": [],
   "source": [
    "# add PCA values to the dataframe\n",
    "d['PCA1'] = values_PCA[:, 0]\n",
    "d['PCA2'] = values_PCA[:, 1]"
   ]
  },
  {
   "cell_type": "code",
   "execution_count": 226,
   "metadata": {
    "collapsed": false
   },
   "outputs": [
    {
     "data": {
      "text/plain": [
       "<seaborn.axisgrid.FacetGrid at 0x11a731128>"
      ]
     },
     "execution_count": 226,
     "metadata": {},
     "output_type": "execute_result"
    },
    {
     "data": {
      "image/png": "[encoded data removed]",
      "text/plain": [
       "<matplotlib.figure.Figure at 0x11a3ff240>"
      ]
     },
     "metadata": {},
     "output_type": "display_data"
    }
   ],
   "source": [
    "sns.lmplot(\"PCA1\", \"PCA2\", hue=\"Class\", markers=[\"o\",\"x\",\"+\"], data=d, fit_reg=False)"
   ]
  },
  {
   "cell_type": "markdown",
   "metadata": {},
   "source": [
    "\"c) Perform K-means clustering of the observations with K = 3. How well do the clusters that you obtained in K-means clustering compare to the true class labels? Hint: You can use the value counts() function in the pandas package in Python to compare the true class labels to the class labels obtained by clustering. Be careful how you interpret the results: K-means clustering will arbitrarily number the clusters, so you cannot simply check whether the true class labels and clustering labels are the same.\""
   ]
  },
  {
   "cell_type": "code",
   "execution_count": 247,
   "metadata": {
    "collapsed": true
   },
   "outputs": [],
   "source": [
    "def cluster_with_kmeans_and_plot(n_clusters, X, name):\n",
    "    k = KMeans(n_clusters=n_clusters, random_state=0)\n",
    "    k.fit(X)\n",
    "    y_kmeans = k.predict(X)\n",
    "    d[name] = y_kmeans\n",
    "    sns.lmplot(\"PCA1\", \"PCA2\", hue=\"Class\", col=name, markers=[\"o\",\"x\",\"+\"], data=d, fit_reg=False, col_wrap=2)"
   ]
  },
  {
   "cell_type": "code",
   "execution_count": 248,
   "metadata": {
    "collapsed": false
   },
   "outputs": [
    {
     "data": {
      "image/png": "[encoded data removed]",
      "text/plain": [
       "<matplotlib.figure.Figure at 0x11c504f98>"
      ]
     },
     "metadata": {},
     "output_type": "display_data"
    }
   ],
   "source": [
    "cluster_with_kmeans_and_plot(3, d_train_values, \"K3Cluster\")"
   ]
  },
  {
   "cell_type": "markdown",
   "metadata": {},
   "source": [
    "\"d) Perform K-means clustering with K = 2. Describe your results.\""
   ]
  },
  {
   "cell_type": "code",
   "execution_count": 249,
   "metadata": {
    "collapsed": false
   },
   "outputs": [
    {
     "data": {
      "image/png": "[encoded data removed]",
      "text/plain": [
       "<matplotlib.figure.Figure at 0x11c5839e8>"
      ]
     },
     "metadata": {},
     "output_type": "display_data"
    }
   ],
   "source": [
    "cluster_with_kmeans_and_plot(2, d_train_values, \"K2Cluster\")"
   ]
  },
  {
   "cell_type": "markdown",
   "metadata": {},
   "source": [
    "\"e) Now perform K-means clustering with K = 4, and describe your results.\""
   ]
  },
  {
   "cell_type": "code",
   "execution_count": 250,
   "metadata": {
    "collapsed": false
   },
   "outputs": [
    {
     "data": {
      "image/png": "[encoded data removed]",
      "text/plain": [
       "<matplotlib.figure.Figure at 0x11e0c1b38>"
      ]
     },
     "metadata": {},
     "output_type": "display_data"
    }
   ],
   "source": [
    "cluster_with_kmeans_and_plot(4, d_train_values, \"K4Cluster\")"
   ]
  },
  {
   "cell_type": "markdown",
   "metadata": {},
   "source": [
    "\"f) Now perform K-means clustering with K = 3 on the first two principal component score vectors, rather than on the raw data. That is, perform K-means clustering on the 60 × 2 matrix of which the first column is the first principal component score vector, and the second column is the second principal component score vector. Comment on the results.\""
   ]
  },
  {
   "cell_type": "markdown",
   "metadata": {},
   "source": [
    "I'm not 100% sure I understand what this question is asking, but based on conversations with other students I think what it's saying to do is to use the two values provided by PCA for each observation by feeding them to K-means, and then see what clusters those values provide. \n",
    "\n",
    "I already have the PCA results from transforming the data - a 60x2 matrix stored in values_PCA - I'll just that data."
   ]
  },
  {
   "cell_type": "code",
   "execution_count": 334,
   "metadata": {
    "collapsed": false
   },
   "outputs": [
    {
     "data": {
      "image/png": "[encoded data removed]",
      "text/plain": [
       "<matplotlib.figure.Figure at 0x11f4553c8>"
      ]
     },
     "metadata": {},
     "output_type": "display_data"
    }
   ],
   "source": [
    "cluster_with_kmeans_and_plot(3, values_PCA, \"K3ClusterPCA\")"
   ]
  },
  {
   "cell_type": "markdown",
   "metadata": {},
   "source": [
    "\"g) Use the StandardScaler function in sklearn.preprocessing to scale each variable to have standard deviation one. Then perform K-means clustering with K = 3 on the scaled data. How do these results compare to those obtained in (b)? Explain.\""
   ]
  },
  {
   "cell_type": "markdown",
   "metadata": {},
   "source": [
    "My note: while we should expect each to have a stddev of roughly one because that's how we defined the random data that we got, it won't be exactly one just because of randomness. Nonetheless, I can see in the actual data that the existing stddevs _are_ pretty close to one, so I don't expect to see much change. Also, I think I'd choose to use the scale function instead of StandardScaler, myself, but I'll do this with StandardScaler since that's what the homework asks for."
   ]
  },
  {
   "cell_type": "code",
   "execution_count": 36,
   "metadata": {
    "collapsed": false
   },
   "outputs": [
    {
     "data": {
      "text/plain": [
       "[1.1373500514402355,\n",
       " 1.0103310278040383,\n",
       " 0.94320407782324656,\n",
       " 0.86302641585045348,\n",
       " 1.1809887992077421]"
      ]
     },
     "execution_count": 36,
     "metadata": {},
     "output_type": "execute_result"
    }
   ],
   "source": [
    "[np.std(d_train_values[:,i]) for i in range(0,50)][:5]"
   ]
  },
  {
   "cell_type": "code",
   "execution_count": 37,
   "metadata": {
    "collapsed": false
   },
   "outputs": [
    {
     "data": {
      "text/plain": [
       "StandardScaler(copy=True, with_mean=False, with_std=True)"
      ]
     },
     "execution_count": 37,
     "metadata": {},
     "output_type": "execute_result"
    }
   ],
   "source": [
    "scaler = preprocessing.StandardScaler(with_mean=False, with_std=True).fit(d_train_values)\n",
    "scaler"
   ]
  },
  {
   "cell_type": "code",
   "execution_count": 38,
   "metadata": {
    "collapsed": false
   },
   "outputs": [
    {
     "data": {
      "text/plain": [
       "[1.0000000000000002,\n",
       " 0.99999999999999989,\n",
       " 1.0000000000000002,\n",
       " 0.99999999999999989,\n",
       " 0.99999999999999989]"
      ]
     },
     "execution_count": 38,
     "metadata": {},
     "output_type": "execute_result"
    }
   ],
   "source": [
    "d_train_values_std = scaler.transform(d_train_values)\n",
    "[np.std(d_train_values_std[:,i]) for i in range(0,50)][:5]"
   ]
  },
  {
   "cell_type": "code",
   "execution_count": 241,
   "metadata": {
    "collapsed": false
   },
   "outputs": [
    {
     "data": {
      "image/png": "[encoded data removed]",
      "text/plain": [
       "<matplotlib.figure.Figure at 0x11c5b3630>"
      ]
     },
     "metadata": {},
     "output_type": "display_data"
    }
   ],
   "source": [
    "cluster_with_kmeans_and_plot(3, d_train_values_std, \"K3ClusterStd\")"
   ]
  },
  {
   "cell_type": "markdown",
   "metadata": {},
   "source": [
    "# Exercise Three"
   ]
  },
  {
   "cell_type": "markdown",
   "metadata": {},
   "source": [
    "\"a) Use the numpy.random.normal() function to generate a predictor X of length n = 100, as well as a noise vector ε of length n = 100.\""
   ]
  },
  {
   "cell_type": "code",
   "execution_count": 185,
   "metadata": {
    "collapsed": false
   },
   "outputs": [
    {
     "data": {
      "text/plain": [
       "((100,), (100,))"
      ]
     },
     "execution_count": 185,
     "metadata": {},
     "output_type": "execute_result"
    }
   ],
   "source": [
    "X = np.random.normal(size=100)\n",
    "e = np.random.normal(size=100)\n",
    "(X.shape, e.shape)"
   ]
  },
  {
   "cell_type": "markdown",
   "metadata": {},
   "source": [
    "\"b) Generate a response vector Y of length n = 100 according to the model Y =β0 +β1X+β2X2 +β3X3 +ε,\n",
    "where β0, β1, β2, and β3 are constants of your choice. Here superscripts denote powers of X.\""
   ]
  },
  {
   "cell_type": "code",
   "execution_count": 186,
   "metadata": {
    "collapsed": true
   },
   "outputs": [],
   "source": [
    "b0 = 27\n",
    "b1 = 11\n",
    "b2 = 5\n",
    "b3 = 3"
   ]
  },
  {
   "cell_type": "code",
   "execution_count": 187,
   "metadata": {
    "collapsed": false
   },
   "outputs": [
    {
     "data": {
      "text/plain": [
       "(100,)"
      ]
     },
     "execution_count": 187,
     "metadata": {},
     "output_type": "execute_result"
    }
   ],
   "source": [
    "y = b0 + (b1*X) + (b2*(X**2)) + (b3*(X**3)) + e\n",
    "y.shape"
   ]
  },
  {
   "cell_type": "code",
   "execution_count": 188,
   "metadata": {
    "collapsed": false
   },
   "outputs": [
    {
     "data": {
      "text/plain": [
       "(100, 1)"
      ]
     },
     "execution_count": 188,
     "metadata": {},
     "output_type": "execute_result"
    }
   ],
   "source": [
    "# and we'll make X a 100,1 array rather than a vector, for better use w/ sklearn functions\n",
    "X = X[:, np.newaxis]\n",
    "X.shape"
   ]
  },
  {
   "cell_type": "markdown",
   "metadata": {},
   "source": [
    "\"c) Now fit a lasso model to the simulated data, using X, X2, . . . , X10 as predictors. Use cross-validation to select the optimal value of λ. Create plots of the cross-validation error as a function of λ. Report the resulting coefficient estimates, and discuss the results obtained.\""
   ]
  },
  {
   "cell_type": "code",
   "execution_count": 190,
   "metadata": {
    "collapsed": false
   },
   "outputs": [
    {
     "data": {
      "text/plain": [
       "(100, 11)"
      ]
     },
     "execution_count": 190,
     "metadata": {},
     "output_type": "execute_result"
    }
   ],
   "source": [
    "X_poly10 = PolynomialFeatures(degree=10).fit_transform(X)\n",
    "X_poly10.shape"
   ]
  },
  {
   "cell_type": "code",
   "execution_count": 54,
   "metadata": {
    "collapsed": false
   },
   "outputs": [
    {
     "data": {
      "text/plain": [
       "[1e-05, 0.0001, 0.001, 0.01, 0.1, 1, 10, 100, 1000, 10000]"
      ]
     },
     "execution_count": 54,
     "metadata": {},
     "output_type": "execute_result"
    }
   ],
   "source": [
    "lambda_vals"
   ]
  },
  {
   "cell_type": "markdown",
   "metadata": {},
   "source": [
    "I think, based on the .score method, that the default evaluator for both Lasso and LassoCV is the R^2 (coefficient of determination) - if I pass in a \"r2\" value to the scoring param of cross_val_score, I get the same output as I do when I don't specify anything."
   ]
  },
  {
   "cell_type": "code",
   "execution_count": 290,
   "metadata": {
    "collapsed": false
   },
   "outputs": [
    {
     "data": {
      "text/plain": [
       "0.00001        0.996684\n",
       "0.00010        0.996693\n",
       "0.00100        0.996442\n",
       "0.01000        0.979021\n",
       "0.10000       -0.127150\n",
       "1.00000       -0.165431\n",
       "10.00000      -0.165431\n",
       "100.00000     -0.165431\n",
       "1000.00000    -0.165431\n",
       "10000.00000   -0.165431\n",
       "dtype: float64"
      ]
     },
     "execution_count": 290,
     "metadata": {},
     "output_type": "execute_result"
    }
   ],
   "source": [
    "r2_by_lambda = pd.Series([np.mean(cross_val_score(Lasso(alpha=lam, \n",
    "                                  normalize=True,\n",
    "                                  max_iter=100000), X_poly10_scaled, y_scaled, cv=10, scoring=\"r2\")) for lam in lambda_vals],\n",
    "                         index = lambda_vals)\n",
    "r2_by_lambda"
   ]
  },
  {
   "cell_type": "code",
   "execution_count": 291,
   "metadata": {
    "collapsed": false
   },
   "outputs": [
    {
     "data": {
      "text/plain": [
       "<matplotlib.axes._subplots.AxesSubplot at 0x11e9ec358>"
      ]
     },
     "execution_count": 291,
     "metadata": {},
     "output_type": "execute_result"
    },
    {
     "data": {
      "image/png": "[encoded data removed]",
      "text/plain": [
       "<matplotlib.figure.Figure at 0x11e261908>"
      ]
     },
     "metadata": {},
     "output_type": "display_data"
    }
   ],
   "source": [
    "r2_by_lambda.plot(logx=True)"
   ]
  },
  {
   "cell_type": "markdown",
   "metadata": {},
   "source": [
    "**TODO** Are the numbers above appropriate? Should I expect to see so many of the lambda values giving the same results?"
   ]
  },
  {
   "cell_type": "code",
   "execution_count": 292,
   "metadata": {
    "collapsed": false
   },
   "outputs": [
    {
     "data": {
      "text/plain": [
       "0.0001"
      ]
     },
     "execution_count": 292,
     "metadata": {},
     "output_type": "execute_result"
    }
   ],
   "source": [
    "best_lambda = r2_by_lambda.argmax()\n",
    "best_lambda"
   ]
  },
  {
   "cell_type": "code",
   "execution_count": 305,
   "metadata": {
    "collapsed": true
   },
   "outputs": [],
   "source": [
    "def fit_lasso_and_output_coefs_and_intercept(lam, X, y):\n",
    "    results = Lasso(alpha=lam, normalize=True).fit(X, y)\n",
    "    print(results.intercept_)\n",
    "    display(list(zip(PolynomialFeatures(10).fit(X).get_feature_names(), results.coef_)))"
   ]
  },
  {
   "cell_type": "code",
   "execution_count": 306,
   "metadata": {
    "collapsed": false
   },
   "outputs": [
    {
     "name": "stdout",
     "output_type": "stream",
     "text": [
      "26.9978123939\n"
     ]
    },
    {
     "data": {
      "text/plain": [
       "[('1', 0.0),\n",
       " ('x0', 11.704260432702068),\n",
       " ('x1', 5.1350224918753256),\n",
       " ('x2', 2.3622838687860832),\n",
       " ('x3', 0.014195078310631116),\n",
       " ('x4', 0.13043906590404125),\n",
       " ('x5', -0.014153409976649425),\n",
       " ('x6', 0.0047632249713195985),\n",
       " ('x7', -0.0017467228978284605),\n",
       " ('x8', -0.0),\n",
       " ('x9', -0.000221938531073026)]"
      ]
     },
     "metadata": {},
     "output_type": "display_data"
    }
   ],
   "source": [
    "fit_lasso_and_output_coefs_and_intercept(best_lambda, X_poly10, y)"
   ]
  },
  {
   "cell_type": "markdown",
   "metadata": {},
   "source": [
    "While the best lambda is 0.0001, all of the low lambdas are essentially the same. If I try the biggest lambda that gives essentially the same results, then perhaps I can get more coefficients to go to exactly zero instead of, like above, just being very close to zero.\n",
    "\n",
    "Yep - the results below show that this is the case - all of the coefficients that should be large are large and correct, and there's only one coefficient that is small (x^4)."
   ]
  },
  {
   "cell_type": "code",
   "execution_count": 307,
   "metadata": {
    "collapsed": false
   },
   "outputs": [
    {
     "name": "stdout",
     "output_type": "stream",
     "text": [
      "27.1107397873\n"
     ]
    },
    {
     "data": {
      "text/plain": [
       "[('1', 0.0),\n",
       " ('x0', 11.215709953044421),\n",
       " ('x1', 4.9560637123531093),\n",
       " ('x2', 2.9294044308323559),\n",
       " ('x3', 0.0),\n",
       " ('x4', 0.0055742829638698362),\n",
       " ('x5', 0.0),\n",
       " ('x6', 0.0),\n",
       " ('x7', 0.0),\n",
       " ('x8', 0.0),\n",
       " ('x9', 0.0)]"
      ]
     },
     "metadata": {},
     "output_type": "display_data"
    }
   ],
   "source": [
    "fit_lasso_and_output_coefs_and_intercept(0.01, X_poly10, y)"
   ]
  },
  {
   "cell_type": "markdown",
   "metadata": {},
   "source": [
    "\"d) Now generate a response vector Y according to the model Y = β0 + β7X7 + ε,\n",
    "and fit a lasso model. Discuss the results obtained.\""
   ]
  },
  {
   "cell_type": "code",
   "execution_count": 317,
   "metadata": {
    "collapsed": false
   },
   "outputs": [
    {
     "data": {
      "text/plain": [
       "(100,)"
      ]
     },
     "execution_count": 317,
     "metadata": {},
     "output_type": "execute_result"
    }
   ],
   "source": [
    "b7 = 12\n",
    "new_y = b0 + (b7*(X[:,0]**7)) + e\n",
    "new_y.shape"
   ]
  },
  {
   "cell_type": "code",
   "execution_count": 322,
   "metadata": {
    "collapsed": false
   },
   "outputs": [
    {
     "name": "stdout",
     "output_type": "stream",
     "text": [
      "27.8026801612\n"
     ]
    },
    {
     "data": {
      "text/plain": [
       "[('1', 0.0),\n",
       " ('x0', 20.101555029021871),\n",
       " ('x1', -3.2172710357915411),\n",
       " ('x2', -52.500074684154377),\n",
       " ('x3', -0.23907479657054947),\n",
       " ('x4', 33.725117843830901),\n",
       " ('x5', 0.27745230811374327),\n",
       " ('x6', 4.6194437999631086),\n",
       " ('x7', 0.047393935030516296),\n",
       " ('x8', 0.45757374224351155),\n",
       " ('x9', 0.010018738289794805)]"
      ]
     },
     "metadata": {},
     "output_type": "display_data"
    }
   ],
   "source": [
    "fit_lasso_and_output_coefs_and_intercept(0.00001, X_poly10, new_y)"
   ]
  },
  {
   "cell_type": "markdown",
   "metadata": {},
   "source": [
    "# Exercise Four"
   ]
  },
  {
   "cell_type": "markdown",
   "metadata": {
    "collapsed": true
   },
   "source": [
    "This is the exercise with specific suggested steps to work on as part of the Kaggle competition. Here's a summary of where I am as of TBD (generally they want us to include code or info so they can see where we are and what we're struggling with):\n",
    "\n",
    "* TBD did I generate feature vectors using AWS? Or in general in any way? \n",
    "* TBD did I train an L2-regularized logistic regression classifier using two classes with my own fastgradalgo implementation, and then plot the misclassification error?\n",
    "* TBD did I find lambda via CV, and then train another logistic regression classifier using fastgradalgo, and plot?"
   ]
  },
  {
   "cell_type": "markdown",
   "metadata": {},
   "source": [
    "# Exercise Five"
   ]
  },
  {
   "cell_type": "markdown",
   "metadata": {},
   "source": [
    "\"Is there a concept you would love to see covered during the course?\"\n",
    "\n",
    "It seems like the syllabus is changing/has changed a bit, and I'm not sure what the overall plans for coverage are in the rest of the class. So I'll just jot down quick thoughts about things I'd like to know AND things that I at least have some clue about already but that others have said they want to learn about.\n",
    "\n",
    "* Specific algorithms: a) tree-based algorithms - likely in some detail, since they're used so heavily in a lot of places, b) SVMs, c) at least an intro to neural nets and deep learning. \n",
    "* That said, I think I'd benefit most from understanding roughly - but not in detail - how these work, how to use them (dials, levers), and pros and cons compared to other algorithms (these often work well with this kind of data, etc.). Mainly given the relatively short amount of time we have - only a single class, to cover all of 'machine learning' - I don't think I'd prefer to spend tons of time actually implementing particular algorithms. It's very interesting and I learn a lot by doing my own implementation, but probably get less practical benefit from time spent on implementation than I would in a better overall understanding of the pros and cons of more algorithms.\n",
    "* Feature engineering. I think we're covering this already for one kind of features, with the image work. But coverage of other kinds of features and transformations would be useful/helpful too. As a rough example of the kinds of things I'd like to learn more of: taking lat/lon and transforming into 'close to this kind of business', taking a single date field and generating 'IsHoliday', etc. \n",
    "* More coverage of 'small data' uses of ML. At least for me at Microsoft, a lot of my work is with data sets that have an understandable number of features - for example, 20-30 instead of 1000s. More coverage of things to do in the former types of situation would be valuable to me. "
   ]
  },
  {
   "cell_type": "markdown",
   "metadata": {
    "collapsed": true
   },
   "source": [
    "\"Is there a concept that has been used multiple times during the course, but you still have no idea what it means?\"\n",
    "\n",
    "I'm still weak on interpreting mathemtical notation (I prefer words) and linear algebra, although am improving - enough to where I could figure out the coordinate descent stuff based just on a few slides w/ formulas. So I'm probably ok there."
   ]
  },
  {
   "cell_type": "markdown",
   "metadata": {},
   "source": [
    "\"Do you feel that you learn better when the course material is covered using slides, or tablet/whiteboard, or numerical illustrations?\""
   ]
  },
  {
   "cell_type": "markdown",
   "metadata": {},
   "source": [
    "I learn better when the explanations are in words instead of in mathematical notation, at least to start. As part of 'words' I include examples - i.e., rather than just 'here's the formula' I would learn better by seeing a worked example (or by working an example myself)."
   ]
  },
  {
   "cell_type": "code",
   "execution_count": null,
   "metadata": {
    "collapsed": true
   },
   "outputs": [],
   "source": []
  }
 ],
 "metadata": {
  "kernelspec": {
   "display_name": "Python 3",
   "language": "python",
   "name": "python3"
  },
  "language_info": {
   "codemirror_mode": {
    "name": "ipython",
    "version": 3
   },
   "file_extension": ".py",
   "mimetype": "text/x-python",
   "name": "python",
   "nbconvert_exporter": "python",
   "pygments_lexer": "ipython3",
   "version": "3.6.0"
  }
 },
 "nbformat": 4,
 "nbformat_minor": 2
}
