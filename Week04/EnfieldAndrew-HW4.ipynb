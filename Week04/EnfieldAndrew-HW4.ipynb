{
 "cells": [
  {
   "cell_type": "code",
   "execution_count": 219,
   "metadata": {
    "collapsed": true
   },
   "outputs": [],
   "source": [
    "import numpy as np\n",
    "import pandas as pd\n",
    "import matplotlib.pyplot as plt\n",
    "import seaborn as sns\n",
    "\n",
    "%matplotlib inline\n",
    "\n",
    "from pylab import rcParams\n",
    "rcParams['figure.figsize'] = 8, 5\n",
    "\n",
    "from sklearn import preprocessing\n",
    "from sklearn.model_selection import train_test_split\n",
    "from sklearn.linear_model import LassoCV\n",
    "\n",
    "from sklearn.decomposition import PCA\n",
    "from sklearn.cluster import KMeans\n",
    "from sklearn.preprocessing import StandardScaler\n",
    "\n",
    "import coorddescent as cd"
   ]
  },
  {
   "cell_type": "code",
   "execution_count": null,
   "metadata": {
    "collapsed": true
   },
   "outputs": [],
   "source": [
    "#import importlib\n",
    "#importlib.reload(cd)"
   ]
  },
  {
   "cell_type": "markdown",
   "metadata": {},
   "source": [
    "# Exercise One"
   ]
  },
  {
   "cell_type": "code",
   "execution_count": 2,
   "metadata": {
    "collapsed": false
   },
   "outputs": [
    {
     "data": {
      "text/plain": [
       "(322, 20)"
      ]
     },
     "execution_count": 2,
     "metadata": {},
     "output_type": "execute_result"
    }
   ],
   "source": [
    "h = pd.read_csv('Hitters.csv', index_col=0)\n",
    "h.shape"
   ]
  },
  {
   "cell_type": "code",
   "execution_count": 3,
   "metadata": {
    "collapsed": false
   },
   "outputs": [
    {
     "data": {
      "text/html": [
       "<div>\n",
       "<table border=\"1\" class=\"dataframe\">\n",
       "  <thead>\n",
       "    <tr style=\"text-align: right;\">\n",
       "      <th></th>\n",
       "      <th>AtBat</th>\n",
       "      <th>Hits</th>\n",
       "      <th>HmRun</th>\n",
       "      <th>Runs</th>\n",
       "      <th>RBI</th>\n",
       "      <th>Walks</th>\n",
       "      <th>Years</th>\n",
       "      <th>CAtBat</th>\n",
       "      <th>CHits</th>\n",
       "      <th>CHmRun</th>\n",
       "      <th>CRuns</th>\n",
       "      <th>CRBI</th>\n",
       "      <th>CWalks</th>\n",
       "      <th>League</th>\n",
       "      <th>Division</th>\n",
       "      <th>PutOuts</th>\n",
       "      <th>Assists</th>\n",
       "      <th>Errors</th>\n",
       "      <th>Salary</th>\n",
       "      <th>NewLeague</th>\n",
       "    </tr>\n",
       "    <tr>\n",
       "      <th>Name</th>\n",
       "      <th></th>\n",
       "      <th></th>\n",
       "      <th></th>\n",
       "      <th></th>\n",
       "      <th></th>\n",
       "      <th></th>\n",
       "      <th></th>\n",
       "      <th></th>\n",
       "      <th></th>\n",
       "      <th></th>\n",
       "      <th></th>\n",
       "      <th></th>\n",
       "      <th></th>\n",
       "      <th></th>\n",
       "      <th></th>\n",
       "      <th></th>\n",
       "      <th></th>\n",
       "      <th></th>\n",
       "      <th></th>\n",
       "      <th></th>\n",
       "    </tr>\n",
       "  </thead>\n",
       "  <tbody>\n",
       "    <tr>\n",
       "      <th>-Andy Allanson</th>\n",
       "      <td>293</td>\n",
       "      <td>66</td>\n",
       "      <td>1</td>\n",
       "      <td>30</td>\n",
       "      <td>29</td>\n",
       "      <td>14</td>\n",
       "      <td>1</td>\n",
       "      <td>293</td>\n",
       "      <td>66</td>\n",
       "      <td>1</td>\n",
       "      <td>30</td>\n",
       "      <td>29</td>\n",
       "      <td>14</td>\n",
       "      <td>A</td>\n",
       "      <td>E</td>\n",
       "      <td>446</td>\n",
       "      <td>33</td>\n",
       "      <td>20</td>\n",
       "      <td>NaN</td>\n",
       "      <td>A</td>\n",
       "    </tr>\n",
       "    <tr>\n",
       "      <th>-Alan Ashby</th>\n",
       "      <td>315</td>\n",
       "      <td>81</td>\n",
       "      <td>7</td>\n",
       "      <td>24</td>\n",
       "      <td>38</td>\n",
       "      <td>39</td>\n",
       "      <td>14</td>\n",
       "      <td>3449</td>\n",
       "      <td>835</td>\n",
       "      <td>69</td>\n",
       "      <td>321</td>\n",
       "      <td>414</td>\n",
       "      <td>375</td>\n",
       "      <td>N</td>\n",
       "      <td>W</td>\n",
       "      <td>632</td>\n",
       "      <td>43</td>\n",
       "      <td>10</td>\n",
       "      <td>475.0</td>\n",
       "      <td>N</td>\n",
       "    </tr>\n",
       "    <tr>\n",
       "      <th>-Alvin Davis</th>\n",
       "      <td>479</td>\n",
       "      <td>130</td>\n",
       "      <td>18</td>\n",
       "      <td>66</td>\n",
       "      <td>72</td>\n",
       "      <td>76</td>\n",
       "      <td>3</td>\n",
       "      <td>1624</td>\n",
       "      <td>457</td>\n",
       "      <td>63</td>\n",
       "      <td>224</td>\n",
       "      <td>266</td>\n",
       "      <td>263</td>\n",
       "      <td>A</td>\n",
       "      <td>W</td>\n",
       "      <td>880</td>\n",
       "      <td>82</td>\n",
       "      <td>14</td>\n",
       "      <td>480.0</td>\n",
       "      <td>A</td>\n",
       "    </tr>\n",
       "  </tbody>\n",
       "</table>\n",
       "</div>"
      ],
      "text/plain": [
       "                AtBat  Hits  HmRun  Runs  RBI  Walks  Years  CAtBat  CHits  \\\n",
       "Name                                                                         \n",
       "-Andy Allanson    293    66      1    30   29     14      1     293     66   \n",
       "-Alan Ashby       315    81      7    24   38     39     14    3449    835   \n",
       "-Alvin Davis      479   130     18    66   72     76      3    1624    457   \n",
       "\n",
       "                CHmRun  CRuns  CRBI  CWalks League Division  PutOuts  Assists  \\\n",
       "Name                                                                            \n",
       "-Andy Allanson       1     30    29      14      A        E      446       33   \n",
       "-Alan Ashby         69    321   414     375      N        W      632       43   \n",
       "-Alvin Davis        63    224   266     263      A        W      880       82   \n",
       "\n",
       "                Errors  Salary NewLeague  \n",
       "Name                                      \n",
       "-Andy Allanson      20     NaN         A  \n",
       "-Alan Ashby         10   475.0         N  \n",
       "-Alvin Davis        14   480.0         A  "
      ]
     },
     "execution_count": 3,
     "metadata": {},
     "output_type": "execute_result"
    }
   ],
   "source": [
    "h[:3]"
   ]
  },
  {
   "cell_type": "code",
   "execution_count": 4,
   "metadata": {
    "collapsed": false
   },
   "outputs": [
    {
     "data": {
      "text/plain": [
       "(263, 20)"
      ]
     },
     "execution_count": 4,
     "metadata": {},
     "output_type": "execute_result"
    }
   ],
   "source": [
    "# remove rows w/ empty values - i think this is only those w/ no salary\n",
    "h = h.dropna()\n",
    "h.shape"
   ]
  },
  {
   "cell_type": "code",
   "execution_count": 5,
   "metadata": {
    "collapsed": false
   },
   "outputs": [
    {
     "data": {
      "text/plain": [
       "(263, 23)"
      ]
     },
     "execution_count": 5,
     "metadata": {},
     "output_type": "execute_result"
    }
   ],
   "source": [
    "# convert categorical vars to dummy variables\n",
    "h = pd.get_dummies(h)\n",
    "h.shape"
   ]
  },
  {
   "cell_type": "markdown",
   "metadata": {},
   "source": [
    "While the homework doesn't state it specifically, I assume here that we're predicting salary, since that's what we've done previously."
   ]
  },
  {
   "cell_type": "code",
   "execution_count": 44,
   "metadata": {
    "collapsed": false
   },
   "outputs": [
    {
     "data": {
      "text/plain": [
       "((263, 22), (263,))"
      ]
     },
     "execution_count": 44,
     "metadata": {},
     "output_type": "execute_result"
    }
   ],
   "source": [
    "# split into features and the value to predict (x and y)\n",
    "# scale all features so each col has mean zero and std 1\n",
    "X_scaled = preprocessing.scale(h.drop('Salary', axis=1))\n",
    "y = preprocessing.scale(h['Salary'])\n",
    "\n",
    "(X_scaled.shape, Y.shape)"
   ]
  },
  {
   "cell_type": "code",
   "execution_count": 45,
   "metadata": {
    "collapsed": false
   },
   "outputs": [],
   "source": [
    "X_train, X_test, y_train, y_test = train_test_split(X_scaled, y, random_state=0, test_size=0.25)"
   ]
  },
  {
   "cell_type": "code",
   "execution_count": 46,
   "metadata": {
    "collapsed": false
   },
   "outputs": [
    {
     "data": {
      "text/plain": [
       "((197, 22), (66, 22), (197,), (66,))"
      ]
     },
     "execution_count": 46,
     "metadata": {},
     "output_type": "execute_result"
    }
   ],
   "source": [
    "(X_train.shape, X_test.shape, y_train.shape, y_test.shape)"
   ]
  },
  {
   "cell_type": "code",
   "execution_count": 47,
   "metadata": {
    "collapsed": false
   },
   "outputs": [
    {
     "name": "stdout",
     "output_type": "stream",
     "text": [
      "Estimated lambda = 0.0001\n",
      "Estimated coefficients = [ -5.33797007e-01   5.66035427e-01   1.62925430e-01  -1.41901906e-01\n",
      "  -4.83896581e-03   3.13685285e-01  -4.58382029e-02  -1.10391792e+00\n",
      "   1.34739226e+00   2.52457302e-02   6.61019110e-01  -7.06027383e-02\n",
      "  -3.99815771e-01   1.40184452e-01   1.16576860e-01  -8.26100152e-02\n",
      "  -5.29900310e-02   5.82724914e-18   1.09757283e-01  -1.26150492e-15\n",
      "   2.19094767e-02  -0.00000000e+00]\n",
      "Estimated intercept = 0.0\n"
     ]
    }
   ],
   "source": [
    "lambda_vals = [10**k for k in range(-5, 5)]\n",
    "# increasing max_iter from default of 1000 to ensure convergence (per\n",
    "# a warning that I'll get when it's the default), also setting \n",
    "# normalize to False as we've already standardized the data\n",
    "lasso = LassoCV(alphas=lambda_vals, normalize=False, fit_intercept=False, max_iter=3000)\n",
    "\n",
    "lasso.fit(X_train, y_train)\n",
    "print('Estimated lambda =', lasso.alpha_)\n",
    "print('Estimated coefficients =', lasso.coef_)\n",
    "print('Estimated intercept =', lasso.intercept_)"
   ]
  },
  {
   "cell_type": "code",
   "execution_count": 32,
   "metadata": {
    "collapsed": false
   },
   "outputs": [
    {
     "data": {
      "text/plain": [
       "array([ -6.71436125e-01,   6.67373167e-01,   1.45827243e-01,\n",
       "        -9.21500017e-02,   4.89977879e-03,   3.41450123e-01,\n",
       "        -1.92516029e-01,   3.84318440e-01,   5.99833331e-01,\n",
       "         1.20784268e-01,   2.05743162e-01,  -2.91677541e-01,\n",
       "        -4.52519292e-01,   1.34141034e-01,   7.90303312e-02,\n",
       "        -8.24014901e-02,  -3.97881333e-02,   5.47521371e-15,\n",
       "         1.26543229e-01,  -5.69031155e-15,   2.16028796e-02,\n",
       "         0.00000000e+00])"
      ]
     },
     "execution_count": 32,
     "metadata": {},
     "output_type": "execute_result"
    }
   ],
   "source": [
    "betas_cyclic = cd.cycliccoorddescent(X_train, y_train, lasso.alpha_, max_iter=1000)\n",
    "cd.get_final_coefs(betas_cyclic)"
   ]
  },
  {
   "cell_type": "code",
   "execution_count": 33,
   "metadata": {
    "collapsed": false
   },
   "outputs": [
    {
     "data": {
      "text/plain": [
       "array([-0.4645406 ,  0.470844  ,  0.16279535, -0.0588112 , -0.01871804,\n",
       "        0.29551087, -0.13412544, -0.16284188,  0.39992923, -0.2161443 ,\n",
       "        0.54446602,  0.33657003, -0.40890427,  0.13149076,  0.08644675,\n",
       "       -0.08483055, -0.03064628,  0.01537027,  0.13559384,  0.01110617,\n",
       "       -0.01324571, -0.03372345])"
      ]
     },
     "execution_count": 33,
     "metadata": {},
     "output_type": "execute_result"
    }
   ],
   "source": [
    "betas_random = cd.randcoorddescent(X_train, y_train, lasso.alpha_, max_iter=1000)\n",
    "cd.get_final_coefs(betas_random)"
   ]
  },
  {
   "cell_type": "code",
   "execution_count": 48,
   "metadata": {
    "collapsed": true
   },
   "outputs": [],
   "source": [
    "#     obj_values = results.apply(lambda r: obj_func(\n",
    "#         r.as_matrix(), x, y, lam=lam), axis=1)"
   ]
  },
  {
   "cell_type": "code",
   "execution_count": 56,
   "metadata": {
    "collapsed": false
   },
   "outputs": [
    {
     "data": {
      "text/html": [
       "<div>\n",
       "<table border=\"1\" class=\"dataframe\">\n",
       "  <thead>\n",
       "    <tr style=\"text-align: right;\">\n",
       "      <th></th>\n",
       "      <th>cyclic</th>\n",
       "      <th>random</th>\n",
       "    </tr>\n",
       "  </thead>\n",
       "  <tbody>\n",
       "    <tr>\n",
       "      <th>0</th>\n",
       "      <td>0.843713</td>\n",
       "      <td>0.843713</td>\n",
       "    </tr>\n",
       "    <tr>\n",
       "      <th>1</th>\n",
       "      <td>0.709754</td>\n",
       "      <td>0.644459</td>\n",
       "    </tr>\n",
       "    <tr>\n",
       "      <th>2</th>\n",
       "      <td>0.706466</td>\n",
       "      <td>0.639518</td>\n",
       "    </tr>\n",
       "  </tbody>\n",
       "</table>\n",
       "</div>"
      ],
      "text/plain": [
       "     cyclic    random\n",
       "0  0.843713  0.843713\n",
       "1  0.709754  0.644459\n",
       "2  0.706466  0.639518"
      ]
     },
     "execution_count": 56,
     "metadata": {},
     "output_type": "execute_result"
    }
   ],
   "source": [
    "obj_values = pd.DataFrame({\n",
    "    'cyclic': betas_cyclic.apply(lambda r: cd.lasso_objective(r.as_matrix(), X_train, y_train, lasso.alpha_), axis=1),\n",
    "    'random': betas_random.apply(lambda r: cd.lasso_objective(r.as_matrix(), X_train, y_train, lasso.alpha_), axis=1)\n",
    "})\n",
    "obj_values[:3]"
   ]
  },
  {
   "cell_type": "code",
   "execution_count": 76,
   "metadata": {
    "collapsed": false
   },
   "outputs": [
    {
     "data": {
      "text/plain": [
       "<matplotlib.text.Text at 0x118c89e10>"
      ]
     },
     "execution_count": 76,
     "metadata": {},
     "output_type": "execute_result"
    },
    {
     "data": {
      "image/png": "[encoded data removed]",
      "text/plain": [
       "<matplotlib.figure.Figure at 0x118ed7f28>"
      ]
     },
     "metadata": {},
     "output_type": "display_data"
    }
   ],
   "source": [
    "ax = obj_values[::X_train.shape[1]].reset_index(drop=True).plot(title=\"Objective function value per effective iteration\")\n",
    "ax.set_xlabel(\"Effective iteration\")\n",
    "ax.set_ylabel(\"Value of objective function\")"
   ]
  },
  {
   "cell_type": "markdown",
   "metadata": {},
   "source": [
    "**TODO** do code (and of course text) for the last bullet."
   ]
  },
  {
   "cell_type": "markdown",
   "metadata": {},
   "source": [
    "# Exercise Two"
   ]
  },
  {
   "cell_type": "markdown",
   "metadata": {},
   "source": [
    "\"a) Generate a simulated data set with 20 observations in each of three classes (i.e. 60 observations total), and 50 variables. Hint: There are a number of functions in numpy that you can use to generate data. One example is the numpy.random.normal() func- tion; numpy.random.uniform() is another option. Be sure to add a mean shift to the observations in each class so that there are three distinct classes.\""
   ]
  },
  {
   "cell_type": "code",
   "execution_count": 141,
   "metadata": {
    "collapsed": false
   },
   "outputs": [
    {
     "data": {
      "text/html": [
       "<div>\n",
       "<table border=\"1\" class=\"dataframe\">\n",
       "  <thead>\n",
       "    <tr style=\"text-align: right;\">\n",
       "      <th></th>\n",
       "      <th>Class</th>\n",
       "      <th>0</th>\n",
       "      <th>1</th>\n",
       "      <th>2</th>\n",
       "      <th>3</th>\n",
       "      <th>4</th>\n",
       "      <th>5</th>\n",
       "      <th>6</th>\n",
       "      <th>7</th>\n",
       "      <th>8</th>\n",
       "      <th>...</th>\n",
       "      <th>40</th>\n",
       "      <th>41</th>\n",
       "      <th>42</th>\n",
       "      <th>43</th>\n",
       "      <th>44</th>\n",
       "      <th>45</th>\n",
       "      <th>46</th>\n",
       "      <th>47</th>\n",
       "      <th>48</th>\n",
       "      <th>49</th>\n",
       "    </tr>\n",
       "  </thead>\n",
       "  <tbody>\n",
       "    <tr>\n",
       "      <th>0</th>\n",
       "      <td>A</td>\n",
       "      <td>0.688686</td>\n",
       "      <td>-1.097042</td>\n",
       "      <td>-1.061391</td>\n",
       "      <td>0.38873</td>\n",
       "      <td>1.081218</td>\n",
       "      <td>0.109288</td>\n",
       "      <td>-0.809478</td>\n",
       "      <td>0.704436</td>\n",
       "      <td>-0.574833</td>\n",
       "      <td>...</td>\n",
       "      <td>2.657824</td>\n",
       "      <td>-0.904406</td>\n",
       "      <td>-0.110704</td>\n",
       "      <td>1.493636</td>\n",
       "      <td>-0.304674</td>\n",
       "      <td>-0.620203</td>\n",
       "      <td>1.154927</td>\n",
       "      <td>-2.031034</td>\n",
       "      <td>-2.612273</td>\n",
       "      <td>0.604191</td>\n",
       "    </tr>\n",
       "  </tbody>\n",
       "</table>\n",
       "<p>1 rows × 51 columns</p>\n",
       "</div>"
      ],
      "text/plain": [
       "  Class         0         1         2        3         4         5         6  \\\n",
       "0     A  0.688686 -1.097042 -1.061391  0.38873  1.081218  0.109288 -0.809478   \n",
       "\n",
       "          7         8    ...           40        41        42        43  \\\n",
       "0  0.704436 -0.574833    ...     2.657824 -0.904406 -0.110704  1.493636   \n",
       "\n",
       "         44        45        46        47        48        49  \n",
       "0 -0.304674 -0.620203  1.154927 -2.031034 -2.612273  0.604191  \n",
       "\n",
       "[1 rows x 51 columns]"
      ]
     },
     "execution_count": 141,
     "metadata": {},
     "output_type": "execute_result"
    }
   ],
   "source": [
    "d = pd.DataFrame(np.vstack([np.random.normal(mean, size=(20,50)) for mean in [0,0.5,1]]))\n",
    "d.insert(0, 'Class', np.repeat(['A','B','C'], 20))\n",
    "d[:1]"
   ]
  },
  {
   "cell_type": "markdown",
   "metadata": {},
   "source": [
    "\"b) Perform PCA on the 60 observations and plot the first two principal component score vectors. Use a different color to indicate the observations in each of the three classes. If the three classes appear separated in this plot, then continue on to part (c). If not, then return to part (a) and modify the simulation so that there is greater separation between the three classes. Do not continue to part (c) until the three classes show at least some separation in the first two principal component score vectors.\""
   ]
  },
  {
   "cell_type": "markdown",
   "metadata": {},
   "source": [
    "**TODO** How to \"plot the first two principal component score vectors\"? We can't plot actual vectors (i.e., lines and arrow heads) on the actual data, since the data is 50-D. Are we just doing a scatter plot? If yes, what is this showing us? Or, perhaps the seaborn plot below is actually what's being asked for, since the text above says to use a different color?"
   ]
  },
  {
   "cell_type": "markdown",
   "metadata": {},
   "source": [
    "**TODO** Make sure I figure out how to generate a PDF w/ color. Or, I can update the plot to use different symbols for each class?"
   ]
  },
  {
   "cell_type": "code",
   "execution_count": 226,
   "metadata": {
    "collapsed": false
   },
   "outputs": [],
   "source": [
    "d_train_values = d.values[:, 1:51].astype('float')\n",
    "\n",
    "pca = PCA(2, svd_solver='randomized')\n",
    "pca.fit(d_train_values)\n",
    "values_PCA = pca.transform(d_train_values)"
   ]
  },
  {
   "cell_type": "code",
   "execution_count": 227,
   "metadata": {
    "collapsed": false
   },
   "outputs": [
    {
     "data": {
      "text/plain": [
       "((2, 50), (60, 2))"
      ]
     },
     "execution_count": 227,
     "metadata": {},
     "output_type": "execute_result"
    }
   ],
   "source": [
    "pca.components_.shape, values_PCA.shape"
   ]
  },
  {
   "cell_type": "code",
   "execution_count": 228,
   "metadata": {
    "collapsed": false
   },
   "outputs": [
    {
     "data": {
      "text/plain": [
       "(array([ 0.06497832,  0.20085551,  0.1709543 ,  0.16840639,  0.07370657,\n",
       "         0.10989995,  0.12046219,  0.17797688,  0.12030775,  0.09229532,\n",
       "         0.1133479 ,  0.07370928,  0.05797848,  0.16529289,  0.04776163,\n",
       "         0.09448102,  0.24530612,  0.14830914,  0.19091552,  0.12049633,\n",
       "         0.14781122,  0.19299487,  0.11280109,  0.12136041,  0.01450278,\n",
       "         0.10783236,  0.04286049,  0.12067063,  0.10769292,  0.17536269,\n",
       "         0.14745188,  0.17839645,  0.04589662,  0.22927461,  0.17516066,\n",
       "         0.09713746,  0.13816445,  0.14785754,  0.0719663 ,  0.19242863,\n",
       "         0.15491612,  0.15976006,  0.17019382,  0.0337986 ,  0.08381657,\n",
       "         0.2054127 ,  0.17080884,  0.17265158,  0.15268421,  0.13435198]),\n",
       " array([ 0.00090058, -0.23515125, -0.07069739,  0.21406853,  0.05479719,\n",
       "        -0.08526721, -0.22538852, -0.01536416,  0.10560753, -0.38009701,\n",
       "         0.05294253, -0.15231458, -0.02772412, -0.06550598, -0.11506667,\n",
       "        -0.05693794, -0.16214888, -0.10326222, -0.19797778, -0.08327677,\n",
       "         0.19927189,  0.01107936,  0.08451696, -0.01505351, -0.15032648,\n",
       "         0.1034454 ,  0.20508479, -0.12917004, -0.09606802,  0.02306877,\n",
       "        -0.19097461,  0.14696811, -0.09248692,  0.14050527, -0.05017837,\n",
       "         0.00790985,  0.08986452,  0.21481491,  0.10543911, -0.00365729,\n",
       "         0.11592555,  0.30057756,  0.09962981,  0.23925728, -0.10648302,\n",
       "         0.00850561, -0.09883378, -0.02582835,  0.17558749,  0.13919468]))"
      ]
     },
     "execution_count": 228,
     "metadata": {},
     "output_type": "execute_result"
    }
   ],
   "source": [
    "pca.components_[0], pca.components_[1]"
   ]
  },
  {
   "cell_type": "code",
   "execution_count": 229,
   "metadata": {
    "collapsed": false
   },
   "outputs": [
    {
     "data": {
      "text/plain": [
       "<matplotlib.collections.PathCollection at 0x11dc13d68>"
      ]
     },
     "execution_count": 229,
     "metadata": {},
     "output_type": "execute_result"
    },
    {
     "data": {
      "image/png": "[encoded data removed]",
      "text/plain": [
       "<matplotlib.figure.Figure at 0x11da16cf8>"
      ]
     },
     "metadata": {},
     "output_type": "display_data"
    }
   ],
   "source": [
    "plt.scatter(pca.components_[0], pca.components_[1])"
   ]
  },
  {
   "cell_type": "code",
   "execution_count": 230,
   "metadata": {
    "collapsed": false
   },
   "outputs": [],
   "source": [
    "# add PCA values to the dataframe\n",
    "d['PCA1'] = values_PCA[:, 0]\n",
    "d['PCA2'] = values_PCA[:, 1]"
   ]
  },
  {
   "cell_type": "code",
   "execution_count": 231,
   "metadata": {
    "collapsed": false
   },
   "outputs": [
    {
     "data": {
      "text/plain": [
       "<seaborn.axisgrid.FacetGrid at 0x11dc44c50>"
      ]
     },
     "execution_count": 231,
     "metadata": {},
     "output_type": "execute_result"
    },
    {
     "data": {
      "image/png": "[encoded data removed]",
      "text/plain": [
       "<matplotlib.figure.Figure at 0x11dc44198>"
      ]
     },
     "metadata": {},
     "output_type": "display_data"
    }
   ],
   "source": [
    "sns.lmplot(\"PCA1\", \"PCA2\", hue=\"Class\", markers=[\"o\",\"x\",\"+\"], data=d, fit_reg=False)"
   ]
  },
  {
   "cell_type": "markdown",
   "metadata": {},
   "source": [
    "\"c) Perform K-means clustering of the observations with K = 3. How well do the clusters that you obtained in K-means clustering compare to the true class labels? Hint: You can use the value counts() function in the pandas package in Python to compare the true class labels to the class labels obtained by clustering. Be careful how you interpret the results: K-means clustering will arbitrarily number the clusters, so you cannot simply check whether the true class labels and clustering labels are the same.\""
   ]
  },
  {
   "cell_type": "code",
   "execution_count": 232,
   "metadata": {
    "collapsed": false
   },
   "outputs": [
    {
     "data": {
      "text/plain": [
       "KMeans(algorithm='auto', copy_x=True, init='k-means++', max_iter=300,\n",
       "    n_clusters=3, n_init=10, n_jobs=1, precompute_distances='auto',\n",
       "    random_state=0, tol=0.0001, verbose=0)"
      ]
     },
     "execution_count": 232,
     "metadata": {},
     "output_type": "execute_result"
    }
   ],
   "source": [
    "k = KMeans(n_clusters=3, random_state=0)\n",
    "k.fit(d_train_values)"
   ]
  },
  {
   "cell_type": "code",
   "execution_count": 233,
   "metadata": {
    "collapsed": false
   },
   "outputs": [
    {
     "data": {
      "text/plain": [
       "array([0, 0, 0, 0, 2, 0, 0, 0, 0, 0, 0, 0, 0, 0, 0, 0, 0, 0, 0, 0, 1, 2, 1,\n",
       "       2, 2, 2, 2, 2, 2, 2, 2, 2, 2, 2, 2, 0, 2, 2, 2, 2, 2, 1, 1, 2, 1, 1,\n",
       "       1, 2, 1, 1, 1, 2, 1, 1, 1, 1, 1, 1, 1, 1], dtype=int32)"
      ]
     },
     "execution_count": 233,
     "metadata": {},
     "output_type": "execute_result"
    }
   ],
   "source": [
    "y_kmeans = k.predict(d_train_values)\n",
    "y_kmeans"
   ]
  },
  {
   "cell_type": "code",
   "execution_count": 234,
   "metadata": {
    "collapsed": false
   },
   "outputs": [
    {
     "data": {
      "text/plain": [
       "2    22\n",
       "0    20\n",
       "1    18\n",
       "dtype: int64"
      ]
     },
     "execution_count": 234,
     "metadata": {},
     "output_type": "execute_result"
    }
   ],
   "source": [
    "pd.Series(y_kmeans).value_counts()"
   ]
  },
  {
   "cell_type": "code",
   "execution_count": 235,
   "metadata": {
    "collapsed": false
   },
   "outputs": [],
   "source": [
    "# add k=3 cluster predicted values to the dataframe\n",
    "d['K3Cluster'] = y_kmeans"
   ]
  },
  {
   "cell_type": "code",
   "execution_count": 236,
   "metadata": {
    "collapsed": false
   },
   "outputs": [
    {
     "data": {
      "text/plain": [
       "<seaborn.axisgrid.FacetGrid at 0x11dd40a20>"
      ]
     },
     "execution_count": 236,
     "metadata": {},
     "output_type": "execute_result"
    },
    {
     "data": {
      "image/png": "[encoded data removed]",
      "text/plain": [
       "<matplotlib.figure.Figure at 0x11dd50710>"
      ]
     },
     "metadata": {},
     "output_type": "display_data"
    }
   ],
   "source": [
    "sns.lmplot(\"PCA1\", \"PCA2\", hue=\"Class\", col=\"K3Cluster\", markers=[\"o\",\"x\",\"+\"], data=d, fit_reg=False)"
   ]
  },
  {
   "cell_type": "markdown",
   "metadata": {},
   "source": [
    "\"d) Perform K-means clustering with K = 2. Describe your results.\""
   ]
  },
  {
   "cell_type": "code",
   "execution_count": 266,
   "metadata": {
    "collapsed": true
   },
   "outputs": [],
   "source": [
    "def cluster_with_kmeans_and_plot(n_clusters, X, name):\n",
    "    k = KMeans(n_clusters=n_clusters, random_state=0)\n",
    "    k.fit(X)\n",
    "    y_kmeans = k.predict(X)\n",
    "    d[name] = y_kmeans\n",
    "    sns.lmplot(\"PCA1\", \"PCA2\", hue=\"Class\", col=name, markers=[\"o\",\"x\",\"+\"], data=d, fit_reg=False)"
   ]
  },
  {
   "cell_type": "code",
   "execution_count": 267,
   "metadata": {
    "collapsed": false
   },
   "outputs": [
    {
     "data": {
      "image/png": "[encoded data removed]",
      "text/plain": [
       "<matplotlib.figure.Figure at 0x11ea6a470>"
      ]
     },
     "metadata": {},
     "output_type": "display_data"
    }
   ],
   "source": [
    "cluster_with_kmeans_and_plot(2, d_train_values, \"K2Cluster\")"
   ]
  },
  {
   "cell_type": "markdown",
   "metadata": {},
   "source": [
    "\"e) Now perform K-means clustering with K = 4, and describe your results.\""
   ]
  },
  {
   "cell_type": "code",
   "execution_count": 268,
   "metadata": {
    "collapsed": false
   },
   "outputs": [
    {
     "data": {
      "image/png": "[encoded data removed]",
      "text/plain": [
       "<matplotlib.figure.Figure at 0x11efbc2e8>"
      ]
     },
     "metadata": {},
     "output_type": "display_data"
    }
   ],
   "source": [
    "cluster_with_kmeans_and_plot(4, d_train_values, \"K4Cluster\")"
   ]
  },
  {
   "cell_type": "markdown",
   "metadata": {},
   "source": [
    "\"f) Now perform K-means clustering with K = 3 on the first two principal component score vectors, rather than on the raw data. That is, perform K-means clustering on the 60 × 2 matrix of which the first column is the first principal component score vector, and the second column is the second principal component score vector. Comment on the results.\""
   ]
  },
  {
   "cell_type": "code",
   "execution_count": 239,
   "metadata": {
    "collapsed": false
   },
   "outputs": [
    {
     "data": {
      "text/plain": [
       "(2, 50)"
      ]
     },
     "execution_count": 239,
     "metadata": {},
     "output_type": "execute_result"
    }
   ],
   "source": [
    "pca.components_.shape"
   ]
  },
  {
   "cell_type": "markdown",
   "metadata": {},
   "source": [
    "**TODO** Not sure what this is asking. Above, I clustered the observations - i.e., I clustered a 60x2 matrix. The first two principal component score vectors are a 2x50 matrix, not 60x2. In the 2x50 matrix, I think, each row is a principal component and each column (50 of them) is a coefficient that adjusts the influence of that particular feature in the particular principal component. How would we cluster based on these?\n",
    "\n",
    "I suppose we could flip the 2x50 to 50x2 and cluster that way... giving us 50 observations?"
   ]
  },
  {
   "cell_type": "code",
   "execution_count": 240,
   "metadata": {
    "collapsed": true
   },
   "outputs": [],
   "source": [
    "k = KMeans(n_clusters=2, random_state=0)\n",
    "k.fit(pca.components_.T)\n",
    "y_kmeans = k.predict(pca.components_.T)"
   ]
  },
  {
   "cell_type": "code",
   "execution_count": 241,
   "metadata": {
    "collapsed": false
   },
   "outputs": [
    {
     "data": {
      "text/plain": [
       "array([0, 0, 0, 1, 1, 0, 0, 0, 1, 0, 1, 0, 0, 0, 0, 0, 0, 0, 0, 0, 1, 0, 1,\n",
       "       0, 0, 1, 1, 0, 0, 0, 0, 1, 0, 1, 0, 0, 1, 1, 1, 0, 1, 1, 1, 1, 0, 0,\n",
       "       0, 0, 1, 1], dtype=int32)"
      ]
     },
     "execution_count": 241,
     "metadata": {},
     "output_type": "execute_result"
    }
   ],
   "source": [
    "y_kmeans"
   ]
  },
  {
   "cell_type": "markdown",
   "metadata": {},
   "source": [
    "\"g) Use the StandardScaler function in sklearn.preprocessing to scale each variable to have standard deviation one. Then perform K-means clustering with K = 3 on the scaled data. How do these results compare to those obtained in (b)? Explain.\""
   ]
  },
  {
   "cell_type": "markdown",
   "metadata": {},
   "source": [
    "My note: while we should expect each to have a stddev of roughly one because that's how we defined the random data that we got, it won't be exactly one just because of randomness. Nonetheless, I can see in the actual data that the existing stddevs _are_ pretty close to one, so I don't expect to see much change. Also, I think I'd choose to use the scale function instead of StandardScaler, myself, but I'll do this with StandardScaler since that's what the homework asks for."
   ]
  },
  {
   "cell_type": "code",
   "execution_count": 263,
   "metadata": {
    "collapsed": false
   },
   "outputs": [
    {
     "data": {
      "text/plain": [
       "[0.92723732033144723,\n",
       " 1.1733649105501645,\n",
       " 0.98099349952603887,\n",
       " 1.0767856581524684,\n",
       " 0.91708402673927125]"
      ]
     },
     "execution_count": 263,
     "metadata": {},
     "output_type": "execute_result"
    }
   ],
   "source": [
    "[np.std(d_train_values[:,i]) for i in range(0,50)][:5]"
   ]
  },
  {
   "cell_type": "code",
   "execution_count": 244,
   "metadata": {
    "collapsed": false
   },
   "outputs": [
    {
     "data": {
      "text/plain": [
       "StandardScaler(copy=True, with_mean=False, with_std=True)"
      ]
     },
     "execution_count": 244,
     "metadata": {},
     "output_type": "execute_result"
    }
   ],
   "source": [
    "scaler = preprocessing.StandardScaler(with_mean=False, with_std=True).fit(d_train_values)\n",
    "scaler"
   ]
  },
  {
   "cell_type": "code",
   "execution_count": 265,
   "metadata": {
    "collapsed": false
   },
   "outputs": [
    {
     "data": {
      "text/plain": [
       "[0.99999999999999989,\n",
       " 1.0000000000000002,\n",
       " 1.0,\n",
       " 0.99999999999999978,\n",
       " 0.99999999999999989]"
      ]
     },
     "execution_count": 265,
     "metadata": {},
     "output_type": "execute_result"
    }
   ],
   "source": [
    "d_train_values_std = scaler.transform(d_train_values)\n",
    "[np.std(d_train_values_std[:,i]) for i in range(0,50)][:5]"
   ]
  },
  {
   "cell_type": "code",
   "execution_count": 269,
   "metadata": {
    "collapsed": false
   },
   "outputs": [
    {
     "data": {
      "image/png": "[encoded data removed]",
      "text/plain": [
       "<matplotlib.figure.Figure at 0x11f2e2a90>"
      ]
     },
     "metadata": {},
     "output_type": "display_data"
    }
   ],
   "source": [
    "cluster_with_kmeans_and_plot(3, d_train_values_std, \"K3ClusterStd\")"
   ]
  },
  {
   "cell_type": "markdown",
   "metadata": {},
   "source": [
    "# Exercise Three"
   ]
  },
  {
   "cell_type": "markdown",
   "metadata": {},
   "source": [
    "\"a) Use the numpy.random.normal() function to generate a predictor X of length n = 100, as well as a noise vector ε of length n = 100.\""
   ]
  },
  {
   "cell_type": "code",
   "execution_count": null,
   "metadata": {
    "collapsed": true
   },
   "outputs": [],
   "source": []
  },
  {
   "cell_type": "code",
   "execution_count": null,
   "metadata": {
    "collapsed": true
   },
   "outputs": [],
   "source": []
  },
  {
   "cell_type": "code",
   "execution_count": null,
   "metadata": {
    "collapsed": true
   },
   "outputs": [],
   "source": []
  },
  {
   "cell_type": "markdown",
   "metadata": {},
   "source": [
    "\"b) Generate a response vector Y of length n = 100 according to the model Y =β0 +β1X+β2X2 +β3X3 +ε,\n",
    "where β0, β1, β2, and β3 are constants of your choice. Here superscripts denote powers of X.\""
   ]
  },
  {
   "cell_type": "code",
   "execution_count": null,
   "metadata": {
    "collapsed": true
   },
   "outputs": [],
   "source": []
  },
  {
   "cell_type": "code",
   "execution_count": null,
   "metadata": {
    "collapsed": true
   },
   "outputs": [],
   "source": []
  },
  {
   "cell_type": "code",
   "execution_count": null,
   "metadata": {
    "collapsed": true
   },
   "outputs": [],
   "source": []
  },
  {
   "cell_type": "markdown",
   "metadata": {},
   "source": [
    "\"c) Now fit a lasso model to the simulated data, using X, X2, . . . , X10 as predictors. Use cross-validation to select the optimal value of λ. Create plots of the cross-validation error as a function of λ. Report the resulting coefficient estimates, and discuss the results obtained.\""
   ]
  },
  {
   "cell_type": "code",
   "execution_count": null,
   "metadata": {
    "collapsed": true
   },
   "outputs": [],
   "source": []
  },
  {
   "cell_type": "code",
   "execution_count": null,
   "metadata": {
    "collapsed": true
   },
   "outputs": [],
   "source": []
  },
  {
   "cell_type": "code",
   "execution_count": null,
   "metadata": {
    "collapsed": true
   },
   "outputs": [],
   "source": []
  },
  {
   "cell_type": "markdown",
   "metadata": {},
   "source": [
    "\"d) Now generate a response vector Y according to the model Y = β0 + β7X7 + ε,\n",
    "and fit a lasso model. Discuss the results obtained.\""
   ]
  },
  {
   "cell_type": "code",
   "execution_count": null,
   "metadata": {
    "collapsed": true
   },
   "outputs": [],
   "source": []
  },
  {
   "cell_type": "code",
   "execution_count": null,
   "metadata": {
    "collapsed": true
   },
   "outputs": [],
   "source": []
  },
  {
   "cell_type": "code",
   "execution_count": null,
   "metadata": {
    "collapsed": true
   },
   "outputs": [],
   "source": []
  },
  {
   "cell_type": "markdown",
   "metadata": {},
   "source": [
    "# Exercise Four"
   ]
  },
  {
   "cell_type": "code",
   "execution_count": null,
   "metadata": {
    "collapsed": true
   },
   "outputs": [],
   "source": []
  },
  {
   "cell_type": "code",
   "execution_count": null,
   "metadata": {
    "collapsed": true
   },
   "outputs": [],
   "source": []
  },
  {
   "cell_type": "code",
   "execution_count": null,
   "metadata": {
    "collapsed": true
   },
   "outputs": [],
   "source": []
  },
  {
   "cell_type": "markdown",
   "metadata": {},
   "source": [
    "# Exercise Five"
   ]
  },
  {
   "cell_type": "markdown",
   "metadata": {},
   "source": [
    "* Is there a concept you would love to see covered during the course?\n",
    "* Is there a concept that has been used multiple times during the course, but you still have no idea what it means?\n",
    "* Do you feel that you learn better when the course material is covered using slides, or tablet/whiteboard, or numerical illustrations?"
   ]
  },
  {
   "cell_type": "code",
   "execution_count": null,
   "metadata": {
    "collapsed": true
   },
   "outputs": [],
   "source": []
  }
 ],
 "metadata": {
  "kernelspec": {
   "display_name": "Python 3",
   "language": "python",
   "name": "python3"
  },
  "language_info": {
   "codemirror_mode": {
    "name": "ipython",
    "version": 3
   },
   "file_extension": ".py",
   "mimetype": "text/x-python",
   "name": "python",
   "nbconvert_exporter": "python",
   "pygments_lexer": "ipython3",
   "version": "3.6.0"
  }
 },
 "nbformat": 4,
 "nbformat_minor": 2
}
