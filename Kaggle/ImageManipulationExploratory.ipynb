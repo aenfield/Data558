{
 "cells": [
  {
   "cell_type": "code",
   "execution_count": 25,
   "metadata": {
    "collapsed": true
   },
   "outputs": [],
   "source": [
    "import os\n",
    "import re\n",
    "import itertools\n",
    "import numpy as np \n",
    "\n",
    "from io import BytesIO\n",
    "from matplotlib.pyplot import imshow\n",
    "from PIL import Image, ImageOps  # PIL is the Python Imaging Library"
   ]
  },
  {
   "cell_type": "code",
   "execution_count": 6,
   "metadata": {
    "collapsed": true
   },
   "outputs": [],
   "source": [
    "images_train_dir = 'images/train'\n",
    "images_test_dir = 'images/test'"
   ]
  },
  {
   "cell_type": "code",
   "execution_count": 7,
   "metadata": {
    "collapsed": true
   },
   "outputs": [],
   "source": [
    "def get_image_list(which=\"train\"):\n",
    "    image_paths_all = []\n",
    "    if which == \"train\": # train, many directories\n",
    "        image_dirs_train = list(os.walk(images_train_dir))[1:]  # skip first because we don't want the parent dir\n",
    "        image_paths_all = list(itertools.chain.from_iterable(\n",
    "            [[os.path.join(dirinfo[0], fileinfo) for fileinfo in dirinfo[2]] for dirinfo in image_dirs_train]))\n",
    "    else: # test, single directory\n",
    "        image_paths_all = [os.path.join(images_test_dir, file_path) for file_path in os.listdir(images_test_dir)]\n",
    "\n",
    "    list_images = [image_path for image_path in image_paths_all if re.search('jpg|JPG', image_path)]\n",
    "    return list_images"
   ]
  },
  {
   "cell_type": "code",
   "execution_count": 12,
   "metadata": {
    "collapsed": false
   },
   "outputs": [
    {
     "data": {
      "text/plain": [
       "['images/train/001.Black_footed_Albatross/Black_Footed_Albatross_0003_796136.jpg',\n",
       " 'images/train/001.Black_footed_Albatross/Black_Footed_Albatross_0005_796090.jpg',\n",
       " 'images/train/001.Black_footed_Albatross/Black_Footed_Albatross_0009_34.jpg',\n",
       " 'images/train/001.Black_footed_Albatross/Black_Footed_Albatross_0014_89.jpg',\n",
       " 'images/train/001.Black_footed_Albatross/Black_Footed_Albatross_0023_796059.jpg']"
      ]
     },
     "execution_count": 12,
     "metadata": {},
     "output_type": "execute_result"
    }
   ],
   "source": [
    "get_image_list('train')[:5]"
   ]
  },
  {
   "cell_type": "markdown",
   "metadata": {},
   "source": [
    "Overall:\n",
    "\n",
    "* get list of train image paths\n",
    "* for each path\n",
    "    * load the image\n",
    "    * mirror the image and save the result w/ the same path and -m appended\n"
   ]
  },
  {
   "cell_type": "code",
   "execution_count": 15,
   "metadata": {
    "collapsed": false
   },
   "outputs": [
    {
     "data": {
      "text/plain": [
       "'images/train/001.Black_footed_Albatross/Black_Footed_Albatross_0003_796136.jpg'"
      ]
     },
     "execution_count": 15,
     "metadata": {},
     "output_type": "execute_result"
    }
   ],
   "source": [
    "foo_path = get_image_list('train')[0]\n",
    "foo_path"
   ]
  },
  {
   "cell_type": "code",
   "execution_count": 20,
   "metadata": {
    "collapsed": false
   },
   "outputs": [
    {
     "data": {
      "text/plain": [
       "_io.BufferedReader"
      ]
     },
     "execution_count": 20,
     "metadata": {},
     "output_type": "execute_result"
    }
   ],
   "source": [
    "imgbytes = open(foo_path, 'rb')\n",
    "type(imgbytes)\n",
    "#imbytes = Image.open(BytesIO(open(foo_path, 'rb')))"
   ]
  },
  {
   "cell_type": "code",
   "execution_count": 27,
   "metadata": {
    "collapsed": false
   },
   "outputs": [],
   "source": [
    "img = Image.open(imgbytes)"
   ]
  },
  {
   "cell_type": "code",
   "execution_count": 28,
   "metadata": {
    "collapsed": false
   },
   "outputs": [],
   "source": [
    "img_mirrored = ImageOps.mirror(img)"
   ]
  },
  {
   "cell_type": "code",
   "execution_count": 33,
   "metadata": {
    "collapsed": false
   },
   "outputs": [
    {
     "data": {
      "text/plain": [
       "'images/train/001.Black_footed_Albatross/Black_Footed_Albatross_0003_796136'"
      ]
     },
     "execution_count": 33,
     "metadata": {},
     "output_type": "execute_result"
    }
   ],
   "source": [
    "foo_path.rstrip('.jpg')"
   ]
  },
  {
   "cell_type": "code",
   "execution_count": 36,
   "metadata": {
    "collapsed": false
   },
   "outputs": [
    {
     "data": {
      "text/plain": [
       "'images/train/001.Black_footed_Albatross/Black_Footed_Albatross_0003_796136-m.jpg'"
      ]
     },
     "execution_count": 36,
     "metadata": {},
     "output_type": "execute_result"
    }
   ],
   "source": [
    "new_path = \"{}-m.jpg\".format(foo_path.rstrip('.jpg'))\n",
    "new_path"
   ]
  },
  {
   "cell_type": "code",
   "execution_count": 37,
   "metadata": {
    "collapsed": true
   },
   "outputs": [],
   "source": [
    "img_mirrored.save(new_path)"
   ]
  },
  {
   "cell_type": "code",
   "execution_count": null,
   "metadata": {
    "collapsed": true
   },
   "outputs": [],
   "source": []
  }
 ],
 "metadata": {
  "kernelspec": {
   "display_name": "Python 3",
   "language": "python",
   "name": "python3"
  },
  "language_info": {
   "codemirror_mode": {
    "name": "ipython",
    "version": 3
   },
   "file_extension": ".py",
   "mimetype": "text/x-python",
   "name": "python",
   "nbconvert_exporter": "python",
   "pygments_lexer": "ipython3",
   "version": "3.6.0"
  }
 },
 "nbformat": 4,
 "nbformat_minor": 2
}
