{
 "cells": [
  {
   "cell_type": "code",
   "execution_count": 116,
   "metadata": {
    "collapsed": true
   },
   "outputs": [],
   "source": [
    "import numpy as np \n",
    "import pandas as pd \n",
    "import scipy\n",
    "import matplotlib.pyplot as plt \n",
    "import seaborn as sns\n",
    "import itertools\n",
    "from datetime import datetime\n",
    "%matplotlib inline \n",
    "\n",
    "from sklearn import model_selection \n",
    "from sklearn.metrics import accuracy_score, confusion_matrix\n",
    "from sklearn import preprocessing # for scale\n",
    "\n",
    "import pickle\n",
    "import importlib\n",
    "\n",
    "import finalproj as fp\n",
    "import corinne"
   ]
  },
  {
   "cell_type": "code",
   "execution_count": 2,
   "metadata": {
    "collapsed": false
   },
   "outputs": [
    {
     "data": {
      "text/plain": [
       "<module 'corinne' from '/Users/andrewenfield/work/github/Data558/Kaggle/corinne.py'>"
      ]
     },
     "execution_count": 2,
     "metadata": {},
     "output_type": "execute_result"
    }
   ],
   "source": [
    "importlib.reload(fp)\n",
    "importlib.reload(corinne)"
   ]
  },
  {
   "cell_type": "code",
   "execution_count": 3,
   "metadata": {
    "collapsed": false
   },
   "outputs": [
    {
     "name": "stdout",
     "output_type": "stream",
     "text": [
      "4320 4320\n"
     ]
    }
   ],
   "source": [
    "features_train = np.array(pickle.load(open('features_train', 'rb')))\n",
    "labels_train = np.array(pickle.load(open('labels_train', 'rb')))\n",
    "print(len(features_train), len(labels_train))"
   ]
  },
  {
   "cell_type": "code",
   "execution_count": 4,
   "metadata": {
    "collapsed": false
   },
   "outputs": [
    {
     "data": {
      "text/plain": [
       "(4320, 2048)"
      ]
     },
     "execution_count": 4,
     "metadata": {},
     "output_type": "execute_result"
    }
   ],
   "source": [
    "X_scaled = preprocessing.scale(features_train)\n",
    "X_scaled.shape"
   ]
  },
  {
   "cell_type": "markdown",
   "metadata": {
    "collapsed": false
   },
   "source": [
    "_Pick two classes of your choice from the dataset. Train an L2-regularized logistic regression classiﬁer on the training set using your own fast gradient algorithm with λ = 1. Plot, with diﬀerent colors, the misclassiﬁcation error on the training set and on the validation set vs iterations._"
   ]
  },
  {
   "cell_type": "markdown",
   "metadata": {
    "collapsed": true
   },
   "source": [
    "I'll pick 086, Pacific Loon, and 087, Mallard, as the two classes.\n",
    "\n",
    "Per Zaid's answer on 5/27, in this problem I'm considering just the subset of the data that has these two classes. I pull the data and train/test a binary classifer. I only use the 60 observations for the two chosen birds."
   ]
  },
  {
   "cell_type": "code",
   "execution_count": 5,
   "metadata": {
    "collapsed": false
   },
   "outputs": [
    {
     "data": {
      "text/plain": [
       "(array([1680, 1681, 1682, 1683, 1684, 1685, 1686, 1687, 1688, 1689, 1690,\n",
       "        1691, 1692, 1693, 1694, 1695, 1696, 1697, 1698, 1699, 1700, 1701,\n",
       "        1702, 1703, 1704, 1705, 1706, 1707, 1708, 1709, 1710, 1711, 1712,\n",
       "        1713, 1714, 1715, 1716, 1717, 1718, 1719, 1720, 1721, 1722, 1723,\n",
       "        1724, 1725, 1726, 1727, 1728, 1729, 1730, 1731, 1732, 1733, 1734,\n",
       "        1735, 1736, 1737, 1738, 1739]),)"
      ]
     },
     "execution_count": 5,
     "metadata": {},
     "output_type": "execute_result"
    }
   ],
   "source": [
    "indices_twoclasses = np.where((labels_train == '086.Pacific_Loon') | (labels_train == '087.Mallard'))\n",
    "indices_twoclasses"
   ]
  },
  {
   "cell_type": "code",
   "execution_count": 6,
   "metadata": {
    "collapsed": false
   },
   "outputs": [
    {
     "data": {
      "text/plain": [
       "(60, 2048)"
      ]
     },
     "execution_count": 6,
     "metadata": {},
     "output_type": "execute_result"
    }
   ],
   "source": [
    "X_twoclasses = X_scaled[indices_twoclasses]\n",
    "X_twoclasses.shape"
   ]
  },
  {
   "cell_type": "code",
   "execution_count": 7,
   "metadata": {
    "collapsed": false
   },
   "outputs": [
    {
     "data": {
      "text/plain": [
       "(60,)"
      ]
     },
     "execution_count": 7,
     "metadata": {},
     "output_type": "execute_result"
    }
   ],
   "source": [
    "y_twoclasses = np.where(labels_train[indices_twoclasses] == '086.Pacific_Loon', 1, -1)\n",
    "y_twoclasses.shape"
   ]
  },
  {
   "cell_type": "code",
   "execution_count": 8,
   "metadata": {
    "collapsed": false
   },
   "outputs": [],
   "source": [
    "def get_probability(logodds):\n",
    "    return 1 / (1 + np.exp(-logodds))\n",
    "    #return np.exp(logodds) / (1 + np.exp(logodds))\n",
    "\n",
    "def get_accuracy(beta_coefs, X, y_actual, prob_threshold=0.5):\n",
    "    \"\"\"\n",
    "    Return the classification accuracy given a set of coefficients, in \n",
    "    beta_coefs, and observations, in X, compared to actual/known values \n",
    "    in y_actual. The threshold parameter defines the value above which the\n",
    "    predicted value is considered a positive example.\n",
    "    \"\"\"\n",
    "    y_pred = X.dot(beta_coefs.T).ravel() # ravel to convert to vector\n",
    "    \n",
    "    # for logistic regression convert to a prob and use a prob threshold\n",
    "    probs = get_probability(y_pred)\n",
    "    y_thresholded = np.where(probs > prob_threshold, 1, -1)\n",
    "    \n",
    "    return accuracy_score(y_actual, y_thresholded)"
   ]
  },
  {
   "cell_type": "code",
   "execution_count": 9,
   "metadata": {
    "collapsed": false
   },
   "outputs": [
    {
     "data": {
      "text/plain": [
       "((42, 2048), (18, 2048), (42,), (18,))"
      ]
     },
     "execution_count": 9,
     "metadata": {},
     "output_type": "execute_result"
    }
   ],
   "source": [
    "X_twoclasses_train, X_twoclasses_test, y_twoclasses_train, y_twoclasses_test = model_selection.train_test_split(\n",
    "    X_twoclasses, y_twoclasses, test_size=0.3)\n",
    "X_twoclasses_train.shape, X_twoclasses_test.shape, y_twoclasses_train.shape, y_twoclasses_test.shape"
   ]
  },
  {
   "cell_type": "code",
   "execution_count": 10,
   "metadata": {
    "collapsed": true
   },
   "outputs": [],
   "source": [
    "t_init = 0.01\n",
    "max_iters = 100"
   ]
  },
  {
   "cell_type": "code",
   "execution_count": 11,
   "metadata": {
    "collapsed": false
   },
   "outputs": [
    {
     "data": {
      "text/html": [
       "<div>\n",
       "<table border=\"1\" class=\"dataframe\">\n",
       "  <thead>\n",
       "    <tr style=\"text-align: right;\">\n",
       "      <th></th>\n",
       "      <th>0</th>\n",
       "      <th>1</th>\n",
       "      <th>2</th>\n",
       "      <th>3</th>\n",
       "      <th>4</th>\n",
       "      <th>5</th>\n",
       "      <th>6</th>\n",
       "      <th>7</th>\n",
       "      <th>8</th>\n",
       "      <th>9</th>\n",
       "      <th>...</th>\n",
       "      <th>2038</th>\n",
       "      <th>2039</th>\n",
       "      <th>2040</th>\n",
       "      <th>2041</th>\n",
       "      <th>2042</th>\n",
       "      <th>2043</th>\n",
       "      <th>2044</th>\n",
       "      <th>2045</th>\n",
       "      <th>2046</th>\n",
       "      <th>2047</th>\n",
       "    </tr>\n",
       "  </thead>\n",
       "  <tbody>\n",
       "    <tr>\n",
       "      <th>98</th>\n",
       "      <td>-0.006024</td>\n",
       "      <td>0.000631</td>\n",
       "      <td>0.004123</td>\n",
       "      <td>-0.003482</td>\n",
       "      <td>-0.001739</td>\n",
       "      <td>-0.000461</td>\n",
       "      <td>-0.001852</td>\n",
       "      <td>0.001646</td>\n",
       "      <td>0.000242</td>\n",
       "      <td>-0.002971</td>\n",
       "      <td>...</td>\n",
       "      <td>-0.002482</td>\n",
       "      <td>0.000130</td>\n",
       "      <td>0.003860</td>\n",
       "      <td>-0.009474</td>\n",
       "      <td>0.006331</td>\n",
       "      <td>0.007518</td>\n",
       "      <td>-0.009262</td>\n",
       "      <td>-0.012654</td>\n",
       "      <td>-0.002804</td>\n",
       "      <td>0.002661</td>\n",
       "    </tr>\n",
       "    <tr>\n",
       "      <th>99</th>\n",
       "      <td>-0.006024</td>\n",
       "      <td>0.000632</td>\n",
       "      <td>0.004123</td>\n",
       "      <td>-0.003481</td>\n",
       "      <td>-0.001739</td>\n",
       "      <td>-0.000461</td>\n",
       "      <td>-0.001855</td>\n",
       "      <td>0.001646</td>\n",
       "      <td>0.000241</td>\n",
       "      <td>-0.002972</td>\n",
       "      <td>...</td>\n",
       "      <td>-0.002482</td>\n",
       "      <td>0.000128</td>\n",
       "      <td>0.003858</td>\n",
       "      <td>-0.009473</td>\n",
       "      <td>0.006330</td>\n",
       "      <td>0.007518</td>\n",
       "      <td>-0.009264</td>\n",
       "      <td>-0.012652</td>\n",
       "      <td>-0.002803</td>\n",
       "      <td>0.002660</td>\n",
       "    </tr>\n",
       "    <tr>\n",
       "      <th>100</th>\n",
       "      <td>-0.006023</td>\n",
       "      <td>0.000633</td>\n",
       "      <td>0.004124</td>\n",
       "      <td>-0.003481</td>\n",
       "      <td>-0.001740</td>\n",
       "      <td>-0.000461</td>\n",
       "      <td>-0.001858</td>\n",
       "      <td>0.001645</td>\n",
       "      <td>0.000241</td>\n",
       "      <td>-0.002974</td>\n",
       "      <td>...</td>\n",
       "      <td>-0.002482</td>\n",
       "      <td>0.000127</td>\n",
       "      <td>0.003857</td>\n",
       "      <td>-0.009473</td>\n",
       "      <td>0.006328</td>\n",
       "      <td>0.007518</td>\n",
       "      <td>-0.009265</td>\n",
       "      <td>-0.012650</td>\n",
       "      <td>-0.002802</td>\n",
       "      <td>0.002659</td>\n",
       "    </tr>\n",
       "  </tbody>\n",
       "</table>\n",
       "<p>3 rows × 2048 columns</p>\n",
       "</div>"
      ],
      "text/plain": [
       "         0         1         2         3         4         5         6     \\\n",
       "98  -0.006024  0.000631  0.004123 -0.003482 -0.001739 -0.000461 -0.001852   \n",
       "99  -0.006024  0.000632  0.004123 -0.003481 -0.001739 -0.000461 -0.001855   \n",
       "100 -0.006023  0.000633  0.004124 -0.003481 -0.001740 -0.000461 -0.001858   \n",
       "\n",
       "         7         8         9       ...         2038      2039      2040  \\\n",
       "98   0.001646  0.000242 -0.002971    ...    -0.002482  0.000130  0.003860   \n",
       "99   0.001646  0.000241 -0.002972    ...    -0.002482  0.000128  0.003858   \n",
       "100  0.001645  0.000241 -0.002974    ...    -0.002482  0.000127  0.003857   \n",
       "\n",
       "         2041      2042      2043      2044      2045      2046      2047  \n",
       "98  -0.009474  0.006331  0.007518 -0.009262 -0.012654 -0.002804  0.002661  \n",
       "99  -0.009473  0.006330  0.007518 -0.009264 -0.012652 -0.002803  0.002660  \n",
       "100 -0.009473  0.006328  0.007518 -0.009265 -0.012650 -0.002802  0.002659  \n",
       "\n",
       "[3 rows x 2048 columns]"
      ]
     },
     "execution_count": 11,
     "metadata": {},
     "output_type": "execute_result"
    }
   ],
   "source": [
    "results = fp.fastgradalgo(\n",
    "    X_twoclasses_train, y_twoclasses_train, t_init=t_init, \n",
    "    grad_func = fp.compute_gradient_logistic_regression, \n",
    "    obj_func = fp.compute_objective_logistic_regression, \n",
    "    lam=1, max_iter=max_iters)\n",
    "results[-3:]"
   ]
  },
  {
   "cell_type": "code",
   "execution_count": 12,
   "metadata": {
    "collapsed": false
   },
   "outputs": [
    {
     "name": "stdout",
     "output_type": "stream",
     "text": [
      "Accuracy: 100.0%\n",
      "Misclassification error: 0.0%\n"
     ]
    }
   ],
   "source": [
    "# note use of the held out test data to get the performance metrics\n",
    "accuracy = get_accuracy(fp.get_final_coefs(results), X_twoclasses_test, y_twoclasses_test)\n",
    "print(\"Accuracy: {0:.1%}\".format(accuracy))\n",
    "print(\"Misclassification error: {0:.1%}\".format(1 - accuracy))"
   ]
  },
  {
   "cell_type": "code",
   "execution_count": 13,
   "metadata": {
    "collapsed": true
   },
   "outputs": [],
   "source": [
    "def get_objective_values(beta_results_df, X, y, lam):\n",
    "    return beta_results_df.apply(lambda r: fp.compute_objective_logistic_regression(r.values, \n",
    "                                                    X, y, lam), axis=1)"
   ]
  },
  {
   "cell_type": "code",
   "execution_count": 14,
   "metadata": {
    "collapsed": false
   },
   "outputs": [
    {
     "data": {
      "text/html": [
       "<div>\n",
       "<table border=\"1\" class=\"dataframe\">\n",
       "  <thead>\n",
       "    <tr style=\"text-align: right;\">\n",
       "      <th></th>\n",
       "      <th>Train</th>\n",
       "      <th>Validation</th>\n",
       "    </tr>\n",
       "  </thead>\n",
       "  <tbody>\n",
       "    <tr>\n",
       "      <th>0</th>\n",
       "      <td>0.693147</td>\n",
       "      <td>0.693147</td>\n",
       "    </tr>\n",
       "    <tr>\n",
       "      <th>1</th>\n",
       "      <td>0.246583</td>\n",
       "      <td>0.327964</td>\n",
       "    </tr>\n",
       "    <tr>\n",
       "      <th>2</th>\n",
       "      <td>0.149881</td>\n",
       "      <td>0.144143</td>\n",
       "    </tr>\n",
       "  </tbody>\n",
       "</table>\n",
       "</div>"
      ],
      "text/plain": [
       "      Train  Validation\n",
       "0  0.693147    0.693147\n",
       "1  0.246583    0.327964\n",
       "2  0.149881    0.144143"
      ]
     },
     "execution_count": 14,
     "metadata": {},
     "output_type": "execute_result"
    }
   ],
   "source": [
    "obj_vals = pd.DataFrame({'Train': get_objective_values(results, X_twoclasses_train, y_twoclasses_train, 1),\n",
    "              'Validation': get_objective_values(results, X_twoclasses_test, y_twoclasses_test, 1)})\n",
    "obj_vals[:3]"
   ]
  },
  {
   "cell_type": "code",
   "execution_count": 15,
   "metadata": {
    "collapsed": false
   },
   "outputs": [
    {
     "data": {
      "text/plain": [
       "<matplotlib.text.Text at 0x106d819b0>"
      ]
     },
     "execution_count": 15,
     "metadata": {},
     "output_type": "execute_result"
    },
    {
     "data": {
      "image/png": "[encoded data removed]",
      "text/plain": [
       "<matplotlib.figure.Figure at 0x11a807e48>"
      ]
     },
     "metadata": {},
     "output_type": "display_data"
    }
   ],
   "source": [
    "ax = obj_vals.plot()\n",
    "ax.set_xlabel('Iteration')\n",
    "ax.set_ylabel('Objective value')\n",
    "ax.set_title('Objective function by iteration')"
   ]
  },
  {
   "cell_type": "code",
   "execution_count": 16,
   "metadata": {
    "collapsed": true
   },
   "outputs": [],
   "source": [
    "def get_misclassification_errors(beta_results_df, X, y):\n",
    "    return beta_results_df.apply(lambda r: 1 - get_accuracy(r.values, X, y), axis=1)"
   ]
  },
  {
   "cell_type": "code",
   "execution_count": 17,
   "metadata": {
    "collapsed": false
   },
   "outputs": [
    {
     "data": {
      "text/html": [
       "<div>\n",
       "<table border=\"1\" class=\"dataframe\">\n",
       "  <thead>\n",
       "    <tr style=\"text-align: right;\">\n",
       "      <th></th>\n",
       "      <th>Train</th>\n",
       "      <th>Validation</th>\n",
       "    </tr>\n",
       "  </thead>\n",
       "  <tbody>\n",
       "    <tr>\n",
       "      <th>0</th>\n",
       "      <td>0.452381</td>\n",
       "      <td>0.611111</td>\n",
       "    </tr>\n",
       "    <tr>\n",
       "      <th>1</th>\n",
       "      <td>0.095238</td>\n",
       "      <td>0.111111</td>\n",
       "    </tr>\n",
       "    <tr>\n",
       "      <th>2</th>\n",
       "      <td>0.047619</td>\n",
       "      <td>0.000000</td>\n",
       "    </tr>\n",
       "  </tbody>\n",
       "</table>\n",
       "</div>"
      ],
      "text/plain": [
       "      Train  Validation\n",
       "0  0.452381    0.611111\n",
       "1  0.095238    0.111111\n",
       "2  0.047619    0.000000"
      ]
     },
     "execution_count": 17,
     "metadata": {},
     "output_type": "execute_result"
    }
   ],
   "source": [
    "errors = pd.DataFrame({'Train': get_misclassification_errors(results, X_twoclasses_train, y_twoclasses_train),\n",
    "              'Validation': get_misclassification_errors(results, X_twoclasses_test, y_twoclasses_test)})\n",
    "errors[:3]"
   ]
  },
  {
   "cell_type": "code",
   "execution_count": 18,
   "metadata": {
    "collapsed": false
   },
   "outputs": [
    {
     "data": {
      "text/plain": [
       "<matplotlib.text.Text at 0x11b30ef98>"
      ]
     },
     "execution_count": 18,
     "metadata": {},
     "output_type": "execute_result"
    },
    {
     "data": {
      "image/png": "[encoded data removed]",
      "text/plain": [
       "<matplotlib.figure.Figure at 0x11a85aa58>"
      ]
     },
     "metadata": {},
     "output_type": "display_data"
    }
   ],
   "source": [
    "ax = errors.plot()\n",
    "ax.set_xlabel('Iteration')\n",
    "ax.set_ylabel('Misclassification error')\n",
    "ax.set_title('Misclassification error by iteration')"
   ]
  },
  {
   "cell_type": "markdown",
   "metadata": {
    "collapsed": true
   },
   "source": [
    "## Corinne verification - using her code, do we see the same results?"
   ]
  },
  {
   "cell_type": "code",
   "execution_count": 19,
   "metadata": {
    "collapsed": false
   },
   "outputs": [
    {
     "ename": "NameError",
     "evalue": "name 'X_train' is not defined",
     "output_type": "error",
     "traceback": [
      "\u001b[0;31m---------------------------------------------------------------------------\u001b[0m",
      "\u001b[0;31mNameError\u001b[0m                                 Traceback (most recent call last)",
      "\u001b[0;32m<ipython-input-19-b397a23e9187>\u001b[0m in \u001b[0;36m<module>\u001b[0;34m()\u001b[0m\n\u001b[0;32m----> 1\u001b[0;31m results_corinne, thetas_corinne = corinne.fastgradalgo(np.zeros(X_train.shape[1]),\n\u001b[0m\u001b[1;32m      2\u001b[0m                                        \u001b[0mnp\u001b[0m\u001b[0;34m.\u001b[0m\u001b[0mzeros\u001b[0m\u001b[0;34m(\u001b[0m\u001b[0mX_train\u001b[0m\u001b[0;34m.\u001b[0m\u001b[0mshape\u001b[0m\u001b[0;34m[\u001b[0m\u001b[0;36m1\u001b[0m\u001b[0;34m]\u001b[0m\u001b[0;34m)\u001b[0m\u001b[0;34m,\u001b[0m\u001b[0;34m\u001b[0m\u001b[0m\n\u001b[1;32m      3\u001b[0m                                        \u001b[0;36m1\u001b[0m\u001b[0;34m,\u001b[0m\u001b[0;34m\u001b[0m\u001b[0m\n\u001b[1;32m      4\u001b[0m                                        \u001b[0;36m0.01\u001b[0m\u001b[0;34m,\u001b[0m\u001b[0;34m\u001b[0m\u001b[0m\n\u001b[1;32m      5\u001b[0m                                        \u001b[0;36m100\u001b[0m\u001b[0;34m,\u001b[0m\u001b[0;34m\u001b[0m\u001b[0m\n",
      "\u001b[0;31mNameError\u001b[0m: name 'X_train' is not defined"
     ]
    }
   ],
   "source": [
    "results_corinne, thetas_corinne = corinne.fastgradalgo(np.zeros(X_train.shape[1]),\n",
    "                                       np.zeros(X_train.shape[1]),\n",
    "                                       1,\n",
    "                                       0.01,\n",
    "                                       100,\n",
    "                                       X_train,\n",
    "                                       y_train)\n",
    "results_corinne.shape"
   ]
  },
  {
   "cell_type": "code",
   "execution_count": 20,
   "metadata": {
    "collapsed": false
   },
   "outputs": [
    {
     "ename": "NameError",
     "evalue": "name 'results_corinne' is not defined",
     "output_type": "error",
     "traceback": [
      "\u001b[0;31m---------------------------------------------------------------------------\u001b[0m",
      "\u001b[0;31mNameError\u001b[0m                                 Traceback (most recent call last)",
      "\u001b[0;32m<ipython-input-20-222b882df108>\u001b[0m in \u001b[0;36m<module>\u001b[0;34m()\u001b[0m\n\u001b[0;32m----> 1\u001b[0;31m \u001b[0mresults_corinne\u001b[0m\u001b[0;34m\u001b[0m\u001b[0m\n\u001b[0m",
      "\u001b[0;31mNameError\u001b[0m: name 'results_corinne' is not defined"
     ]
    }
   ],
   "source": [
    "results_corinne"
   ]
  },
  {
   "cell_type": "code",
   "execution_count": 21,
   "metadata": {
    "collapsed": false
   },
   "outputs": [
    {
     "ename": "NameError",
     "evalue": "name 'results_corinne' is not defined",
     "output_type": "error",
     "traceback": [
      "\u001b[0;31m---------------------------------------------------------------------------\u001b[0m",
      "\u001b[0;31mNameError\u001b[0m                                 Traceback (most recent call last)",
      "\u001b[0;32m<ipython-input-21-aa9076bceed5>\u001b[0m in \u001b[0;36m<module>\u001b[0;34m()\u001b[0m\n\u001b[0;32m----> 1\u001b[0;31m \u001b[0mcorinne\u001b[0m\u001b[0;34m.\u001b[0m\u001b[0mobjective_plot\u001b[0m\u001b[0;34m(\u001b[0m\u001b[0mresults_corinne\u001b[0m\u001b[0;34m,\u001b[0m \u001b[0;36m1\u001b[0m\u001b[0;34m,\u001b[0m \u001b[0mX_train\u001b[0m\u001b[0;34m,\u001b[0m \u001b[0my_train\u001b[0m\u001b[0;34m)\u001b[0m\u001b[0;34m\u001b[0m\u001b[0m\n\u001b[0m",
      "\u001b[0;31mNameError\u001b[0m: name 'results_corinne' is not defined"
     ]
    }
   ],
   "source": [
    "corinne.objective_plot(results_corinne, 1, X_train, y_train)"
   ]
  },
  {
   "cell_type": "code",
   "execution_count": 22,
   "metadata": {
    "collapsed": false
   },
   "outputs": [
    {
     "ename": "NameError",
     "evalue": "name 'results_corinne' is not defined",
     "output_type": "error",
     "traceback": [
      "\u001b[0;31m---------------------------------------------------------------------------\u001b[0m",
      "\u001b[0;31mNameError\u001b[0m                                 Traceback (most recent call last)",
      "\u001b[0;32m<ipython-input-22-7013796952e6>\u001b[0m in \u001b[0;36m<module>\u001b[0;34m()\u001b[0m\n\u001b[0;32m----> 1\u001b[0;31m \u001b[0mcorinne\u001b[0m\u001b[0;34m.\u001b[0m\u001b[0mcompute_misclassification_error\u001b[0m\u001b[0;34m(\u001b[0m\u001b[0mresults_corinne\u001b[0m\u001b[0;34m[\u001b[0m\u001b[0;36m100\u001b[0m\u001b[0;34m,\u001b[0m\u001b[0;34m:\u001b[0m\u001b[0;34m]\u001b[0m\u001b[0;34m,\u001b[0m \u001b[0mX_test\u001b[0m\u001b[0;34m,\u001b[0m \u001b[0my_test\u001b[0m\u001b[0;34m)\u001b[0m\u001b[0;34m\u001b[0m\u001b[0m\n\u001b[0m",
      "\u001b[0;31mNameError\u001b[0m: name 'results_corinne' is not defined"
     ]
    }
   ],
   "source": [
    "corinne.compute_misclassification_error(results_corinne[100,:], X_test, y_test)"
   ]
  },
  {
   "cell_type": "code",
   "execution_count": 23,
   "metadata": {
    "collapsed": false
   },
   "outputs": [
    {
     "ename": "NameError",
     "evalue": "name 'X_test' is not defined",
     "output_type": "error",
     "traceback": [
      "\u001b[0;31m---------------------------------------------------------------------------\u001b[0m",
      "\u001b[0;31mNameError\u001b[0m                                 Traceback (most recent call last)",
      "\u001b[0;32m<ipython-input-23-697e267bd4b2>\u001b[0m in \u001b[0;36m<module>\u001b[0;34m()\u001b[0m\n\u001b[0;32m----> 1\u001b[0;31m \u001b[0mcorinne\u001b[0m\u001b[0;34m.\u001b[0m\u001b[0mcompute_misclassification_error\u001b[0m\u001b[0;34m(\u001b[0m\u001b[0mresults\u001b[0m\u001b[0;34m.\u001b[0m\u001b[0mvalues\u001b[0m\u001b[0;34m[\u001b[0m\u001b[0;36m100\u001b[0m\u001b[0;34m,\u001b[0m\u001b[0;34m:\u001b[0m\u001b[0;34m]\u001b[0m\u001b[0;34m,\u001b[0m \u001b[0mX_test\u001b[0m\u001b[0;34m,\u001b[0m \u001b[0my_test\u001b[0m\u001b[0;34m)\u001b[0m\u001b[0;34m\u001b[0m\u001b[0m\n\u001b[0m",
      "\u001b[0;31mNameError\u001b[0m: name 'X_test' is not defined"
     ]
    }
   ],
   "source": [
    "corinne.compute_misclassification_error(results.values[100,:], X_test, y_test)"
   ]
  },
  {
   "cell_type": "code",
   "execution_count": 24,
   "metadata": {
    "collapsed": false
   },
   "outputs": [
    {
     "ename": "NameError",
     "evalue": "name 'results_corinne' is not defined",
     "output_type": "error",
     "traceback": [
      "\u001b[0;31m---------------------------------------------------------------------------\u001b[0m",
      "\u001b[0;31mNameError\u001b[0m                                 Traceback (most recent call last)",
      "\u001b[0;32m<ipython-input-24-0167550fc2f4>\u001b[0m in \u001b[0;36m<module>\u001b[0;34m()\u001b[0m\n\u001b[0;32m----> 1\u001b[0;31m \u001b[0mresults_corinne\u001b[0m\u001b[0;34m[\u001b[0m\u001b[0;36m2\u001b[0m\u001b[0;34m,\u001b[0m\u001b[0;34m:\u001b[0m\u001b[0;34m]\u001b[0m\u001b[0;34m\u001b[0m\u001b[0m\n\u001b[0m",
      "\u001b[0;31mNameError\u001b[0m: name 'results_corinne' is not defined"
     ]
    }
   ],
   "source": [
    "results_corinne[2,:]"
   ]
  },
  {
   "cell_type": "code",
   "execution_count": 25,
   "metadata": {
    "collapsed": false
   },
   "outputs": [
    {
     "data": {
      "text/plain": [
       "array([-0.00333503,  0.00057126,  0.00208173, ..., -0.00391905,\n",
       "       -0.00173726,  0.00095118])"
      ]
     },
     "execution_count": 25,
     "metadata": {},
     "output_type": "execute_result"
    }
   ],
   "source": [
    "results.values[2, :]"
   ]
  },
  {
   "cell_type": "code",
   "execution_count": 26,
   "metadata": {
    "collapsed": false
   },
   "outputs": [
    {
     "ename": "NameError",
     "evalue": "name 'X_train' is not defined",
     "output_type": "error",
     "traceback": [
      "\u001b[0;31m---------------------------------------------------------------------------\u001b[0m",
      "\u001b[0;31mNameError\u001b[0m                                 Traceback (most recent call last)",
      "\u001b[0;32m<ipython-input-26-fd640dd22682>\u001b[0m in \u001b[0;36m<module>\u001b[0;34m()\u001b[0m\n\u001b[1;32m      1\u001b[0m \u001b[0mlambduh\u001b[0m \u001b[0;34m=\u001b[0m \u001b[0;36m1\u001b[0m\u001b[0;34m\u001b[0m\u001b[0m\n\u001b[0;32m----> 2\u001b[0;31m \u001b[0md\u001b[0m \u001b[0;34m=\u001b[0m \u001b[0mX_train\u001b[0m\u001b[0;34m.\u001b[0m\u001b[0mshape\u001b[0m\u001b[0;34m[\u001b[0m\u001b[0;36m1\u001b[0m\u001b[0;34m]\u001b[0m\u001b[0;34m\u001b[0m\u001b[0m\n\u001b[0m\u001b[1;32m      3\u001b[0m \u001b[0mbeta_init\u001b[0m \u001b[0;34m=\u001b[0m \u001b[0mnp\u001b[0m\u001b[0;34m.\u001b[0m\u001b[0mzeros\u001b[0m\u001b[0;34m(\u001b[0m\u001b[0md\u001b[0m\u001b[0;34m)\u001b[0m\u001b[0;34m\u001b[0m\u001b[0m\n\u001b[1;32m      4\u001b[0m \u001b[0mtheta_init\u001b[0m \u001b[0;34m=\u001b[0m \u001b[0mnp\u001b[0m\u001b[0;34m.\u001b[0m\u001b[0mzeros\u001b[0m\u001b[0;34m(\u001b[0m\u001b[0md\u001b[0m\u001b[0;34m)\u001b[0m\u001b[0;34m\u001b[0m\u001b[0m\n\u001b[1;32m      5\u001b[0m eta_init = 1/(scipy.linalg.eigh(1/len(y_train)*X_train.T.dot(X_train), \n",
      "\u001b[0;31mNameError\u001b[0m: name 'X_train' is not defined"
     ]
    }
   ],
   "source": [
    "lambduh = 1\n",
    "d = X_train.shape[1]\n",
    "beta_init = np.zeros(d)\n",
    "theta_init = np.zeros(d)\n",
    "eta_init = 1/(scipy.linalg.eigh(1/len(y_train)*X_train.T.dot(X_train), \n",
    "                                eigvals=(d-1, d-1), eigvals_only=True)[0]+lambduh)\n",
    "maxiter = 300\n",
    "#betas_grad = corinne.graddescent(beta_init, lambduh, eta_init, maxiter, X_train, y_train)\n",
    "betas_fastgrad, thetas_fastgrad = corinne.fastgradalgo(beta_init, theta_init, lambduh, eta_init, maxiter,\n",
    "                                                       X_train, y_train)\n",
    "betas_fastgrad.shape\n",
    "#objective_plot(betas_grad, betas_fastgrad, lambduh, save_file='hw3_q1_part_h_output.png')\n"
   ]
  },
  {
   "cell_type": "code",
   "execution_count": 27,
   "metadata": {
    "collapsed": false
   },
   "outputs": [
    {
     "ename": "NameError",
     "evalue": "name 'betas_fastgrad' is not defined",
     "output_type": "error",
     "traceback": [
      "\u001b[0;31m---------------------------------------------------------------------------\u001b[0m",
      "\u001b[0;31mNameError\u001b[0m                                 Traceback (most recent call last)",
      "\u001b[0;32m<ipython-input-27-19fc4c64c9bc>\u001b[0m in \u001b[0;36m<module>\u001b[0;34m()\u001b[0m\n\u001b[0;32m----> 1\u001b[0;31m \u001b[0mbetas_fastgrad\u001b[0m\u001b[0;34m[\u001b[0m\u001b[0;34m-\u001b[0m\u001b[0;36m1\u001b[0m\u001b[0;34m:\u001b[0m\u001b[0;34m]\u001b[0m\u001b[0;34m\u001b[0m\u001b[0m\n\u001b[0m",
      "\u001b[0;31mNameError\u001b[0m: name 'betas_fastgrad' is not defined"
     ]
    }
   ],
   "source": [
    "betas_fastgrad[-1:]"
   ]
  },
  {
   "cell_type": "code",
   "execution_count": 28,
   "metadata": {
    "collapsed": false
   },
   "outputs": [
    {
     "ename": "NameError",
     "evalue": "name 'betas_fastgrad' is not defined",
     "output_type": "error",
     "traceback": [
      "\u001b[0;31m---------------------------------------------------------------------------\u001b[0m",
      "\u001b[0;31mNameError\u001b[0m                                 Traceback (most recent call last)",
      "\u001b[0;32m<ipython-input-28-f11ad1233967>\u001b[0m in \u001b[0;36m<module>\u001b[0;34m()\u001b[0m\n\u001b[0;32m----> 1\u001b[0;31m \u001b[0mcorinne\u001b[0m\u001b[0;34m.\u001b[0m\u001b[0mcompute_misclassification_error\u001b[0m\u001b[0;34m(\u001b[0m\u001b[0mbetas_fastgrad\u001b[0m\u001b[0;34m[\u001b[0m\u001b[0;34m-\u001b[0m\u001b[0;36m1\u001b[0m\u001b[0;34m,\u001b[0m\u001b[0;34m:\u001b[0m\u001b[0;34m]\u001b[0m\u001b[0;34m,\u001b[0m \u001b[0mX_test\u001b[0m\u001b[0;34m,\u001b[0m \u001b[0my_test\u001b[0m\u001b[0;34m)\u001b[0m\u001b[0;34m\u001b[0m\u001b[0m\n\u001b[0m",
      "\u001b[0;31mNameError\u001b[0m: name 'betas_fastgrad' is not defined"
     ]
    }
   ],
   "source": [
    "corinne.compute_misclassification_error(betas_fastgrad[-1,:], X_test, y_test)"
   ]
  },
  {
   "cell_type": "markdown",
   "metadata": {},
   "source": [
    "Ok, so, bottom line, we get the same results from our code as we do from Corinne's code, even when we use the exact same setup/init code (for ex, that sets eta_init using X.T.dot(X)), and when we use Corinne's code that does backtracking compared to our code, above, where we're not using backtracking. I think this is good enough for me to accept that w/ a lambda of 1 at least, logistic regression is way worse than just returning negative all the time."
   ]
  },
  {
   "cell_type": "markdown",
   "metadata": {},
   "source": [
    "What do we see when we use our backtracking impl?"
   ]
  },
  {
   "cell_type": "code",
   "execution_count": 29,
   "metadata": {
    "collapsed": false
   },
   "outputs": [
    {
     "ename": "NameError",
     "evalue": "name 'X_train' is not defined",
     "output_type": "error",
     "traceback": [
      "\u001b[0;31m---------------------------------------------------------------------------\u001b[0m",
      "\u001b[0;31mNameError\u001b[0m                                 Traceback (most recent call last)",
      "\u001b[0;32m<ipython-input-29-240589237066>\u001b[0m in \u001b[0;36m<module>\u001b[0;34m()\u001b[0m\n\u001b[1;32m      1\u001b[0m results = fp.fastgradalgo(\n\u001b[0;32m----> 2\u001b[0;31m     \u001b[0mX_train\u001b[0m\u001b[0;34m,\u001b[0m \u001b[0my_train\u001b[0m\u001b[0;34m,\u001b[0m \u001b[0mt_init\u001b[0m\u001b[0;34m=\u001b[0m\u001b[0mt_init\u001b[0m\u001b[0;34m,\u001b[0m\u001b[0;34m\u001b[0m\u001b[0m\n\u001b[0m\u001b[1;32m      3\u001b[0m     \u001b[0mgrad_func\u001b[0m \u001b[0;34m=\u001b[0m \u001b[0mfp\u001b[0m\u001b[0;34m.\u001b[0m\u001b[0mcompute_gradient_logistic_regression\u001b[0m\u001b[0;34m,\u001b[0m\u001b[0;34m\u001b[0m\u001b[0m\n\u001b[1;32m      4\u001b[0m     \u001b[0mobj_func\u001b[0m \u001b[0;34m=\u001b[0m \u001b[0mfp\u001b[0m\u001b[0;34m.\u001b[0m\u001b[0mcompute_objective_logistic_regression\u001b[0m\u001b[0;34m,\u001b[0m\u001b[0;34m\u001b[0m\u001b[0m\n\u001b[1;32m      5\u001b[0m     lam=1, max_iter=100)\n",
      "\u001b[0;31mNameError\u001b[0m: name 'X_train' is not defined"
     ]
    }
   ],
   "source": [
    "results = fp.fastgradalgo(\n",
    "    X_train, y_train, t_init=t_init, \n",
    "    grad_func = fp.compute_gradient_logistic_regression, \n",
    "    obj_func = fp.compute_objective_logistic_regression, \n",
    "    lam=1, max_iter=100)\n",
    "results[-3:]"
   ]
  },
  {
   "cell_type": "code",
   "execution_count": 30,
   "metadata": {
    "collapsed": false
   },
   "outputs": [
    {
     "ename": "NameError",
     "evalue": "name 'X_train' is not defined",
     "output_type": "error",
     "traceback": [
      "\u001b[0;31m---------------------------------------------------------------------------\u001b[0m",
      "\u001b[0;31mNameError\u001b[0m                                 Traceback (most recent call last)",
      "\u001b[0;32m<ipython-input-30-4bfc3fc392a1>\u001b[0m in \u001b[0;36m<module>\u001b[0;34m()\u001b[0m\n\u001b[1;32m      1\u001b[0m results = fp.fastgradalgo(\n\u001b[0;32m----> 2\u001b[0;31m     \u001b[0mX_train\u001b[0m\u001b[0;34m,\u001b[0m \u001b[0my_train\u001b[0m\u001b[0;34m,\u001b[0m \u001b[0mt_init\u001b[0m\u001b[0;34m=\u001b[0m\u001b[0mt_init\u001b[0m\u001b[0;34m,\u001b[0m\u001b[0;34m\u001b[0m\u001b[0m\n\u001b[0m\u001b[1;32m      3\u001b[0m     \u001b[0mgrad_func\u001b[0m \u001b[0;34m=\u001b[0m \u001b[0mfp\u001b[0m\u001b[0;34m.\u001b[0m\u001b[0mcompute_gradient_logistic_regression\u001b[0m\u001b[0;34m,\u001b[0m\u001b[0;34m\u001b[0m\u001b[0m\n\u001b[1;32m      4\u001b[0m     \u001b[0mobj_func\u001b[0m \u001b[0;34m=\u001b[0m \u001b[0mfp\u001b[0m\u001b[0;34m.\u001b[0m\u001b[0mcompute_objective_logistic_regression\u001b[0m\u001b[0;34m,\u001b[0m\u001b[0;34m\u001b[0m\u001b[0m\n\u001b[1;32m      5\u001b[0m     lam=1, max_iter=300, t_func=fp.backtracking)\n",
      "\u001b[0;31mNameError\u001b[0m: name 'X_train' is not defined"
     ]
    }
   ],
   "source": [
    "results = fp.fastgradalgo(\n",
    "    X_train, y_train, t_init=t_init, \n",
    "    grad_func = fp.compute_gradient_logistic_regression, \n",
    "    obj_func = fp.compute_objective_logistic_regression, \n",
    "    lam=1, max_iter=300, t_func=fp.backtracking)\n",
    "results[-3:]"
   ]
  },
  {
   "cell_type": "code",
   "execution_count": 31,
   "metadata": {
    "collapsed": false
   },
   "outputs": [
    {
     "ename": "NameError",
     "evalue": "name 'X_test' is not defined",
     "output_type": "error",
     "traceback": [
      "\u001b[0;31m---------------------------------------------------------------------------\u001b[0m",
      "\u001b[0;31mNameError\u001b[0m                                 Traceback (most recent call last)",
      "\u001b[0;32m<ipython-input-31-7a8f8f533245>\u001b[0m in \u001b[0;36m<module>\u001b[0;34m()\u001b[0m\n\u001b[0;32m----> 1\u001b[0;31m \u001b[0mcorinne\u001b[0m\u001b[0;34m.\u001b[0m\u001b[0mcompute_misclassification_error\u001b[0m\u001b[0;34m(\u001b[0m\u001b[0mresults\u001b[0m\u001b[0;34m.\u001b[0m\u001b[0mvalues\u001b[0m\u001b[0;34m[\u001b[0m\u001b[0;34m-\u001b[0m\u001b[0;36m1\u001b[0m\u001b[0;34m,\u001b[0m\u001b[0;34m:\u001b[0m\u001b[0;34m]\u001b[0m\u001b[0;34m,\u001b[0m \u001b[0mX_test\u001b[0m\u001b[0;34m,\u001b[0m \u001b[0my_test\u001b[0m\u001b[0;34m)\u001b[0m\u001b[0;34m\u001b[0m\u001b[0m\n\u001b[0m",
      "\u001b[0;31mNameError\u001b[0m: name 'X_test' is not defined"
     ]
    }
   ],
   "source": [
    "corinne.compute_misclassification_error(results.values[-1,:], X_test, y_test)"
   ]
  },
  {
   "cell_type": "code",
   "execution_count": 32,
   "metadata": {
    "collapsed": false
   },
   "outputs": [
    {
     "ename": "NameError",
     "evalue": "name 'X_test' is not defined",
     "output_type": "error",
     "traceback": [
      "\u001b[0;31m---------------------------------------------------------------------------\u001b[0m",
      "\u001b[0;31mNameError\u001b[0m                                 Traceback (most recent call last)",
      "\u001b[0;32m<ipython-input-32-80b18520c499>\u001b[0m in \u001b[0;36m<module>\u001b[0;34m()\u001b[0m\n\u001b[0;32m----> 1\u001b[0;31m \u001b[0;36m1\u001b[0m \u001b[0;34m-\u001b[0m \u001b[0mget_accuracy\u001b[0m\u001b[0;34m(\u001b[0m\u001b[0mresults\u001b[0m\u001b[0;34m.\u001b[0m\u001b[0mvalues\u001b[0m\u001b[0;34m[\u001b[0m\u001b[0;34m-\u001b[0m\u001b[0;36m1\u001b[0m\u001b[0;34m,\u001b[0m\u001b[0;34m:\u001b[0m\u001b[0;34m]\u001b[0m\u001b[0;34m,\u001b[0m \u001b[0mX_test\u001b[0m\u001b[0;34m,\u001b[0m \u001b[0my_test\u001b[0m\u001b[0;34m)\u001b[0m\u001b[0;34m\u001b[0m\u001b[0m\n\u001b[0m",
      "\u001b[0;31mNameError\u001b[0m: name 'X_test' is not defined"
     ]
    }
   ],
   "source": [
    "1 - get_accuracy(results.values[-1,:], X_test, y_test)"
   ]
  },
  {
   "cell_type": "markdown",
   "metadata": {},
   "source": [
    "Ok, so we get the same results w/ our own backtracking implementation. Note again that since our stopping criteria is _only_ the number of iterations, we don't automatically get any benefit from the improved step sizes that backtracking gives us. That said, we still in theory could get to the minimum faster, which means if we're manually setting max_iter based on experimentation, then backtracking could help.\n",
    "\n",
    "Finally, it's possible that backtracking adds enough processing time that we might want to run w/ it off if we're not going to use it. \n",
    "\n",
    "Although, backtracking might not _just_ give us better steps sizes leading to quicker convergence. It seems like it could also help us avoid the case where we _don't_ converge, if it keeps us from using a static/single step size that at some point means we're moving back and forth on our objective value without decreasing.\n",
    "\n",
    "Bottom line, if i care, I should probably benchmark, and watch for non-convergence being fixed when we use backtracking. I'll keep that in mind.\n",
    "\n",
    "Also, separately, it seems like my impl is way faster than Corinne's - I can run w/ 300 iterations in just a few secs while it takes her's well more than 10-20s it seems, anecdotally. It might be interesting to profile and see if a) this is really the case, and b) if so, why."
   ]
  },
  {
   "cell_type": "code",
   "execution_count": 33,
   "metadata": {
    "collapsed": false
   },
   "outputs": [
    {
     "ename": "NameError",
     "evalue": "name 'X_train' is not defined",
     "output_type": "error",
     "traceback": [
      "\u001b[0;31m---------------------------------------------------------------------------\u001b[0m",
      "\u001b[0;31mNameError\u001b[0m                                 Traceback (most recent call last)",
      "\u001b[0;32m<ipython-input-33-b9478be9d9a9>\u001b[0m in \u001b[0;36m<module>\u001b[0;34m()\u001b[0m\n\u001b[0;32m----> 1\u001b[0;31m \u001b[0mcorinne\u001b[0m\u001b[0;34m.\u001b[0m\u001b[0mobjective_plot\u001b[0m\u001b[0;34m(\u001b[0m\u001b[0mresults\u001b[0m\u001b[0;34m.\u001b[0m\u001b[0mvalues\u001b[0m\u001b[0;34m,\u001b[0m \u001b[0;36m1\u001b[0m\u001b[0;34m,\u001b[0m \u001b[0mX_train\u001b[0m\u001b[0;34m,\u001b[0m \u001b[0my_train\u001b[0m\u001b[0;34m)\u001b[0m\u001b[0;34m\u001b[0m\u001b[0m\n\u001b[0m",
      "\u001b[0;31mNameError\u001b[0m: name 'X_train' is not defined"
     ]
    }
   ],
   "source": [
    "corinne.objective_plot(results.values, 1, X_train, y_train)"
   ]
  },
  {
   "cell_type": "code",
   "execution_count": 34,
   "metadata": {
    "collapsed": false
   },
   "outputs": [
    {
     "ename": "NameError",
     "evalue": "name 'X_train' is not defined",
     "output_type": "error",
     "traceback": [
      "\u001b[0;31m---------------------------------------------------------------------------\u001b[0m",
      "\u001b[0;31mNameError\u001b[0m                                 Traceback (most recent call last)",
      "\u001b[0;32m<ipython-input-34-ef3c85a2b25a>\u001b[0m in \u001b[0;36m<module>\u001b[0;34m()\u001b[0m\n\u001b[0;32m----> 1\u001b[0;31m \u001b[0;34m[\u001b[0m\u001b[0mfp\u001b[0m\u001b[0;34m.\u001b[0m\u001b[0mcompute_objective_logistic_regression\u001b[0m\u001b[0;34m(\u001b[0m\u001b[0mcoefs\u001b[0m\u001b[0;34m,\u001b[0m \u001b[0mX_train\u001b[0m\u001b[0;34m,\u001b[0m \u001b[0my_train\u001b[0m\u001b[0;34m,\u001b[0m \u001b[0;36m1\u001b[0m\u001b[0;34m)\u001b[0m \u001b[0;32mfor\u001b[0m \u001b[0mcoefs\u001b[0m \u001b[0;32min\u001b[0m \u001b[0mresults\u001b[0m\u001b[0;34m.\u001b[0m\u001b[0mvalues\u001b[0m\u001b[0;34m]\u001b[0m\u001b[0;34m[\u001b[0m\u001b[0;34m:\u001b[0m\u001b[0;36m10\u001b[0m\u001b[0;34m]\u001b[0m\u001b[0;34m\u001b[0m\u001b[0m\n\u001b[0m",
      "\u001b[0;32m<ipython-input-34-ef3c85a2b25a>\u001b[0m in \u001b[0;36m<listcomp>\u001b[0;34m(.0)\u001b[0m\n\u001b[0;32m----> 1\u001b[0;31m \u001b[0;34m[\u001b[0m\u001b[0mfp\u001b[0m\u001b[0;34m.\u001b[0m\u001b[0mcompute_objective_logistic_regression\u001b[0m\u001b[0;34m(\u001b[0m\u001b[0mcoefs\u001b[0m\u001b[0;34m,\u001b[0m \u001b[0mX_train\u001b[0m\u001b[0;34m,\u001b[0m \u001b[0my_train\u001b[0m\u001b[0;34m,\u001b[0m \u001b[0;36m1\u001b[0m\u001b[0;34m)\u001b[0m \u001b[0;32mfor\u001b[0m \u001b[0mcoefs\u001b[0m \u001b[0;32min\u001b[0m \u001b[0mresults\u001b[0m\u001b[0;34m.\u001b[0m\u001b[0mvalues\u001b[0m\u001b[0;34m]\u001b[0m\u001b[0;34m[\u001b[0m\u001b[0;34m:\u001b[0m\u001b[0;36m10\u001b[0m\u001b[0;34m]\u001b[0m\u001b[0;34m\u001b[0m\u001b[0m\n\u001b[0m",
      "\u001b[0;31mNameError\u001b[0m: name 'X_train' is not defined"
     ]
    }
   ],
   "source": [
    "[fp.compute_objective_logistic_regression(coefs, X_train, y_train, 1) for coefs in results.values][:10]"
   ]
  },
  {
   "cell_type": "markdown",
   "metadata": {},
   "source": [
    "_Find the value of the regularization parameter λ using cross-validation; you may use scikit-learn’s built-in functions for this purpose. Train an L2-regularized logistic regression classiﬁer on the training set using your own fast gradient algorithm with that value of λ found by cross-validation. Plot, with diﬀerent colors, the misclassiﬁcation error on the training set and on the validation set vs iterations._"
   ]
  },
  {
   "cell_type": "code",
   "execution_count": 35,
   "metadata": {
    "collapsed": false
   },
   "outputs": [
    {
     "data": {
      "text/plain": [
       "<module 'corinne' from '/Users/andrewenfield/work/github/Data558/Kaggle/corinne.py'>"
      ]
     },
     "execution_count": 35,
     "metadata": {},
     "output_type": "execute_result"
    }
   ],
   "source": [
    "importlib.reload(fp)\n",
    "importlib.reload(corinne)"
   ]
  },
  {
   "cell_type": "code",
   "execution_count": 36,
   "metadata": {
    "collapsed": false
   },
   "outputs": [
    {
     "data": {
      "text/plain": [
       "[1e-05, 0.0001, 0.001, 0.01, 0.1, 1, 10]"
      ]
     },
     "execution_count": 36,
     "metadata": {},
     "output_type": "execute_result"
    }
   ],
   "source": [
    "lambdas = [10 ** exponent for exponent in range(-5,2)]\n",
    "lambdas"
   ]
  },
  {
   "cell_type": "code",
   "execution_count": 37,
   "metadata": {
    "collapsed": false
   },
   "outputs": [],
   "source": [
    "lams, scores = fp.cross_validate(10, X_twoclasses_train, y_twoclasses_train, lambdas, max_iters=100)"
   ]
  },
  {
   "cell_type": "code",
   "execution_count": 38,
   "metadata": {
    "collapsed": false
   },
   "outputs": [
    {
     "data": {
      "text/plain": [
       "[(1e-05, 1.0),\n",
       " (0.0001, 1.0),\n",
       " (0.001, 1.0),\n",
       " (0.01, 1.0),\n",
       " (0.1, 1.0),\n",
       " (1, 1.0),\n",
       " (10, 0.95500000000000007)]"
      ]
     },
     "execution_count": 38,
     "metadata": {},
     "output_type": "execute_result"
    }
   ],
   "source": [
    "list(zip(lams, scores))"
   ]
  },
  {
   "cell_type": "code",
   "execution_count": 39,
   "metadata": {
    "collapsed": false
   },
   "outputs": [
    {
     "data": {
      "text/html": [
       "<div>\n",
       "<table border=\"1\" class=\"dataframe\">\n",
       "  <thead>\n",
       "    <tr style=\"text-align: right;\">\n",
       "      <th></th>\n",
       "      <th>0</th>\n",
       "      <th>1</th>\n",
       "      <th>2</th>\n",
       "      <th>3</th>\n",
       "      <th>4</th>\n",
       "      <th>5</th>\n",
       "      <th>6</th>\n",
       "      <th>7</th>\n",
       "      <th>8</th>\n",
       "      <th>9</th>\n",
       "      <th>...</th>\n",
       "      <th>2038</th>\n",
       "      <th>2039</th>\n",
       "      <th>2040</th>\n",
       "      <th>2041</th>\n",
       "      <th>2042</th>\n",
       "      <th>2043</th>\n",
       "      <th>2044</th>\n",
       "      <th>2045</th>\n",
       "      <th>2046</th>\n",
       "      <th>2047</th>\n",
       "    </tr>\n",
       "  </thead>\n",
       "  <tbody>\n",
       "    <tr>\n",
       "      <th>98</th>\n",
       "      <td>-0.017001</td>\n",
       "      <td>0.001543</td>\n",
       "      <td>0.010858</td>\n",
       "      <td>-0.010831</td>\n",
       "      <td>-0.002946</td>\n",
       "      <td>-0.001579</td>\n",
       "      <td>-0.006491</td>\n",
       "      <td>0.002654</td>\n",
       "      <td>0.000364</td>\n",
       "      <td>-0.008531</td>\n",
       "      <td>...</td>\n",
       "      <td>-0.007823</td>\n",
       "      <td>0.001720</td>\n",
       "      <td>0.012890</td>\n",
       "      <td>-0.031864</td>\n",
       "      <td>0.016663</td>\n",
       "      <td>0.023430</td>\n",
       "      <td>-0.024498</td>\n",
       "      <td>-0.038940</td>\n",
       "      <td>-0.007316</td>\n",
       "      <td>0.010297</td>\n",
       "    </tr>\n",
       "    <tr>\n",
       "      <th>99</th>\n",
       "      <td>-0.017045</td>\n",
       "      <td>0.001548</td>\n",
       "      <td>0.010883</td>\n",
       "      <td>-0.010866</td>\n",
       "      <td>-0.002948</td>\n",
       "      <td>-0.001584</td>\n",
       "      <td>-0.006525</td>\n",
       "      <td>0.002646</td>\n",
       "      <td>0.000367</td>\n",
       "      <td>-0.008564</td>\n",
       "      <td>...</td>\n",
       "      <td>-0.007850</td>\n",
       "      <td>0.001728</td>\n",
       "      <td>0.012931</td>\n",
       "      <td>-0.031972</td>\n",
       "      <td>0.016698</td>\n",
       "      <td>0.023511</td>\n",
       "      <td>-0.024565</td>\n",
       "      <td>-0.039056</td>\n",
       "      <td>-0.007330</td>\n",
       "      <td>0.010338</td>\n",
       "    </tr>\n",
       "    <tr>\n",
       "      <th>100</th>\n",
       "      <td>-0.017089</td>\n",
       "      <td>0.001552</td>\n",
       "      <td>0.010909</td>\n",
       "      <td>-0.010900</td>\n",
       "      <td>-0.002950</td>\n",
       "      <td>-0.001590</td>\n",
       "      <td>-0.006559</td>\n",
       "      <td>0.002638</td>\n",
       "      <td>0.000370</td>\n",
       "      <td>-0.008597</td>\n",
       "      <td>...</td>\n",
       "      <td>-0.007876</td>\n",
       "      <td>0.001735</td>\n",
       "      <td>0.012973</td>\n",
       "      <td>-0.032078</td>\n",
       "      <td>0.016733</td>\n",
       "      <td>0.023592</td>\n",
       "      <td>-0.024631</td>\n",
       "      <td>-0.039172</td>\n",
       "      <td>-0.007344</td>\n",
       "      <td>0.010378</td>\n",
       "    </tr>\n",
       "  </tbody>\n",
       "</table>\n",
       "<p>3 rows × 2048 columns</p>\n",
       "</div>"
      ],
      "text/plain": [
       "         0         1         2         3         4         5         6     \\\n",
       "98  -0.017001  0.001543  0.010858 -0.010831 -0.002946 -0.001579 -0.006491   \n",
       "99  -0.017045  0.001548  0.010883 -0.010866 -0.002948 -0.001584 -0.006525   \n",
       "100 -0.017089  0.001552  0.010909 -0.010900 -0.002950 -0.001590 -0.006559   \n",
       "\n",
       "         7         8         9       ...         2038      2039      2040  \\\n",
       "98   0.002654  0.000364 -0.008531    ...    -0.007823  0.001720  0.012890   \n",
       "99   0.002646  0.000367 -0.008564    ...    -0.007850  0.001728  0.012931   \n",
       "100  0.002638  0.000370 -0.008597    ...    -0.007876  0.001735  0.012973   \n",
       "\n",
       "         2041      2042      2043      2044      2045      2046      2047  \n",
       "98  -0.031864  0.016663  0.023430 -0.024498 -0.038940 -0.007316  0.010297  \n",
       "99  -0.031972  0.016698  0.023511 -0.024565 -0.039056 -0.007330  0.010338  \n",
       "100 -0.032078  0.016733  0.023592 -0.024631 -0.039172 -0.007344  0.010378  \n",
       "\n",
       "[3 rows x 2048 columns]"
      ]
     },
     "execution_count": 39,
     "metadata": {},
     "output_type": "execute_result"
    }
   ],
   "source": [
    "results_best = fp.fastgradalgo(\n",
    "    X_twoclasses_train, y_twoclasses_train, t_init=t_init, \n",
    "    grad_func = fp.compute_gradient_logistic_regression, \n",
    "    obj_func = fp.compute_objective_logistic_regression, \n",
    "    lam=0, max_iter=max_iters)\n",
    "results_best[-3:]"
   ]
  },
  {
   "cell_type": "code",
   "execution_count": 40,
   "metadata": {
    "collapsed": false
   },
   "outputs": [
    {
     "data": {
      "text/plain": [
       "1.0"
      ]
     },
     "execution_count": 40,
     "metadata": {},
     "output_type": "execute_result"
    }
   ],
   "source": [
    "fp.get_accuracy(fp.get_final_coefs(results_best), X_twoclasses_test, y_twoclasses_test)"
   ]
  },
  {
   "cell_type": "code",
   "execution_count": 41,
   "metadata": {
    "collapsed": false
   },
   "outputs": [
    {
     "data": {
      "image/png": "[encoded data removed]",
      "text/plain": [
       "<matplotlib.figure.Figure at 0x11c0a3710>"
      ]
     },
     "metadata": {},
     "output_type": "display_data"
    }
   ],
   "source": [
    "fp.plot_misclassification_errors_by_iteration(results_best, X_twoclasses_train, X_twoclasses_test, \n",
    "                                              y_twoclasses_train, y_twoclasses_test)"
   ]
  },
  {
   "cell_type": "markdown",
   "metadata": {},
   "source": [
    "# Homework five"
   ]
  },
  {
   "cell_type": "code",
   "execution_count": 192,
   "metadata": {
    "collapsed": false
   },
   "outputs": [
    {
     "data": {
      "text/plain": [
       "<module 'corinne' from '/Users/andrewenfield/work/github/Data558/Kaggle/corinne.py'>"
      ]
     },
     "execution_count": 192,
     "metadata": {},
     "output_type": "execute_result"
    }
   ],
   "source": [
    "importlib.reload(fp)\n",
    "importlib.reload(corinne)"
   ]
  },
  {
   "cell_type": "markdown",
   "metadata": {},
   "source": [
    "_Pick k = 5 classes of your choice from the dataset. You may choose any subset of 5 classes among all classes of the dataset._"
   ]
  },
  {
   "cell_type": "code",
   "execution_count": 50,
   "metadata": {
    "collapsed": true
   },
   "outputs": [],
   "source": [
    "classifier_labels = ['086.Pacific_Loon','044.Frigatebird','095.Baltimore_Oriole',\n",
    "                     '154.Red_eyed_Vireo','188.Pileated_Woodpecker']"
   ]
  },
  {
   "cell_type": "markdown",
   "metadata": {},
   "source": [
    "_Write a function that, for any class at hand, creates a training set with an equal number of examples from the class at hand and from the other classes. You may simply randomly pick the examples from the other classes._"
   ]
  },
  {
   "cell_type": "code",
   "execution_count": 48,
   "metadata": {
    "collapsed": false
   },
   "outputs": [
    {
     "data": {
      "text/plain": [
       "((42, 2048), (42,))"
      ]
     },
     "execution_count": 48,
     "metadata": {},
     "output_type": "execute_result"
    }
   ],
   "source": [
    "X_incl086_train, X_incl086_test, labels_incl086_train, labels_incl086_test = fp.get_train_tst_balanced_set('086.Pacific_Loon', X_scaled, labels_train)\n",
    "y_incl086_train = np.where(labels_incl086_train == '086.Pacific_Loon', 1, -1)\n",
    "X_incl086_train.shape, y_incl086_train.shape"
   ]
  },
  {
   "cell_type": "markdown",
   "metadata": {},
   "source": [
    "_For each class c, train an L2-regularized logistic regression classiﬁer using your own fast gradient algorithm with λc = 1. Display the confusion matrix. Which classes seem to be the most diﬃcult to classify?_"
   ]
  },
  {
   "cell_type": "code",
   "execution_count": 63,
   "metadata": {
    "collapsed": false
   },
   "outputs": [
    {
     "data": {
      "text/plain": [
       "0.088888888888888906"
      ]
     },
     "execution_count": 63,
     "metadata": {},
     "output_type": "execute_result"
    }
   ],
   "source": [
    "error_rate, cm, actual_labels, predicted_labels = fp.get_results_for_lambdas(classifier_labels, X_scaled, \n",
    "                                                        labels_train, np.ones(5), random_state=100)\n",
    "error_rate"
   ]
  },
  {
   "cell_type": "code",
   "execution_count": 64,
   "metadata": {
    "collapsed": false
   },
   "outputs": [
    {
     "data": {
      "image/png": "[encoded data removed]",
      "text/plain": [
       "<matplotlib.figure.Figure at 0x11b46b080>"
      ]
     },
     "metadata": {},
     "output_type": "display_data"
    }
   ],
   "source": [
    "fp.plot_multiclass_confusion_matrix(cm, classifier_labels)"
   ]
  },
  {
   "cell_type": "markdown",
   "metadata": {},
   "source": [
    "If we look at individual confusion matrices for each classifier, why do we always get a 0 in one corner? This means that we never have any false negatives - that is, we never predict -1 when it's actually 1. We do the other three. Why?\n",
    "\n",
    "So, this means that we never predict that it ISN'T the bird in question, when it is actually the bird in question. I tried w/ an array of thresholds from very low to very high, and while they changed some true negatives to false positives, they never changed any prediction to a false negative. Perhaps this is something that's not uncommon when you have a single 1-vs-rest classifier? For example, that classifier tends to see anything at all that looks remotely like the bird in question as the bird in question (leading to true positives when it IS the bird, and false positives when it's not), but does not - generally, or at all? - think that the bird in question is actually NOT the bird in question. I could also write the above or add in terms of precision and recall if I thought about it for a few more minutes."
   ]
  },
  {
   "cell_type": "markdown",
   "metadata": {},
   "source": [
    "_Write a function that returns the ranked list of classes in terms of classiﬁcation diﬃculty using the confusion matrix. Compute the multi-class misclassiﬁcation error._"
   ]
  },
  {
   "cell_type": "code",
   "execution_count": 65,
   "metadata": {
    "collapsed": false
   },
   "outputs": [
    {
     "data": {
      "text/html": [
       "<div>\n",
       "<table border=\"1\" class=\"dataframe\">\n",
       "  <thead>\n",
       "    <tr style=\"text-align: right;\">\n",
       "      <th></th>\n",
       "      <th>Actual</th>\n",
       "      <th>Predicted</th>\n",
       "    </tr>\n",
       "  </thead>\n",
       "  <tbody>\n",
       "    <tr>\n",
       "      <th>0</th>\n",
       "      <td>086.Pacific_Loon</td>\n",
       "      <td>086.Pacific_Loon</td>\n",
       "    </tr>\n",
       "    <tr>\n",
       "      <th>1</th>\n",
       "      <td>086.Pacific_Loon</td>\n",
       "      <td>086.Pacific_Loon</td>\n",
       "    </tr>\n",
       "  </tbody>\n",
       "</table>\n",
       "</div>"
      ],
      "text/plain": [
       "             Actual         Predicted\n",
       "0  086.Pacific_Loon  086.Pacific_Loon\n",
       "1  086.Pacific_Loon  086.Pacific_Loon"
      ]
     },
     "execution_count": 65,
     "metadata": {},
     "output_type": "execute_result"
    }
   ],
   "source": [
    "test_results_df = pd.DataFrame({'Actual': actual_labels,\n",
    "                                'Predicted': predicted_labels})\n",
    "test_results_df[:2]"
   ]
  },
  {
   "cell_type": "code",
   "execution_count": 66,
   "metadata": {
    "collapsed": false
   },
   "outputs": [
    {
     "data": {
      "text/html": [
       "<div>\n",
       "<table border=\"1\" class=\"dataframe\">\n",
       "  <thead>\n",
       "    <tr style=\"text-align: right;\">\n",
       "      <th></th>\n",
       "      <th>Misclassification error</th>\n",
       "    </tr>\n",
       "    <tr>\n",
       "      <th>Actual</th>\n",
       "      <th></th>\n",
       "    </tr>\n",
       "  </thead>\n",
       "  <tbody>\n",
       "    <tr>\n",
       "      <th>044.Frigatebird</th>\n",
       "      <td>0.222222</td>\n",
       "    </tr>\n",
       "    <tr>\n",
       "      <th>095.Baltimore_Oriole</th>\n",
       "      <td>0.222222</td>\n",
       "    </tr>\n",
       "    <tr>\n",
       "      <th>086.Pacific_Loon</th>\n",
       "      <td>0.000000</td>\n",
       "    </tr>\n",
       "    <tr>\n",
       "      <th>154.Red_eyed_Vireo</th>\n",
       "      <td>0.000000</td>\n",
       "    </tr>\n",
       "    <tr>\n",
       "      <th>188.Pileated_Woodpecker</th>\n",
       "      <td>0.000000</td>\n",
       "    </tr>\n",
       "  </tbody>\n",
       "</table>\n",
       "</div>"
      ],
      "text/plain": [
       "                         Misclassification error\n",
       "Actual                                          \n",
       "044.Frigatebird                         0.222222\n",
       "095.Baltimore_Oriole                    0.222222\n",
       "086.Pacific_Loon                        0.000000\n",
       "154.Red_eyed_Vireo                      0.000000\n",
       "188.Pileated_Woodpecker                 0.000000"
      ]
     },
     "execution_count": 66,
     "metadata": {},
     "output_type": "execute_result"
    }
   ],
   "source": [
    "accuracy_by_class = test_results_df.groupby(['Actual']).agg(lambda g: 1 - accuracy_score(g['Actual'], g['Predicted']))\n",
    "accuracy_by_class.rename(columns={'Predicted': 'Misclassification error'}, inplace=True)\n",
    "accuracy_by_class.sort_values(['Misclassification error'], ascending=False, inplace=True)\n",
    "\n",
    "accuracy_by_class"
   ]
  },
  {
   "cell_type": "code",
   "execution_count": 68,
   "metadata": {
    "collapsed": false
   },
   "outputs": [
    {
     "name": "stdout",
     "output_type": "stream",
     "text": [
      "Overall multi-class misclassification error: 8.9%\n"
     ]
    }
   ],
   "source": [
    "print(\"Overall multi-class misclassification error: {:.1%}\".format(1 - accuracy_score(actual_labels, predicted_labels)))"
   ]
  },
  {
   "cell_type": "markdown",
   "metadata": {},
   "source": [
    "_Find the values of the regularization parameters λ1,...,λk for the classiﬁers using a hold-out validation set strategy. Deﬁne a grid of values Λ for each parameter λc with c = 1,...,k. For each setting of the regularization parameters λ1,...,λk, where each λc can take values in Λ (independently), train all your k = 5 classiﬁers and save the multi-class misclassiﬁcation error on the validation set for each setting of the regularization parameters λ1,...,λk._"
   ]
  },
  {
   "cell_type": "markdown",
   "metadata": {},
   "source": [
    "**TODO** write code that creates a grid and runs for each combo, and then that outputs and saves the misclassification error."
   ]
  },
  {
   "cell_type": "code",
   "execution_count": 174,
   "metadata": {
    "collapsed": false
   },
   "outputs": [
    {
     "data": {
      "text/plain": [
       "[0.001, 0.01, 0.1, 1]"
      ]
     },
     "execution_count": 174,
     "metadata": {},
     "output_type": "execute_result"
    }
   ],
   "source": [
    "lambdas = [10 ** exponent for exponent in range(-3,1)]\n",
    "lambdas"
   ]
  },
  {
   "cell_type": "code",
   "execution_count": 175,
   "metadata": {
    "collapsed": false
   },
   "outputs": [
    {
     "data": {
      "text/plain": [
       "1024"
      ]
     },
     "execution_count": 175,
     "metadata": {},
     "output_type": "execute_result"
    }
   ],
   "source": [
    "lambda_combinations = list(itertools.product(lambdas, repeat=5))\n",
    "len(lambda_combinations)"
   ]
  },
  {
   "cell_type": "code",
   "execution_count": 176,
   "metadata": {
    "collapsed": false
   },
   "outputs": [
    {
     "data": {
      "text/plain": [
       "[(0.001, 0.001, 0.001, 0.001, 0.001),\n",
       " (0.001, 0.001, 0.001, 0.001, 0.01),\n",
       " (0.001, 0.001, 0.001, 0.001, 0.1)]"
      ]
     },
     "execution_count": 176,
     "metadata": {},
     "output_type": "execute_result"
    }
   ],
   "source": [
    "lambda_combinations[:3]"
   ]
  },
  {
   "cell_type": "code",
   "execution_count": 105,
   "metadata": {
    "collapsed": false
   },
   "outputs": [
    {
     "data": {
      "text/plain": [
       "[0.19999999999999996, 0.28888888888888886, 0.17777777777777781]"
      ]
     },
     "execution_count": 105,
     "metadata": {},
     "output_type": "execute_result"
    }
   ],
   "source": [
    "[fp.get_results_for_lambdas(classifier_labels, X_scaled, labels_train, lams)[0] for lams in lambda_combinations[:3]]"
   ]
  },
  {
   "cell_type": "code",
   "execution_count": 141,
   "metadata": {
    "collapsed": false
   },
   "outputs": [
    {
     "data": {
      "text/plain": [
       "list"
      ]
     },
     "execution_count": 141,
     "metadata": {},
     "output_type": "execute_result"
    }
   ],
   "source": [
    "\n",
    "type(errors)"
   ]
  },
  {
   "cell_type": "markdown",
   "metadata": {},
   "source": [
    "**TODO** Need to create train/test sets - one for each label, I think - OUTSIDE the get_results call, and pass it in, so each set of lambdas gets a chance w/ the same set of train and test data. (Might also speed things up at least a little bit, since we won't have to get new sets each time.) "
   ]
  },
  {
   "cell_type": "code",
   "execution_count": 162,
   "metadata": {
    "collapsed": false
   },
   "outputs": [
    {
     "name": "stdout",
     "output_type": "stream",
     "text": [
      "Started at 2017-05-28 22:34:33.608803.\n",
      "Processing lambdas with index 0...\n",
      "Finished at 2017-05-28 22:35:13.140013. Processed 10 sets of lambdas\n"
     ]
    }
   ],
   "source": [
    "print(\"Started at {}.\".format(datetime.now()))\n",
    "\n",
    "misclassification_errors = []\n",
    "\n",
    "try:\n",
    "    for index, lams in enumerate(lambda_combinations[:10]):\n",
    "        if (index % 10 == 0):\n",
    "            print('Processing lambdas with index {}...'.format(index))\n",
    "\n",
    "        error = fp.get_results_for_lambdas(classifier_labels, X_scaled, labels_train, lams)[0]\n",
    "        misclassification_errors.append(error)\n",
    "\n",
    "except:\n",
    "    raise()\n",
    "finally:\n",
    "    print(\"Finished at {}. Processed {} sets of lambdas\".format(datetime.now(), index+1))"
   ]
  },
  {
   "cell_type": "code",
   "execution_count": 163,
   "metadata": {
    "collapsed": false
   },
   "outputs": [
    {
     "data": {
      "text/plain": [
       "[0.044444444444444398,\n",
       " 0.044444444444444398,\n",
       " 0.088888888888888906,\n",
       " 0.11111111111111116,\n",
       " 0.22222222222222221,\n",
       " 0.24444444444444446,\n",
       " 0.24444444444444446,\n",
       " 0.24444444444444446,\n",
       " 0.31111111111111112,\n",
       " 0.33333333333333337]"
      ]
     },
     "execution_count": 163,
     "metadata": {},
     "output_type": "execute_result"
    }
   ],
   "source": [
    "misclassification_errors.sort()\n",
    "misclassification_errors"
   ]
  },
  {
   "cell_type": "code",
   "execution_count": 166,
   "metadata": {
    "collapsed": true
   },
   "outputs": [],
   "source": [
    "from concurrent.futures import ThreadPoolExecutor, as_completed"
   ]
  },
  {
   "cell_type": "code",
   "execution_count": 211,
   "metadata": {
    "collapsed": false
   },
   "outputs": [],
   "source": [
    "def get_misclassification_error_for_lambdas(lambdas):\n",
    "    return lambdas, fp.get_results_for_lambdas(classifier_labels, X_scaled, labels_train, lambdas)[0]\n",
    "\n",
    "# uses already-set (global - boo!) sets_per_labels, since this doesn't change at all for all the runs\n",
    "# and to avoid having to update to take a tuple/deal with multiple arg unpacking (for now at least)\n",
    "def get_misclassification_error_for_lambdas_with_shared_sets(lambdas):\n",
    "    return lambdas, fp.get_results_for_lambdas(classifier_labels, X_scaled, labels_train, lambdas,\n",
    "                                               sets_for_labels=sets_per_labels)[0]\n",
    "\n",
    "def create_and_run_jobs(lambda_combinations, worker_job):\n",
    "    with ThreadPoolExecutor(max_workers=10) as executor:\n",
    "         return executor.map(worker_job, lambda_combinations)"
   ]
  },
  {
   "cell_type": "code",
   "execution_count": 206,
   "metadata": {
    "collapsed": false
   },
   "outputs": [
    {
     "name": "stdout",
     "output_type": "stream",
     "text": [
      "Started at 2017-05-29 09:47:55.743522.\n",
      "Finished at 2017-05-29 09:48:03.926263. Processed 3 sets of lambdas.\n"
     ]
    }
   ],
   "source": [
    "print(\"Started at {}.\".format(datetime.now()))\n",
    "\n",
    "all_results = []\n",
    "\n",
    "results = create_and_run_jobs(lambda_combinations[:3], get_misclassification_error_for_lambdas)\n",
    "for result in results:\n",
    "    all_results.append(result)\n",
    "    \n",
    "print(\"Finished at {}. Processed {} sets of lambdas.\".format(datetime.now(), len(all_results)))"
   ]
  },
  {
   "cell_type": "code",
   "execution_count": 204,
   "metadata": {
    "collapsed": false
   },
   "outputs": [
    {
     "data": {
      "text/plain": [
       "[((0.001, 0.001, 0.001, 0.001, 0.001), 0.26666666666666672),\n",
       " ((0.001, 0.001, 0.001, 0.001, 0.01), 0.26666666666666672),\n",
       " ((0.001, 0.001, 0.001, 0.001, 0.1), 0.17777777777777781)]"
      ]
     },
     "execution_count": 204,
     "metadata": {},
     "output_type": "execute_result"
    }
   ],
   "source": [
    "all_results"
   ]
  },
  {
   "cell_type": "code",
   "execution_count": 182,
   "metadata": {
    "collapsed": true
   },
   "outputs": [],
   "source": [
    "#pickle.dump(all_results, open('all_results', 'wb'))"
   ]
  },
  {
   "cell_type": "code",
   "execution_count": 191,
   "metadata": {
    "collapsed": false
   },
   "outputs": [
    {
     "data": {
      "text/plain": [
       "[0.022222222222222254,\n",
       " 0.022222222222222254,\n",
       " 0.022222222222222254,\n",
       " 0.022222222222222254,\n",
       " 0.044444444444444398,\n",
       " 0.044444444444444398,\n",
       " 0.044444444444444398,\n",
       " 0.044444444444444398,\n",
       " 0.044444444444444398,\n",
       " 0.044444444444444398,\n",
       " 0.044444444444444398,\n",
       " 0.044444444444444398,\n",
       " 0.044444444444444398,\n",
       " 0.044444444444444398,\n",
       " 0.044444444444444398,\n",
       " 0.044444444444444398,\n",
       " 0.044444444444444398,\n",
       " 0.066666666666666652,\n",
       " 0.066666666666666652,\n",
       " 0.066666666666666652,\n",
       " 0.066666666666666652,\n",
       " 0.066666666666666652,\n",
       " 0.066666666666666652,\n",
       " 0.066666666666666652,\n",
       " 0.066666666666666652,\n",
       " 0.066666666666666652,\n",
       " 0.066666666666666652,\n",
       " 0.066666666666666652,\n",
       " 0.066666666666666652,\n",
       " 0.066666666666666652,\n",
       " 0.066666666666666652,\n",
       " 0.066666666666666652,\n",
       " 0.066666666666666652,\n",
       " 0.066666666666666652,\n",
       " 0.066666666666666652,\n",
       " 0.066666666666666652,\n",
       " 0.066666666666666652,\n",
       " 0.066666666666666652,\n",
       " 0.066666666666666652,\n",
       " 0.066666666666666652,\n",
       " 0.066666666666666652,\n",
       " 0.066666666666666652,\n",
       " 0.066666666666666652,\n",
       " 0.066666666666666652,\n",
       " 0.066666666666666652,\n",
       " 0.066666666666666652,\n",
       " 0.066666666666666652,\n",
       " 0.066666666666666652,\n",
       " 0.066666666666666652,\n",
       " 0.066666666666666652,\n",
       " 0.088888888888888906,\n",
       " 0.088888888888888906,\n",
       " 0.088888888888888906,\n",
       " 0.088888888888888906,\n",
       " 0.088888888888888906,\n",
       " 0.088888888888888906,\n",
       " 0.088888888888888906,\n",
       " 0.088888888888888906,\n",
       " 0.088888888888888906,\n",
       " 0.088888888888888906,\n",
       " 0.088888888888888906,\n",
       " 0.088888888888888906,\n",
       " 0.088888888888888906,\n",
       " 0.088888888888888906,\n",
       " 0.088888888888888906,\n",
       " 0.088888888888888906,\n",
       " 0.088888888888888906,\n",
       " 0.088888888888888906,\n",
       " 0.088888888888888906,\n",
       " 0.088888888888888906,\n",
       " 0.088888888888888906,\n",
       " 0.088888888888888906,\n",
       " 0.088888888888888906,\n",
       " 0.088888888888888906,\n",
       " 0.088888888888888906,\n",
       " 0.088888888888888906,\n",
       " 0.088888888888888906,\n",
       " 0.088888888888888906,\n",
       " 0.088888888888888906,\n",
       " 0.088888888888888906,\n",
       " 0.088888888888888906,\n",
       " 0.088888888888888906,\n",
       " 0.088888888888888906,\n",
       " 0.088888888888888906,\n",
       " 0.088888888888888906,\n",
       " 0.088888888888888906,\n",
       " 0.088888888888888906,\n",
       " 0.088888888888888906,\n",
       " 0.088888888888888906,\n",
       " 0.088888888888888906,\n",
       " 0.088888888888888906,\n",
       " 0.088888888888888906,\n",
       " 0.088888888888888906,\n",
       " 0.088888888888888906,\n",
       " 0.088888888888888906,\n",
       " 0.088888888888888906,\n",
       " 0.088888888888888906,\n",
       " 0.088888888888888906,\n",
       " 0.088888888888888906,\n",
       " 0.11111111111111116,\n",
       " 0.11111111111111116,\n",
       " 0.11111111111111116,\n",
       " 0.11111111111111116,\n",
       " 0.11111111111111116,\n",
       " 0.11111111111111116,\n",
       " 0.11111111111111116,\n",
       " 0.11111111111111116,\n",
       " 0.11111111111111116,\n",
       " 0.11111111111111116,\n",
       " 0.11111111111111116,\n",
       " 0.11111111111111116,\n",
       " 0.11111111111111116,\n",
       " 0.11111111111111116,\n",
       " 0.11111111111111116,\n",
       " 0.11111111111111116,\n",
       " 0.11111111111111116,\n",
       " 0.11111111111111116,\n",
       " 0.11111111111111116,\n",
       " 0.11111111111111116,\n",
       " 0.11111111111111116,\n",
       " 0.11111111111111116,\n",
       " 0.11111111111111116,\n",
       " 0.11111111111111116,\n",
       " 0.11111111111111116,\n",
       " 0.11111111111111116,\n",
       " 0.11111111111111116,\n",
       " 0.11111111111111116,\n",
       " 0.11111111111111116,\n",
       " 0.11111111111111116,\n",
       " 0.11111111111111116,\n",
       " 0.11111111111111116,\n",
       " 0.11111111111111116,\n",
       " 0.11111111111111116,\n",
       " 0.11111111111111116,\n",
       " 0.11111111111111116,\n",
       " 0.11111111111111116,\n",
       " 0.11111111111111116,\n",
       " 0.11111111111111116,\n",
       " 0.11111111111111116,\n",
       " 0.11111111111111116,\n",
       " 0.11111111111111116,\n",
       " 0.11111111111111116,\n",
       " 0.11111111111111116,\n",
       " 0.11111111111111116,\n",
       " 0.11111111111111116,\n",
       " 0.11111111111111116,\n",
       " 0.11111111111111116,\n",
       " 0.11111111111111116,\n",
       " 0.11111111111111116,\n",
       " 0.11111111111111116,\n",
       " 0.11111111111111116,\n",
       " 0.11111111111111116,\n",
       " 0.11111111111111116,\n",
       " 0.11111111111111116,\n",
       " 0.11111111111111116,\n",
       " 0.11111111111111116,\n",
       " 0.11111111111111116,\n",
       " 0.11111111111111116,\n",
       " 0.11111111111111116,\n",
       " 0.11111111111111116,\n",
       " 0.11111111111111116,\n",
       " 0.11111111111111116,\n",
       " 0.11111111111111116,\n",
       " 0.1333333333333333,\n",
       " 0.1333333333333333,\n",
       " 0.1333333333333333,\n",
       " 0.1333333333333333,\n",
       " 0.1333333333333333,\n",
       " 0.1333333333333333,\n",
       " 0.1333333333333333,\n",
       " 0.1333333333333333,\n",
       " 0.1333333333333333,\n",
       " 0.1333333333333333,\n",
       " 0.1333333333333333,\n",
       " 0.1333333333333333,\n",
       " 0.1333333333333333,\n",
       " 0.1333333333333333,\n",
       " 0.1333333333333333,\n",
       " 0.1333333333333333,\n",
       " 0.1333333333333333,\n",
       " 0.1333333333333333,\n",
       " 0.1333333333333333,\n",
       " 0.1333333333333333,\n",
       " 0.1333333333333333,\n",
       " 0.1333333333333333,\n",
       " 0.1333333333333333,\n",
       " 0.1333333333333333,\n",
       " 0.1333333333333333,\n",
       " 0.1333333333333333,\n",
       " 0.1333333333333333,\n",
       " 0.1333333333333333,\n",
       " 0.1333333333333333,\n",
       " 0.1333333333333333,\n",
       " 0.1333333333333333,\n",
       " 0.1333333333333333,\n",
       " 0.1333333333333333,\n",
       " 0.1333333333333333,\n",
       " 0.1333333333333333,\n",
       " 0.1333333333333333,\n",
       " 0.1333333333333333,\n",
       " 0.1333333333333333,\n",
       " 0.1333333333333333,\n",
       " 0.1333333333333333,\n",
       " 0.1333333333333333,\n",
       " 0.1333333333333333,\n",
       " 0.1333333333333333,\n",
       " 0.1333333333333333,\n",
       " 0.1333333333333333,\n",
       " 0.1333333333333333,\n",
       " 0.1333333333333333,\n",
       " 0.1333333333333333,\n",
       " 0.1333333333333333,\n",
       " 0.1333333333333333,\n",
       " 0.1333333333333333,\n",
       " 0.1333333333333333,\n",
       " 0.1333333333333333,\n",
       " 0.1333333333333333,\n",
       " 0.1333333333333333,\n",
       " 0.1333333333333333,\n",
       " 0.1333333333333333,\n",
       " 0.1333333333333333,\n",
       " 0.1333333333333333,\n",
       " 0.1333333333333333,\n",
       " 0.1333333333333333,\n",
       " 0.1333333333333333,\n",
       " 0.1333333333333333,\n",
       " 0.1333333333333333,\n",
       " 0.1333333333333333,\n",
       " 0.1333333333333333,\n",
       " 0.1333333333333333,\n",
       " 0.1333333333333333,\n",
       " 0.1333333333333333,\n",
       " 0.1333333333333333,\n",
       " 0.1333333333333333,\n",
       " 0.1333333333333333,\n",
       " 0.1333333333333333,\n",
       " 0.1333333333333333,\n",
       " 0.1333333333333333,\n",
       " 0.1333333333333333,\n",
       " 0.1333333333333333,\n",
       " 0.1333333333333333,\n",
       " 0.1333333333333333,\n",
       " 0.1333333333333333,\n",
       " 0.15555555555555556,\n",
       " 0.15555555555555556,\n",
       " 0.15555555555555556,\n",
       " 0.15555555555555556,\n",
       " 0.15555555555555556,\n",
       " 0.15555555555555556,\n",
       " 0.15555555555555556,\n",
       " 0.15555555555555556,\n",
       " 0.15555555555555556,\n",
       " 0.15555555555555556,\n",
       " 0.15555555555555556,\n",
       " 0.15555555555555556,\n",
       " 0.15555555555555556,\n",
       " 0.15555555555555556,\n",
       " 0.15555555555555556,\n",
       " 0.15555555555555556,\n",
       " 0.15555555555555556,\n",
       " 0.15555555555555556,\n",
       " 0.15555555555555556,\n",
       " 0.15555555555555556,\n",
       " 0.15555555555555556,\n",
       " 0.15555555555555556,\n",
       " 0.15555555555555556,\n",
       " 0.15555555555555556,\n",
       " 0.15555555555555556,\n",
       " 0.15555555555555556,\n",
       " 0.15555555555555556,\n",
       " 0.15555555555555556,\n",
       " 0.15555555555555556,\n",
       " 0.15555555555555556,\n",
       " 0.15555555555555556,\n",
       " 0.15555555555555556,\n",
       " 0.15555555555555556,\n",
       " 0.15555555555555556,\n",
       " 0.15555555555555556,\n",
       " 0.15555555555555556,\n",
       " 0.15555555555555556,\n",
       " 0.15555555555555556,\n",
       " 0.15555555555555556,\n",
       " 0.15555555555555556,\n",
       " 0.15555555555555556,\n",
       " 0.15555555555555556,\n",
       " 0.15555555555555556,\n",
       " 0.15555555555555556,\n",
       " 0.15555555555555556,\n",
       " 0.15555555555555556,\n",
       " 0.15555555555555556,\n",
       " 0.15555555555555556,\n",
       " 0.15555555555555556,\n",
       " 0.15555555555555556,\n",
       " 0.15555555555555556,\n",
       " 0.15555555555555556,\n",
       " 0.15555555555555556,\n",
       " 0.15555555555555556,\n",
       " 0.15555555555555556,\n",
       " 0.15555555555555556,\n",
       " 0.15555555555555556,\n",
       " 0.15555555555555556,\n",
       " 0.15555555555555556,\n",
       " 0.15555555555555556,\n",
       " 0.15555555555555556,\n",
       " 0.15555555555555556,\n",
       " 0.15555555555555556,\n",
       " 0.15555555555555556,\n",
       " 0.15555555555555556,\n",
       " 0.15555555555555556,\n",
       " 0.15555555555555556,\n",
       " 0.15555555555555556,\n",
       " 0.15555555555555556,\n",
       " 0.15555555555555556,\n",
       " 0.15555555555555556,\n",
       " 0.15555555555555556,\n",
       " 0.15555555555555556,\n",
       " 0.15555555555555556,\n",
       " 0.15555555555555556,\n",
       " 0.15555555555555556,\n",
       " 0.15555555555555556,\n",
       " 0.15555555555555556,\n",
       " 0.15555555555555556,\n",
       " 0.15555555555555556,\n",
       " 0.15555555555555556,\n",
       " 0.15555555555555556,\n",
       " 0.15555555555555556,\n",
       " 0.15555555555555556,\n",
       " 0.15555555555555556,\n",
       " 0.17777777777777781,\n",
       " 0.17777777777777781,\n",
       " 0.17777777777777781,\n",
       " 0.17777777777777781,\n",
       " 0.17777777777777781,\n",
       " 0.17777777777777781,\n",
       " 0.17777777777777781,\n",
       " 0.17777777777777781,\n",
       " 0.17777777777777781,\n",
       " 0.17777777777777781,\n",
       " 0.17777777777777781,\n",
       " 0.17777777777777781,\n",
       " 0.17777777777777781,\n",
       " 0.17777777777777781,\n",
       " 0.17777777777777781,\n",
       " 0.17777777777777781,\n",
       " 0.17777777777777781,\n",
       " 0.17777777777777781,\n",
       " 0.17777777777777781,\n",
       " 0.17777777777777781,\n",
       " 0.17777777777777781,\n",
       " 0.17777777777777781,\n",
       " 0.17777777777777781,\n",
       " 0.17777777777777781,\n",
       " 0.17777777777777781,\n",
       " 0.17777777777777781,\n",
       " 0.17777777777777781,\n",
       " 0.17777777777777781,\n",
       " 0.17777777777777781,\n",
       " 0.17777777777777781,\n",
       " 0.17777777777777781,\n",
       " 0.17777777777777781,\n",
       " 0.17777777777777781,\n",
       " 0.17777777777777781,\n",
       " 0.17777777777777781,\n",
       " 0.17777777777777781,\n",
       " 0.17777777777777781,\n",
       " 0.17777777777777781,\n",
       " 0.17777777777777781,\n",
       " 0.17777777777777781,\n",
       " 0.17777777777777781,\n",
       " 0.17777777777777781,\n",
       " 0.17777777777777781,\n",
       " 0.17777777777777781,\n",
       " 0.17777777777777781,\n",
       " 0.17777777777777781,\n",
       " 0.17777777777777781,\n",
       " 0.17777777777777781,\n",
       " 0.17777777777777781,\n",
       " 0.17777777777777781,\n",
       " 0.17777777777777781,\n",
       " 0.17777777777777781,\n",
       " 0.17777777777777781,\n",
       " 0.17777777777777781,\n",
       " 0.17777777777777781,\n",
       " 0.17777777777777781,\n",
       " 0.17777777777777781,\n",
       " 0.17777777777777781,\n",
       " 0.17777777777777781,\n",
       " 0.17777777777777781,\n",
       " 0.17777777777777781,\n",
       " 0.17777777777777781,\n",
       " 0.17777777777777781,\n",
       " 0.17777777777777781,\n",
       " 0.17777777777777781,\n",
       " 0.17777777777777781,\n",
       " 0.17777777777777781,\n",
       " 0.17777777777777781,\n",
       " 0.17777777777777781,\n",
       " 0.17777777777777781,\n",
       " 0.17777777777777781,\n",
       " 0.17777777777777781,\n",
       " 0.19999999999999996,\n",
       " 0.19999999999999996,\n",
       " 0.19999999999999996,\n",
       " 0.19999999999999996,\n",
       " 0.19999999999999996,\n",
       " 0.19999999999999996,\n",
       " 0.19999999999999996,\n",
       " 0.19999999999999996,\n",
       " 0.19999999999999996,\n",
       " 0.19999999999999996,\n",
       " 0.19999999999999996,\n",
       " 0.19999999999999996,\n",
       " 0.19999999999999996,\n",
       " 0.19999999999999996,\n",
       " 0.19999999999999996,\n",
       " 0.19999999999999996,\n",
       " 0.19999999999999996,\n",
       " 0.19999999999999996,\n",
       " 0.19999999999999996,\n",
       " 0.19999999999999996,\n",
       " 0.19999999999999996,\n",
       " 0.19999999999999996,\n",
       " 0.19999999999999996,\n",
       " 0.19999999999999996,\n",
       " 0.19999999999999996,\n",
       " 0.19999999999999996,\n",
       " 0.19999999999999996,\n",
       " 0.19999999999999996,\n",
       " 0.19999999999999996,\n",
       " 0.19999999999999996,\n",
       " 0.19999999999999996,\n",
       " 0.19999999999999996,\n",
       " 0.19999999999999996,\n",
       " 0.19999999999999996,\n",
       " 0.19999999999999996,\n",
       " 0.19999999999999996,\n",
       " 0.19999999999999996,\n",
       " 0.19999999999999996,\n",
       " 0.19999999999999996,\n",
       " 0.19999999999999996,\n",
       " 0.19999999999999996,\n",
       " 0.19999999999999996,\n",
       " 0.19999999999999996,\n",
       " 0.19999999999999996,\n",
       " 0.19999999999999996,\n",
       " 0.19999999999999996,\n",
       " 0.19999999999999996,\n",
       " 0.19999999999999996,\n",
       " 0.19999999999999996,\n",
       " 0.19999999999999996,\n",
       " 0.19999999999999996,\n",
       " 0.19999999999999996,\n",
       " 0.19999999999999996,\n",
       " 0.19999999999999996,\n",
       " 0.19999999999999996,\n",
       " 0.19999999999999996,\n",
       " 0.19999999999999996,\n",
       " 0.19999999999999996,\n",
       " 0.19999999999999996,\n",
       " 0.19999999999999996,\n",
       " 0.19999999999999996,\n",
       " 0.19999999999999996,\n",
       " 0.19999999999999996,\n",
       " 0.19999999999999996,\n",
       " 0.19999999999999996,\n",
       " 0.19999999999999996,\n",
       " 0.19999999999999996,\n",
       " 0.19999999999999996,\n",
       " 0.19999999999999996,\n",
       " 0.19999999999999996,\n",
       " 0.19999999999999996,\n",
       " 0.19999999999999996,\n",
       " 0.19999999999999996,\n",
       " 0.19999999999999996,\n",
       " 0.19999999999999996,\n",
       " 0.19999999999999996,\n",
       " 0.22222222222222221,\n",
       " 0.22222222222222221,\n",
       " 0.22222222222222221,\n",
       " 0.22222222222222221,\n",
       " 0.22222222222222221,\n",
       " 0.22222222222222221,\n",
       " 0.22222222222222221,\n",
       " 0.22222222222222221,\n",
       " 0.22222222222222221,\n",
       " 0.22222222222222221,\n",
       " 0.22222222222222221,\n",
       " 0.22222222222222221,\n",
       " 0.22222222222222221,\n",
       " 0.22222222222222221,\n",
       " 0.22222222222222221,\n",
       " 0.22222222222222221,\n",
       " 0.22222222222222221,\n",
       " 0.22222222222222221,\n",
       " 0.22222222222222221,\n",
       " 0.22222222222222221,\n",
       " 0.22222222222222221,\n",
       " 0.22222222222222221,\n",
       " 0.22222222222222221,\n",
       " 0.22222222222222221,\n",
       " 0.22222222222222221,\n",
       " 0.22222222222222221,\n",
       " 0.22222222222222221,\n",
       " 0.22222222222222221,\n",
       " 0.22222222222222221,\n",
       " 0.22222222222222221,\n",
       " 0.22222222222222221,\n",
       " 0.22222222222222221,\n",
       " 0.22222222222222221,\n",
       " 0.22222222222222221,\n",
       " 0.22222222222222221,\n",
       " 0.22222222222222221,\n",
       " 0.22222222222222221,\n",
       " 0.22222222222222221,\n",
       " 0.22222222222222221,\n",
       " 0.22222222222222221,\n",
       " 0.22222222222222221,\n",
       " 0.22222222222222221,\n",
       " 0.22222222222222221,\n",
       " 0.22222222222222221,\n",
       " 0.22222222222222221,\n",
       " 0.22222222222222221,\n",
       " 0.22222222222222221,\n",
       " 0.22222222222222221,\n",
       " 0.22222222222222221,\n",
       " 0.22222222222222221,\n",
       " 0.22222222222222221,\n",
       " 0.22222222222222221,\n",
       " 0.22222222222222221,\n",
       " 0.22222222222222221,\n",
       " 0.22222222222222221,\n",
       " 0.22222222222222221,\n",
       " 0.22222222222222221,\n",
       " 0.22222222222222221,\n",
       " 0.22222222222222221,\n",
       " 0.22222222222222221,\n",
       " 0.22222222222222221,\n",
       " 0.22222222222222221,\n",
       " 0.22222222222222221,\n",
       " 0.22222222222222221,\n",
       " 0.22222222222222221,\n",
       " 0.22222222222222221,\n",
       " 0.22222222222222221,\n",
       " 0.22222222222222221,\n",
       " 0.22222222222222221,\n",
       " 0.22222222222222221,\n",
       " 0.22222222222222221,\n",
       " 0.22222222222222221,\n",
       " 0.22222222222222221,\n",
       " 0.22222222222222221,\n",
       " 0.22222222222222221,\n",
       " 0.22222222222222221,\n",
       " 0.22222222222222221,\n",
       " 0.22222222222222221,\n",
       " 0.22222222222222221,\n",
       " 0.22222222222222221,\n",
       " 0.22222222222222221,\n",
       " 0.22222222222222221,\n",
       " 0.22222222222222221,\n",
       " 0.22222222222222221,\n",
       " 0.22222222222222221,\n",
       " 0.22222222222222221,\n",
       " 0.22222222222222221,\n",
       " 0.22222222222222221,\n",
       " 0.22222222222222221,\n",
       " 0.22222222222222221,\n",
       " 0.22222222222222221,\n",
       " 0.22222222222222221,\n",
       " 0.22222222222222221,\n",
       " 0.22222222222222221,\n",
       " 0.22222222222222221,\n",
       " 0.22222222222222221,\n",
       " 0.22222222222222221,\n",
       " 0.24444444444444446,\n",
       " 0.24444444444444446,\n",
       " 0.24444444444444446,\n",
       " 0.24444444444444446,\n",
       " 0.24444444444444446,\n",
       " 0.24444444444444446,\n",
       " 0.24444444444444446,\n",
       " 0.24444444444444446,\n",
       " 0.24444444444444446,\n",
       " 0.24444444444444446,\n",
       " 0.24444444444444446,\n",
       " 0.24444444444444446,\n",
       " 0.24444444444444446,\n",
       " 0.24444444444444446,\n",
       " 0.24444444444444446,\n",
       " 0.24444444444444446,\n",
       " 0.24444444444444446,\n",
       " 0.24444444444444446,\n",
       " 0.24444444444444446,\n",
       " 0.24444444444444446,\n",
       " 0.24444444444444446,\n",
       " 0.24444444444444446,\n",
       " 0.24444444444444446,\n",
       " 0.24444444444444446,\n",
       " 0.24444444444444446,\n",
       " 0.24444444444444446,\n",
       " 0.24444444444444446,\n",
       " 0.24444444444444446,\n",
       " 0.24444444444444446,\n",
       " 0.24444444444444446,\n",
       " 0.24444444444444446,\n",
       " 0.24444444444444446,\n",
       " 0.24444444444444446,\n",
       " 0.24444444444444446,\n",
       " 0.24444444444444446,\n",
       " 0.24444444444444446,\n",
       " 0.24444444444444446,\n",
       " 0.24444444444444446,\n",
       " 0.24444444444444446,\n",
       " 0.24444444444444446,\n",
       " 0.24444444444444446,\n",
       " 0.24444444444444446,\n",
       " 0.24444444444444446,\n",
       " 0.24444444444444446,\n",
       " 0.24444444444444446,\n",
       " 0.24444444444444446,\n",
       " 0.24444444444444446,\n",
       " 0.24444444444444446,\n",
       " 0.24444444444444446,\n",
       " 0.24444444444444446,\n",
       " 0.24444444444444446,\n",
       " 0.24444444444444446,\n",
       " 0.24444444444444446,\n",
       " 0.24444444444444446,\n",
       " 0.24444444444444446,\n",
       " 0.24444444444444446,\n",
       " 0.24444444444444446,\n",
       " 0.24444444444444446,\n",
       " 0.24444444444444446,\n",
       " 0.24444444444444446,\n",
       " 0.24444444444444446,\n",
       " 0.24444444444444446,\n",
       " 0.24444444444444446,\n",
       " 0.24444444444444446,\n",
       " 0.24444444444444446,\n",
       " 0.24444444444444446,\n",
       " 0.24444444444444446,\n",
       " 0.24444444444444446,\n",
       " 0.24444444444444446,\n",
       " 0.24444444444444446,\n",
       " 0.24444444444444446,\n",
       " 0.24444444444444446,\n",
       " 0.24444444444444446,\n",
       " 0.24444444444444446,\n",
       " 0.24444444444444446,\n",
       " 0.24444444444444446,\n",
       " 0.24444444444444446,\n",
       " 0.24444444444444446,\n",
       " 0.24444444444444446,\n",
       " 0.24444444444444446,\n",
       " 0.24444444444444446,\n",
       " 0.24444444444444446,\n",
       " 0.24444444444444446,\n",
       " 0.24444444444444446,\n",
       " 0.24444444444444446,\n",
       " 0.24444444444444446,\n",
       " 0.24444444444444446,\n",
       " 0.24444444444444446,\n",
       " 0.24444444444444446,\n",
       " 0.26666666666666672,\n",
       " 0.26666666666666672,\n",
       " 0.26666666666666672,\n",
       " 0.26666666666666672,\n",
       " 0.26666666666666672,\n",
       " 0.26666666666666672,\n",
       " 0.26666666666666672,\n",
       " 0.26666666666666672,\n",
       " 0.26666666666666672,\n",
       " 0.26666666666666672,\n",
       " 0.26666666666666672,\n",
       " 0.26666666666666672,\n",
       " 0.26666666666666672,\n",
       " 0.26666666666666672,\n",
       " 0.26666666666666672,\n",
       " 0.26666666666666672,\n",
       " 0.26666666666666672,\n",
       " 0.26666666666666672,\n",
       " 0.26666666666666672,\n",
       " 0.26666666666666672,\n",
       " 0.26666666666666672,\n",
       " 0.26666666666666672,\n",
       " 0.26666666666666672,\n",
       " 0.26666666666666672,\n",
       " 0.26666666666666672,\n",
       " 0.26666666666666672,\n",
       " 0.26666666666666672,\n",
       " 0.26666666666666672,\n",
       " 0.26666666666666672,\n",
       " 0.26666666666666672,\n",
       " 0.26666666666666672,\n",
       " 0.26666666666666672,\n",
       " 0.26666666666666672,\n",
       " 0.26666666666666672,\n",
       " 0.26666666666666672,\n",
       " 0.26666666666666672,\n",
       " 0.26666666666666672,\n",
       " 0.26666666666666672,\n",
       " 0.26666666666666672,\n",
       " 0.26666666666666672,\n",
       " 0.26666666666666672,\n",
       " 0.26666666666666672,\n",
       " 0.26666666666666672,\n",
       " 0.26666666666666672,\n",
       " 0.26666666666666672,\n",
       " 0.26666666666666672,\n",
       " 0.26666666666666672,\n",
       " 0.26666666666666672,\n",
       " 0.26666666666666672,\n",
       " 0.26666666666666672,\n",
       " 0.26666666666666672,\n",
       " 0.26666666666666672,\n",
       " 0.26666666666666672,\n",
       " 0.26666666666666672,\n",
       " 0.26666666666666672,\n",
       " 0.26666666666666672,\n",
       " 0.26666666666666672,\n",
       " 0.26666666666666672,\n",
       " 0.26666666666666672,\n",
       " 0.26666666666666672,\n",
       " 0.26666666666666672,\n",
       " 0.26666666666666672,\n",
       " 0.26666666666666672,\n",
       " 0.26666666666666672,\n",
       " 0.26666666666666672,\n",
       " 0.26666666666666672,\n",
       " 0.26666666666666672,\n",
       " 0.26666666666666672,\n",
       " 0.26666666666666672,\n",
       " 0.26666666666666672,\n",
       " 0.26666666666666672,\n",
       " 0.26666666666666672,\n",
       " 0.26666666666666672,\n",
       " 0.26666666666666672,\n",
       " 0.26666666666666672,\n",
       " 0.26666666666666672,\n",
       " 0.26666666666666672,\n",
       " 0.26666666666666672,\n",
       " 0.28888888888888886,\n",
       " 0.28888888888888886,\n",
       " 0.28888888888888886,\n",
       " 0.28888888888888886,\n",
       " 0.28888888888888886,\n",
       " 0.28888888888888886,\n",
       " 0.28888888888888886,\n",
       " 0.28888888888888886,\n",
       " 0.28888888888888886,\n",
       " 0.28888888888888886,\n",
       " 0.28888888888888886,\n",
       " 0.28888888888888886,\n",
       " 0.28888888888888886,\n",
       " 0.28888888888888886,\n",
       " 0.28888888888888886,\n",
       " 0.28888888888888886,\n",
       " 0.28888888888888886,\n",
       " 0.28888888888888886,\n",
       " 0.28888888888888886,\n",
       " 0.28888888888888886,\n",
       " 0.28888888888888886,\n",
       " 0.28888888888888886,\n",
       " 0.28888888888888886,\n",
       " 0.28888888888888886,\n",
       " 0.28888888888888886,\n",
       " 0.28888888888888886,\n",
       " 0.28888888888888886,\n",
       " 0.28888888888888886,\n",
       " 0.28888888888888886,\n",
       " 0.28888888888888886,\n",
       " 0.28888888888888886,\n",
       " 0.28888888888888886,\n",
       " 0.28888888888888886,\n",
       " 0.28888888888888886,\n",
       " 0.28888888888888886,\n",
       " 0.28888888888888886,\n",
       " 0.28888888888888886,\n",
       " 0.28888888888888886,\n",
       " 0.28888888888888886,\n",
       " 0.28888888888888886,\n",
       " 0.28888888888888886,\n",
       " 0.28888888888888886,\n",
       " 0.28888888888888886,\n",
       " 0.28888888888888886,\n",
       " 0.28888888888888886,\n",
       " 0.28888888888888886,\n",
       " 0.28888888888888886,\n",
       " 0.28888888888888886,\n",
       " 0.28888888888888886,\n",
       " 0.28888888888888886,\n",
       " 0.28888888888888886,\n",
       " 0.28888888888888886,\n",
       " 0.28888888888888886,\n",
       " 0.28888888888888886,\n",
       " 0.28888888888888886,\n",
       " 0.28888888888888886,\n",
       " 0.28888888888888886,\n",
       " 0.28888888888888886,\n",
       " 0.28888888888888886,\n",
       " 0.28888888888888886,\n",
       " 0.28888888888888886,\n",
       " 0.31111111111111112,\n",
       " 0.31111111111111112,\n",
       " 0.31111111111111112,\n",
       " 0.31111111111111112,\n",
       " 0.31111111111111112,\n",
       " 0.31111111111111112,\n",
       " 0.31111111111111112,\n",
       " 0.31111111111111112,\n",
       " 0.31111111111111112,\n",
       " 0.31111111111111112,\n",
       " 0.31111111111111112,\n",
       " 0.31111111111111112,\n",
       " 0.31111111111111112,\n",
       " 0.31111111111111112,\n",
       " 0.31111111111111112,\n",
       " 0.31111111111111112,\n",
       " 0.31111111111111112,\n",
       " 0.31111111111111112,\n",
       " 0.31111111111111112,\n",
       " 0.31111111111111112,\n",
       " 0.31111111111111112,\n",
       " 0.31111111111111112,\n",
       " 0.31111111111111112,\n",
       " 0.31111111111111112,\n",
       " 0.31111111111111112,\n",
       " 0.31111111111111112,\n",
       " 0.31111111111111112,\n",
       " 0.31111111111111112,\n",
       " 0.31111111111111112,\n",
       " 0.31111111111111112,\n",
       " 0.31111111111111112,\n",
       " 0.31111111111111112,\n",
       " 0.31111111111111112,\n",
       " 0.31111111111111112,\n",
       " 0.31111111111111112,\n",
       " 0.31111111111111112,\n",
       " 0.31111111111111112,\n",
       " 0.31111111111111112,\n",
       " 0.31111111111111112,\n",
       " 0.31111111111111112,\n",
       " 0.31111111111111112,\n",
       " 0.31111111111111112,\n",
       " 0.31111111111111112,\n",
       " 0.31111111111111112,\n",
       " 0.31111111111111112,\n",
       " 0.31111111111111112,\n",
       " 0.31111111111111112,\n",
       " 0.31111111111111112,\n",
       " 0.31111111111111112,\n",
       " 0.31111111111111112,\n",
       " 0.31111111111111112,\n",
       " 0.31111111111111112,\n",
       " 0.31111111111111112,\n",
       " 0.31111111111111112,\n",
       " 0.31111111111111112,\n",
       " 0.31111111111111112,\n",
       " 0.31111111111111112,\n",
       " 0.31111111111111112,\n",
       " 0.31111111111111112,\n",
       " 0.31111111111111112,\n",
       " 0.31111111111111112,\n",
       " 0.31111111111111112,\n",
       " 0.31111111111111112,\n",
       " 0.31111111111111112,\n",
       " 0.31111111111111112,\n",
       " 0.31111111111111112,\n",
       " 0.31111111111111112,\n",
       " 0.31111111111111112,\n",
       " 0.33333333333333337,\n",
       " 0.33333333333333337,\n",
       " 0.33333333333333337,\n",
       " 0.33333333333333337,\n",
       " 0.33333333333333337,\n",
       " 0.33333333333333337,\n",
       " 0.33333333333333337,\n",
       " 0.33333333333333337,\n",
       " 0.33333333333333337,\n",
       " 0.33333333333333337,\n",
       " 0.33333333333333337,\n",
       " 0.33333333333333337,\n",
       " 0.33333333333333337,\n",
       " 0.33333333333333337,\n",
       " 0.33333333333333337,\n",
       " 0.33333333333333337,\n",
       " 0.33333333333333337,\n",
       " 0.33333333333333337,\n",
       " 0.33333333333333337,\n",
       " 0.33333333333333337,\n",
       " 0.33333333333333337,\n",
       " 0.33333333333333337,\n",
       " 0.33333333333333337,\n",
       " 0.33333333333333337,\n",
       " 0.33333333333333337,\n",
       " 0.33333333333333337,\n",
       " 0.33333333333333337,\n",
       " 0.33333333333333337,\n",
       " 0.33333333333333337,\n",
       " 0.33333333333333337,\n",
       " 0.33333333333333337,\n",
       " 0.33333333333333337,\n",
       " 0.33333333333333337,\n",
       " 0.33333333333333337,\n",
       " 0.33333333333333337,\n",
       " 0.33333333333333337,\n",
       " 0.33333333333333337,\n",
       " 0.33333333333333337,\n",
       " 0.33333333333333337,\n",
       " 0.33333333333333337,\n",
       " 0.33333333333333337,\n",
       " 0.33333333333333337,\n",
       " 0.33333333333333337,\n",
       " 0.33333333333333337,\n",
       " 0.33333333333333337,\n",
       " 0.35555555555555551,\n",
       " 0.35555555555555551,\n",
       " 0.35555555555555551,\n",
       " 0.35555555555555551,\n",
       " 0.35555555555555551,\n",
       " 0.35555555555555551,\n",
       " 0.35555555555555551,\n",
       " 0.35555555555555551,\n",
       " 0.35555555555555551,\n",
       " 0.35555555555555551,\n",
       " 0.35555555555555551,\n",
       " 0.35555555555555551,\n",
       " 0.35555555555555551,\n",
       " 0.35555555555555551,\n",
       " 0.35555555555555551,\n",
       " 0.35555555555555551,\n",
       " 0.35555555555555551,\n",
       " 0.35555555555555551,\n",
       " 0.35555555555555551,\n",
       " 0.35555555555555551,\n",
       " 0.35555555555555551,\n",
       " 0.35555555555555551,\n",
       " 0.35555555555555551,\n",
       " 0.35555555555555551,\n",
       " 0.35555555555555551,\n",
       " 0.35555555555555551,\n",
       " 0.35555555555555551,\n",
       " 0.35555555555555551,\n",
       " 0.35555555555555551,\n",
       " 0.35555555555555551,\n",
       " 0.35555555555555551,\n",
       " 0.35555555555555551,\n",
       " 0.35555555555555551,\n",
       " 0.35555555555555551,\n",
       " 0.35555555555555551,\n",
       " 0.35555555555555551,\n",
       " 0.35555555555555551,\n",
       " 0.35555555555555551,\n",
       " 0.35555555555555551,\n",
       " 0.35555555555555551,\n",
       " 0.37777777777777777,\n",
       " 0.37777777777777777,\n",
       " 0.37777777777777777,\n",
       " 0.37777777777777777,\n",
       " 0.37777777777777777,\n",
       " 0.37777777777777777,\n",
       " 0.37777777777777777,\n",
       " 0.37777777777777777,\n",
       " 0.37777777777777777,\n",
       " 0.37777777777777777,\n",
       " 0.37777777777777777,\n",
       " 0.37777777777777777,\n",
       " 0.37777777777777777,\n",
       " 0.37777777777777777,\n",
       " 0.37777777777777777,\n",
       " 0.37777777777777777,\n",
       " 0.37777777777777777,\n",
       " 0.37777777777777777,\n",
       " 0.37777777777777777,\n",
       " 0.37777777777777777,\n",
       " 0.37777777777777777,\n",
       " 0.37777777777777777,\n",
       " 0.37777777777777777,\n",
       " 0.40000000000000002,\n",
       " 0.40000000000000002,\n",
       " 0.40000000000000002,\n",
       " 0.40000000000000002,\n",
       " 0.40000000000000002,\n",
       " 0.40000000000000002,\n",
       " 0.40000000000000002,\n",
       " 0.40000000000000002,\n",
       " 0.40000000000000002,\n",
       " 0.40000000000000002,\n",
       " 0.40000000000000002,\n",
       " 0.40000000000000002,\n",
       " 0.40000000000000002,\n",
       " 0.40000000000000002,\n",
       " 0.40000000000000002,\n",
       " 0.40000000000000002,\n",
       " 0.40000000000000002,\n",
       " 0.40000000000000002,\n",
       " 0.42222222222222228,\n",
       " 0.42222222222222228,\n",
       " 0.42222222222222228,\n",
       " 0.42222222222222228,\n",
       " 0.42222222222222228,\n",
       " ...]"
      ]
     },
     "execution_count": 191,
     "metadata": {},
     "output_type": "execute_result"
    }
   ],
   "source": [
    "foo = [error for _, error in all_results]\n",
    "foo.sort()\n",
    "foo"
   ]
  },
  {
   "cell_type": "markdown",
   "metadata": {},
   "source": [
    "And now, with the ability to generate the train-test sets just once, so that a) most importantly, each fastgradalgo run gets to use the same particular set of train/test data, so one doesn't have an easier or harder time than another, and b) it might be at least a bit faster since we only have to generate the train-test data once rather than for each of the runs for a set of five lambdas."
   ]
  },
  {
   "cell_type": "code",
   "execution_count": 210,
   "metadata": {
    "collapsed": false
   },
   "outputs": [
    {
     "data": {
      "text/plain": [
       "5"
      ]
     },
     "execution_count": 210,
     "metadata": {},
     "output_type": "execute_result"
    }
   ],
   "source": [
    "# the worker func requires the train-test sets to pointed to by the sets_per_labels variable - argh, global state (see above)\n",
    "sets_per_labels = [fp.get_train_tst_balanced_set(classifier_label, X_scaled, labels_train) for classifier_label in classifier_labels]\n",
    "len(sets_per_labels)"
   ]
  },
  {
   "cell_type": "code",
   "execution_count": null,
   "metadata": {
    "collapsed": false
   },
   "outputs": [
    {
     "name": "stdout",
     "output_type": "stream",
     "text": [
      "Started at 2017-05-29 09:56:55.569739.\n"
     ]
    }
   ],
   "source": [
    "print(\"Started at {}.\".format(datetime.now()))\n",
    "\n",
    "all_results_shared_sets = []\n",
    "\n",
    "results = create_and_run_jobs(lambda_combinations, get_misclassification_error_for_lambdas_with_shared_sets)\n",
    "for result in results:\n",
    "    all_results_shared_sets.append(result)\n",
    "    \n",
    "print(\"Finished at {}. Processed {} sets of lambdas.\".format(datetime.now(), len(all_results_shared_sets)))"
   ]
  },
  {
   "cell_type": "code",
   "execution_count": null,
   "metadata": {
    "collapsed": false
   },
   "outputs": [],
   "source": [
    "all_results_shared_sets"
   ]
  },
  {
   "cell_type": "code",
   "execution_count": null,
   "metadata": {
    "collapsed": true
   },
   "outputs": [],
   "source": []
  },
  {
   "cell_type": "code",
   "execution_count": 148,
   "metadata": {
    "collapsed": false
   },
   "outputs": [
    {
     "data": {
      "text/plain": [
       "[0.26666666666666672, 0.088888888888888906]"
      ]
     },
     "execution_count": 148,
     "metadata": {},
     "output_type": "execute_result"
    }
   ],
   "source": [
    "misclassification_errors"
   ]
  },
  {
   "cell_type": "code",
   "execution_count": 103,
   "metadata": {
    "collapsed": false
   },
   "outputs": [],
   "source": [
    "foo = fp.get_results_for_lambdas(classifier_labels, X_scaled, \n",
    "                                                        labels_train, np.ones(5), random_state=100)"
   ]
  },
  {
   "cell_type": "code",
   "execution_count": 104,
   "metadata": {
    "collapsed": false
   },
   "outputs": [
    {
     "data": {
      "text/plain": [
       "0.088888888888888906"
      ]
     },
     "execution_count": 104,
     "metadata": {},
     "output_type": "execute_result"
    }
   ],
   "source": [
    "foo[0]"
   ]
  },
  {
   "cell_type": "code",
   "execution_count": null,
   "metadata": {
    "collapsed": true
   },
   "outputs": [],
   "source": []
  },
  {
   "cell_type": "code",
   "execution_count": 89,
   "metadata": {
    "collapsed": false
   },
   "outputs": [
    {
     "data": {
      "text/plain": [
       "3125"
      ]
     },
     "execution_count": 89,
     "metadata": {},
     "output_type": "execute_result"
    }
   ],
   "source": [
    "5**5"
   ]
  },
  {
   "cell_type": "code",
   "execution_count": 88,
   "metadata": {
    "collapsed": false
   },
   "outputs": [
    {
     "data": {
      "text/plain": [
       "3125"
      ]
     },
     "execution_count": 88,
     "metadata": {},
     "output_type": "execute_result"
    }
   ],
   "source": [
    "len(list(itertools.product([1,2,3,4,5],repeat=5)))"
   ]
  },
  {
   "cell_type": "code",
   "execution_count": 637,
   "metadata": {
    "collapsed": false
   },
   "outputs": [
    {
     "data": {
      "text/plain": [
       "[0.0001, 0.001, 0.01, 0.1, 1, 10]"
      ]
     },
     "execution_count": 637,
     "metadata": {},
     "output_type": "execute_result"
    }
   ],
   "source": [
    "lambdas = [10 ** exponent for exponent in range(-4,2)]\n",
    "lambdas"
   ]
  },
  {
   "cell_type": "code",
   "execution_count": 640,
   "metadata": {
    "collapsed": false
   },
   "outputs": [
    {
     "data": {
      "text/plain": [
       "(0.19999999999999996, array([[6, 0, 3, 0, 0],\n",
       "        [0, 9, 0, 0, 0],\n",
       "        [0, 0, 8, 1, 0],\n",
       "        [0, 1, 0, 8, 0],\n",
       "        [1, 0, 3, 0, 5]]))"
      ]
     },
     "execution_count": 640,
     "metadata": {},
     "output_type": "execute_result"
    }
   ],
   "source": [
    "fp.get_results_for_lambdas(classifier_labels, X_scaled, labels_train, lambdas)"
   ]
  },
  {
   "cell_type": "code",
   "execution_count": 641,
   "metadata": {
    "collapsed": false
   },
   "outputs": [
    {
     "data": {
      "text/plain": [
       "(0.15555555555555556, array([[5, 0, 0, 0, 4],\n",
       "        [0, 7, 0, 0, 2],\n",
       "        [0, 0, 8, 0, 1],\n",
       "        [0, 0, 0, 9, 0],\n",
       "        [0, 0, 0, 0, 9]]))"
      ]
     },
     "execution_count": 641,
     "metadata": {},
     "output_type": "execute_result"
    }
   ],
   "source": [
    "fp.get_results_for_lambdas(classifier_labels, X_scaled, labels_train, np.zeros(5))"
   ]
  },
  {
   "cell_type": "code",
   "execution_count": 642,
   "metadata": {
    "collapsed": false
   },
   "outputs": [
    {
     "data": {
      "text/plain": [
       "(0.066666666666666652, array([[9, 0, 0, 0, 0],\n",
       "        [1, 6, 0, 0, 2],\n",
       "        [0, 0, 9, 0, 0],\n",
       "        [0, 0, 0, 9, 0],\n",
       "        [0, 0, 0, 0, 9]]))"
      ]
     },
     "execution_count": 642,
     "metadata": {},
     "output_type": "execute_result"
    }
   ],
   "source": [
    "fp.get_results_for_lambdas(classifier_labels, X_scaled, labels_train, np.ones(5))"
   ]
  },
  {
   "cell_type": "code",
   "execution_count": null,
   "metadata": {
    "collapsed": true
   },
   "outputs": [],
   "source": []
  },
  {
   "cell_type": "code",
   "execution_count": 627,
   "metadata": {
    "collapsed": false
   },
   "outputs": [
    {
     "data": {
      "text/plain": [
       "[0.0001, 0.001, 0.01, 0.1, 1, 10]"
      ]
     },
     "execution_count": 627,
     "metadata": {},
     "output_type": "execute_result"
    }
   ],
   "source": [
    "lambdas = [10 ** exponent for exponent in range(-4,2)]\n",
    "lambdas"
   ]
  },
  {
   "cell_type": "code",
   "execution_count": 631,
   "metadata": {
    "collapsed": false
   },
   "outputs": [
    {
     "data": {
      "text/plain": [
       "[('086.Pacific_Loon', 0.0001),\n",
       " ('044.Frigatebird', 0.001),\n",
       " ('095.Baltimore_Oriole', 0.01),\n",
       " ('154.Red_eyed_Vireo', 0.1),\n",
       " ('188.Pileated_Woodpecker', 1)]"
      ]
     },
     "execution_count": 631,
     "metadata": {},
     "output_type": "execute_result"
    }
   ],
   "source": [
    "[(label, lam) for label, lam in zip(classifier_labels, lambdas)]"
   ]
  },
  {
   "cell_type": "code",
   "execution_count": 643,
   "metadata": {
    "collapsed": false
   },
   "outputs": [
    {
     "data": {
      "text/plain": [
       "<module 'corinne' from '/Users/andrewenfield/work/github/Data558/Kaggle/corinne.py'>"
      ]
     },
     "execution_count": 643,
     "metadata": {},
     "output_type": "execute_result"
    }
   ],
   "source": [
    "importlib.reload(fp)\n",
    "importlib.reload(corinne)"
   ]
  },
  {
   "cell_type": "markdown",
   "metadata": {},
   "source": [
    "_Find the optimal value of the regularization parameters λ1,...,λk based on the validation error. Display the confusion matrix for this setting of the regularization parameters._"
   ]
  },
  {
   "cell_type": "code",
   "execution_count": null,
   "metadata": {
    "collapsed": true
   },
   "outputs": [],
   "source": []
  }
 ],
 "metadata": {
  "kernelspec": {
   "display_name": "Python 3",
   "language": "python",
   "name": "python3"
  },
  "language_info": {
   "codemirror_mode": {
    "name": "ipython",
    "version": 3
   },
   "file_extension": ".py",
   "mimetype": "text/x-python",
   "name": "python",
   "nbconvert_exporter": "python",
   "pygments_lexer": "ipython3",
   "version": "3.6.0"
  }
 },
 "nbformat": 4,
 "nbformat_minor": 2
}
