{
 "cells": [
  {
   "cell_type": "code",
   "execution_count": 200,
   "metadata": {
    "collapsed": true
   },
   "outputs": [],
   "source": [
    "import numpy as np \n",
    "import pandas as pd \n",
    "import scipy\n",
    "import matplotlib.pyplot as plt \n",
    "import seaborn as sns\n",
    "%matplotlib inline \n",
    "\n",
    "from sklearn import model_selection \n",
    "from sklearn.metrics import accuracy_score, confusion_matrix\n",
    "from sklearn import preprocessing # for scale\n",
    "\n",
    "import pickle\n",
    "import importlib\n",
    "\n",
    "import finalproj as fp\n",
    "import corinne"
   ]
  },
  {
   "cell_type": "code",
   "execution_count": 124,
   "metadata": {
    "collapsed": false
   },
   "outputs": [
    {
     "data": {
      "text/plain": [
       "<module 'corinne' from '/Users/andrewenfield/work/github/Data558/Kaggle/corinne.py'>"
      ]
     },
     "execution_count": 124,
     "metadata": {},
     "output_type": "execute_result"
    }
   ],
   "source": [
    "importlib.reload(fp)\n",
    "importlib.reload(corinne)"
   ]
  },
  {
   "cell_type": "code",
   "execution_count": 3,
   "metadata": {
    "collapsed": false
   },
   "outputs": [
    {
     "name": "stdout",
     "output_type": "stream",
     "text": [
      "4320 4320\n"
     ]
    }
   ],
   "source": [
    "features_train = np.array(pickle.load(open('features_train', 'rb')))\n",
    "labels_train = np.array(pickle.load(open('labels_train', 'rb')))\n",
    "print(len(features_train), len(labels_train))"
   ]
  },
  {
   "cell_type": "code",
   "execution_count": 4,
   "metadata": {
    "collapsed": false
   },
   "outputs": [
    {
     "data": {
      "text/plain": [
       "(4320, 2048)"
      ]
     },
     "execution_count": 4,
     "metadata": {},
     "output_type": "execute_result"
    }
   ],
   "source": [
    "X_scaled = preprocessing.scale(features_train)\n",
    "X_scaled.shape"
   ]
  },
  {
   "cell_type": "markdown",
   "metadata": {
    "collapsed": false
   },
   "source": [
    "_Pick two classes of your choice from the dataset. Train an L2-regularized logistic regression classiﬁer on the training set using your own fast gradient algorithm with λ = 1. Plot, with diﬀerent colors, the misclassiﬁcation error on the training set and on the validation set vs iterations._"
   ]
  },
  {
   "cell_type": "markdown",
   "metadata": {
    "collapsed": true
   },
   "source": [
    "I'll pick 086, Pacific Loon, and 087, Mallard, as the two classes.\n",
    "\n",
    "Per Zaid's answer on 5/27, in this problem I'm considering just the subset of the data that has these two classes. I pull the data and train/test a binary classifer. I only use the 60 observations for the two chosen birds."
   ]
  },
  {
   "cell_type": "code",
   "execution_count": 5,
   "metadata": {
    "collapsed": false
   },
   "outputs": [
    {
     "data": {
      "text/plain": [
       "(array([1680, 1681, 1682, 1683, 1684, 1685, 1686, 1687, 1688, 1689, 1690,\n",
       "        1691, 1692, 1693, 1694, 1695, 1696, 1697, 1698, 1699, 1700, 1701,\n",
       "        1702, 1703, 1704, 1705, 1706, 1707, 1708, 1709, 1710, 1711, 1712,\n",
       "        1713, 1714, 1715, 1716, 1717, 1718, 1719, 1720, 1721, 1722, 1723,\n",
       "        1724, 1725, 1726, 1727, 1728, 1729, 1730, 1731, 1732, 1733, 1734,\n",
       "        1735, 1736, 1737, 1738, 1739]),)"
      ]
     },
     "execution_count": 5,
     "metadata": {},
     "output_type": "execute_result"
    }
   ],
   "source": [
    "indices_twoclasses = np.where((labels_train == '086.Pacific_Loon') | (labels_train == '087.Mallard'))\n",
    "indices_twoclasses"
   ]
  },
  {
   "cell_type": "code",
   "execution_count": 6,
   "metadata": {
    "collapsed": false
   },
   "outputs": [
    {
     "data": {
      "text/plain": [
       "(60, 2048)"
      ]
     },
     "execution_count": 6,
     "metadata": {},
     "output_type": "execute_result"
    }
   ],
   "source": [
    "X_twoclasses = X_scaled[indices_twoclasses]\n",
    "X_twoclasses.shape"
   ]
  },
  {
   "cell_type": "code",
   "execution_count": 7,
   "metadata": {
    "collapsed": false
   },
   "outputs": [
    {
     "data": {
      "text/plain": [
       "(60,)"
      ]
     },
     "execution_count": 7,
     "metadata": {},
     "output_type": "execute_result"
    }
   ],
   "source": [
    "y_twoclasses = np.where(labels_train[indices_twoclasses] == '086.Pacific_Loon', 1, -1)\n",
    "y_twoclasses.shape"
   ]
  },
  {
   "cell_type": "code",
   "execution_count": 105,
   "metadata": {
    "collapsed": false
   },
   "outputs": [],
   "source": [
    "def get_probability(logodds):\n",
    "    return 1 / (1 + np.exp(-logodds))\n",
    "    #return np.exp(logodds) / (1 + np.exp(logodds))\n",
    "\n",
    "def get_accuracy(beta_coefs, X, y_actual, prob_threshold=0.5):\n",
    "    \"\"\"\n",
    "    Return the classification accuracy given a set of coefficients, in \n",
    "    beta_coefs, and observations, in X, compared to actual/known values \n",
    "    in y_actual. The threshold parameter defines the value above which the\n",
    "    predicted value is considered a positive example.\n",
    "    \"\"\"\n",
    "    y_pred = X.dot(beta_coefs.T).ravel() # ravel to convert to vector\n",
    "    \n",
    "    # for logistic regression convert to a prob and use a prob threshold\n",
    "    probs = get_probability(y_pred)\n",
    "    y_thresholded = np.where(probs > prob_threshold, 1, -1)\n",
    "    \n",
    "    return accuracy_score(y_actual, y_thresholded)"
   ]
  },
  {
   "cell_type": "code",
   "execution_count": 106,
   "metadata": {
    "collapsed": false
   },
   "outputs": [
    {
     "data": {
      "text/plain": [
       "((42, 2048), (18, 2048), (42,), (18,))"
      ]
     },
     "execution_count": 106,
     "metadata": {},
     "output_type": "execute_result"
    }
   ],
   "source": [
    "X_twoclasses_train, X_twoclasses_test, y_twoclasses_train, y_twoclasses_test = model_selection.train_test_split(\n",
    "    X_twoclasses, y_twoclasses, test_size=0.3)\n",
    "X_twoclasses_train.shape, X_twoclasses_test.shape, y_twoclasses_train.shape, y_twoclasses_test.shape"
   ]
  },
  {
   "cell_type": "code",
   "execution_count": 107,
   "metadata": {
    "collapsed": true
   },
   "outputs": [],
   "source": [
    "t_init = 0.01\n",
    "max_iters = 100"
   ]
  },
  {
   "cell_type": "code",
   "execution_count": 184,
   "metadata": {
    "collapsed": false
   },
   "outputs": [
    {
     "data": {
      "text/html": [
       "<div>\n",
       "<table border=\"1\" class=\"dataframe\">\n",
       "  <thead>\n",
       "    <tr style=\"text-align: right;\">\n",
       "      <th></th>\n",
       "      <th>0</th>\n",
       "      <th>1</th>\n",
       "      <th>2</th>\n",
       "      <th>3</th>\n",
       "      <th>4</th>\n",
       "      <th>5</th>\n",
       "      <th>6</th>\n",
       "      <th>7</th>\n",
       "      <th>8</th>\n",
       "      <th>9</th>\n",
       "      <th>...</th>\n",
       "      <th>2038</th>\n",
       "      <th>2039</th>\n",
       "      <th>2040</th>\n",
       "      <th>2041</th>\n",
       "      <th>2042</th>\n",
       "      <th>2043</th>\n",
       "      <th>2044</th>\n",
       "      <th>2045</th>\n",
       "      <th>2046</th>\n",
       "      <th>2047</th>\n",
       "    </tr>\n",
       "  </thead>\n",
       "  <tbody>\n",
       "    <tr>\n",
       "      <th>98</th>\n",
       "      <td>-0.005872</td>\n",
       "      <td>0.000342</td>\n",
       "      <td>0.006093</td>\n",
       "      <td>-0.002024</td>\n",
       "      <td>-0.001537</td>\n",
       "      <td>-0.000813</td>\n",
       "      <td>-0.000144</td>\n",
       "      <td>0.000409</td>\n",
       "      <td>-0.000503</td>\n",
       "      <td>-0.001852</td>\n",
       "      <td>...</td>\n",
       "      <td>-0.002243</td>\n",
       "      <td>0.000742</td>\n",
       "      <td>0.003328</td>\n",
       "      <td>-0.006830</td>\n",
       "      <td>0.005815</td>\n",
       "      <td>0.003015</td>\n",
       "      <td>-0.006233</td>\n",
       "      <td>-0.006942</td>\n",
       "      <td>-0.001212</td>\n",
       "      <td>0.00187</td>\n",
       "    </tr>\n",
       "    <tr>\n",
       "      <th>99</th>\n",
       "      <td>-0.005872</td>\n",
       "      <td>0.000342</td>\n",
       "      <td>0.006093</td>\n",
       "      <td>-0.002024</td>\n",
       "      <td>-0.001536</td>\n",
       "      <td>-0.000813</td>\n",
       "      <td>-0.000145</td>\n",
       "      <td>0.000409</td>\n",
       "      <td>-0.000502</td>\n",
       "      <td>-0.001852</td>\n",
       "      <td>...</td>\n",
       "      <td>-0.002244</td>\n",
       "      <td>0.000742</td>\n",
       "      <td>0.003328</td>\n",
       "      <td>-0.006829</td>\n",
       "      <td>0.005815</td>\n",
       "      <td>0.003015</td>\n",
       "      <td>-0.006233</td>\n",
       "      <td>-0.006941</td>\n",
       "      <td>-0.001211</td>\n",
       "      <td>0.00187</td>\n",
       "    </tr>\n",
       "    <tr>\n",
       "      <th>100</th>\n",
       "      <td>-0.005872</td>\n",
       "      <td>0.000342</td>\n",
       "      <td>0.006092</td>\n",
       "      <td>-0.002023</td>\n",
       "      <td>-0.001536</td>\n",
       "      <td>-0.000813</td>\n",
       "      <td>-0.000145</td>\n",
       "      <td>0.000408</td>\n",
       "      <td>-0.000502</td>\n",
       "      <td>-0.001852</td>\n",
       "      <td>...</td>\n",
       "      <td>-0.002244</td>\n",
       "      <td>0.000742</td>\n",
       "      <td>0.003328</td>\n",
       "      <td>-0.006829</td>\n",
       "      <td>0.005815</td>\n",
       "      <td>0.003016</td>\n",
       "      <td>-0.006232</td>\n",
       "      <td>-0.006941</td>\n",
       "      <td>-0.001210</td>\n",
       "      <td>0.00187</td>\n",
       "    </tr>\n",
       "  </tbody>\n",
       "</table>\n",
       "<p>3 rows × 2048 columns</p>\n",
       "</div>"
      ],
      "text/plain": [
       "         0         1         2         3         4         5         6     \\\n",
       "98  -0.005872  0.000342  0.006093 -0.002024 -0.001537 -0.000813 -0.000144   \n",
       "99  -0.005872  0.000342  0.006093 -0.002024 -0.001536 -0.000813 -0.000145   \n",
       "100 -0.005872  0.000342  0.006092 -0.002023 -0.001536 -0.000813 -0.000145   \n",
       "\n",
       "         7         8         9      ...         2038      2039      2040  \\\n",
       "98   0.000409 -0.000503 -0.001852   ...    -0.002243  0.000742  0.003328   \n",
       "99   0.000409 -0.000502 -0.001852   ...    -0.002244  0.000742  0.003328   \n",
       "100  0.000408 -0.000502 -0.001852   ...    -0.002244  0.000742  0.003328   \n",
       "\n",
       "         2041      2042      2043      2044      2045      2046     2047  \n",
       "98  -0.006830  0.005815  0.003015 -0.006233 -0.006942 -0.001212  0.00187  \n",
       "99  -0.006829  0.005815  0.003015 -0.006233 -0.006941 -0.001211  0.00187  \n",
       "100 -0.006829  0.005815  0.003016 -0.006232 -0.006941 -0.001210  0.00187  \n",
       "\n",
       "[3 rows x 2048 columns]"
      ]
     },
     "execution_count": 184,
     "metadata": {},
     "output_type": "execute_result"
    }
   ],
   "source": [
    "results = fp.fastgradalgo(\n",
    "    X_twoclasses_train, y_twoclasses_train, t_init=t_init, \n",
    "    grad_func = fp.compute_gradient_logistic_regression, \n",
    "    obj_func = fp.compute_objective_logistic_regression, \n",
    "    lam=1, max_iter=max_iters)\n",
    "results[-3:]"
   ]
  },
  {
   "cell_type": "code",
   "execution_count": 109,
   "metadata": {
    "collapsed": false
   },
   "outputs": [
    {
     "name": "stdout",
     "output_type": "stream",
     "text": [
      "Accuracy: 100.0%\n",
      "Misclassification error: 0.0%\n"
     ]
    }
   ],
   "source": [
    "# note use of the held out test data to get the performance metrics\n",
    "accuracy = get_accuracy(fp.get_final_coefs(results), X_twoclasses_test, y_twoclasses_test)\n",
    "print(\"Accuracy: {0:.1%}\".format(accuracy))\n",
    "print(\"Misclassification error: {0:.1%}\".format(1 - accuracy))"
   ]
  },
  {
   "cell_type": "code",
   "execution_count": 112,
   "metadata": {
    "collapsed": true
   },
   "outputs": [],
   "source": [
    "def get_objective_values(beta_results_df, X, y, lam):\n",
    "    return beta_results_df.apply(lambda r: fp.compute_objective_logistic_regression(r.values, \n",
    "                                                    X, y, lam), axis=1)"
   ]
  },
  {
   "cell_type": "code",
   "execution_count": 113,
   "metadata": {
    "collapsed": false
   },
   "outputs": [
    {
     "data": {
      "text/html": [
       "<div>\n",
       "<table border=\"1\" class=\"dataframe\">\n",
       "  <thead>\n",
       "    <tr style=\"text-align: right;\">\n",
       "      <th></th>\n",
       "      <th>Train</th>\n",
       "      <th>Validation</th>\n",
       "    </tr>\n",
       "  </thead>\n",
       "  <tbody>\n",
       "    <tr>\n",
       "      <th>0</th>\n",
       "      <td>0.693147</td>\n",
       "      <td>0.693147</td>\n",
       "    </tr>\n",
       "    <tr>\n",
       "      <th>1</th>\n",
       "      <td>0.177891</td>\n",
       "      <td>0.213812</td>\n",
       "    </tr>\n",
       "    <tr>\n",
       "      <th>2</th>\n",
       "      <td>0.134578</td>\n",
       "      <td>0.194154</td>\n",
       "    </tr>\n",
       "  </tbody>\n",
       "</table>\n",
       "</div>"
      ],
      "text/plain": [
       "      Train  Validation\n",
       "0  0.693147    0.693147\n",
       "1  0.177891    0.213812\n",
       "2  0.134578    0.194154"
      ]
     },
     "execution_count": 113,
     "metadata": {},
     "output_type": "execute_result"
    }
   ],
   "source": [
    "obj_vals = pd.DataFrame({'Train': get_objective_values(results, X_twoclasses_train, y_twoclasses_train, 1),\n",
    "              'Validation': get_objective_values(results, X_twoclasses_test, y_twoclasses_test, 1)})\n",
    "obj_vals[:3]"
   ]
  },
  {
   "cell_type": "code",
   "execution_count": 114,
   "metadata": {
    "collapsed": false
   },
   "outputs": [
    {
     "data": {
      "text/plain": [
       "<matplotlib.text.Text at 0x113155828>"
      ]
     },
     "execution_count": 114,
     "metadata": {},
     "output_type": "execute_result"
    },
    {
     "data": {
      "image/png": "[encoded data removed]",
      "text/plain": [
       "<matplotlib.figure.Figure at 0x113094748>"
      ]
     },
     "metadata": {},
     "output_type": "display_data"
    }
   ],
   "source": [
    "ax = obj_vals.plot()\n",
    "ax.set_xlabel('Iteration')\n",
    "ax.set_ylabel('Objective value')\n",
    "ax.set_title('Objective function by iteration')"
   ]
  },
  {
   "cell_type": "code",
   "execution_count": 120,
   "metadata": {
    "collapsed": true
   },
   "outputs": [],
   "source": [
    "def get_misclassification_errors(beta_results_df, X, y):\n",
    "    return beta_results_df.apply(lambda r: 1 - get_accuracy(r.values, X, y), axis=1)"
   ]
  },
  {
   "cell_type": "code",
   "execution_count": 121,
   "metadata": {
    "collapsed": false
   },
   "outputs": [
    {
     "data": {
      "text/html": [
       "<div>\n",
       "<table border=\"1\" class=\"dataframe\">\n",
       "  <thead>\n",
       "    <tr style=\"text-align: right;\">\n",
       "      <th></th>\n",
       "      <th>Train</th>\n",
       "      <th>Validation</th>\n",
       "    </tr>\n",
       "  </thead>\n",
       "  <tbody>\n",
       "    <tr>\n",
       "      <th>0</th>\n",
       "      <td>0.547619</td>\n",
       "      <td>0.388889</td>\n",
       "    </tr>\n",
       "    <tr>\n",
       "      <th>1</th>\n",
       "      <td>0.000000</td>\n",
       "      <td>0.000000</td>\n",
       "    </tr>\n",
       "    <tr>\n",
       "      <th>2</th>\n",
       "      <td>0.023810</td>\n",
       "      <td>0.055556</td>\n",
       "    </tr>\n",
       "  </tbody>\n",
       "</table>\n",
       "</div>"
      ],
      "text/plain": [
       "      Train  Validation\n",
       "0  0.547619    0.388889\n",
       "1  0.000000    0.000000\n",
       "2  0.023810    0.055556"
      ]
     },
     "execution_count": 121,
     "metadata": {},
     "output_type": "execute_result"
    }
   ],
   "source": [
    "errors = pd.DataFrame({'Train': get_misclassification_errors(results, X_twoclasses_train, y_twoclasses_train),\n",
    "              'Validation': get_misclassification_errors(results, X_twoclasses_test, y_twoclasses_test)})\n",
    "errors[:3]"
   ]
  },
  {
   "cell_type": "code",
   "execution_count": 122,
   "metadata": {
    "collapsed": false
   },
   "outputs": [
    {
     "data": {
      "text/plain": [
       "<matplotlib.text.Text at 0x11be8f7b8>"
      ]
     },
     "execution_count": 122,
     "metadata": {},
     "output_type": "execute_result"
    },
    {
     "data": {
      "image/png": "[encoded data removed]",
      "text/plain": [
       "<matplotlib.figure.Figure at 0x112837048>"
      ]
     },
     "metadata": {},
     "output_type": "display_data"
    }
   ],
   "source": [
    "ax = errors.plot()\n",
    "ax.set_xlabel('Iteration')\n",
    "ax.set_ylabel('Misclassification error')\n",
    "ax.set_title('Misclassification error by iteration')"
   ]
  },
  {
   "cell_type": "markdown",
   "metadata": {
    "collapsed": true
   },
   "source": [
    "## Corinne verification - using her code, do we see the same results?"
   ]
  },
  {
   "cell_type": "code",
   "execution_count": 248,
   "metadata": {
    "collapsed": false
   },
   "outputs": [
    {
     "name": "stdout",
     "output_type": "stream",
     "text": [
      "Fast gradient iteration 100\n"
     ]
    },
    {
     "data": {
      "text/plain": [
       "(101, 2048)"
      ]
     },
     "execution_count": 248,
     "metadata": {},
     "output_type": "execute_result"
    }
   ],
   "source": [
    "results_corinne, thetas_corinne = corinne.fastgradalgo(np.zeros(X_train.shape[1]),\n",
    "                                       np.zeros(X_train.shape[1]),\n",
    "                                       1,\n",
    "                                       0.01,\n",
    "                                       100,\n",
    "                                       X_train,\n",
    "                                       y_train)\n",
    "results_corinne.shape"
   ]
  },
  {
   "cell_type": "code",
   "execution_count": 250,
   "metadata": {
    "collapsed": false
   },
   "outputs": [
    {
     "data": {
      "text/plain": [
       "array([[  0.00000000e+00,   0.00000000e+00,   0.00000000e+00, ...,\n",
       "          0.00000000e+00,   0.00000000e+00,   0.00000000e+00],\n",
       "       [ -1.99682301e-04,  -1.09313709e-04,  -8.02460742e-05, ...,\n",
       "          1.23307473e-04,   3.67999397e-05,  -4.99477375e-05],\n",
       "       [ -3.63295384e-04,  -2.16952494e-04,  -1.32288192e-04, ...,\n",
       "          2.01673270e-04,   7.13951772e-05,  -7.15946903e-05],\n",
       "       ..., \n",
       "       [ -4.01553603e-03,  -3.43040245e-03,   5.16718208e-04, ...,\n",
       "          2.87920988e-05,   1.80055744e-03,   7.32757170e-04],\n",
       "       [ -4.01596705e-03,  -3.43067501e-03,   5.18232219e-04, ...,\n",
       "          2.96547532e-05,   1.80096975e-03,   7.33815025e-04],\n",
       "       [ -4.01676438e-03,  -3.43110868e-03,   5.19754980e-04, ...,\n",
       "          3.02342403e-05,   1.80128781e-03,   7.35009997e-04]])"
      ]
     },
     "execution_count": 250,
     "metadata": {},
     "output_type": "execute_result"
    }
   ],
   "source": [
    "results_corinne"
   ]
  },
  {
   "cell_type": "code",
   "execution_count": 251,
   "metadata": {
    "collapsed": false
   },
   "outputs": [
    {
     "data": {
      "image/png": "[encoded data removed]",
      "text/plain": [
       "<matplotlib.figure.Figure at 0x112cb4e80>"
      ]
     },
     "metadata": {},
     "output_type": "display_data"
    }
   ],
   "source": [
    "corinne.objective_plot(results_corinne, 1, X_train, y_train)"
   ]
  },
  {
   "cell_type": "code",
   "execution_count": 254,
   "metadata": {
    "collapsed": false
   },
   "outputs": [
    {
     "data": {
      "text/plain": [
       "0.47530864197530864"
      ]
     },
     "execution_count": 254,
     "metadata": {},
     "output_type": "execute_result"
    }
   ],
   "source": [
    "corinne.compute_misclassification_error(results_corinne[100,:], X_test, y_test)"
   ]
  },
  {
   "cell_type": "code",
   "execution_count": 256,
   "metadata": {
    "collapsed": false
   },
   "outputs": [
    {
     "data": {
      "text/plain": [
       "0.47530864197530864"
      ]
     },
     "execution_count": 256,
     "metadata": {},
     "output_type": "execute_result"
    }
   ],
   "source": [
    "corinne.compute_misclassification_error(results.values[100,:], X_test, y_test)"
   ]
  },
  {
   "cell_type": "code",
   "execution_count": 264,
   "metadata": {
    "collapsed": false
   },
   "outputs": [
    {
     "data": {
      "text/plain": [
       "array([ -3.63295384e-04,  -2.16952494e-04,  -1.32288192e-04, ...,\n",
       "         2.01673270e-04,   7.13951772e-05,  -7.15946903e-05])"
      ]
     },
     "execution_count": 264,
     "metadata": {},
     "output_type": "execute_result"
    }
   ],
   "source": [
    "results_corinne[2,:]"
   ]
  },
  {
   "cell_type": "code",
   "execution_count": 263,
   "metadata": {
    "collapsed": false
   },
   "outputs": [
    {
     "data": {
      "text/plain": [
       "array([ -3.63295384e-04,  -2.16952494e-04,  -1.32288192e-04, ...,\n",
       "         2.01673270e-04,   7.13951772e-05,  -7.15946903e-05])"
      ]
     },
     "execution_count": 263,
     "metadata": {},
     "output_type": "execute_result"
    }
   ],
   "source": [
    "results.values[2, :]"
   ]
  },
  {
   "cell_type": "code",
   "execution_count": 271,
   "metadata": {
    "collapsed": false
   },
   "outputs": [
    {
     "name": "stdout",
     "output_type": "stream",
     "text": [
      "Fast gradient iteration 100\n",
      "Fast gradient iteration 200\n",
      "Fast gradient iteration 300\n"
     ]
    },
    {
     "data": {
      "text/plain": [
       "(301, 2048)"
      ]
     },
     "execution_count": 271,
     "metadata": {},
     "output_type": "execute_result"
    }
   ],
   "source": [
    "lambduh = 1\n",
    "d = X_train.shape[1]\n",
    "beta_init = np.zeros(d)\n",
    "theta_init = np.zeros(d)\n",
    "eta_init = 1/(scipy.linalg.eigh(1/len(y_train)*X_train.T.dot(X_train), \n",
    "                                eigvals=(d-1, d-1), eigvals_only=True)[0]+lambduh)\n",
    "maxiter = 300\n",
    "#betas_grad = corinne.graddescent(beta_init, lambduh, eta_init, maxiter, X_train, y_train)\n",
    "betas_fastgrad, thetas_fastgrad = corinne.fastgradalgo(beta_init, theta_init, lambduh, eta_init, maxiter,\n",
    "                                                       X_train, y_train)\n",
    "betas_fastgrad.shape\n",
    "#objective_plot(betas_grad, betas_fastgrad, lambduh, save_file='hw3_q1_part_h_output.png')\n"
   ]
  },
  {
   "cell_type": "code",
   "execution_count": 274,
   "metadata": {
    "collapsed": false
   },
   "outputs": [
    {
     "data": {
      "text/plain": [
       "array([[ -4.03362426e-03,  -3.43958460e-03,   5.21826364e-04, ...,\n",
       "          2.31106829e-05,   1.79956585e-03,   7.42056345e-04]])"
      ]
     },
     "execution_count": 274,
     "metadata": {},
     "output_type": "execute_result"
    }
   ],
   "source": [
    "betas_fastgrad[-1:]"
   ]
  },
  {
   "cell_type": "code",
   "execution_count": 275,
   "metadata": {
    "collapsed": false
   },
   "outputs": [
    {
     "data": {
      "text/plain": [
       "0.47530864197530864"
      ]
     },
     "execution_count": 275,
     "metadata": {},
     "output_type": "execute_result"
    }
   ],
   "source": [
    "corinne.compute_misclassification_error(betas_fastgrad[-1,:], X_test, y_test)"
   ]
  },
  {
   "cell_type": "markdown",
   "metadata": {},
   "source": [
    "Ok, so, bottom line, we get the same results from our code as we do from Corinne's code, even when we use the exact same setup/init code (for ex, that sets eta_init using X.T.dot(X)), and when we use Corinne's code that does backtracking compared to our code, above, where we're not using backtracking. I think this is good enough for me to accept that w/ a lambda of 1 at least, logistic regression is way worse than just returning negative all the time."
   ]
  },
  {
   "cell_type": "markdown",
   "metadata": {},
   "source": [
    "What do we see when we use our backtracking impl?"
   ]
  },
  {
   "cell_type": "code",
   "execution_count": 288,
   "metadata": {
    "collapsed": false
   },
   "outputs": [
    {
     "data": {
      "text/html": [
       "<div>\n",
       "<table border=\"1\" class=\"dataframe\">\n",
       "  <thead>\n",
       "    <tr style=\"text-align: right;\">\n",
       "      <th></th>\n",
       "      <th>0</th>\n",
       "      <th>1</th>\n",
       "      <th>2</th>\n",
       "      <th>3</th>\n",
       "      <th>4</th>\n",
       "      <th>5</th>\n",
       "      <th>6</th>\n",
       "      <th>7</th>\n",
       "      <th>8</th>\n",
       "      <th>9</th>\n",
       "      <th>...</th>\n",
       "      <th>2038</th>\n",
       "      <th>2039</th>\n",
       "      <th>2040</th>\n",
       "      <th>2041</th>\n",
       "      <th>2042</th>\n",
       "      <th>2043</th>\n",
       "      <th>2044</th>\n",
       "      <th>2045</th>\n",
       "      <th>2046</th>\n",
       "      <th>2047</th>\n",
       "    </tr>\n",
       "  </thead>\n",
       "  <tbody>\n",
       "    <tr>\n",
       "      <th>98</th>\n",
       "      <td>-0.004016</td>\n",
       "      <td>-0.003430</td>\n",
       "      <td>0.000517</td>\n",
       "      <td>-0.000092</td>\n",
       "      <td>-0.001432</td>\n",
       "      <td>-0.000109</td>\n",
       "      <td>-0.001791</td>\n",
       "      <td>0.001266</td>\n",
       "      <td>0.002640</td>\n",
       "      <td>-0.000864</td>\n",
       "      <td>...</td>\n",
       "      <td>0.001409</td>\n",
       "      <td>-0.004484</td>\n",
       "      <td>-0.003668</td>\n",
       "      <td>0.000416</td>\n",
       "      <td>-0.000109</td>\n",
       "      <td>-0.002647</td>\n",
       "      <td>0.000518</td>\n",
       "      <td>0.000029</td>\n",
       "      <td>0.001801</td>\n",
       "      <td>0.000733</td>\n",
       "    </tr>\n",
       "    <tr>\n",
       "      <th>99</th>\n",
       "      <td>-0.004016</td>\n",
       "      <td>-0.003431</td>\n",
       "      <td>0.000518</td>\n",
       "      <td>-0.000092</td>\n",
       "      <td>-0.001434</td>\n",
       "      <td>-0.000111</td>\n",
       "      <td>-0.001790</td>\n",
       "      <td>0.001268</td>\n",
       "      <td>0.002640</td>\n",
       "      <td>-0.000864</td>\n",
       "      <td>...</td>\n",
       "      <td>0.001410</td>\n",
       "      <td>-0.004484</td>\n",
       "      <td>-0.003668</td>\n",
       "      <td>0.000417</td>\n",
       "      <td>-0.000110</td>\n",
       "      <td>-0.002646</td>\n",
       "      <td>0.000519</td>\n",
       "      <td>0.000030</td>\n",
       "      <td>0.001801</td>\n",
       "      <td>0.000734</td>\n",
       "    </tr>\n",
       "    <tr>\n",
       "      <th>100</th>\n",
       "      <td>-0.004017</td>\n",
       "      <td>-0.003431</td>\n",
       "      <td>0.000520</td>\n",
       "      <td>-0.000092</td>\n",
       "      <td>-0.001435</td>\n",
       "      <td>-0.000112</td>\n",
       "      <td>-0.001788</td>\n",
       "      <td>0.001270</td>\n",
       "      <td>0.002639</td>\n",
       "      <td>-0.000863</td>\n",
       "      <td>...</td>\n",
       "      <td>0.001411</td>\n",
       "      <td>-0.004483</td>\n",
       "      <td>-0.003669</td>\n",
       "      <td>0.000418</td>\n",
       "      <td>-0.000110</td>\n",
       "      <td>-0.002646</td>\n",
       "      <td>0.000520</td>\n",
       "      <td>0.000030</td>\n",
       "      <td>0.001801</td>\n",
       "      <td>0.000735</td>\n",
       "    </tr>\n",
       "  </tbody>\n",
       "</table>\n",
       "<p>3 rows × 2048 columns</p>\n",
       "</div>"
      ],
      "text/plain": [
       "         0         1         2         3         4         5         6     \\\n",
       "98  -0.004016 -0.003430  0.000517 -0.000092 -0.001432 -0.000109 -0.001791   \n",
       "99  -0.004016 -0.003431  0.000518 -0.000092 -0.001434 -0.000111 -0.001790   \n",
       "100 -0.004017 -0.003431  0.000520 -0.000092 -0.001435 -0.000112 -0.001788   \n",
       "\n",
       "         7         8         9       ...         2038      2039      2040  \\\n",
       "98   0.001266  0.002640 -0.000864    ...     0.001409 -0.004484 -0.003668   \n",
       "99   0.001268  0.002640 -0.000864    ...     0.001410 -0.004484 -0.003668   \n",
       "100  0.001270  0.002639 -0.000863    ...     0.001411 -0.004483 -0.003669   \n",
       "\n",
       "         2041      2042      2043      2044      2045      2046      2047  \n",
       "98   0.000416 -0.000109 -0.002647  0.000518  0.000029  0.001801  0.000733  \n",
       "99   0.000417 -0.000110 -0.002646  0.000519  0.000030  0.001801  0.000734  \n",
       "100  0.000418 -0.000110 -0.002646  0.000520  0.000030  0.001801  0.000735  \n",
       "\n",
       "[3 rows x 2048 columns]"
      ]
     },
     "execution_count": 288,
     "metadata": {},
     "output_type": "execute_result"
    }
   ],
   "source": [
    "results = fp.fastgradalgo(\n",
    "    X_train, y_train, t_init=t_init, \n",
    "    grad_func = fp.compute_gradient_logistic_regression, \n",
    "    obj_func = fp.compute_objective_logistic_regression, \n",
    "    lam=1, max_iter=100)\n",
    "results[-3:]"
   ]
  },
  {
   "cell_type": "code",
   "execution_count": 298,
   "metadata": {
    "collapsed": false
   },
   "outputs": [
    {
     "data": {
      "text/html": [
       "<div>\n",
       "<table border=\"1\" class=\"dataframe\">\n",
       "  <thead>\n",
       "    <tr style=\"text-align: right;\">\n",
       "      <th></th>\n",
       "      <th>0</th>\n",
       "      <th>1</th>\n",
       "      <th>2</th>\n",
       "      <th>3</th>\n",
       "      <th>4</th>\n",
       "      <th>5</th>\n",
       "      <th>6</th>\n",
       "      <th>7</th>\n",
       "      <th>8</th>\n",
       "      <th>9</th>\n",
       "      <th>...</th>\n",
       "      <th>2038</th>\n",
       "      <th>2039</th>\n",
       "      <th>2040</th>\n",
       "      <th>2041</th>\n",
       "      <th>2042</th>\n",
       "      <th>2043</th>\n",
       "      <th>2044</th>\n",
       "      <th>2045</th>\n",
       "      <th>2046</th>\n",
       "      <th>2047</th>\n",
       "    </tr>\n",
       "  </thead>\n",
       "  <tbody>\n",
       "    <tr>\n",
       "      <th>298</th>\n",
       "      <td>-0.004036</td>\n",
       "      <td>-0.003443</td>\n",
       "      <td>0.000523</td>\n",
       "      <td>-0.000098</td>\n",
       "      <td>-0.001434</td>\n",
       "      <td>-0.000093</td>\n",
       "      <td>-0.001795</td>\n",
       "      <td>0.00128</td>\n",
       "      <td>0.002664</td>\n",
       "      <td>-0.000864</td>\n",
       "      <td>...</td>\n",
       "      <td>0.001422</td>\n",
       "      <td>-0.004515</td>\n",
       "      <td>-0.00369</td>\n",
       "      <td>0.00042</td>\n",
       "      <td>-0.000109</td>\n",
       "      <td>-0.002671</td>\n",
       "      <td>0.000507</td>\n",
       "      <td>0.000022</td>\n",
       "      <td>0.001799</td>\n",
       "      <td>0.000741</td>\n",
       "    </tr>\n",
       "    <tr>\n",
       "      <th>299</th>\n",
       "      <td>-0.004036</td>\n",
       "      <td>-0.003443</td>\n",
       "      <td>0.000523</td>\n",
       "      <td>-0.000098</td>\n",
       "      <td>-0.001434</td>\n",
       "      <td>-0.000093</td>\n",
       "      <td>-0.001795</td>\n",
       "      <td>0.00128</td>\n",
       "      <td>0.002664</td>\n",
       "      <td>-0.000864</td>\n",
       "      <td>...</td>\n",
       "      <td>0.001422</td>\n",
       "      <td>-0.004515</td>\n",
       "      <td>-0.00369</td>\n",
       "      <td>0.00042</td>\n",
       "      <td>-0.000109</td>\n",
       "      <td>-0.002671</td>\n",
       "      <td>0.000507</td>\n",
       "      <td>0.000022</td>\n",
       "      <td>0.001799</td>\n",
       "      <td>0.000741</td>\n",
       "    </tr>\n",
       "    <tr>\n",
       "      <th>300</th>\n",
       "      <td>-0.004036</td>\n",
       "      <td>-0.003443</td>\n",
       "      <td>0.000523</td>\n",
       "      <td>-0.000098</td>\n",
       "      <td>-0.001434</td>\n",
       "      <td>-0.000093</td>\n",
       "      <td>-0.001795</td>\n",
       "      <td>0.00128</td>\n",
       "      <td>0.002664</td>\n",
       "      <td>-0.000864</td>\n",
       "      <td>...</td>\n",
       "      <td>0.001422</td>\n",
       "      <td>-0.004515</td>\n",
       "      <td>-0.00369</td>\n",
       "      <td>0.00042</td>\n",
       "      <td>-0.000109</td>\n",
       "      <td>-0.002671</td>\n",
       "      <td>0.000507</td>\n",
       "      <td>0.000022</td>\n",
       "      <td>0.001799</td>\n",
       "      <td>0.000741</td>\n",
       "    </tr>\n",
       "  </tbody>\n",
       "</table>\n",
       "<p>3 rows × 2048 columns</p>\n",
       "</div>"
      ],
      "text/plain": [
       "         0         1         2         3         4         5         6     \\\n",
       "298 -0.004036 -0.003443  0.000523 -0.000098 -0.001434 -0.000093 -0.001795   \n",
       "299 -0.004036 -0.003443  0.000523 -0.000098 -0.001434 -0.000093 -0.001795   \n",
       "300 -0.004036 -0.003443  0.000523 -0.000098 -0.001434 -0.000093 -0.001795   \n",
       "\n",
       "        7         8         9       ...         2038      2039     2040  \\\n",
       "298  0.00128  0.002664 -0.000864    ...     0.001422 -0.004515 -0.00369   \n",
       "299  0.00128  0.002664 -0.000864    ...     0.001422 -0.004515 -0.00369   \n",
       "300  0.00128  0.002664 -0.000864    ...     0.001422 -0.004515 -0.00369   \n",
       "\n",
       "        2041      2042      2043      2044      2045      2046      2047  \n",
       "298  0.00042 -0.000109 -0.002671  0.000507  0.000022  0.001799  0.000741  \n",
       "299  0.00042 -0.000109 -0.002671  0.000507  0.000022  0.001799  0.000741  \n",
       "300  0.00042 -0.000109 -0.002671  0.000507  0.000022  0.001799  0.000741  \n",
       "\n",
       "[3 rows x 2048 columns]"
      ]
     },
     "execution_count": 298,
     "metadata": {},
     "output_type": "execute_result"
    }
   ],
   "source": [
    "results = fp.fastgradalgo(\n",
    "    X_train, y_train, t_init=t_init, \n",
    "    grad_func = fp.compute_gradient_logistic_regression, \n",
    "    obj_func = fp.compute_objective_logistic_regression, \n",
    "    lam=1, max_iter=300, t_func=fp.backtracking)\n",
    "results[-3:]"
   ]
  },
  {
   "cell_type": "code",
   "execution_count": 299,
   "metadata": {
    "collapsed": false
   },
   "outputs": [
    {
     "data": {
      "text/plain": [
       "0.47530864197530864"
      ]
     },
     "execution_count": 299,
     "metadata": {},
     "output_type": "execute_result"
    }
   ],
   "source": [
    "corinne.compute_misclassification_error(results.values[-1,:], X_test, y_test)"
   ]
  },
  {
   "cell_type": "code",
   "execution_count": 300,
   "metadata": {
    "collapsed": false
   },
   "outputs": [
    {
     "data": {
      "text/plain": [
       "0.47530864197530864"
      ]
     },
     "execution_count": 300,
     "metadata": {},
     "output_type": "execute_result"
    }
   ],
   "source": [
    "1 - get_accuracy(results.values[-1,:], X_test, y_test)"
   ]
  },
  {
   "cell_type": "markdown",
   "metadata": {},
   "source": [
    "Ok, so we get the same results w/ our own backtracking implementation. Note again that since our stopping criteria is _only_ the number of iterations, we don't automatically get any benefit from the improved step sizes that backtracking gives us. That said, we still in theory could get to the minimum faster, which means if we're manually setting max_iter based on experimentation, then backtracking could help.\n",
    "\n",
    "Finally, it's possible that backtracking adds enough processing time that we might want to run w/ it off if we're not going to use it. \n",
    "\n",
    "Although, backtracking might not _just_ give us better steps sizes leading to quicker convergence. It seems like it could also help us avoid the case where we _don't_ converge, if it keeps us from using a static/single step size that at some point means we're moving back and forth on our objective value without decreasing.\n",
    "\n",
    "Bottom line, if i care, I should probably benchmark, and watch for non-convergence being fixed when we use backtracking. I'll keep that in mind.\n",
    "\n",
    "Also, separately, it seems like my impl is way faster than Corinne's - I can run w/ 300 iterations in just a few secs while it takes her's well more than 10-20s it seems, anecdotally. It might be interesting to profile and see if a) this is really the case, and b) if so, why."
   ]
  },
  {
   "cell_type": "code",
   "execution_count": 301,
   "metadata": {
    "collapsed": false
   },
   "outputs": [
    {
     "data": {
      "image/png": "[encoded data removed]",
      "text/plain": [
       "<matplotlib.figure.Figure at 0x112b714e0>"
      ]
     },
     "metadata": {},
     "output_type": "display_data"
    }
   ],
   "source": [
    "corinne.objective_plot(results.values, 1, X_train, y_train)"
   ]
  },
  {
   "cell_type": "code",
   "execution_count": 276,
   "metadata": {
    "collapsed": false
   },
   "outputs": [
    {
     "data": {
      "text/plain": [
       "[0.69314718055990943,\n",
       " 0.69069840925813752,\n",
       " 0.68923848668062204,\n",
       " 0.68800550555072026,\n",
       " 0.68695783810160649,\n",
       " 0.68605473272573059,\n",
       " 0.68526849901743814,\n",
       " 0.68457882460233843,\n",
       " 0.68396918396901918,\n",
       " 0.68342703757035017]"
      ]
     },
     "execution_count": 276,
     "metadata": {},
     "output_type": "execute_result"
    }
   ],
   "source": [
    "[fp.compute_objective_logistic_regression(coefs, X_train, y_train, 1) for coefs in results.values][:10]"
   ]
  },
  {
   "cell_type": "markdown",
   "metadata": {},
   "source": [
    "_Find the value of the regularization parameter λ using cross-validation; you may use scikit-learn’s built-in functions for this purpose. Train an L2-regularized logistic regression classiﬁer on the training set using your own fast gradient algorithm with that value of λ found by cross-validation. Plot, with diﬀerent colors, the misclassiﬁcation error on the training set and on the validation set vs iterations._"
   ]
  },
  {
   "cell_type": "code",
   "execution_count": 225,
   "metadata": {
    "collapsed": false
   },
   "outputs": [
    {
     "data": {
      "text/plain": [
       "<module 'corinne' from '/Users/andrewenfield/work/github/Data558/Kaggle/corinne.py'>"
      ]
     },
     "execution_count": 225,
     "metadata": {},
     "output_type": "execute_result"
    }
   ],
   "source": [
    "importlib.reload(fp)\n",
    "importlib.reload(corinne)"
   ]
  },
  {
   "cell_type": "code",
   "execution_count": 132,
   "metadata": {
    "collapsed": false
   },
   "outputs": [
    {
     "data": {
      "text/plain": [
       "[1e-05, 0.0001, 0.001, 0.01, 0.1, 1, 10]"
      ]
     },
     "execution_count": 132,
     "metadata": {},
     "output_type": "execute_result"
    }
   ],
   "source": [
    "lambdas = [10 ** exponent for exponent in range(-5,2)]\n",
    "lambdas"
   ]
  },
  {
   "cell_type": "code",
   "execution_count": 137,
   "metadata": {
    "collapsed": false
   },
   "outputs": [],
   "source": [
    "lams, scores = fp.cross_validate(10, X_twoclasses_train, y_twoclasses_train, lambdas, max_iters=100)"
   ]
  },
  {
   "cell_type": "code",
   "execution_count": 138,
   "metadata": {
    "collapsed": false
   },
   "outputs": [
    {
     "data": {
      "text/plain": [
       "[(1e-05, 1.0),\n",
       " (0.0001, 1.0),\n",
       " (0.001, 1.0),\n",
       " (0.01, 1.0),\n",
       " (0.1, 1.0),\n",
       " (1, 1.0),\n",
       " (10, 1.0)]"
      ]
     },
     "execution_count": 138,
     "metadata": {},
     "output_type": "execute_result"
    }
   ],
   "source": [
    "list(zip(lams, scores))"
   ]
  },
  {
   "cell_type": "code",
   "execution_count": 142,
   "metadata": {
    "collapsed": false
   },
   "outputs": [
    {
     "data": {
      "text/html": [
       "<div>\n",
       "<table border=\"1\" class=\"dataframe\">\n",
       "  <thead>\n",
       "    <tr style=\"text-align: right;\">\n",
       "      <th></th>\n",
       "      <th>0</th>\n",
       "      <th>1</th>\n",
       "      <th>2</th>\n",
       "      <th>3</th>\n",
       "      <th>4</th>\n",
       "      <th>5</th>\n",
       "      <th>6</th>\n",
       "      <th>7</th>\n",
       "      <th>8</th>\n",
       "      <th>9</th>\n",
       "      <th>...</th>\n",
       "      <th>2038</th>\n",
       "      <th>2039</th>\n",
       "      <th>2040</th>\n",
       "      <th>2041</th>\n",
       "      <th>2042</th>\n",
       "      <th>2043</th>\n",
       "      <th>2044</th>\n",
       "      <th>2045</th>\n",
       "      <th>2046</th>\n",
       "      <th>2047</th>\n",
       "    </tr>\n",
       "  </thead>\n",
       "  <tbody>\n",
       "    <tr>\n",
       "      <th>98</th>\n",
       "      <td>-0.015709</td>\n",
       "      <td>0.001152</td>\n",
       "      <td>0.015932</td>\n",
       "      <td>-0.004147</td>\n",
       "      <td>-0.002475</td>\n",
       "      <td>-0.004707</td>\n",
       "      <td>-0.002485</td>\n",
       "      <td>-0.001667</td>\n",
       "      <td>-0.002810</td>\n",
       "      <td>-0.005659</td>\n",
       "      <td>...</td>\n",
       "      <td>-0.006630</td>\n",
       "      <td>0.002924</td>\n",
       "      <td>0.009427</td>\n",
       "      <td>-0.021508</td>\n",
       "      <td>0.014287</td>\n",
       "      <td>0.008362</td>\n",
       "      <td>-0.015905</td>\n",
       "      <td>-0.019254</td>\n",
       "      <td>-0.000248</td>\n",
       "      <td>0.005101</td>\n",
       "    </tr>\n",
       "    <tr>\n",
       "      <th>99</th>\n",
       "      <td>-0.015748</td>\n",
       "      <td>0.001156</td>\n",
       "      <td>0.015973</td>\n",
       "      <td>-0.004156</td>\n",
       "      <td>-0.002473</td>\n",
       "      <td>-0.004727</td>\n",
       "      <td>-0.002499</td>\n",
       "      <td>-0.001682</td>\n",
       "      <td>-0.002818</td>\n",
       "      <td>-0.005674</td>\n",
       "      <td>...</td>\n",
       "      <td>-0.006650</td>\n",
       "      <td>0.002938</td>\n",
       "      <td>0.009457</td>\n",
       "      <td>-0.021571</td>\n",
       "      <td>0.014323</td>\n",
       "      <td>0.008388</td>\n",
       "      <td>-0.015942</td>\n",
       "      <td>-0.019308</td>\n",
       "      <td>-0.000231</td>\n",
       "      <td>0.005118</td>\n",
       "    </tr>\n",
       "    <tr>\n",
       "      <th>100</th>\n",
       "      <td>-0.015787</td>\n",
       "      <td>0.001159</td>\n",
       "      <td>0.016014</td>\n",
       "      <td>-0.004164</td>\n",
       "      <td>-0.002470</td>\n",
       "      <td>-0.004747</td>\n",
       "      <td>-0.002513</td>\n",
       "      <td>-0.001697</td>\n",
       "      <td>-0.002826</td>\n",
       "      <td>-0.005688</td>\n",
       "      <td>...</td>\n",
       "      <td>-0.006669</td>\n",
       "      <td>0.002952</td>\n",
       "      <td>0.009488</td>\n",
       "      <td>-0.021634</td>\n",
       "      <td>0.014358</td>\n",
       "      <td>0.008414</td>\n",
       "      <td>-0.015979</td>\n",
       "      <td>-0.019361</td>\n",
       "      <td>-0.000213</td>\n",
       "      <td>0.005135</td>\n",
       "    </tr>\n",
       "  </tbody>\n",
       "</table>\n",
       "<p>3 rows × 2048 columns</p>\n",
       "</div>"
      ],
      "text/plain": [
       "         0         1         2         3         4         5         6     \\\n",
       "98  -0.015709  0.001152  0.015932 -0.004147 -0.002475 -0.004707 -0.002485   \n",
       "99  -0.015748  0.001156  0.015973 -0.004156 -0.002473 -0.004727 -0.002499   \n",
       "100 -0.015787  0.001159  0.016014 -0.004164 -0.002470 -0.004747 -0.002513   \n",
       "\n",
       "         7         8         9       ...         2038      2039      2040  \\\n",
       "98  -0.001667 -0.002810 -0.005659    ...    -0.006630  0.002924  0.009427   \n",
       "99  -0.001682 -0.002818 -0.005674    ...    -0.006650  0.002938  0.009457   \n",
       "100 -0.001697 -0.002826 -0.005688    ...    -0.006669  0.002952  0.009488   \n",
       "\n",
       "         2041      2042      2043      2044      2045      2046      2047  \n",
       "98  -0.021508  0.014287  0.008362 -0.015905 -0.019254 -0.000248  0.005101  \n",
       "99  -0.021571  0.014323  0.008388 -0.015942 -0.019308 -0.000231  0.005118  \n",
       "100 -0.021634  0.014358  0.008414 -0.015979 -0.019361 -0.000213  0.005135  \n",
       "\n",
       "[3 rows x 2048 columns]"
      ]
     },
     "execution_count": 142,
     "metadata": {},
     "output_type": "execute_result"
    }
   ],
   "source": [
    "results_best = fp.fastgradalgo(\n",
    "    X_twoclasses_train, y_twoclasses_train, t_init=t_init, \n",
    "    grad_func = fp.compute_gradient_logistic_regression, \n",
    "    obj_func = fp.compute_objective_logistic_regression, \n",
    "    lam=0, max_iter=max_iters)\n",
    "results_best[-3:]"
   ]
  },
  {
   "cell_type": "code",
   "execution_count": 148,
   "metadata": {
    "collapsed": false
   },
   "outputs": [
    {
     "data": {
      "text/plain": [
       "1.0"
      ]
     },
     "execution_count": 148,
     "metadata": {},
     "output_type": "execute_result"
    }
   ],
   "source": [
    "fp.get_accuracy(fp.get_final_coefs(results_best), X_twoclasses_test, y_twoclasses_test)"
   ]
  },
  {
   "cell_type": "code",
   "execution_count": 145,
   "metadata": {
    "collapsed": false
   },
   "outputs": [
    {
     "data": {
      "image/png": "[encoded data removed]",
      "text/plain": [
       "<matplotlib.figure.Figure at 0x11bd4a0f0>"
      ]
     },
     "metadata": {},
     "output_type": "display_data"
    }
   ],
   "source": [
    "fp.plot_misclassification_errors_by_iteration(results_best, X_twoclasses_train, X_twoclasses_test, \n",
    "                                              y_twoclasses_train, y_twoclasses_test)"
   ]
  },
  {
   "cell_type": "markdown",
   "metadata": {},
   "source": [
    "# Homework five"
   ]
  },
  {
   "cell_type": "code",
   "execution_count": 277,
   "metadata": {
    "collapsed": false
   },
   "outputs": [
    {
     "data": {
      "text/plain": [
       "<module 'corinne' from '/Users/andrewenfield/work/github/Data558/Kaggle/corinne.py'>"
      ]
     },
     "execution_count": 277,
     "metadata": {},
     "output_type": "execute_result"
    }
   ],
   "source": [
    "importlib.reload(fp)\n",
    "importlib.reload(corinne)"
   ]
  },
  {
   "cell_type": "markdown",
   "metadata": {},
   "source": [
    "_Pick k = 5 classes of your choice from the dataset. You may choose any subset of 5 classes among all classes of the dataset._"
   ]
  },
  {
   "cell_type": "code",
   "execution_count": null,
   "metadata": {
    "collapsed": true
   },
   "outputs": [],
   "source": []
  },
  {
   "cell_type": "markdown",
   "metadata": {},
   "source": [
    "_Write a function that, for any class at hand, creates a training set with an equal number of examples from the class at hand and from the other classes. You may simply randomly pick the examples from the other classes._"
   ]
  },
  {
   "cell_type": "code",
   "execution_count": 190,
   "metadata": {
    "collapsed": false
   },
   "outputs": [
    {
     "data": {
      "text/plain": [
       "((60, 2048), (60,))"
      ]
     },
     "execution_count": 190,
     "metadata": {},
     "output_type": "execute_result"
    }
   ],
   "source": [
    "X_incl086, labels_incl086 = fp.get_balanced_set('086.Pacific_Loon', X_scaled, labels_train)\n",
    "y_incl086 = np.where(labels_incl086 == '086.Pacific_Loon', 1, -1)\n",
    "X_incl086.shape, y_incl086.shape"
   ]
  },
  {
   "cell_type": "markdown",
   "metadata": {},
   "source": [
    "_For each class c, train an L2-regularized logistic regression classiﬁer using your own fast gradient algorithm with λc = 1. Display the confusion matrix. Which classes seem to be the most diﬃcult to classify?_"
   ]
  },
  {
   "cell_type": "code",
   "execution_count": 191,
   "metadata": {
    "collapsed": false
   },
   "outputs": [
    {
     "data": {
      "text/plain": [
       "((42, 2048), (18, 2048), (42,), (18,))"
      ]
     },
     "execution_count": 191,
     "metadata": {},
     "output_type": "execute_result"
    }
   ],
   "source": [
    "X_incl086_train, X_incl086_test, y_incl086_train, y_incl086_test = model_selection.train_test_split(\n",
    "    X_incl086, y_incl086, test_size=0.3)\n",
    "X_incl086_train.shape, X_incl086_test.shape, y_incl086_train.shape, y_incl086_test.shape"
   ]
  },
  {
   "cell_type": "code",
   "execution_count": 193,
   "metadata": {
    "collapsed": false
   },
   "outputs": [
    {
     "data": {
      "text/html": [
       "<div>\n",
       "<table border=\"1\" class=\"dataframe\">\n",
       "  <thead>\n",
       "    <tr style=\"text-align: right;\">\n",
       "      <th></th>\n",
       "      <th>0</th>\n",
       "      <th>1</th>\n",
       "      <th>2</th>\n",
       "      <th>3</th>\n",
       "      <th>4</th>\n",
       "      <th>5</th>\n",
       "      <th>6</th>\n",
       "      <th>7</th>\n",
       "      <th>8</th>\n",
       "      <th>9</th>\n",
       "      <th>...</th>\n",
       "      <th>2038</th>\n",
       "      <th>2039</th>\n",
       "      <th>2040</th>\n",
       "      <th>2041</th>\n",
       "      <th>2042</th>\n",
       "      <th>2043</th>\n",
       "      <th>2044</th>\n",
       "      <th>2045</th>\n",
       "      <th>2046</th>\n",
       "      <th>2047</th>\n",
       "    </tr>\n",
       "  </thead>\n",
       "  <tbody>\n",
       "    <tr>\n",
       "      <th>98</th>\n",
       "      <td>0.002500</td>\n",
       "      <td>-0.003663</td>\n",
       "      <td>0.003899</td>\n",
       "      <td>-0.010769</td>\n",
       "      <td>-0.002073</td>\n",
       "      <td>0.003407</td>\n",
       "      <td>0.004690</td>\n",
       "      <td>0.004321</td>\n",
       "      <td>-0.001964</td>\n",
       "      <td>0.000052</td>\n",
       "      <td>...</td>\n",
       "      <td>-0.009809</td>\n",
       "      <td>-0.002991</td>\n",
       "      <td>0.011609</td>\n",
       "      <td>0.000448</td>\n",
       "      <td>0.003338</td>\n",
       "      <td>-0.005294</td>\n",
       "      <td>0.00209</td>\n",
       "      <td>0.0085</td>\n",
       "      <td>0.001033</td>\n",
       "      <td>-0.001343</td>\n",
       "    </tr>\n",
       "    <tr>\n",
       "      <th>99</th>\n",
       "      <td>0.002499</td>\n",
       "      <td>-0.003663</td>\n",
       "      <td>0.003899</td>\n",
       "      <td>-0.010768</td>\n",
       "      <td>-0.002073</td>\n",
       "      <td>0.003407</td>\n",
       "      <td>0.004689</td>\n",
       "      <td>0.004320</td>\n",
       "      <td>-0.001963</td>\n",
       "      <td>0.000051</td>\n",
       "      <td>...</td>\n",
       "      <td>-0.009808</td>\n",
       "      <td>-0.002991</td>\n",
       "      <td>0.011608</td>\n",
       "      <td>0.000447</td>\n",
       "      <td>0.003338</td>\n",
       "      <td>-0.005293</td>\n",
       "      <td>0.00209</td>\n",
       "      <td>0.0085</td>\n",
       "      <td>0.001033</td>\n",
       "      <td>-0.001343</td>\n",
       "    </tr>\n",
       "    <tr>\n",
       "      <th>100</th>\n",
       "      <td>0.002499</td>\n",
       "      <td>-0.003664</td>\n",
       "      <td>0.003898</td>\n",
       "      <td>-0.010768</td>\n",
       "      <td>-0.002073</td>\n",
       "      <td>0.003408</td>\n",
       "      <td>0.004687</td>\n",
       "      <td>0.004319</td>\n",
       "      <td>-0.001962</td>\n",
       "      <td>0.000051</td>\n",
       "      <td>...</td>\n",
       "      <td>-0.009808</td>\n",
       "      <td>-0.002992</td>\n",
       "      <td>0.011606</td>\n",
       "      <td>0.000446</td>\n",
       "      <td>0.003338</td>\n",
       "      <td>-0.005292</td>\n",
       "      <td>0.00209</td>\n",
       "      <td>0.0085</td>\n",
       "      <td>0.001034</td>\n",
       "      <td>-0.001342</td>\n",
       "    </tr>\n",
       "  </tbody>\n",
       "</table>\n",
       "<p>3 rows × 2048 columns</p>\n",
       "</div>"
      ],
      "text/plain": [
       "         0         1         2         3         4         5         6     \\\n",
       "98   0.002500 -0.003663  0.003899 -0.010769 -0.002073  0.003407  0.004690   \n",
       "99   0.002499 -0.003663  0.003899 -0.010768 -0.002073  0.003407  0.004689   \n",
       "100  0.002499 -0.003664  0.003898 -0.010768 -0.002073  0.003408  0.004687   \n",
       "\n",
       "         7         8         9       ...         2038      2039      2040  \\\n",
       "98   0.004321 -0.001964  0.000052    ...    -0.009809 -0.002991  0.011609   \n",
       "99   0.004320 -0.001963  0.000051    ...    -0.009808 -0.002991  0.011608   \n",
       "100  0.004319 -0.001962  0.000051    ...    -0.009808 -0.002992  0.011606   \n",
       "\n",
       "         2041      2042      2043     2044    2045      2046      2047  \n",
       "98   0.000448  0.003338 -0.005294  0.00209  0.0085  0.001033 -0.001343  \n",
       "99   0.000447  0.003338 -0.005293  0.00209  0.0085  0.001033 -0.001343  \n",
       "100  0.000446  0.003338 -0.005292  0.00209  0.0085  0.001034 -0.001342  \n",
       "\n",
       "[3 rows x 2048 columns]"
      ]
     },
     "execution_count": 193,
     "metadata": {},
     "output_type": "execute_result"
    }
   ],
   "source": [
    "results_incl086 = fp.fastgradalgo(\n",
    "    X_incl086_train, y_incl086_train, t_init=t_init, \n",
    "    grad_func = fp.compute_gradient_logistic_regression, \n",
    "    obj_func = fp.compute_objective_logistic_regression, \n",
    "    lam=1, max_iter=max_iters)\n",
    "results_incl086[-3:]"
   ]
  },
  {
   "cell_type": "code",
   "execution_count": 285,
   "metadata": {
    "collapsed": false
   },
   "outputs": [
    {
     "data": {
      "text/plain": [
       "0.72222222222222221"
      ]
     },
     "execution_count": 285,
     "metadata": {},
     "output_type": "execute_result"
    }
   ],
   "source": [
    "fp.get_accuracy(fp.get_final_coefs(results_incl086), X_incl086_test, y_incl086_test)"
   ]
  },
  {
   "cell_type": "code",
   "execution_count": 298,
   "metadata": {
    "collapsed": false
   },
   "outputs": [
    {
     "data": {
      "text/plain": [
       "[(1, 1),\n",
       " (-1, -1),\n",
       " (1, -1),\n",
       " (1, 1),\n",
       " (1, -1),\n",
       " (-1, -1),\n",
       " (1, 1),\n",
       " (1, 1),\n",
       " (1, 1),\n",
       " (1, 1),\n",
       " (-1, -1),\n",
       " (1, 1),\n",
       " (1, -1),\n",
       " (1, -1),\n",
       " (1, 1),\n",
       " (-1, -1),\n",
       " (1, -1),\n",
       " (1, 1)]"
      ]
     },
     "execution_count": 298,
     "metadata": {},
     "output_type": "execute_result"
    }
   ],
   "source": [
    "list(zip(fp.get_y_pred(fp.get_final_coefs(results_incl086), X_incl086_test, y_incl086_test), y_incl086_test))"
   ]
  },
  {
   "cell_type": "code",
   "execution_count": 278,
   "metadata": {
    "collapsed": false
   },
   "outputs": [
    {
     "data": {
      "text/plain": [
       "array([[9, 0],\n",
       "       [5, 4]])"
      ]
     },
     "execution_count": 278,
     "metadata": {},
     "output_type": "execute_result"
    }
   ],
   "source": [
    "confusion_matrix(y_incl086_test, fp.get_y_pred(fp.get_final_coefs(results_incl086), X_incl086_test, y_incl086_test), \n",
    "                 labels=[1,-1])"
   ]
  },
  {
   "cell_type": "code",
   "execution_count": 296,
   "metadata": {
    "collapsed": false
   },
   "outputs": [
    {
     "data": {
      "text/plain": [
       "array([[9, 0],\n",
       "       [1, 8]])"
      ]
     },
     "execution_count": 296,
     "metadata": {},
     "output_type": "execute_result"
    }
   ],
   "source": [
    "cm = fp.get_confusion_matrix(fp.get_final_coefs(results_incl086), X_incl086_test, y_incl086_test, 0.95)\n",
    "cm"
   ]
  },
  {
   "cell_type": "markdown",
   "metadata": {},
   "source": [
    "We need five classifiers, one for each label."
   ]
  },
  {
   "cell_type": "code",
   "execution_count": 318,
   "metadata": {
    "collapsed": false
   },
   "outputs": [
    {
     "data": {
      "text/plain": [
       "(2048,)"
      ]
     },
     "execution_count": 318,
     "metadata": {},
     "output_type": "execute_result"
    }
   ],
   "source": [
    "fp.get_final_coefs(results).ravel().shape"
   ]
  },
  {
   "cell_type": "code",
   "execution_count": 367,
   "metadata": {
    "collapsed": true
   },
   "outputs": [],
   "source": [
    "def get_classifier_for_label(classifier_label, X, labels, lam):\n",
    "    X_incl_label, labels_incl_label = fp.get_balanced_set(classifier_label, X, labels)\n",
    "    y_incl_label = np.where(labels_incl_label == classifier_label, 1, -1)\n",
    "    \n",
    "    X_sub_train, _, y_sub_train, _ = model_selection.train_test_split(\n",
    "                                            X_incl_label, y_incl_label, test_size=0.3)\n",
    "    \n",
    "    results_incl_label = fp.fastgradalgo(\n",
    "        X_sub_train, y_sub_train, t_init=t_init, \n",
    "        grad_func = fp.compute_gradient_logistic_regression, \n",
    "        obj_func = fp.compute_objective_logistic_regression, \n",
    "        lam=lam, max_iter=max_iters, t_func=fp.backtracking)\n",
    "\n",
    "    return fp.get_final_coefs(results_incl_label).ravel() # return a vector instead of a 1-D array"
   ]
  },
  {
   "cell_type": "code",
   "execution_count": 368,
   "metadata": {
    "collapsed": false
   },
   "outputs": [
    {
     "data": {
      "text/plain": [
       "(2048,)"
      ]
     },
     "execution_count": 368,
     "metadata": {},
     "output_type": "execute_result"
    }
   ],
   "source": [
    "foo = get_classifier_for_label('086.Pacific_Loon', X_scaled, labels_train, 1)\n",
    "foo.shape"
   ]
  },
  {
   "cell_type": "code",
   "execution_count": 376,
   "metadata": {
    "collapsed": false
   },
   "outputs": [
    {
     "data": {
      "text/plain": [
       "(5, 2048)"
      ]
     },
     "execution_count": 376,
     "metadata": {},
     "output_type": "execute_result"
    }
   ],
   "source": [
    "classifier_labels = ['086.Pacific_Loon','044.Frigatebird','095.Baltimore_Oriole',\n",
    "                     '154.Red_eyed_Vireo','188.Pileated_Woodpecker']\n",
    "classifiers = np.asarray([get_classifier_for_label(classifier_label, X_scaled, labels_train, 1) for \n",
    "                          classifier_label in classifier_labels])\n",
    "classifiers.shape"
   ]
  },
  {
   "cell_type": "code",
   "execution_count": 377,
   "metadata": {
    "collapsed": false
   },
   "outputs": [
    {
     "data": {
      "text/plain": [
       "(4320, 5)"
      ]
     },
     "execution_count": 377,
     "metadata": {},
     "output_type": "execute_result"
    }
   ],
   "source": [
    "predictions_by_classifier = classifiers.dot(X_scaled.T).T\n",
    "predictions_by_classifier.shape"
   ]
  },
  {
   "cell_type": "code",
   "execution_count": 378,
   "metadata": {
    "collapsed": false
   },
   "outputs": [],
   "source": [
    "label_index_of_highest_prediction = np.argmax(predictions_by_classifier, 1)"
   ]
  },
  {
   "cell_type": "code",
   "execution_count": 379,
   "metadata": {
    "collapsed": false
   },
   "outputs": [
    {
     "data": {
      "text/plain": [
       "(4320,)"
      ]
     },
     "execution_count": 379,
     "metadata": {},
     "output_type": "execute_result"
    }
   ],
   "source": [
    "predicted_labels = np.array([classifier_labels[index] for index in label_index_of_highest_prediction])\n",
    "predicted_labels.shape"
   ]
  },
  {
   "cell_type": "code",
   "execution_count": 380,
   "metadata": {
    "collapsed": false
   },
   "outputs": [
    {
     "data": {
      "text/plain": [
       "array(['044.Frigatebird', '044.Frigatebird', '044.Frigatebird'], \n",
       "      dtype='<U23')"
      ]
     },
     "execution_count": 380,
     "metadata": {},
     "output_type": "execute_result"
    }
   ],
   "source": [
    "predicted_labels[:3]"
   ]
  },
  {
   "cell_type": "code",
   "execution_count": 381,
   "metadata": {
    "collapsed": false
   },
   "outputs": [
    {
     "data": {
      "text/plain": [
       "{'044.Frigatebird',\n",
       " '086.Pacific_Loon',\n",
       " '095.Baltimore_Oriole',\n",
       " '154.Red_eyed_Vireo',\n",
       " '188.Pileated_Woodpecker',\n",
       " 'Other'}"
      ]
     },
     "execution_count": 381,
     "metadata": {},
     "output_type": "execute_result"
    }
   ],
   "source": [
    "labels_train_six_classes = [label if label in classifier_labels else 'Other' for label in labels_train]\n",
    "set(labels_train_six_classes)"
   ]
  },
  {
   "cell_type": "code",
   "execution_count": null,
   "metadata": {
    "collapsed": true
   },
   "outputs": [],
   "source": []
  },
  {
   "cell_type": "code",
   "execution_count": 386,
   "metadata": {
    "collapsed": false
   },
   "outputs": [
    {
     "data": {
      "text/plain": [
       "array([[  28,    0,    1,    0,    1,    0],\n",
       "       [   3,   27,    0,    0,    0,    0],\n",
       "       [   0,    0,   30,    0,    0,    0],\n",
       "       [   0,    0,    0,   30,    0,    0],\n",
       "       [   2,    0,    0,    0,   28,    0],\n",
       "       [ 469,  523, 1074, 1058, 1046,    0]])"
      ]
     },
     "execution_count": 386,
     "metadata": {},
     "output_type": "execute_result"
    }
   ],
   "source": [
    "cm = confusion_matrix(labels_train_six_classes, predicted_labels)\n",
    "cm"
   ]
  },
  {
   "cell_type": "code",
   "execution_count": 394,
   "metadata": {
    "collapsed": false
   },
   "outputs": [
    {
     "data": {
      "text/plain": [
       "<matplotlib.axes._subplots.AxesSubplot at 0x11fddb588>"
      ]
     },
     "execution_count": 394,
     "metadata": {},
     "output_type": "execute_result"
    },
    {
     "data": {
      "image/png": "[encoded data removed]",
      "text/plain": [
       "<matplotlib.figure.Figure at 0x11fbfb438>"
      ]
     },
     "metadata": {},
     "output_type": "display_data"
    }
   ],
   "source": [
    "sns.heatmap(cm[:5,:5], annot=True, xticklabels=classifier_labels, yticklabels=classifier_labels)\n"
   ]
  },
  {
   "cell_type": "code",
   "execution_count": 336,
   "metadata": {
    "collapsed": false
   },
   "outputs": [
    {
     "data": {
      "text/plain": [
       "44236800"
      ]
     },
     "execution_count": 336,
     "metadata": {},
     "output_type": "execute_result"
    }
   ],
   "source": [
    "4320*5*2048"
   ]
  },
  {
   "cell_type": "markdown",
   "metadata": {},
   "source": [
    "**TODO** generalize to do this for a list"
   ]
  },
  {
   "cell_type": "code",
   "execution_count": 258,
   "metadata": {
    "collapsed": false
   },
   "outputs": [
    {
     "data": {
      "text/plain": [
       "(array([[6, 3],\n",
       "        [0, 9]]), 0.83333333333333337)"
      ]
     },
     "execution_count": 258,
     "metadata": {},
     "output_type": "execute_result"
    }
   ],
   "source": [
    "get_confusion_matrix_for_label('086.Pacific_Loon', X_scaled, labels_train)"
   ]
  },
  {
   "cell_type": "code",
   "execution_count": null,
   "metadata": {
    "collapsed": true
   },
   "outputs": [],
   "source": []
  },
  {
   "cell_type": "markdown",
   "metadata": {},
   "source": [
    "**TODO** why do we always get a 0 in one corner? This means that we never have any false negatives - that is, we never predict -1 when it's actually 1. We do the other three. Why?\n",
    "\n",
    "So, this means that we never predict that it ISN'T the bird in question, when it is actually the bird in question. I tried w/ an array of thresholds from very low to very high, and while they changed some true negatives to false positives, they never changed any prediction to a false negative. Perhaps this is something that's not uncommon when you have a single 1-vs-rest classifier? For example, that classifier tends to see anything at all that looks remotely like the bird in question as the bird in question (leading to true positives when it IS the bird, and false positives when it's not), but does not - generally, or at all? - think that the bird in question is actually NOT the bird in question. I could also write the above or add in terms of precision and recall if I thought about it for a few more minutes."
   ]
  },
  {
   "cell_type": "markdown",
   "metadata": {},
   "source": [
    "_Write a function that returns the ranked list of classes in terms of classiﬁcation diﬃculty using the confusion matrix. Compute the multi-class misclassiﬁcation error._"
   ]
  },
  {
   "cell_type": "code",
   "execution_count": null,
   "metadata": {
    "collapsed": true
   },
   "outputs": [],
   "source": []
  },
  {
   "cell_type": "code",
   "execution_count": null,
   "metadata": {
    "collapsed": true
   },
   "outputs": [],
   "source": []
  },
  {
   "cell_type": "code",
   "execution_count": null,
   "metadata": {
    "collapsed": true
   },
   "outputs": [],
   "source": []
  },
  {
   "cell_type": "markdown",
   "metadata": {},
   "source": [
    "_Find the values of the regularization parameters λ1,...,λk for the classiﬁers using a hold-out validation set strategy. Deﬁne a grid of values Λ for each parameter λc with c = 1,...,k. For each setting of the regularization parameters λ1,...,λk, where each λc can take values in Λ (independently), train all your k = 5 classiﬁers and save the multi-class misclassiﬁcation error on the validation set for each setting of the regularization parameters λ1,...,λk._"
   ]
  },
  {
   "cell_type": "code",
   "execution_count": null,
   "metadata": {
    "collapsed": true
   },
   "outputs": [],
   "source": []
  },
  {
   "cell_type": "code",
   "execution_count": null,
   "metadata": {
    "collapsed": true
   },
   "outputs": [],
   "source": []
  },
  {
   "cell_type": "code",
   "execution_count": null,
   "metadata": {
    "collapsed": true
   },
   "outputs": [],
   "source": []
  },
  {
   "cell_type": "markdown",
   "metadata": {},
   "source": [
    "_Find the optimal value of the regularization parameters λ1,...,λk based on the validation error. Display the confusion matrix for this setting of the regularization parameters._"
   ]
  },
  {
   "cell_type": "code",
   "execution_count": null,
   "metadata": {
    "collapsed": true
   },
   "outputs": [],
   "source": []
  }
 ],
 "metadata": {
  "kernelspec": {
   "display_name": "Python 3",
   "language": "python",
   "name": "python3"
  },
  "language_info": {
   "codemirror_mode": {
    "name": "ipython",
    "version": 3
   },
   "file_extension": ".py",
   "mimetype": "text/x-python",
   "name": "python",
   "nbconvert_exporter": "python",
   "pygments_lexer": "ipython3",
   "version": "3.6.0"
  }
 },
 "nbformat": 4,
 "nbformat_minor": 2
}
