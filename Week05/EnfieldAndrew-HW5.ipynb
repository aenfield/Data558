{
 "cells": [
  {
   "cell_type": "code",
   "execution_count": 48,
   "metadata": {
    "collapsed": false
   },
   "outputs": [],
   "source": [
    "# general\n",
    "import numpy as np\n",
    "import pandas as pd\n",
    "import matplotlib.pyplot as plt\n",
    "import seaborn as sns\n",
    "from IPython.display import display\n",
    "\n",
    "%matplotlib inline\n",
    "\n",
    "from pylab import rcParams\n",
    "rcParams['figure.figsize'] = 8, 5\n",
    "\n",
    "# exercise two\n",
    "import pca\n",
    "from sklearn import preprocessing # for scale\n"
   ]
  },
  {
   "cell_type": "code",
   "execution_count": 56,
   "metadata": {
    "collapsed": false
   },
   "outputs": [
    {
     "data": {
      "text/plain": [
       "<module 'pca' from '/Users/andrewenfield/work/github/Data558/Week05/pca.py'>"
      ]
     },
     "execution_count": 56,
     "metadata": {},
     "output_type": "execute_result"
    }
   ],
   "source": [
    "import importlib\n",
    "importlib.reload(pca)"
   ]
  },
  {
   "cell_type": "markdown",
   "metadata": {},
   "source": [
    "# Exercise One"
   ]
  },
  {
   "cell_type": "markdown",
   "metadata": {},
   "source": [
    "**TODO**"
   ]
  },
  {
   "cell_type": "markdown",
   "metadata": {},
   "source": [
    "# Exercise Two"
   ]
  },
  {
   "cell_type": "markdown",
   "metadata": {},
   "source": [
    "\"(a) Generate a simulated data set with 20 observations in each of three classes (i.e. 60 observations total), and 50 variables. Hint: There are a number of functions in numpy that you can use to generate data. One example is the numpy.random.normal() func- tion; numpy.random.uniform() is another option. Be sure to add a mean shift to the observations in each class so that there are three distinct classes.\""
   ]
  },
  {
   "cell_type": "code",
   "execution_count": 8,
   "metadata": {
    "collapsed": false
   },
   "outputs": [
    {
     "data": {
      "text/html": [
       "<div>\n",
       "<table border=\"1\" class=\"dataframe\">\n",
       "  <thead>\n",
       "    <tr style=\"text-align: right;\">\n",
       "      <th></th>\n",
       "      <th>Class</th>\n",
       "      <th>0</th>\n",
       "      <th>1</th>\n",
       "      <th>2</th>\n",
       "      <th>3</th>\n",
       "      <th>4</th>\n",
       "      <th>5</th>\n",
       "      <th>6</th>\n",
       "      <th>7</th>\n",
       "      <th>8</th>\n",
       "      <th>...</th>\n",
       "      <th>40</th>\n",
       "      <th>41</th>\n",
       "      <th>42</th>\n",
       "      <th>43</th>\n",
       "      <th>44</th>\n",
       "      <th>45</th>\n",
       "      <th>46</th>\n",
       "      <th>47</th>\n",
       "      <th>48</th>\n",
       "      <th>49</th>\n",
       "    </tr>\n",
       "  </thead>\n",
       "  <tbody>\n",
       "    <tr>\n",
       "      <th>0</th>\n",
       "      <td>A</td>\n",
       "      <td>0.496714</td>\n",
       "      <td>-0.138264</td>\n",
       "      <td>0.647689</td>\n",
       "      <td>1.52303</td>\n",
       "      <td>-0.234153</td>\n",
       "      <td>-0.234137</td>\n",
       "      <td>1.579213</td>\n",
       "      <td>0.767435</td>\n",
       "      <td>-0.469474</td>\n",
       "      <td>...</td>\n",
       "      <td>0.738467</td>\n",
       "      <td>0.171368</td>\n",
       "      <td>-0.115648</td>\n",
       "      <td>-0.301104</td>\n",
       "      <td>-1.478522</td>\n",
       "      <td>-0.719844</td>\n",
       "      <td>-0.460639</td>\n",
       "      <td>1.057122</td>\n",
       "      <td>0.343618</td>\n",
       "      <td>-1.76304</td>\n",
       "    </tr>\n",
       "  </tbody>\n",
       "</table>\n",
       "<p>1 rows × 51 columns</p>\n",
       "</div>"
      ],
      "text/plain": [
       "  Class         0         1         2        3         4         5         6  \\\n",
       "0     A  0.496714 -0.138264  0.647689  1.52303 -0.234153 -0.234137  1.579213   \n",
       "\n",
       "          7         8   ...           40        41        42        43  \\\n",
       "0  0.767435 -0.469474   ...     0.738467  0.171368 -0.115648 -0.301104   \n",
       "\n",
       "         44        45        46        47        48       49  \n",
       "0 -1.478522 -0.719844 -0.460639  1.057122  0.343618 -1.76304  \n",
       "\n",
       "[1 rows x 51 columns]"
      ]
     },
     "execution_count": 8,
     "metadata": {},
     "output_type": "execute_result"
    }
   ],
   "source": [
    "mean_vals = [0, 0.5, 1]\n",
    "np.random.seed(42)\n",
    "d = pd.DataFrame(np.vstack([np.random.normal(mean, \n",
    "                        size=(20,50)) for mean in mean_vals]))\n",
    "d.insert(0, 'Class', np.repeat(['A','B','C'], 20))\n",
    "d[:1]"
   ]
  },
  {
   "cell_type": "code",
   "execution_count": 21,
   "metadata": {
    "collapsed": false
   },
   "outputs": [
    {
     "data": {
      "text/plain": [
       "array([ 0.02347569, -0.86087989,  0.20461314,  0.91440723, -0.66925639,\n",
       "       -0.78390443,  1.06715112,  0.08776444, -0.96780705, -0.35403586,\n",
       "       -0.89694444, -1.08329323, -0.34789351, -2.27688128, -2.5374925 ,\n",
       "       -1.11884412, -1.50006027, -0.1519797 , -1.25006323, -2.08583051,\n",
       "        0.68820801, -0.79558276, -0.41366629, -1.89948789, -1.20784122,\n",
       "       -0.35670811, -1.63090521, -0.3084079 , -1.23701623, -0.96793313,\n",
       "       -1.06025456,  1.50777202, -0.45515398, -1.59243514,  0.29415379,\n",
       "       -1.79344291, -0.23924429, -2.41219899, -1.81890736, -0.27094352,\n",
       "        0.17345447, -0.40398641, -0.66759232, -0.7470722 , -1.87186667,\n",
       "       -1.22705805, -0.73186415,  0.83234851, -0.40986555, -2.26248424])"
      ]
     },
     "execution_count": 21,
     "metadata": {},
     "output_type": "execute_result"
    }
   ],
   "source": [
    "d_values = d.values[:, 1:51].astype('float')\n",
    "d_values_centered = preprocessing.scale(d_values, with_std=False)\n",
    "d_values_centered[0]"
   ]
  },
  {
   "cell_type": "markdown",
   "metadata": {},
   "source": [
    "\"(b) Run your own normalized Oja algorithm on the 60 observations. You should try to implement the algorithm yourself, but you may look back at the labs if you need help. Plot the first two principal component score vectors. Compare your results to the ones obtained with scikit-learn’s PCA algorithm. Use a different color to indicate the observations in each of the three classes. If the three classes appear separated in this plot, then you’re done and you can launch the computations on AWS. If not, then return to part (a) and modify the simulation so that there is greater separation between the three classes.\""
   ]
  },
  {
   "cell_type": "code",
   "execution_count": 22,
   "metadata": {
    "collapsed": false
   },
   "outputs": [],
   "source": [
    "import copy"
   ]
  },
  {
   "cell_type": "code",
   "execution_count": 24,
   "metadata": {
    "collapsed": false
   },
   "outputs": [
    {
     "data": {
      "text/plain": [
       "array([-0.25301586, -0.11410535, -0.05485289,  0.25034753,  0.07381078,\n",
       "       -0.17711326,  0.06445875, -0.20520542,  0.14358786, -0.06248115,\n",
       "       -0.01241815,  0.17582884, -0.17070527, -0.18528759, -0.07739768,\n",
       "        0.13771112, -0.20149761, -0.37560407, -0.05983326,  0.07317257,\n",
       "        0.15918024, -0.06142505, -0.05456392,  0.15303178, -0.24796752,\n",
       "       -0.05152612,  0.02525426,  0.05957596, -0.06761121,  0.00456761,\n",
       "       -0.33000513, -0.08729774,  0.0601449 , -0.13027308,  0.00782256,\n",
       "        0.0592648 , -0.04542931,  0.02260712, -0.12767882, -0.02740105,\n",
       "        0.08092764,  0.02081795, -0.07778652,  0.02973586,  0.09477246,\n",
       "       -0.27186582,  0.15371787, -0.04459453,  0.05642902,  0.15878041])"
      ]
     },
     "execution_count": 24,
     "metadata": {},
     "output_type": "execute_result"
    }
   ],
   "source": [
    "a_0 = np.random.randn(np.size(d_values_centered, 1))  # Generate a starting point\n",
    "a_0 /= np.linalg.norm(a_0, axis=0)\n",
    "a_0"
   ]
  },
  {
   "cell_type": "code",
   "execution_count": 35,
   "metadata": {
    "collapsed": false
   },
   "outputs": [
    {
     "data": {
      "text/plain": [
       "array([-0.25301859, -0.11410785, -0.05486906,  0.25031489,  0.07380394,\n",
       "       -0.17713992,  0.06443381, -0.2052236 ,  0.14357693, -0.06249719,\n",
       "       -0.01244133,  0.1757961 , -0.17073971, -0.18529886, -0.07743186,\n",
       "        0.13768431, -0.20149652, -0.3755844 , -0.05986669,  0.07314857,\n",
       "        0.15916281, -0.0614622 , -0.05457522,  0.15300135, -0.24801292,\n",
       "       -0.05156215,  0.02521983,  0.05955282, -0.06763404,  0.00453083,\n",
       "       -0.33000368, -0.08731816,  0.06012964, -0.13030129,  0.00780439,\n",
       "        0.05923414, -0.04546926,  0.02256873, -0.1276921 , -0.02742142,\n",
       "        0.08088949,  0.02081677, -0.07782769,  0.02973479,  0.09473826,\n",
       "       -0.27188165,  0.1537062 , -0.04459903,  0.05640827,  0.15874937])"
      ]
     },
     "execution_count": 35,
     "metadata": {},
     "output_type": "execute_result"
    }
   ],
   "source": [
    "foo = pca.oja(copy.deepcopy(d_values_centered), a_0, 0.00001, 1, 200)\n",
    "foo[0]"
   ]
  },
  {
   "cell_type": "code",
   "execution_count": 38,
   "metadata": {
    "collapsed": false
   },
   "outputs": [
    {
     "data": {
      "text/plain": [
       "array([-0.14293331, -0.15152851, -0.14005049, -0.07964938, -0.11591722,\n",
       "       -0.15731824, -0.1100213 , -0.13253252, -0.15079955, -0.09778528,\n",
       "       -0.09760636, -0.12238316, -0.15645123, -0.07458436, -0.17768656,\n",
       "       -0.13402984, -0.08546875, -0.04229975, -0.16320509, -0.12648437,\n",
       "       -0.11854884, -0.22660309, -0.0799993 , -0.12063478, -0.13355189,\n",
       "       -0.18022648, -0.22954671, -0.13272337, -0.13799836, -0.12622167,\n",
       "       -0.14466925, -0.13725777, -0.17988373, -0.16620468, -0.08261828,\n",
       "       -0.17687974, -0.10523547, -0.1529127 , -0.07962304, -0.16854477,\n",
       "       -0.20336225, -0.11783027, -0.19634367, -0.0797991 , -0.12240397,\n",
       "       -0.18721918, -0.13688442, -0.0345948 , -0.1462935 , -0.18474916])"
      ]
     },
     "execution_count": 38,
     "metadata": {},
     "output_type": "execute_result"
    }
   ],
   "source": [
    "from sklearn.decomposition import PCA\n",
    "bar = pca = PCA(50, svd_solver='randomized')\n",
    "bar.fit_transform(d_values_centered)\n",
    "bar.components_[0]"
   ]
  },
  {
   "cell_type": "code",
   "execution_count": null,
   "metadata": {
    "collapsed": true
   },
   "outputs": [],
   "source": []
  },
  {
   "cell_type": "code",
   "execution_count": null,
   "metadata": {
    "collapsed": true
   },
   "outputs": [],
   "source": []
  },
  {
   "cell_type": "code",
   "execution_count": 39,
   "metadata": {
    "collapsed": false
   },
   "outputs": [
    {
     "name": "stderr",
     "output_type": "stream",
     "text": [
      "Downloading LFW metadata: http://vis-www.cs.umass.edu/lfw/pairsDevTrain.txt\n",
      "Downloading LFW metadata: http://vis-www.cs.umass.edu/lfw/pairsDevTest.txt\n",
      "Downloading LFW metadata: http://vis-www.cs.umass.edu/lfw/pairs.txt\n",
      "Downloading LFW data (~200MB): http://vis-www.cs.umass.edu/lfw/lfw-funneled.tgz\n"
     ]
    },
    {
     "name": "stdout",
     "output_type": "stream",
     "text": [
      "['Alejandro Toledo' 'Alvaro Uribe' 'Andre Agassi' 'Ariel Sharon'\n",
      " 'Arnold Schwarzenegger' 'Colin Powell' 'David Beckham' 'Donald Rumsfeld'\n",
      " 'George W Bush' 'Gerhard Schroeder' 'Gloria Macapagal Arroyo'\n",
      " 'Guillermo Coria' 'Hans Blix' 'Hugo Chavez' 'Jacques Chirac'\n",
      " 'Jean Chretien' 'Jennifer Capriati' 'John Ashcroft' 'John Negroponte'\n",
      " 'Junichiro Koizumi' 'Kofi Annan' 'Laura Bush' 'Lleyton Hewitt'\n",
      " 'Luiz Inacio Lula da Silva' 'Megawati Sukarnoputri' 'Nestor Kirchner'\n",
      " 'Recep Tayyip Erdogan' 'Roh Moo-hyun' 'Serena Williams'\n",
      " 'Silvio Berlusconi' 'Tom Ridge' 'Tony Blair' 'Vicente Fox'\n",
      " 'Vladimir Putin']\n",
      "(2370, 62, 47)\n",
      "(2370, 2914)\n"
     ]
    }
   ],
   "source": [
    "from sklearn.datasets import fetch_lfw_people\n",
    "\n",
    "faces = fetch_lfw_people(min_faces_per_person=30) \n",
    "print(faces.target_names)  # Images of 34 different people\n",
    "print(faces.images.shape)  # 2370 images, each of which is 62x47 pixels\n",
    "print(faces.data.shape)    # Each image is unravelled to a vector of size 2914"
   ]
  },
  {
   "cell_type": "code",
   "execution_count": null,
   "metadata": {
    "collapsed": true
   },
   "outputs": [],
   "source": []
  },
  {
   "cell_type": "code",
   "execution_count": 69,
   "metadata": {
    "collapsed": false
   },
   "outputs": [
    {
     "data": {
      "text/plain": [
       "(2370, 2914)"
      ]
     },
     "execution_count": 69,
     "metadata": {},
     "output_type": "execute_result"
    }
   ],
   "source": [
    "X = faces.data\n",
    "X.shape"
   ]
  },
  {
   "cell_type": "code",
   "execution_count": 90,
   "metadata": {
    "collapsed": false
   },
   "outputs": [
    {
     "data": {
      "text/plain": [
       "(3000, 50)"
      ]
     },
     "execution_count": 90,
     "metadata": {},
     "output_type": "execute_result"
    }
   ],
   "source": [
    "# mean_vals = [0, 0.5, 1]\n",
    "mean_vals = [0, 10, 20]\n",
    "\n",
    "group_n = 1000\n",
    "np.random.seed(42)\n",
    "d = pd.DataFrame(np.vstack([np.random.normal(mean, \n",
    "                        size=(group_n,50)) for mean in mean_vals]))\n",
    "d.insert(0, 'Class', np.repeat(['A','B','C'], group_n))\n",
    "X = d.values[:, 1:51].astype('float')\n",
    "X.shape"
   ]
  },
  {
   "cell_type": "code",
   "execution_count": 91,
   "metadata": {
    "collapsed": false
   },
   "outputs": [
    {
     "data": {
      "text/plain": [
       "array([-0.141209  , -0.1409302 , -0.14146095, -0.14141969, -0.14177463,\n",
       "       -0.14138225, -0.14156989, -0.14110747, -0.14151279, -0.14155083,\n",
       "       -0.14159272, -0.14171242, -0.1416587 , -0.14166175, -0.14107436,\n",
       "       -0.14114198, -0.14123125, -0.14178447, -0.14189052, -0.14145668,\n",
       "       -0.14095696, -0.1413562 , -0.14136894, -0.1414888 , -0.14184671,\n",
       "       -0.14125695, -0.14114908, -0.14103378, -0.14105817, -0.14145274,\n",
       "       -0.14152995, -0.14226931, -0.14155732, -0.14111908, -0.14138758,\n",
       "       -0.14123197, -0.1408938 , -0.141417  , -0.14167001, -0.14101028,\n",
       "       -0.14178814, -0.1416391 , -0.14160073, -0.14121205, -0.14169456,\n",
       "       -0.14124554, -0.14172226, -0.14149467, -0.14097769, -0.14150099])"
      ]
     },
     "execution_count": 91,
     "metadata": {},
     "output_type": "execute_result"
    }
   ],
   "source": [
    "pca25 = PCA(25, svd_solver='randomized')\n",
    "pca25.fit(X)\n",
    "pca25.components_[0]"
   ]
  },
  {
   "cell_type": "code",
   "execution_count": 92,
   "metadata": {
    "collapsed": true
   },
   "outputs": [],
   "source": [
    "Z = X - np.mean(X, axis=0)  # Center the data"
   ]
  },
  {
   "cell_type": "code",
   "execution_count": 93,
   "metadata": {
    "collapsed": false
   },
   "outputs": [
    {
     "data": {
      "text/plain": [
       "array([ 0.12536689, -0.07728645,  0.00311763,  0.0246602 , -0.02906881,\n",
       "        0.22259269, -0.27496568,  0.14946135,  0.03679956, -0.06257761,\n",
       "        0.13153712, -0.13698906,  0.12669432, -0.09907743, -0.0550845 ,\n",
       "        0.09407745, -0.0038838 ,  0.10393951,  0.03342277, -0.02884532,\n",
       "        0.02737004,  0.07568888, -0.03438257,  0.07697686, -0.01405029,\n",
       "       -0.00708856,  0.06395032, -0.08674392, -0.18575247,  0.05344813,\n",
       "       -0.2325563 ,  0.08975909,  0.23919576,  0.09099006,  0.23609842,\n",
       "       -0.08822683, -0.20992762,  0.02792954,  0.14592475, -0.01475163,\n",
       "        0.20248939,  0.37289568, -0.31233122,  0.09142692,  0.1840213 ,\n",
       "        0.22326263, -0.13387004, -0.12697363, -0.08865699,  0.07477436])"
      ]
     },
     "execution_count": 93,
     "metadata": {},
     "output_type": "execute_result"
    }
   ],
   "source": [
    "a_0 = np.random.randn(np.size(Z, 1))  # Generate a starting point\n",
    "a_0 /= np.linalg.norm(a_0, axis=0)\n",
    "a_0\n",
    "foo = pca.oja(copy.deepcopy(Z), a_0, 0.00001, 1, 50)\n",
    "foo[0]"
   ]
  },
  {
   "cell_type": "code",
   "execution_count": 94,
   "metadata": {
    "collapsed": false
   },
   "outputs": [
    {
     "data": {
      "text/plain": [
       "array([ -1.45819642e-01,  -5.07951721e-05,  -1.38152025e-01,\n",
       "         2.42514740e-01,   1.35811645e-01,  -1.67150367e-02,\n",
       "         4.75570973e-02,   9.50299333e-02,   3.27624884e-02,\n",
       "         1.30799396e-02,   7.82035406e-02,   9.79713264e-02,\n",
       "        -1.55883098e-01,   1.83074405e-02,   9.09447090e-02,\n",
       "         1.71801729e-01,   1.80107026e-01,   7.46398335e-02,\n",
       "         3.62845354e-03,   1.12324667e-01,   2.32648848e-01,\n",
       "        -7.32624496e-02,  -2.26035057e-01,  -9.78187313e-02,\n",
       "         3.10065209e-03,  -1.48069132e-01,   1.39903531e-01,\n",
       "         1.78464444e-01,   3.22139271e-01,  -8.82429973e-02,\n",
       "        -5.31953654e-02,   5.57226950e-02,  -8.23334713e-02,\n",
       "         2.53583481e-01,  -2.69317425e-02,  -2.25253139e-02,\n",
       "         6.69855757e-02,   9.08880064e-02,  -2.46947930e-01,\n",
       "        -8.43596170e-02,   2.04322787e-02,  -1.73339420e-01,\n",
       "        -5.56044951e-02,   1.81289516e-02,  -6.67367964e-02,\n",
       "         1.85770890e-01,  -7.26622436e-02,  -1.36474193e-01,\n",
       "         9.46763847e-02,  -4.13417890e-01])"
      ]
     },
     "execution_count": 94,
     "metadata": {},
     "output_type": "execute_result"
    }
   ],
   "source": [
    "bar = pca.oja_fit(Z, 0)\n",
    "bar[0]"
   ]
  },
  {
   "cell_type": "code",
   "execution_count": null,
   "metadata": {
    "collapsed": true
   },
   "outputs": [],
   "source": []
  },
  {
   "cell_type": "code",
   "execution_count": null,
   "metadata": {
    "collapsed": true
   },
   "outputs": [],
   "source": []
  },
  {
   "cell_type": "code",
   "execution_count": null,
   "metadata": {
    "collapsed": true
   },
   "outputs": [],
   "source": []
  },
  {
   "cell_type": "code",
   "execution_count": null,
   "metadata": {
    "collapsed": true
   },
   "outputs": [],
   "source": []
  },
  {
   "cell_type": "markdown",
   "metadata": {},
   "source": [
    "# Exercise Three"
   ]
  },
  {
   "cell_type": "markdown",
   "metadata": {},
   "source": [
    "\"(a) Use the numpy.random.normal() function to generate a predictor X of length n = 100, as well as a noise vector ε of length n = 100.\""
   ]
  },
  {
   "cell_type": "code",
   "execution_count": null,
   "metadata": {
    "collapsed": true
   },
   "outputs": [],
   "source": []
  },
  {
   "cell_type": "markdown",
   "metadata": {},
   "source": [
    "\"(b) Generate a response vector Y of length n = 100 according to the model Y =β0 +β1X+β2X2 +β3X3 +ε,\n",
    "where β0, β1, β2, and β3 are constants of your choice. Here superscripts denote powers of X.\""
   ]
  },
  {
   "cell_type": "code",
   "execution_count": null,
   "metadata": {
    "collapsed": true
   },
   "outputs": [],
   "source": []
  },
  {
   "cell_type": "markdown",
   "metadata": {},
   "source": [
    "\"(c) Now fit a LASSO model to the simulated data using your own coordinate descent algorithm. Use X, X2, . . . , X10 as predictors. Set λ = 1.\""
   ]
  },
  {
   "cell_type": "code",
   "execution_count": null,
   "metadata": {
    "collapsed": true
   },
   "outputs": [],
   "source": []
  },
  {
   "cell_type": "markdown",
   "metadata": {},
   "source": [
    "\"(d) Select the optimal value of λ on a held-out validation set using your own coordinate descent algorithm. Create plots of the error on the validation set as a function of λ for your own coordinate descent algorithm and scikit-learn’s LASSO algorithm; use different colors for the two curves. Discuss the results obtained."
   ]
  },
  {
   "cell_type": "code",
   "execution_count": null,
   "metadata": {
    "collapsed": true
   },
   "outputs": [],
   "source": []
  },
  {
   "cell_type": "markdown",
   "metadata": {},
   "source": [
    "\"(e) Now generate a response vector Y according to the model Y = β0 + β7X7 + ε. Fit a LASSO model using your own coordinate descent algorithm and scikit-learn’s LASSO algorithm. Discuss the results obtained.\""
   ]
  },
  {
   "cell_type": "code",
   "execution_count": null,
   "metadata": {
    "collapsed": true
   },
   "outputs": [],
   "source": []
  },
  {
   "cell_type": "code",
   "execution_count": null,
   "metadata": {
    "collapsed": true
   },
   "outputs": [],
   "source": []
  },
  {
   "cell_type": "markdown",
   "metadata": {},
   "source": [
    "# Exercise Four"
   ]
  },
  {
   "cell_type": "markdown",
   "metadata": {},
   "source": [
    "**TODO** Something and note here."
   ]
  },
  {
   "cell_type": "code",
   "execution_count": null,
   "metadata": {
    "collapsed": true
   },
   "outputs": [],
   "source": []
  },
  {
   "cell_type": "markdown",
   "metadata": {},
   "source": [
    "# Exercise Five"
   ]
  },
  {
   "cell_type": "markdown",
   "metadata": {},
   "source": [
    "**TODO** Possibly just refer to what I submitted last week, unless something's changed."
   ]
  },
  {
   "cell_type": "markdown",
   "metadata": {},
   "source": [
    "* Is there a concept you would love to see covered during the course?\n",
    "* Is there a concept that has been used multiple times during the course, but you still have no idea what it means?\n",
    "* Do you feel that you learn better when the course material is covered using slides, or tablet/whiteboard, or numerical illustrations?"
   ]
  },
  {
   "cell_type": "code",
   "execution_count": null,
   "metadata": {
    "collapsed": true
   },
   "outputs": [],
   "source": []
  }
 ],
 "metadata": {
  "kernelspec": {
   "display_name": "Python 3",
   "language": "python",
   "name": "python3"
  },
  "language_info": {
   "codemirror_mode": {
    "name": "ipython",
    "version": 3
   },
   "file_extension": ".py",
   "mimetype": "text/x-python",
   "name": "python",
   "nbconvert_exporter": "python",
   "pygments_lexer": "ipython3",
   "version": "3.6.0"
  }
 },
 "nbformat": 4,
 "nbformat_minor": 2
}
