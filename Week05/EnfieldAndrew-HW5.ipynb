{
 "cells": [
  {
   "cell_type": "code",
   "execution_count": 435,
   "metadata": {
    "collapsed": false
   },
   "outputs": [],
   "source": [
    "# general\n",
    "import numpy as np\n",
    "import pandas as pd\n",
    "import matplotlib.pyplot as plt\n",
    "import seaborn as sns\n",
    "from IPython.display import display\n",
    "\n",
    "%matplotlib inline\n",
    "\n",
    "from pylab import rcParams\n",
    "rcParams['figure.figsize'] = 8, 5\n",
    "\n",
    "# first used in exercise two\n",
    "import pca\n",
    "from sklearn import preprocessing # for scale\n",
    "\n",
    "# first used in exercise three\n",
    "import coorddescent as cd\n",
    "from sklearn.preprocessing import PolynomialFeatures\n",
    "from sklearn.metrics import mean_squared_error\n",
    "from sklearn.linear_model import Lasso"
   ]
  },
  {
   "cell_type": "code",
   "execution_count": 137,
   "metadata": {
    "collapsed": false
   },
   "outputs": [
    {
     "data": {
      "text/plain": [
       "<module 'pca' from '/Users/andrewenfield/work/github/Data558/Week05/pca.py'>"
      ]
     },
     "execution_count": 137,
     "metadata": {},
     "output_type": "execute_result"
    }
   ],
   "source": [
    "import importlib\n",
    "importlib.reload(pca)"
   ]
  },
  {
   "cell_type": "markdown",
   "metadata": {},
   "source": [
    "# Exercise One"
   ]
  },
  {
   "cell_type": "markdown",
   "metadata": {},
   "source": [
    "**TODO**"
   ]
  },
  {
   "cell_type": "markdown",
   "metadata": {},
   "source": [
    "# Exercise Two"
   ]
  },
  {
   "cell_type": "markdown",
   "metadata": {},
   "source": [
    "*\"(a) Generate a simulated data set with 20 observations in each of three classes (i.e. 60 observations total), and 50 variables. Hint: There are a number of functions in numpy that you can use to generate data. One example is the numpy.random.normal() func- tion; numpy.random.uniform() is another option. Be sure to add a mean shift to the observations in each class so that there are three distinct classes.\"*"
   ]
  },
  {
   "cell_type": "markdown",
   "metadata": {},
   "source": [
    "A quick note: I had a hard time getting the algorithm to converge when I used very small mean shifts of 0.5 - I tried a lot of different step size value combinations and got nothing but non-convergence. I was able to get it to converge with a larger mean shift, so I'm going with that larger mean shift here."
   ]
  },
  {
   "cell_type": "code",
   "execution_count": 201,
   "metadata": {
    "collapsed": false
   },
   "outputs": [
    {
     "name": "stdout",
     "output_type": "stream",
     "text": [
      "['Alejandro Toledo' 'Alvaro Uribe' 'Andre Agassi' 'Ariel Sharon'\n",
      " 'Arnold Schwarzenegger' 'Colin Powell' 'David Beckham' 'Donald Rumsfeld'\n",
      " 'George W Bush' 'Gerhard Schroeder' 'Gloria Macapagal Arroyo'\n",
      " 'Guillermo Coria' 'Hans Blix' 'Hugo Chavez' 'Jacques Chirac'\n",
      " 'Jean Chretien' 'Jennifer Capriati' 'John Ashcroft' 'John Negroponte'\n",
      " 'Junichiro Koizumi' 'Kofi Annan' 'Laura Bush' 'Lleyton Hewitt'\n",
      " 'Luiz Inacio Lula da Silva' 'Megawati Sukarnoputri' 'Nestor Kirchner'\n",
      " 'Recep Tayyip Erdogan' 'Roh Moo-hyun' 'Serena Williams'\n",
      " 'Silvio Berlusconi' 'Tom Ridge' 'Tony Blair' 'Vicente Fox'\n",
      " 'Vladimir Putin']\n",
      "(2370, 62, 47)\n",
      "(2370, 2914)\n"
     ]
    }
   ],
   "source": [
    "from sklearn.datasets import fetch_lfw_people\n",
    "\n",
    "faces = fetch_lfw_people(min_faces_per_person=30) \n",
    "print(faces.target_names)  # Images of 34 different people\n",
    "print(faces.images.shape)  # 2370 images, each of which is 62x47 pixels\n",
    "print(faces.data.shape)    # Each image is unravelled to a vector of size 2914"
   ]
  },
  {
   "cell_type": "code",
   "execution_count": 202,
   "metadata": {
    "collapsed": false
   },
   "outputs": [
    {
     "data": {
      "text/html": [
       "<div>\n",
       "<table border=\"1\" class=\"dataframe\">\n",
       "  <thead>\n",
       "    <tr style=\"text-align: right;\">\n",
       "      <th></th>\n",
       "      <th>Class</th>\n",
       "      <th>0</th>\n",
       "      <th>1</th>\n",
       "      <th>2</th>\n",
       "      <th>3</th>\n",
       "      <th>4</th>\n",
       "      <th>5</th>\n",
       "      <th>6</th>\n",
       "      <th>7</th>\n",
       "      <th>8</th>\n",
       "      <th>...</th>\n",
       "      <th>40</th>\n",
       "      <th>41</th>\n",
       "      <th>42</th>\n",
       "      <th>43</th>\n",
       "      <th>44</th>\n",
       "      <th>45</th>\n",
       "      <th>46</th>\n",
       "      <th>47</th>\n",
       "      <th>48</th>\n",
       "      <th>49</th>\n",
       "    </tr>\n",
       "  </thead>\n",
       "  <tbody>\n",
       "    <tr>\n",
       "      <th>0</th>\n",
       "      <td>A</td>\n",
       "      <td>0.496714</td>\n",
       "      <td>-0.138264</td>\n",
       "      <td>0.647689</td>\n",
       "      <td>1.52303</td>\n",
       "      <td>-0.234153</td>\n",
       "      <td>-0.234137</td>\n",
       "      <td>1.579213</td>\n",
       "      <td>0.767435</td>\n",
       "      <td>-0.469474</td>\n",
       "      <td>...</td>\n",
       "      <td>0.738467</td>\n",
       "      <td>0.171368</td>\n",
       "      <td>-0.115648</td>\n",
       "      <td>-0.301104</td>\n",
       "      <td>-1.478522</td>\n",
       "      <td>-0.719844</td>\n",
       "      <td>-0.460639</td>\n",
       "      <td>1.057122</td>\n",
       "      <td>0.343618</td>\n",
       "      <td>-1.76304</td>\n",
       "    </tr>\n",
       "  </tbody>\n",
       "</table>\n",
       "<p>1 rows × 51 columns</p>\n",
       "</div>"
      ],
      "text/plain": [
       "  Class         0         1         2        3         4         5         6  \\\n",
       "0     A  0.496714 -0.138264  0.647689  1.52303 -0.234153 -0.234137  1.579213   \n",
       "\n",
       "          7         8   ...           40        41        42        43  \\\n",
       "0  0.767435 -0.469474   ...     0.738467  0.171368 -0.115648 -0.301104   \n",
       "\n",
       "         44        45        46        47        48       49  \n",
       "0 -1.478522 -0.719844 -0.460639  1.057122  0.343618 -1.76304  \n",
       "\n",
       "[1 rows x 51 columns]"
      ]
     },
     "execution_count": 202,
     "metadata": {},
     "output_type": "execute_result"
    }
   ],
   "source": [
    "mean_vals = [0, 10, 20]\n",
    "np.random.seed(42)\n",
    "d = pd.DataFrame(np.vstack([np.random.normal(mean, \n",
    "                        size=(20,50)) for mean in mean_vals]))\n",
    "d.insert(0, 'Class', np.repeat(['A','B','C'], 20))\n",
    "d[:1]"
   ]
  },
  {
   "cell_type": "code",
   "execution_count": 203,
   "metadata": {
    "collapsed": false
   },
   "outputs": [
    {
     "data": {
      "text/plain": [
       "array([ -9.47652431, -10.36087989,  -9.29538686,  -8.58559277,\n",
       "       -10.16925639, -10.28390443,  -8.43284888,  -9.41223556,\n",
       "       -10.46780705,  -9.85403586, -10.39694444, -10.58329323,\n",
       "        -9.84789351, -11.77688128, -12.0374925 , -10.61884412,\n",
       "       -11.00006027,  -9.6519797 , -10.75006323, -11.58583051,\n",
       "        -8.81179199, -10.29558276,  -9.91366629, -11.39948789,\n",
       "       -10.70784122,  -9.85670811, -11.13090521,  -9.8084079 ,\n",
       "       -10.73701623, -10.46793313, -10.56025456,  -7.99222798,\n",
       "        -9.95515398, -11.09243514,  -9.20584621, -11.29344291,\n",
       "        -9.73924429, -11.91219899, -11.31890736,  -9.77094352,\n",
       "        -9.32654553,  -9.90398641, -10.16759232, -10.2470722 ,\n",
       "       -11.37186667, -10.72705805, -10.23186415,  -8.66765149,\n",
       "        -9.90986555, -11.76248424])"
      ]
     },
     "execution_count": 203,
     "metadata": {},
     "output_type": "execute_result"
    }
   ],
   "source": [
    "d_values = d.values[:, 1:51].astype('float')\n",
    "d_values_centered = preprocessing.scale(d_values, with_std=False)\n",
    "d_values_centered[0]"
   ]
  },
  {
   "cell_type": "code",
   "execution_count": 258,
   "metadata": {
    "collapsed": true
   },
   "outputs": [],
   "source": [
    "#X = faces.data\n",
    "#eta_0, t_0, epoch_count = .00001, 1, 50\n",
    "\n",
    "X = d_values\n",
    "eta_0, t_0, epoch_count = 0.001, 2, 100"
   ]
  },
  {
   "cell_type": "markdown",
   "metadata": {},
   "source": [
    "*\"(b) Run your own normalized Oja algorithm on the 60 observations. You should try to implement the algorithm yourself, but you may look back at the labs if you need help. Plot the first two principal component score vectors. Compare your results to the ones obtained with scikit-learn’s PCA algorithm. Use a different color to indicate the observations in each of the three classes. If the three classes appear separated in this plot, then you’re done and you can launch the computations on AWS. If not, then return to part (a) and modify the simulation so that there is greater separation between the three classes.\"*"
   ]
  },
  {
   "cell_type": "code",
   "execution_count": 259,
   "metadata": {
    "collapsed": false
   },
   "outputs": [],
   "source": [
    "#bar = pca.oja_fit(d_values_centered_copy, 1, 0.001, 2, 100)\n",
    "#bar[0]"
   ]
  },
  {
   "cell_type": "code",
   "execution_count": 260,
   "metadata": {
    "collapsed": false
   },
   "outputs": [
    {
     "name": "stdout",
     "output_type": "stream",
     "text": [
      "[-0.14233391 -0.14325963 -0.1412039  -0.13801734 -0.13977184 -0.14364433\n",
      " -0.13991273 -0.14104493 -0.14228272 -0.14028026 -0.13925715 -0.14081765\n",
      " -0.1409513  -0.13850097 -0.1433206  -0.14209824 -0.13842943 -0.13647746\n",
      " -0.14296263 -0.14078382 -0.1406264  -0.14656184 -0.13859031 -0.14020859\n",
      " -0.14084239 -0.14366725 -0.14535678 -0.14170943 -0.14213593 -0.14141145\n",
      " -0.14192793 -0.14247393 -0.14370843 -0.14302147 -0.13910328 -0.14296752\n",
      " -0.14035279 -0.14268592 -0.13854042 -0.14386981 -0.14474806 -0.13853575\n",
      " -0.14457845 -0.13896695 -0.14065459 -0.14347999 -0.1421975  -0.13715082\n",
      " -0.14139857 -0.14340664]\n",
      "[-0.1483044  -0.15649313 -0.02742337  0.05236321  0.09140626  0.21919547\n",
      "  0.04730121  0.05943288  0.18635766  0.07401636 -0.14690844  0.10929665\n",
      " -0.21394577 -0.23236245  0.08351255  0.00858012  0.22214401  0.03630085\n",
      "  0.00875048 -0.06700667  0.24595039  0.15736187  0.08113937 -0.00670334\n",
      " -0.25491227  0.06126596 -0.00613763  0.02599831 -0.23115294 -0.25220704\n",
      "  0.02516941  0.16921129  0.19305428 -0.2046      0.11993997 -0.03802726\n",
      "  0.01880554 -0.00618904 -0.13552519 -0.20361587  0.01955791 -0.00764769\n",
      " -0.13275151  0.12830849 -0.33785041  0.07032171  0.09777351  0.15826733\n",
      "  0.01121061  0.03005267]\n"
     ]
    }
   ],
   "source": [
    "pca_sklearn = PCA(5, svd_solver='randomized')\n",
    "pca_sklearn.fit(X)\n",
    "print(pca_sklearn.components_[0])\n",
    "print(pca_sklearn.components_[1])"
   ]
  },
  {
   "cell_type": "code",
   "execution_count": 307,
   "metadata": {
    "collapsed": false
   },
   "outputs": [
    {
     "name": "stdout",
     "output_type": "stream",
     "text": [
      "[ 0.14421688  0.14524653  0.14241444  0.13975037  0.13780312  0.14393627\n",
      "  0.13921924  0.14171545  0.14215492  0.13966872  0.14078557  0.14019853\n",
      "  0.13994375  0.13713278  0.14222145  0.14173678  0.13944096  0.1363648\n",
      "  0.14256834  0.13915115  0.14030459  0.14307384  0.13738016  0.14058151\n",
      "  0.13839918  0.14190638  0.14703884  0.14007877  0.1443727   0.14048751\n",
      "  0.14488143  0.14326805  0.14336822  0.14223922  0.13871945  0.14183431\n",
      "  0.13919763  0.14204785  0.13785358  0.14692811  0.14436192  0.1392139\n",
      "  0.1462009   0.13883138  0.14346422  0.14109078  0.14418752  0.13692471\n",
      "  0.14111302  0.14481343]\n",
      "[  1.45633968e-01   1.37666896e-01   6.70423107e-02  -2.17624208e-02\n",
      "  -1.02138526e-01  -1.94312731e-01  -7.88557436e-02  -6.84307157e-02\n",
      "  -1.99798496e-01  -4.71073119e-02   1.63968172e-01  -8.54023227e-02\n",
      "   2.04055067e-01   2.23867295e-01  -1.02037037e-01  -1.96363611e-02\n",
      "  -2.22652863e-01  -2.41069615e-02  -1.49006976e-02   4.78313505e-02\n",
      "  -2.44106196e-01  -1.69993192e-01  -9.64223103e-02   2.33613796e-02\n",
      "   2.65315475e-01  -1.09346016e-01   2.34089312e-03  -4.15688953e-02\n",
      "   2.23594283e-01   2.69516999e-01  -6.08682144e-03  -1.21659639e-01\n",
      "  -1.82787348e-01   1.85673395e-01  -7.38147713e-02   6.27863929e-03\n",
      "  -2.48566649e-02   7.89735105e-03   1.30509495e-01   2.31828388e-01\n",
      "  -1.38018670e-02   7.59449229e-05   1.37648673e-01  -1.29285742e-01\n",
      "   3.31174306e-01  -1.14464594e-01  -8.92539015e-02  -1.75651800e-01\n",
      "  -5.25434363e-03  -4.52990993e-02]\n"
     ]
    }
   ],
   "source": [
    "eta_0, t_0, epoch_count = 1, 5, 1000\n",
    "\n",
    "Z = X - np.mean(X, axis=0)  # center the data\n",
    "\n",
    "a_0 = np.random.randn(np.size(Z, 1))  # starting point\n",
    "a_0 /= np.linalg.norm(a_0, axis=0)\n",
    "v1, _ = pca.oja(copy.deepcopy(Z), a_0, eta_0, t_0, epoch_count)\n",
    "print(v1)\n",
    "\n",
    "Z1 = pca.deflate(Z, v1)\n",
    "v2, _ = pca.oja(copy.deepcopy(Z1), a_0, eta_0, t_0, epoch_count)\n",
    "print(v2)"
   ]
  },
  {
   "cell_type": "code",
   "execution_count": null,
   "metadata": {
    "collapsed": false
   },
   "outputs": [],
   "source": []
  },
  {
   "cell_type": "code",
   "execution_count": null,
   "metadata": {
    "collapsed": true
   },
   "outputs": [],
   "source": []
  },
  {
   "cell_type": "code",
   "execution_count": null,
   "metadata": {
    "collapsed": true
   },
   "outputs": [],
   "source": []
  },
  {
   "cell_type": "code",
   "execution_count": null,
   "metadata": {
    "collapsed": true
   },
   "outputs": [],
   "source": []
  },
  {
   "cell_type": "code",
   "execution_count": null,
   "metadata": {
    "collapsed": true
   },
   "outputs": [],
   "source": []
  },
  {
   "cell_type": "code",
   "execution_count": 180,
   "metadata": {
    "collapsed": false
   },
   "outputs": [
    {
     "data": {
      "text/plain": [
       "PCA(copy=True, iterated_power='auto', n_components=50, random_state=None,\n",
       "  svd_solver='randomized', tol=0.0, whiten=False)"
      ]
     },
     "execution_count": 180,
     "metadata": {},
     "output_type": "execute_result"
    }
   ],
   "source": [
    "pca_sklearn = PCA(50, svd_solver='randomized')\n",
    "pca_sklearn.fit(d_values_centered)"
   ]
  },
  {
   "cell_type": "code",
   "execution_count": 183,
   "metadata": {
    "collapsed": false
   },
   "outputs": [
    {
     "data": {
      "text/plain": [
       "array([-0.14820248, -0.15577997, -0.02747821,  0.05217483,  0.09001604,\n",
       "        0.21697314,  0.04838229,  0.0579049 ,  0.1868853 ,  0.07290217,\n",
       "       -0.1472483 ,  0.10724179, -0.21673595, -0.23128117,  0.08330134,\n",
       "        0.00877515,  0.22128086,  0.03809422,  0.00873939, -0.0690226 ,\n",
       "        0.24575393,  0.15597047,  0.08329307, -0.00890795, -0.25341302,\n",
       "        0.06472497, -0.00552899,  0.02767339, -0.23068174, -0.2512671 ,\n",
       "        0.02564334,  0.17065277,  0.19201366, -0.20402114,  0.12081652,\n",
       "       -0.03829716,  0.02052802, -0.00479948, -0.13600818, -0.20458192,\n",
       "        0.02034034, -0.00940222, -0.13363653,  0.12899377, -0.3380589 ,\n",
       "        0.06794979,  0.09806946,  0.16235379,  0.01031238,  0.02908066])"
      ]
     },
     "execution_count": 183,
     "metadata": {},
     "output_type": "execute_result"
    }
   ],
   "source": [
    "pca_sklearn.components_[1]"
   ]
  },
  {
   "cell_type": "code",
   "execution_count": null,
   "metadata": {
    "collapsed": true
   },
   "outputs": [],
   "source": []
  },
  {
   "cell_type": "markdown",
   "metadata": {},
   "source": [
    "# Exercise Three"
   ]
  },
  {
   "cell_type": "markdown",
   "metadata": {},
   "source": [
    "*\"(a) Use the numpy.random.normal() function to generate a predictor X of length n = 100, as well as a noise vector ε of length n = 100.\"*"
   ]
  },
  {
   "cell_type": "code",
   "execution_count": 308,
   "metadata": {
    "collapsed": false
   },
   "outputs": [
    {
     "data": {
      "text/plain": [
       "((100,), (100,))"
      ]
     },
     "execution_count": 308,
     "metadata": {},
     "output_type": "execute_result"
    }
   ],
   "source": [
    "X = np.random.normal(size=100)\n",
    "e = np.random.normal(size=100)\n",
    "(X.shape, e.shape)"
   ]
  },
  {
   "cell_type": "markdown",
   "metadata": {},
   "source": [
    "*\"(b) Generate a response vector Y of length n = 100 according to the model Y =β0 +β1X+β2X2 +β3X3 +ε,\n",
    "where β0, β1, β2, and β3 are constants of your choice. Here superscripts denote powers of X.\"*"
   ]
  },
  {
   "cell_type": "markdown",
   "metadata": {},
   "source": [
    "I'm just choosing some coefficients."
   ]
  },
  {
   "cell_type": "code",
   "execution_count": 309,
   "metadata": {
    "collapsed": true
   },
   "outputs": [],
   "source": [
    "b0 = 27\n",
    "b1 = 11\n",
    "b2 = 5\n",
    "b3 = 3"
   ]
  },
  {
   "cell_type": "code",
   "execution_count": 310,
   "metadata": {
    "collapsed": false
   },
   "outputs": [
    {
     "data": {
      "text/plain": [
       "(100,)"
      ]
     },
     "execution_count": 310,
     "metadata": {},
     "output_type": "execute_result"
    }
   ],
   "source": [
    "y = b0 + (b1*X) + (b2*(X**2)) + (b3*(X**3)) + e\n",
    "y.shape"
   ]
  },
  {
   "cell_type": "code",
   "execution_count": 311,
   "metadata": {
    "collapsed": false
   },
   "outputs": [
    {
     "data": {
      "text/plain": [
       "(100, 1)"
      ]
     },
     "execution_count": 311,
     "metadata": {},
     "output_type": "execute_result"
    }
   ],
   "source": [
    "# and we'll make X a 100,1 array rather than a vector,\n",
    "# for better use w/ sklearn functions\n",
    "X = X[:, np.newaxis]\n",
    "X.shape"
   ]
  },
  {
   "cell_type": "markdown",
   "metadata": {},
   "source": [
    "And we'll scale X and center y. "
   ]
  },
  {
   "cell_type": "code",
   "execution_count": 322,
   "metadata": {
    "collapsed": true
   },
   "outputs": [],
   "source": [
    "X_scaled = preprocessing.scale(X)\n",
    "y_centered = preprocessing.scale(y, with_std=False)"
   ]
  },
  {
   "cell_type": "markdown",
   "metadata": {},
   "source": [
    "*\"(c) Now fit a LASSO model to the simulated data using your own coordinate descent algorithm. Use X, X2, . . . , X10 as predictors. Set λ = 1.\"*"
   ]
  },
  {
   "cell_type": "markdown",
   "metadata": {},
   "source": [
    "Note that I found with lambda = 1 that I didn't get close convergence for all coefficients: although some of the higher coefficients had numbers didn't jump around a huge amount, they did jump around some. That said, the lower coefficients - the first four - stayed pretty constant (and the fifth and six were zeroed out by the algorithm). (This held regardless of whether I bumped up the iterations to something like 5000.)"
   ]
  },
  {
   "cell_type": "code",
   "execution_count": 405,
   "metadata": {
    "collapsed": false
   },
   "outputs": [
    {
     "data": {
      "text/plain": [
       "(100, 10)"
      ]
     },
     "execution_count": 405,
     "metadata": {},
     "output_type": "execute_result"
    }
   ],
   "source": [
    "X_scaled_poly10 = PolynomialFeatures(degree=10, include_bias=False).fit_transform(X_scaled)\n",
    "X_scaled_poly10.shape"
   ]
  },
  {
   "cell_type": "code",
   "execution_count": 406,
   "metadata": {
    "collapsed": true
   },
   "outputs": [],
   "source": [
    "n = np.size(X_scaled_poly10, 0)\n",
    "beta_init = np.zeros(np.size(X_scaled_poly10, 1))\n",
    "max_iter = 1000"
   ]
  },
  {
   "cell_type": "code",
   "execution_count": 407,
   "metadata": {
    "collapsed": false
   },
   "outputs": [
    {
     "data": {
      "text/plain": [
       "array([  1.10616632e+01,  -4.47876250e+00,   1.85917711e+00,\n",
       "         3.58648303e+00,   2.25145468e-01,  -2.23217761e-01,\n",
       "         1.10173283e-01,  -5.57980881e-02,  -2.43346606e-02,\n",
       "         3.29610103e-03])"
      ]
     },
     "execution_count": 407,
     "metadata": {},
     "output_type": "execute_result"
    }
   ],
   "source": [
    "betas_rand = cd.randcoorddescent(beta_init, X_scaled_poly10, y_centered, 1, max_iter)\n",
    "betas_rand[-1, :]"
   ]
  },
  {
   "cell_type": "markdown",
   "metadata": {},
   "source": [
    "*\"(d) Select the optimal value of λ on a held-out validation set using your own coordinate descent algorithm. Create plots of the error on the validation set as a function of λ for your own coordinate descent algorithm and scikit-learn’s LASSO algorithm; use different colors for the two curves. Discuss the results obtained.*"
   ]
  },
  {
   "cell_type": "markdown",
   "metadata": {},
   "source": [
    "**TODO** Update to use a held out validation set."
   ]
  },
  {
   "cell_type": "code",
   "execution_count": 444,
   "metadata": {
    "collapsed": true
   },
   "outputs": [],
   "source": [
    "def mse_from_beta_coefs(beta_coefs):\n",
    "    return mean_squared_error(y_centered, X_scaled_poly10.dot(beta_coefs))"
   ]
  },
  {
   "cell_type": "code",
   "execution_count": 426,
   "metadata": {
    "collapsed": false
   },
   "outputs": [
    {
     "data": {
      "text/plain": [
       "[1e-08, 1e-07, 1e-06, 1e-05, 0.0001, 0.001, 0.01, 0.1, 1, 10, 100, 1000, 10000]"
      ]
     },
     "execution_count": 426,
     "metadata": {},
     "output_type": "execute_result"
    }
   ],
   "source": [
    "lambdas = [10**k for k in range(-8, 5)]\n",
    "lambdas"
   ]
  },
  {
   "cell_type": "code",
   "execution_count": 434,
   "metadata": {
    "collapsed": false
   },
   "outputs": [
    {
     "data": {
      "text/plain": [
       "[(1e-08, 6.3197201660133908),\n",
       " (1e-07, 6.1828994789615956),\n",
       " (1e-06, 6.168319195823913),\n",
       " (1e-05, 6.2765664510526697),\n",
       " (0.0001, 6.2925517495095766),\n",
       " (0.001, 6.2682356826539616),\n",
       " (0.01, 6.3688047545359883),\n",
       " (0.1, 6.1631304155488298),\n",
       " (1, 6.3526716279949245),\n",
       " (10, 6.5772137511579754),\n",
       " (100, 8.6874435817789113),\n",
       " (1000, 52.436675675985626),\n",
       " (10000, 121.45884410180601)]"
      ]
     },
     "execution_count": 434,
     "metadata": {},
     "output_type": "execute_result"
    }
   ],
   "source": [
    "def mse_for_lambda(lam):\n",
    "    beta_init = np.zeros(np.size(X_scaled_poly10, 1))\n",
    "    betas_rand = cd.randcoorddescent(beta_init, X_scaled_poly10, y_centered, lam, max_iter)\n",
    "    return(mse(betas_rand[-1, :]))\n",
    "\n",
    "mses = [mse_for_lambda(lam) for lam in lambdas]\n",
    "list(zip(lambdas, mses))"
   ]
  },
  {
   "cell_type": "code",
   "execution_count": 450,
   "metadata": {
    "collapsed": false
   },
   "outputs": [
    {
     "name": "stdout",
     "output_type": "stream",
     "text": [
      "[  9.46811929 -15.38790745   6.65491137  25.1143633   -3.76599474\n",
      " -12.61430244   1.30994699   2.71492084  -0.14189205  -0.21004894]\n",
      "4.62506779495\n"
     ]
    }
   ],
   "source": [
    "# TODO run for all values of lambda, but do this after adding in the hold out set\n",
    "results = Lasso(alpha=0.0001, fit_intercept=False, max_iter=10000000).fit(X_scaled_poly10, y_centered)\n",
    "print(results.coef_)\n",
    "print(mse_from_beta_coefs(results.coef_))"
   ]
  },
  {
   "cell_type": "markdown",
   "metadata": {},
   "source": [
    "**TODO** plot"
   ]
  },
  {
   "cell_type": "code",
   "execution_count": null,
   "metadata": {
    "collapsed": true
   },
   "outputs": [],
   "source": []
  },
  {
   "cell_type": "code",
   "execution_count": 408,
   "metadata": {
    "collapsed": false
   },
   "outputs": [
    {
     "data": {
      "text/plain": [
       "(100, 10)"
      ]
     },
     "execution_count": 408,
     "metadata": {},
     "output_type": "execute_result"
    }
   ],
   "source": [
    "X_scaled_poly10.shape"
   ]
  },
  {
   "cell_type": "code",
   "execution_count": 409,
   "metadata": {
    "collapsed": false
   },
   "outputs": [
    {
     "data": {
      "text/plain": [
       "(array([-8.56285377]),\n",
       " array([[ -4.49690062e-01,   2.02221152e-01,  -9.09368425e-02,\n",
       "           4.08933944e-02,  -1.83893531e-02,   8.26950932e-03,\n",
       "          -3.71871616e-03,   1.67226970e-03,  -7.52003067e-04,\n",
       "           3.38168306e-04]]))"
      ]
     },
     "execution_count": 409,
     "metadata": {},
     "output_type": "execute_result"
    }
   ],
   "source": [
    "y_centered[:1], X_scaled_poly10[:1]"
   ]
  },
  {
   "cell_type": "code",
   "execution_count": 410,
   "metadata": {
    "collapsed": false
   },
   "outputs": [
    {
     "data": {
      "text/plain": [
       "array([  1.10616632e+01,  -4.47876250e+00,   1.85917711e+00,\n",
       "         3.58648303e+00,   2.25145468e-01,  -2.23217761e-01,\n",
       "         1.10173283e-01,  -5.57980881e-02,  -2.43346606e-02,\n",
       "         3.29610103e-03])"
      ]
     },
     "execution_count": 410,
     "metadata": {},
     "output_type": "execute_result"
    }
   ],
   "source": [
    "betas_rand[-1, :]"
   ]
  },
  {
   "cell_type": "code",
   "execution_count": 411,
   "metadata": {
    "collapsed": false
   },
   "outputs": [
    {
     "data": {
      "text/plain": [
       "(10,)"
      ]
     },
     "execution_count": 411,
     "metadata": {},
     "output_type": "execute_result"
    }
   ],
   "source": [
    "betas_rand[-1, :].shape"
   ]
  },
  {
   "cell_type": "code",
   "execution_count": 412,
   "metadata": {
    "collapsed": false
   },
   "outputs": [
    {
     "data": {
      "text/plain": [
       "7.527854935512817"
      ]
     },
     "execution_count": 412,
     "metadata": {},
     "output_type": "execute_result"
    }
   ],
   "source": [
    "sum(betas_rand[-1, :] * X_scaled_poly10[10])"
   ]
  },
  {
   "cell_type": "code",
   "execution_count": 413,
   "metadata": {
    "collapsed": false
   },
   "outputs": [
    {
     "data": {
      "text/plain": [
       "array([ -5.90889455e+00,  -6.59896247e+00,  -2.82858900e-02,\n",
       "        -3.72666737e+00,  -1.22388019e+00,   4.62496037e+01,\n",
       "         5.99943352e-01,   8.14071406e+00,  -8.68521743e+00,\n",
       "         1.02360082e+01,   7.52785494e+00,   5.60957266e-01,\n",
       "        -9.22993701e+00,  -9.26681890e+00,   3.61218042e+00,\n",
       "        -3.96936653e+01,   1.66572692e+00,   9.53784833e+00,\n",
       "        -1.99417247e+00,  -4.13004096e-01,   5.76691653e+00,\n",
       "         4.41397353e+01,   1.94973859e+00,   6.35914625e+01,\n",
       "        -2.57090507e+01,   3.58255065e+01,  -4.49204498e+01,\n",
       "         4.94963945e+00,  -2.21245623e+01,   6.38931558e+00,\n",
       "         9.15314550e-01,  -3.40063044e+00,   1.61835960e+00,\n",
       "        -2.11095743e+00,   9.55435981e+00,  -1.68364729e+01,\n",
       "        -2.59540752e+00,   7.66347003e+00,   4.58738789e+00,\n",
       "         3.84815246e+00,   2.77141811e+01,   1.23209087e+00,\n",
       "        -1.01811619e+01,  -3.50056125e+01,   4.43551445e-01,\n",
       "        -9.23715909e+00,  -2.36589573e+01,   2.58187221e+01,\n",
       "         5.70266044e+01,  -1.53213704e+01,  -4.04453500e+00,\n",
       "        -1.15960097e+01,   5.67327876e+00,   2.70582075e+00,\n",
       "         1.10650672e+01,  -1.75525341e+00,  -5.01103232e+00,\n",
       "        -2.50282849e+01,   6.15221976e+01,   6.74557716e+01,\n",
       "        -9.28566398e+00,  -8.95265216e+00,   8.51737646e+00,\n",
       "        -7.55048511e+00,   5.31805329e+00,  -2.31652757e+01,\n",
       "        -5.06754563e+00,  -1.88033153e+01,  -1.20743548e+01,\n",
       "        -1.26356828e+01,   8.45787367e+00,  -6.09016368e+00,\n",
       "        -1.68023021e+01,   1.45333059e+01,   3.06381092e+01,\n",
       "        -4.66839057e+00,   4.92047560e+00,   2.34357177e+00,\n",
       "        -5.58379505e+00,  -1.44856174e+01,  -1.08534726e+01,\n",
       "         5.15711133e+00,   1.35780329e+00,  -3.00733371e+01,\n",
       "         1.02274337e+01,   8.78911967e+00,  -1.26995901e+01,\n",
       "        -7.25872686e+00,  -5.66608073e+00,   7.53263718e+00,\n",
       "        -6.47373596e+00,   5.75307813e+00,   1.55510078e+01,\n",
       "        -4.96380426e+00,   1.47742737e+01,  -6.87055852e-02,\n",
       "         3.92166836e+00,  -1.17338990e+01,   3.46772891e+01,\n",
       "        -8.85966188e+00])"
      ]
     },
     "execution_count": 413,
     "metadata": {},
     "output_type": "execute_result"
    }
   ],
   "source": [
    "X_scaled_poly10.dot(betas_rand[-1, :])"
   ]
  },
  {
   "cell_type": "code",
   "execution_count": 414,
   "metadata": {
    "collapsed": false
   },
   "outputs": [
    {
     "data": {
      "text/plain": [
       "6.1833193555900099"
      ]
     },
     "execution_count": 414,
     "metadata": {},
     "output_type": "execute_result"
    }
   ],
   "source": [
    "mean_squared_error(y_centered, X_scaled_poly10.dot(betas_rand[-1, :]))"
   ]
  },
  {
   "cell_type": "code",
   "execution_count": 416,
   "metadata": {
    "collapsed": false
   },
   "outputs": [
    {
     "data": {
      "text/plain": [
       "6.1833193555900099"
      ]
     },
     "execution_count": 416,
     "metadata": {},
     "output_type": "execute_result"
    }
   ],
   "source": [
    "mse(betas_rand[-1, :])"
   ]
  },
  {
   "cell_type": "markdown",
   "metadata": {},
   "source": [
    "*\"(e) Now generate a response vector Y according to the model Y = β0 + β7X7 + ε. Fit a LASSO model using your own coordinate descent algorithm and scikit-learn’s LASSO algorithm. Discuss the results obtained.\"*"
   ]
  },
  {
   "cell_type": "code",
   "execution_count": null,
   "metadata": {
    "collapsed": true
   },
   "outputs": [],
   "source": []
  },
  {
   "cell_type": "code",
   "execution_count": null,
   "metadata": {
    "collapsed": true
   },
   "outputs": [],
   "source": []
  },
  {
   "cell_type": "markdown",
   "metadata": {},
   "source": [
    "# Exercise Four"
   ]
  },
  {
   "cell_type": "markdown",
   "metadata": {},
   "source": [
    "**TODO** Something and note here."
   ]
  },
  {
   "cell_type": "code",
   "execution_count": null,
   "metadata": {
    "collapsed": true
   },
   "outputs": [],
   "source": []
  },
  {
   "cell_type": "markdown",
   "metadata": {},
   "source": [
    "# Exercise Five"
   ]
  },
  {
   "cell_type": "markdown",
   "metadata": {},
   "source": [
    "**TODO** Possibly just refer to what I submitted last week, unless something's changed."
   ]
  },
  {
   "cell_type": "markdown",
   "metadata": {},
   "source": [
    "* Is there a concept you would love to see covered during the course?\n",
    "* Is there a concept that has been used multiple times during the course, but you still have no idea what it means?\n",
    "* Do you feel that you learn better when the course material is covered using slides, or tablet/whiteboard, or numerical illustrations?"
   ]
  },
  {
   "cell_type": "code",
   "execution_count": null,
   "metadata": {
    "collapsed": true
   },
   "outputs": [],
   "source": []
  }
 ],
 "metadata": {
  "kernelspec": {
   "display_name": "Python 3",
   "language": "python",
   "name": "python3"
  },
  "language_info": {
   "codemirror_mode": {
    "name": "ipython",
    "version": 3
   },
   "file_extension": ".py",
   "mimetype": "text/x-python",
   "name": "python",
   "nbconvert_exporter": "python",
   "pygments_lexer": "ipython3",
   "version": "3.6.0"
  }
 },
 "nbformat": 4,
 "nbformat_minor": 2
}
