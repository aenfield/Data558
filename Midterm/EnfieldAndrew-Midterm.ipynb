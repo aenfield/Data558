{
 "cells": [
  {
   "cell_type": "code",
   "execution_count": 1,
   "metadata": {
    "collapsed": true
   },
   "outputs": [],
   "source": [
    "# general\n",
    "import numpy as np\n",
    "import pandas as pd\n",
    "import matplotlib.pyplot as plt\n",
    "import seaborn as sns\n",
    "from IPython.display import display\n",
    "\n",
    "%matplotlib inline\n",
    "\n",
    "from pylab import rcParams\n",
    "rcParams['figure.figsize'] = 8, 5\n",
    "\n",
    "# first used in exercise one\n",
    "import midterm as mt\n",
    "from sklearn import preprocessing # for scale\n",
    "from sklearn.model_selection import train_test_split\n",
    "from sklearn.model_selection import KFold\n",
    "from sklearn.metrics import mean_squared_error\n",
    "\n",
    "# first used in exercise two\n",
    "# TODO"
   ]
  },
  {
   "cell_type": "code",
   "execution_count": 2,
   "metadata": {
    "collapsed": false
   },
   "outputs": [],
   "source": [
    "# import importlib\n",
    "# importlib.reload(mt)"
   ]
  },
  {
   "cell_type": "markdown",
   "metadata": {},
   "source": [
    "# Exercise One"
   ]
  },
  {
   "cell_type": "markdown",
   "metadata": {},
   "source": [
    "## Derive the coordinate minimization formula"
   ]
  },
  {
   "cell_type": "markdown",
   "metadata": {},
   "source": [
    "![firstpage](cmm1.png)"
   ]
  },
  {
   "cell_type": "markdown",
   "metadata": {},
   "source": [
    "![secondpage](cmm2.png)"
   ]
  },
  {
   "cell_type": "markdown",
   "metadata": {},
   "source": [
    "![thirdpage](cmm3.png)"
   ]
  },
  {
   "cell_type": "markdown",
   "metadata": {},
   "source": [
    "## Implement coordinate descent"
   ]
  },
  {
   "cell_type": "markdown",
   "metadata": {},
   "source": [
    "I've submitted my implementation in the midterm.py file. I use this implementation in this notebook - I imported the module above and gave it the alias 'mt'. In addition, in case it helps understand how my implementation works, I've included the tests I wrote as part of doing the implementation. These are in the file midterm-test.py.\n",
    "\n",
    "In more detail, here's where the requested functions are implemented in midterm.py:\n",
    "\n",
    "* *Write a function that computes the solution to the partial minimization problem.* See the function minimize_beta_term (which calls the a_term and c_term functions).\n",
    "* *Write a function computeobj that computes and returns F(β) for any β.* See the function elasticnet_objective.\n",
    "* *Write a function cycliccoorddescent that implements the cyclic coordinate descent algorithm. The function takes as input the initial point and the maximum number of iterations. The stopping criterion is the maximum number of iterations.* See the function cycliccoorddescent. This function calls the function coorddescent, which handles the the main algorithm for both cyclic and random implementations - this function passes a sequential set of j values.\n",
    "* *Write a function pickcoord that samples uniformly from the set {1, . . . , d} .* I implemented this functionality in the get_sequence_of_js function. This function returns a list of values that define the specific beta values/coefficients to be minimized. When called with the random parameter equal to False, the function returns a sequential list of j values (i.e., [1 2 3 1 2 3 ...]). When called with random equal to True, the function samples uniformly from the set {1,...,d} and returns a list of j values built from these random selections.\n",
    "* *Write a function randcoorddescent that implements the randomized coordinate descent algo- rithm. The function takes as input the initial point and the maximum number of iterations. The stopping criterion is the maximum number of iterations.* See the function randcoorddescent. This function calls the function coorddescent, which handles the the main algorithm for both cyclic and random implementations - this function passes a set of j values that have been randomly chosen."
   ]
  },
  {
   "cell_type": "markdown",
   "metadata": {},
   "source": [
    "## Load and standardize data"
   ]
  },
  {
   "cell_type": "markdown",
   "metadata": {},
   "source": [
    "*Consider the Hitters dataset from [2]. You may download it from [here](https://raw. githubusercontent.com/selva86/datasets/master/Hitters.csv). Standardize the data (i.e., center the predictors and the outputs and divide them by their standard deviations).*"
   ]
  },
  {
   "cell_type": "code",
   "execution_count": 3,
   "metadata": {
    "collapsed": false
   },
   "outputs": [
    {
     "data": {
      "text/plain": [
       "(322, 20)"
      ]
     },
     "execution_count": 3,
     "metadata": {},
     "output_type": "execute_result"
    }
   ],
   "source": [
    "h = pd.read_csv('Hitters.csv')\n",
    "h.shape"
   ]
  },
  {
   "cell_type": "code",
   "execution_count": 4,
   "metadata": {
    "collapsed": false
   },
   "outputs": [
    {
     "data": {
      "text/plain": [
       "Index(['AtBat', 'Hits', 'HmRun', 'Runs', 'RBI', 'Walks', 'Years', 'CAtBat',\n",
       "       'CHits', 'CHmRun', 'CRuns', 'CRBI', 'CWalks', 'League', 'Division',\n",
       "       'PutOuts', 'Assists', 'Errors', 'Salary', 'NewLeague'],\n",
       "      dtype='object')"
      ]
     },
     "execution_count": 4,
     "metadata": {},
     "output_type": "execute_result"
    }
   ],
   "source": [
    "h.columns"
   ]
  },
  {
   "cell_type": "code",
   "execution_count": 5,
   "metadata": {
    "collapsed": false
   },
   "outputs": [
    {
     "data": {
      "text/plain": [
       "(263, 20)"
      ]
     },
     "execution_count": 5,
     "metadata": {},
     "output_type": "execute_result"
    }
   ],
   "source": [
    "# remove rows w/ empty values - i think this is only those w/ no salary\n",
    "h = h.dropna()\n",
    "h.shape"
   ]
  },
  {
   "cell_type": "code",
   "execution_count": 6,
   "metadata": {
    "collapsed": false
   },
   "outputs": [
    {
     "data": {
      "text/plain": [
       "(263, 23)"
      ]
     },
     "execution_count": 6,
     "metadata": {},
     "output_type": "execute_result"
    }
   ],
   "source": [
    "# convert categorical vars to dummy variables\n",
    "h = pd.get_dummies(h)\n",
    "h.shape"
   ]
  },
  {
   "cell_type": "code",
   "execution_count": 7,
   "metadata": {
    "collapsed": false
   },
   "outputs": [
    {
     "data": {
      "text/html": [
       "<div>\n",
       "<table border=\"1\" class=\"dataframe\">\n",
       "  <thead>\n",
       "    <tr style=\"text-align: right;\">\n",
       "      <th></th>\n",
       "      <th>AtBat</th>\n",
       "      <th>Hits</th>\n",
       "      <th>HmRun</th>\n",
       "      <th>Runs</th>\n",
       "      <th>RBI</th>\n",
       "      <th>Walks</th>\n",
       "      <th>Years</th>\n",
       "      <th>CAtBat</th>\n",
       "      <th>CHits</th>\n",
       "      <th>CHmRun</th>\n",
       "      <th>...</th>\n",
       "      <th>PutOuts</th>\n",
       "      <th>Assists</th>\n",
       "      <th>Errors</th>\n",
       "      <th>Salary</th>\n",
       "      <th>League_A</th>\n",
       "      <th>League_N</th>\n",
       "      <th>Division_E</th>\n",
       "      <th>Division_W</th>\n",
       "      <th>NewLeague_A</th>\n",
       "      <th>NewLeague_N</th>\n",
       "    </tr>\n",
       "  </thead>\n",
       "  <tbody>\n",
       "    <tr>\n",
       "      <th>1</th>\n",
       "      <td>315</td>\n",
       "      <td>81</td>\n",
       "      <td>7</td>\n",
       "      <td>24</td>\n",
       "      <td>38</td>\n",
       "      <td>39</td>\n",
       "      <td>14</td>\n",
       "      <td>3449</td>\n",
       "      <td>835</td>\n",
       "      <td>69</td>\n",
       "      <td>...</td>\n",
       "      <td>632</td>\n",
       "      <td>43</td>\n",
       "      <td>10</td>\n",
       "      <td>475.0</td>\n",
       "      <td>0</td>\n",
       "      <td>1</td>\n",
       "      <td>0</td>\n",
       "      <td>1</td>\n",
       "      <td>0</td>\n",
       "      <td>1</td>\n",
       "    </tr>\n",
       "  </tbody>\n",
       "</table>\n",
       "<p>1 rows × 23 columns</p>\n",
       "</div>"
      ],
      "text/plain": [
       "   AtBat  Hits  HmRun  Runs  RBI  Walks  Years  CAtBat  CHits  CHmRun  \\\n",
       "1    315    81      7    24   38     39     14    3449    835      69   \n",
       "\n",
       "      ...       PutOuts  Assists  Errors  Salary  League_A  League_N  \\\n",
       "1     ...           632       43      10   475.0         0         1   \n",
       "\n",
       "   Division_E  Division_W  NewLeague_A  NewLeague_N  \n",
       "1           0           1            0            1  \n",
       "\n",
       "[1 rows x 23 columns]"
      ]
     },
     "execution_count": 7,
     "metadata": {},
     "output_type": "execute_result"
    }
   ],
   "source": [
    "h[:1]"
   ]
  },
  {
   "cell_type": "code",
   "execution_count": 8,
   "metadata": {
    "collapsed": false
   },
   "outputs": [
    {
     "data": {
      "text/plain": [
       "((263, 22), (263,))"
      ]
     },
     "execution_count": 8,
     "metadata": {},
     "output_type": "execute_result"
    }
   ],
   "source": [
    "# split into features and the value to predict (X and y)\n",
    "# scale all features so each col has mean zero and std 1\n",
    "X_scaled = preprocessing.scale(h.drop('Salary', axis=1))\n",
    "y_scaled = preprocessing.scale(h['Salary']) \n",
    "\n",
    "(X_scaled.shape, y_scaled.shape)"
   ]
  },
  {
   "cell_type": "markdown",
   "metadata": {},
   "source": [
    "## Find best lambda via cross-validation"
   ]
  },
  {
   "cell_type": "markdown",
   "metadata": {},
   "source": [
    "*In the remainder, the iteration counter iter refers here to t/d, that is the effective number of passes over all coordinates. Set the maximum number of iterations to 1000. Set α = 0.9. Run your own implementation of cross-validation on the Hitters dataset to find the optimal value of λ.*"
   ]
  },
  {
   "cell_type": "code",
   "execution_count": 9,
   "metadata": {
    "collapsed": false
   },
   "outputs": [
    {
     "data": {
      "text/plain": [
       "(22, 22000)"
      ]
     },
     "execution_count": 9,
     "metadata": {},
     "output_type": "execute_result"
    }
   ],
   "source": [
    "# 1000 is a lot, but it's what the problem specifies; multiply by the number\n",
    "# of features to get to an effective number of iterations of 1000\n",
    "feature_count = X_scaled.shape[1] \n",
    "actual_iteration_count = 1000 * feature_count\n",
    "(feature_count, actual_iteration_count)"
   ]
  },
  {
   "cell_type": "markdown",
   "metadata": {},
   "source": [
    "**TODO** update below to use the correct number of iterations per the answer to my disc group question."
   ]
  },
  {
   "cell_type": "code",
   "execution_count": 10,
   "metadata": {
    "collapsed": false
   },
   "outputs": [],
   "source": [
    "def train_and_test_single_fold(X_full, y_full, train_index, test_index, lam, alpha, beta0=None):\n",
    "    \"\"\"\n",
    "    Train using the data identified by the indices in train_index, and then test\n",
    "    (and return MSE) using the data identified by the indices in test_index.\n",
    "    \"\"\"\n",
    "    beta_vals = mt.randcoorddescent(X_full[train_index], y_full[train_index], \n",
    "                                    lam, alpha, max_iter=1000, beta0=beta0)\n",
    "                                    #lam, alpha, max_iter=actual_iteration_count)\n",
    "\n",
    "    final_coefs = mt.get_final_coefs(beta_vals)\n",
    "    \n",
    "    return mean_squared_error(y_full[test_index], X_full[test_index].dot(final_coefs))"
   ]
  },
  {
   "cell_type": "code",
   "execution_count": 11,
   "metadata": {
    "collapsed": true
   },
   "outputs": [],
   "source": [
    "def train_and_test_for_all_folds(X_full, y_full, train_indices, test_indices, lam, alpha):\n",
    "    \"\"\"\n",
    "    Train and test for all folds - for now, 10 folds, hard-coded. Return the mean of the \n",
    "    set of MSE values from all folds.\"\"\"\n",
    "    mses = [train_and_test_single_fold(X_full, y_full, \n",
    "                                       train_indices[i], test_indices[i], lam, alpha) for i in range(10)]\n",
    "    return(np.mean(mses))"
   ]
  },
  {
   "cell_type": "code",
   "execution_count": 12,
   "metadata": {
    "collapsed": true
   },
   "outputs": [],
   "source": [
    "# get arrays with 10 sets of test and train indices - one for each fold\n",
    "kf = KFold(10, shuffle=True, random_state=42)\n",
    "\n",
    "train_indices_list = []\n",
    "test_indices_list = []\n",
    "for train_index, test_index in kf.split(X_scaled):\n",
    "    train_indices_list.append(train_index)\n",
    "    test_indices_list.append(test_index)\n",
    "    \n",
    "train_indices = np.array(train_indices_list)\n",
    "test_indices = np.array(test_indices_list)"
   ]
  },
  {
   "cell_type": "code",
   "execution_count": 13,
   "metadata": {
    "collapsed": false
   },
   "outputs": [
    {
     "data": {
      "text/plain": [
       "array([  1.00000000e-05,   3.68694506e-05,   1.35935639e-04,\n",
       "         5.01187234e-04,   1.84784980e-03,   6.81292069e-03,\n",
       "         2.51188643e-02,   9.26118728e-02,   3.41454887e-01,\n",
       "         1.25892541e+00])"
      ]
     },
     "execution_count": 13,
     "metadata": {},
     "output_type": "execute_result"
    }
   ],
   "source": [
    "lambdas = np.logspace(-5, 0.1, num=10)\n",
    "lambdas"
   ]
  },
  {
   "cell_type": "code",
   "execution_count": 14,
   "metadata": {
    "collapsed": true
   },
   "outputs": [],
   "source": [
    "alpha = 0.9"
   ]
  },
  {
   "cell_type": "code",
   "execution_count": 15,
   "metadata": {
    "collapsed": false
   },
   "outputs": [
    {
     "data": {
      "text/plain": [
       "[(1.0000000000000001e-05, 0.55778020748478141),\n",
       " (3.6869450645195736e-05, 0.55018978017885301),\n",
       " (0.00013593563908785255, 0.55843198730594579),\n",
       " (0.00050118723362727253, 0.55366246777050454),\n",
       " (0.0018478497974222907, 0.55191795395662779),\n",
       " (0.0068129206905796083, 0.55682709112715978),\n",
       " (0.025118864315095794, 0.56197606296720493),\n",
       " (0.092611872812879373, 0.57648913519402512),\n",
       " (0.34145488738336005, 0.63437239326425665),\n",
       " (1.2589254117941673, 0.99170675337388681)]"
      ]
     },
     "execution_count": 15,
     "metadata": {},
     "output_type": "execute_result"
    }
   ],
   "source": [
    "# and finally, do 10-fold cross validation for each value of lambda, and\n",
    "# show the mean of each set's MSEs\n",
    "mses_by_lambda = [train_and_test_for_all_folds(X_scaled, y_scaled, \n",
    "                        train_indices, test_indices, lam, alpha) for lam in lambdas]\n",
    "list(zip(lambdas, mses_by_lambda))"
   ]
  },
  {
   "cell_type": "markdown",
   "metadata": {},
   "source": [
    "TBD Since a number of lambda values have very close to the same low average MSE, I'll choose TBD, which is the largest value of lambda - leading potentially more zeroed-out coefficients and so a simploer model - that has effectively the (same) lowest average MSE. "
   ]
  },
  {
   "cell_type": "code",
   "execution_count": 16,
   "metadata": {
    "collapsed": true
   },
   "outputs": [],
   "source": [
    "best_lam = 0.0068129206905796083"
   ]
  },
  {
   "cell_type": "markdown",
   "metadata": {},
   "source": [
    "## Run both implementations using the best value of lambda"
   ]
  },
  {
   "cell_type": "markdown",
   "metadata": {},
   "source": [
    "*Run cycliccoorddescent and randcoorddescent on the training set of the Hitters dataset for that value of λ found by your own implementation of cross-validation. Plot the curves of the objective values F(βt) for both algorithms versus the iteration counter iter (use different colors). What do you observe?*"
   ]
  },
  {
   "cell_type": "markdown",
   "metadata": {},
   "source": [
    "**TODO** answer questions per above."
   ]
  },
  {
   "cell_type": "code",
   "execution_count": 17,
   "metadata": {
    "collapsed": true
   },
   "outputs": [],
   "source": [
    "X_s_train, X_s_test, y_s_train, y_s_test = train_test_split(X_scaled,\n",
    "                                                            y_scaled,\n",
    "                                                            test_size=0.10, \n",
    "                                                            random_state=42)"
   ]
  },
  {
   "cell_type": "code",
   "execution_count": 18,
   "metadata": {
    "collapsed": false
   },
   "outputs": [
    {
     "data": {
      "text/plain": [
       "array([-0.59483499,  0.63289046,  0.01226144, -0.01836527,  0.        ,\n",
       "        0.25394428, -0.09559509, -0.17218187,  0.        ,  0.07080355,\n",
       "        0.67276549,  0.35166678, -0.38771906,  0.17399649,  0.08186762,\n",
       "       -0.03939991, -0.02816504,  0.01712241,  0.08223151, -0.04888765,\n",
       "        0.00337635, -0.00250086])"
      ]
     },
     "execution_count": 18,
     "metadata": {},
     "output_type": "execute_result"
    }
   ],
   "source": [
    "betas_cyclic = mt.cycliccoorddescent(X_scaled, y_scaled, best_lam, alpha, \n",
    "                                     max_iter=actual_iteration_count)\n",
    "mt.get_final_coefs(betas_cyclic)"
   ]
  },
  {
   "cell_type": "code",
   "execution_count": 19,
   "metadata": {
    "collapsed": false
   },
   "outputs": [
    {
     "data": {
      "text/plain": [
       "array([-0.59494229,  0.63296496,  0.01224359, -0.01832305,  0.        ,\n",
       "        0.25395778, -0.09566656, -0.17152851,  0.        ,  0.07101852,\n",
       "        0.67235582,  0.35127949, -0.38770856,  0.17400051,  0.08185575,\n",
       "       -0.03939686, -0.03598713,  0.00926708,  0.03328666, -0.09780505,\n",
       "        0.0045614 , -0.00129109])"
      ]
     },
     "execution_count": 19,
     "metadata": {},
     "output_type": "execute_result"
    }
   ],
   "source": [
    "betas_random = mt.randcoorddescent(X_scaled, y_scaled, best_lam, alpha,\n",
    "                                   max_iter=actual_iteration_count)\n",
    "mt.get_final_coefs(betas_random)"
   ]
  },
  {
   "cell_type": "code",
   "execution_count": 20,
   "metadata": {
    "collapsed": false
   },
   "outputs": [
    {
     "data": {
      "text/html": [
       "<div>\n",
       "<table border=\"1\" class=\"dataframe\">\n",
       "  <thead>\n",
       "    <tr style=\"text-align: right;\">\n",
       "      <th></th>\n",
       "      <th>cyclic</th>\n",
       "      <th>random</th>\n",
       "    </tr>\n",
       "  </thead>\n",
       "  <tbody>\n",
       "    <tr>\n",
       "      <th>0</th>\n",
       "      <td>1.000000</td>\n",
       "      <td>1.000000</td>\n",
       "    </tr>\n",
       "    <tr>\n",
       "      <th>1</th>\n",
       "      <td>0.846672</td>\n",
       "      <td>0.702257</td>\n",
       "    </tr>\n",
       "    <tr>\n",
       "      <th>2</th>\n",
       "      <td>0.843278</td>\n",
       "      <td>0.608016</td>\n",
       "    </tr>\n",
       "  </tbody>\n",
       "</table>\n",
       "</div>"
      ],
      "text/plain": [
       "     cyclic    random\n",
       "0  1.000000  1.000000\n",
       "1  0.846672  0.702257\n",
       "2  0.843278  0.608016"
      ]
     },
     "execution_count": 20,
     "metadata": {},
     "output_type": "execute_result"
    }
   ],
   "source": [
    "obj_values = pd.DataFrame({\n",
    "    'cyclic': betas_cyclic.apply(lambda r: mt.elasticnet_objective(r.as_matrix(),\n",
    "                                    X_scaled, y_scaled, best_lam, alpha), axis=1),\n",
    "    'random': betas_random.apply(lambda r: mt.elasticnet_objective(r.as_matrix(),\n",
    "                                    X_scaled, y_scaled, best_lam, alpha), axis=1)\n",
    "})\n",
    "obj_values[:3]"
   ]
  },
  {
   "cell_type": "code",
   "execution_count": 21,
   "metadata": {
    "collapsed": true
   },
   "outputs": [],
   "source": [
    "def only_full_iterations(df):\n",
    "    \"\"\"Return a filtered dataframe with only rows for \n",
    "    complete iterations.\"\"\"\n",
    "    return df[::feature_count].reset_index(drop=True)"
   ]
  },
  {
   "cell_type": "code",
   "execution_count": 22,
   "metadata": {
    "collapsed": false
   },
   "outputs": [
    {
     "data": {
      "text/plain": [
       "<matplotlib.text.Text at 0x109c65da0>"
      ]
     },
     "execution_count": 22,
     "metadata": {},
     "output_type": "execute_result"
    },
    {
     "data": {
      "image/png": "[encoded data removed]",
      "text/plain": [
       "<matplotlib.figure.Figure at 0x11422e7f0>"
      ]
     },
     "metadata": {},
     "output_type": "display_data"
    }
   ],
   "source": [
    "ax = only_full_iterations(obj_values).plot(title=\"Objective function value per effective iteration\")\n",
    "ax.set_xlabel(\"Effective iteration\")\n",
    "ax.set_ylabel(\"Value of objective function\")"
   ]
  },
  {
   "cell_type": "markdown",
   "metadata": {},
   "source": [
    "It's hard to see if the random implementation converges more quickly in the above plot because so much of the plot shows a flat line. I'm curious, so I'll plot just the first iterations here."
   ]
  },
  {
   "cell_type": "code",
   "execution_count": 23,
   "metadata": {
    "collapsed": false
   },
   "outputs": [
    {
     "data": {
      "text/plain": [
       "<matplotlib.text.Text at 0x1176ea908>"
      ]
     },
     "execution_count": 23,
     "metadata": {},
     "output_type": "execute_result"
    },
    {
     "data": {
      "image/png": "[encoded data removed]",
      "text/plain": [
       "<matplotlib.figure.Figure at 0x1175cbe80>"
      ]
     },
     "metadata": {},
     "output_type": "display_data"
    }
   ],
   "source": [
    "ax = only_full_iterations(obj_values)[:25].plot(title=\"Objective function value per effective iteration\")\n",
    "ax.set_xlabel(\"Effective iteration\")\n",
    "ax.set_ylabel(\"Value of objective function\")"
   ]
  },
  {
   "cell_type": "markdown",
   "metadata": {
    "collapsed": true
   },
   "source": [
    "## Optimize implementation"
   ]
  },
  {
   "cell_type": "markdown",
   "metadata": {
    "collapsed": true
   },
   "source": [
    "*In [1] Section 4.5.2 p. 113-114 two strategies are proposed to speed up the computations: covariance updating\n",
    "and warm start. Implement either of these (or both, if you are motivated) to speed up your own algorithm*"
   ]
  },
  {
   "cell_type": "markdown",
   "metadata": {
    "collapsed": true
   },
   "source": [
    "I'm implementing the warm start optimization here. I've updated my coordinate descent implementation takes an optional parameter called beta0 that, if provided, is used as the starting value for the coefficients (if not provided, the implementation just uses the zero vector, as it did without warm start)."
   ]
  },
  {
   "cell_type": "markdown",
   "metadata": {},
   "source": [
    "First, we need to get $\\lambda_0$, which I believe is the largest lambda value that doesn't yield an empty model with all coefficients zeroed out."
   ]
  },
  {
   "cell_type": "code",
   "execution_count": 24,
   "metadata": {
    "collapsed": false
   },
   "outputs": [
    {
     "data": {
      "text/plain": [
       "0.56696568561765237"
      ]
     },
     "execution_count": 24,
     "metadata": {},
     "output_type": "execute_result"
    }
   ],
   "source": [
    "lam0 = (1 / len(X_scaled)) * np.max(X_scaled.T.dot(y_scaled))\n",
    "lam0"
   ]
  },
  {
   "cell_type": "markdown",
   "metadata": {},
   "source": [
    "**TODO** if i try something just about the above lambda i think the text is saying i should get a zero model... I don't. the above gives me about four coefs (with an alpha of 1 so i'm full on lasso w/ my elastic net impl), and i can go up a bit further before i get to zero. i could be calculating the lambda_0 value incorrectly somehow, or not using it w/ my implementation correctly, or have a messed up implementation, or something else."
   ]
  },
  {
   "cell_type": "markdown",
   "metadata": {},
   "source": [
    "And then get our set of warm start lambda values starting at $\\lambda_0$ and going to nearly zero. The numpy logspace function takes the base 10 exponents as params, so we use np.log10 to convert our $\\lambda_0$ and nearly zero values before calling logspace."
   ]
  },
  {
   "cell_type": "code",
   "execution_count": 25,
   "metadata": {
    "collapsed": false
   },
   "outputs": [
    {
     "data": {
      "text/plain": [
       "array([  5.66965686e-01,   4.67550197e-02,   3.85566874e-03,\n",
       "         3.17959045e-04,   2.62206017e-05,   2.16229091e-06,\n",
       "         1.78314061e-07,   1.47047302e-08,   1.21263062e-09,\n",
       "         1.00000000e-10])"
      ]
     },
     "execution_count": 25,
     "metadata": {},
     "output_type": "execute_result"
    }
   ],
   "source": [
    "warmstart_lambdas = np.logspace(np.log10(lam0), np.log10(1e-10), num=10)\n",
    "warmstart_lambdas"
   ]
  },
  {
   "cell_type": "markdown",
   "metadata": {},
   "source": [
    "And then we can get a set of coefficients for each value of lambda, using the coefficients for the previous lambda as the warm start coefficient for each subsequent value of lambda.\n",
    "\n",
    "Note that with the current coordinate descent implementation, which uses only the number of iterations as a stopping point, this warm start approach won't actually in the end speed things up. To take advantage of the starting coefficients that are closer to the converged coefficients, we need to update the stopping criteria with something that stops quickly if the solution has already converged - for example, code that looks at how much the objective value is changing and stops when the delta becomes very small."
   ]
  },
  {
   "cell_type": "code",
   "execution_count": 26,
   "metadata": {
    "collapsed": false
   },
   "outputs": [
    {
     "name": "stdout",
     "output_type": "stream",
     "text": [
      "lambda: 0.5669656856176524\n",
      "[ 0.          0.07636542  0.          0.          0.          0.03053424\n",
      "  0.          0.          0.          0.          0.11770681  0.14072191\n",
      "  0.          0.          0.          0.          0.          0.          0.\n",
      "  0.          0.          0.        ]\n",
      "lambda: 0.046755019708188884\n",
      "[ 0.          0.19723913  0.          0.          0.          0.10881245\n",
      "  0.          0.          0.04155265  0.04764341  0.15438896  0.21731343\n",
      "  0.          0.14696134  0.         -0.00753646 -0.00473717  0.01522227\n",
      "  0.12180056 -0.00500964  0.          0.        ]\n",
      "lambda: 0.003855668735104611\n",
      "[-0.34402532  0.39608164  0.          0.02988818 -0.00341804  0.20890749\n",
      " -0.13519896 -0.06317042  0.18710836  0.0824917   0.31507499  0.31709991\n",
      " -0.25708375  0.16895955  0.06630276 -0.05307051 -0.03878322  0.01804401\n",
      "  0.1145239  -0.02752598  0.00351684 -0.01811346]\n",
      "lambda: 0.0003179590445613576\n",
      "[-0.50168717  0.52432916  0.00906804  0.00630172 -0.00191659  0.25404519\n",
      " -0.15394055 -0.15403623  0.23926893  0.09562103  0.42153512  0.34085451\n",
      " -0.3525695   0.17341664  0.09139805 -0.05954012 -0.04173031  0.02690952\n",
      "  0.11225283 -0.02855554  0.00128598 -0.03420732]\n",
      "lambda: 2.6220601655403476e-05\n",
      "[ -6.19794084e-01   6.28604380e-01   2.28747562e-02  -1.31339780e-02\n",
      "  -5.60862770e-03   2.75821882e-01  -1.34449864e-01  -2.52074747e-01\n",
      "   2.63644261e-01   1.01122676e-01   5.21501668e-01   3.42259472e-01\n",
      "  -4.02679584e-01   1.75371539e-01   1.03833346e-01  -5.49773984e-02\n",
      "  -4.22556590e-02   2.55418138e-02   1.12575650e-01  -2.45470449e-02\n",
      "   5.68527331e-04  -3.25459029e-02]\n",
      "lambda: 2.162290907999865e-06\n",
      "[ -6.51222114e-01   6.80590404e-01   3.62982718e-02  -4.88914688e-02\n",
      "  -1.60721697e-02   2.89420331e-01  -1.21301412e-01  -3.23416752e-01\n",
      "   2.69064071e-01   1.04400819e-01   6.00253817e-01   3.31825796e-01\n",
      "  -4.24657614e-01   1.74989693e-01   1.06231777e-01  -5.44189150e-02\n",
      "  -4.27964060e-02   2.51759427e-02   1.11802140e-01  -2.43017778e-02\n",
      "   1.91798416e-04  -3.29308813e-02]\n",
      "lambda: 1.783140612967348e-07\n",
      "[-0.67173343  0.71300462  0.04371103 -0.06508355 -0.02367952  0.29316051\n",
      " -0.11637053 -0.37940963  0.25534687  0.10440539  0.66819083  0.34011151\n",
      " -0.43603282  0.17548008  0.1086633  -0.05262041 -0.043236    0.02490088\n",
      "  0.1111799  -0.02370795 -0.0010388  -0.03287631]\n",
      "lambda: 1.4704730218538049e-08\n",
      "[-0.67954778  0.73207732  0.04836821 -0.07802247 -0.02794272  0.29492854\n",
      " -0.10178625 -0.44054409  0.2594073   0.09933304  0.7213623   0.3459544\n",
      " -0.44505326  0.17589302  0.11004177 -0.05164036 -0.04400862  0.02414865\n",
      "  0.11080889 -0.02318583 -0.0011423  -0.03222131]\n",
      "lambda: 1.2126306205328158e-09\n",
      "[-0.68220446  0.74162356  0.05176075 -0.09024273 -0.0277784   0.29742829\n",
      " -0.09076742 -0.48937082  0.24489078  0.09117844  0.78034148  0.35238774\n",
      " -0.45367098  0.17613168  0.11185241 -0.05133902 -0.04468404  0.02389004\n",
      "  0.11071341 -0.02224366 -0.0010047  -0.03162121]\n",
      "lambda: 1e-10\n",
      "[-0.68453745  0.74896431  0.05618984 -0.09794479 -0.03213709  0.30093084\n",
      " -0.08624171 -0.5199815   0.24361667  0.08589863  0.81195556  0.36159518\n",
      " -0.46175086  0.17610707  0.11228442 -0.05061401 -0.04476672  0.02391966\n",
      "  0.11057494 -0.02209501 -0.00103121 -0.03146871]\n"
     ]
    }
   ],
   "source": [
    "starting_beta = np.zeros(feature_count) # start at zero the first time\n",
    "\n",
    "for lam in warmstart_lambdas:\n",
    "    # use 1 for elastic net to get full on lasso, at least for this experiment\n",
    "    beta_vals = mt.randcoorddescent(X_scaled, y_scaled, lam, 1, beta0=starting_beta)\n",
    "    final_coefs = mt.get_final_coefs(beta_vals)\n",
    "    print(\"lambda: {}\".format(lam))\n",
    "    print(final_coefs)\n",
    "    \n",
    "    # and use the current final coefs as the starting point for the next lambda val\n",
    "    starting_beta = final_coefs"
   ]
  },
  {
   "cell_type": "markdown",
   "metadata": {
    "collapsed": true
   },
   "source": [
    "# Exercise two"
   ]
  },
  {
   "cell_type": "markdown",
   "metadata": {},
   "source": [
    "## Generate simulated data"
   ]
  },
  {
   "cell_type": "markdown",
   "metadata": {},
   "source": [
    "*Generate a simulated data set with 50 examples in each of 5 classes, i.e. 250 observations total. Each example should have 50 features. Be sure to add a mean shift to the observations in each class so that there are five distinct classes.*"
   ]
  },
  {
   "cell_type": "code",
   "execution_count": 27,
   "metadata": {
    "collapsed": false
   },
   "outputs": [
    {
     "data": {
      "text/plain": [
       "(250, 51)"
      ]
     },
     "execution_count": 27,
     "metadata": {},
     "output_type": "execute_result"
    }
   ],
   "source": [
    "num_examples = 50\n",
    "num_features = 50\n",
    "#mean_vals = [0, 1, 2, 3, 4]\n",
    "#mean_vals = [0, 10, 20, 30, 40]\n",
    "mean_vals = [0, 1.5, 3, 4.5, 6]\n",
    "np.random.seed(42)\n",
    "d = pd.DataFrame(np.vstack([np.random.normal(mean, \n",
    "                 size=(num_examples,num_features)) for mean in mean_vals]))\n",
    "d.insert(0, 'Class', np.repeat(['A','B','C','D','E'], num_examples))\n",
    "d.shape"
   ]
  },
  {
   "cell_type": "code",
   "execution_count": 28,
   "metadata": {
    "collapsed": false
   },
   "outputs": [
    {
     "data": {
      "text/html": [
       "<div>\n",
       "<table border=\"1\" class=\"dataframe\">\n",
       "  <thead>\n",
       "    <tr style=\"text-align: right;\">\n",
       "      <th></th>\n",
       "      <th>Class</th>\n",
       "      <th>0</th>\n",
       "      <th>1</th>\n",
       "      <th>2</th>\n",
       "      <th>3</th>\n",
       "      <th>4</th>\n",
       "      <th>5</th>\n",
       "      <th>6</th>\n",
       "      <th>7</th>\n",
       "      <th>8</th>\n",
       "      <th>...</th>\n",
       "      <th>40</th>\n",
       "      <th>41</th>\n",
       "      <th>42</th>\n",
       "      <th>43</th>\n",
       "      <th>44</th>\n",
       "      <th>45</th>\n",
       "      <th>46</th>\n",
       "      <th>47</th>\n",
       "      <th>48</th>\n",
       "      <th>49</th>\n",
       "    </tr>\n",
       "  </thead>\n",
       "  <tbody>\n",
       "    <tr>\n",
       "      <th>0</th>\n",
       "      <td>A</td>\n",
       "      <td>0.496714</td>\n",
       "      <td>-0.138264</td>\n",
       "      <td>0.647689</td>\n",
       "      <td>1.52303</td>\n",
       "      <td>-0.234153</td>\n",
       "      <td>-0.234137</td>\n",
       "      <td>1.579213</td>\n",
       "      <td>0.767435</td>\n",
       "      <td>-0.469474</td>\n",
       "      <td>...</td>\n",
       "      <td>0.738467</td>\n",
       "      <td>0.171368</td>\n",
       "      <td>-0.115648</td>\n",
       "      <td>-0.301104</td>\n",
       "      <td>-1.478522</td>\n",
       "      <td>-0.719844</td>\n",
       "      <td>-0.460639</td>\n",
       "      <td>1.057122</td>\n",
       "      <td>0.343618</td>\n",
       "      <td>-1.76304</td>\n",
       "    </tr>\n",
       "  </tbody>\n",
       "</table>\n",
       "<p>1 rows × 51 columns</p>\n",
       "</div>"
      ],
      "text/plain": [
       "  Class         0         1         2        3         4         5         6  \\\n",
       "0     A  0.496714 -0.138264  0.647689  1.52303 -0.234153 -0.234137  1.579213   \n",
       "\n",
       "          7         8   ...           40        41        42        43  \\\n",
       "0  0.767435 -0.469474   ...     0.738467  0.171368 -0.115648 -0.301104   \n",
       "\n",
       "         44        45        46        47        48       49  \n",
       "0 -1.478522 -0.719844 -0.460639  1.057122  0.343618 -1.76304  \n",
       "\n",
       "[1 rows x 51 columns]"
      ]
     },
     "execution_count": 28,
     "metadata": {},
     "output_type": "execute_result"
    }
   ],
   "source": [
    "d[:1]"
   ]
  },
  {
   "cell_type": "code",
   "execution_count": 29,
   "metadata": {
    "collapsed": false
   },
   "outputs": [
    {
     "data": {
      "text/plain": [
       "(250, 50)"
      ]
     },
     "execution_count": 29,
     "metadata": {},
     "output_type": "execute_result"
    }
   ],
   "source": [
    "d_values = d.values[:, 1:num_features+1].astype('float')\n",
    "d_values_centered = preprocessing.scale(d_values, with_std=False)\n",
    "d_values_centered.shape"
   ]
  },
  {
   "cell_type": "code",
   "execution_count": 30,
   "metadata": {
    "collapsed": false
   },
   "outputs": [
    {
     "data": {
      "text/plain": [
       "array([-2.49620261, -3.11054553, -2.31122118, -1.42769024, -3.1806612 ,\n",
       "       -3.17597982, -1.40108378, -2.29299655, -3.4443487 , -2.61552864,\n",
       "       -3.49037565, -3.54287502, -2.70697955, -4.78506828, -4.8221139 ,\n",
       "       -3.55230636, -4.15546401, -2.66594363, -3.92061749, -4.49926869,\n",
       "       -1.68856949, -3.21782653, -2.81979138, -4.42437696, -3.54725713,\n",
       "       -2.82765915, -4.06061019, -2.68364608, -3.60194582, -3.25672432,\n",
       "       -3.60772055, -1.14535976, -2.9694022 , -4.07131093, -2.18567134,\n",
       "       -4.22753792, -2.7918389 , -4.84700507, -4.30689878, -2.83616755,\n",
       "       -2.15937416, -2.89229984, -3.12960253, -3.22224917, -4.50609712,\n",
       "       -3.73388198, -3.41045607, -1.92783009, -2.64283395, -4.72147284])"
      ]
     },
     "execution_count": 30,
     "metadata": {},
     "output_type": "execute_result"
    }
   ],
   "source": [
    "d_values_centered[0]"
   ]
  },
  {
   "cell_type": "markdown",
   "metadata": {},
   "source": [
    "## Compute principal component vectors and compare to sklearn"
   ]
  },
  {
   "cell_type": "markdown",
   "metadata": {},
   "source": [
    "*Modify your normalized Oja algorithm to output the average of the final ten iterations. Use your own normalized Oja algorithm to compute the first 3 principal component vectors on the 250 observations. Compare your results to the ones obtained with scikit-learn’s PCA algorithm. Print the principal components from both your Oja algorithm and from scikit- learn.*"
   ]
  },
  {
   "cell_type": "code",
   "execution_count": null,
   "metadata": {
    "collapsed": true
   },
   "outputs": [],
   "source": []
  },
  {
   "cell_type": "code",
   "execution_count": null,
   "metadata": {
    "collapsed": true
   },
   "outputs": [],
   "source": []
  },
  {
   "cell_type": "code",
   "execution_count": null,
   "metadata": {
    "collapsed": true
   },
   "outputs": [],
   "source": []
  },
  {
   "cell_type": "code",
   "execution_count": 6,
   "metadata": {
    "collapsed": false
   },
   "outputs": [
    {
     "data": {
      "text/plain": [
       "[5, 6, 7]"
      ]
     },
     "execution_count": 6,
     "metadata": {},
     "output_type": "execute_result"
    }
   ],
   "source": [
    "[1,2,3,4,5,6,7][-3:]"
   ]
  },
  {
   "cell_type": "code",
   "execution_count": null,
   "metadata": {
    "collapsed": true
   },
   "outputs": [],
   "source": []
  },
  {
   "cell_type": "code",
   "execution_count": 31,
   "metadata": {
    "collapsed": false
   },
   "outputs": [
    {
     "name": "stdout",
     "output_type": "stream",
     "text": [
      "[ 147.52943396]\n",
      "64.9283683959\n",
      "1.93042941834\n",
      "0.0275481835194\n",
      "0.000382254420647\n",
      "4.70475160228e-06\n",
      "5.55482412135e-08\n",
      "6.96888605939e-10\n",
      "8.21836496491e-12\n",
      "9.52207438332e-14\n",
      "1.09861267625e-15\n",
      "1.51471086074e-17\n",
      "1.97849691122e-19\n",
      "2.50677084634e-21\n",
      "2.71902539152e-23\n",
      "1.3728613229e-25\n",
      "3.21501839645e-28\n",
      "7.57306469012e-32\n",
      "-1.26217744835e-32\n",
      "3.15544362088e-33\n"
     ]
    }
   ],
   "source": [
    "foo = mt.oja_fit(d_values_centered, 20, 0.001, 2, 100)"
   ]
  },
  {
   "cell_type": "code",
   "execution_count": 32,
   "metadata": {
    "collapsed": false
   },
   "outputs": [
    {
     "data": {
      "text/plain": [
       "array([ 147.52943396,  212.45780235,  214.38823177,  214.41577995,\n",
       "        214.41616221,  214.41616691,  214.41616697,  214.41616697,\n",
       "        214.41616697,  214.41616697,  214.41616697,  214.41616697,\n",
       "        214.41616697,  214.41616697,  214.41616697,  214.41616697,\n",
       "        214.41616697,  214.41616697,  214.41616697,  214.41616697])"
      ]
     },
     "execution_count": 32,
     "metadata": {},
     "output_type": "execute_result"
    }
   ],
   "source": [
    "np.cumsum(foo[1])"
   ]
  },
  {
   "cell_type": "code",
   "execution_count": 33,
   "metadata": {
    "collapsed": false
   },
   "outputs": [
    {
     "data": {
      "text/plain": [
       "array([ 0.68805182,  0.99086653,  0.99986972,  0.9999982 ,  0.99999998,\n",
       "        1.        ,  1.        ,  1.        ,  1.        ,  1.        ,\n",
       "        1.        ,  1.        ,  1.        ,  1.        ,  1.        ,\n",
       "        1.        ,  1.        ,  1.        ,  1.        ,  1.        ])"
      ]
     },
     "execution_count": 33,
     "metadata": {},
     "output_type": "execute_result"
    }
   ],
   "source": [
    "np.cumsum(foo[1]) / np.sum(foo[1])"
   ]
  },
  {
   "cell_type": "code",
   "execution_count": 34,
   "metadata": {
    "collapsed": false
   },
   "outputs": [
    {
     "data": {
      "text/plain": [
       "<module 'midterm' from '/Users/andrewenfield/work/github/Data558/Midterm/midterm.py'>"
      ]
     },
     "execution_count": 34,
     "metadata": {},
     "output_type": "execute_result"
    }
   ],
   "source": [
    "import importlib\n",
    "importlib.reload(mt)"
   ]
  },
  {
   "cell_type": "markdown",
   "metadata": {},
   "source": [
    "## Compute vectors to explain 95% of the variance"
   ]
  },
  {
   "cell_type": "markdown",
   "metadata": {},
   "source": [
    "*Use your own normalized Oja algorithm to compute the principal component vectors that allow one to explain 95% of the variance. This set of vectors should be the smallest possible set of vectors explaining 95% of the variance. Compare your results to the ones obtained with scikit-learn’s PCA algorithm. Print the principal components from both your Oja algorithm and from scikit-learn.*"
   ]
  },
  {
   "cell_type": "markdown",
   "metadata": {},
   "source": [
    "My note: i think the following could be helpful in explaining the variance, I think using the eigenvalue returned. https://stats.stackexchange.com/questions/22569/pca-and-proportion-of-variance-explained"
   ]
  },
  {
   "cell_type": "code",
   "execution_count": null,
   "metadata": {
    "collapsed": true
   },
   "outputs": [],
   "source": []
  },
  {
   "cell_type": "markdown",
   "metadata": {},
   "source": [
    "## Run Oja code on AWS"
   ]
  },
  {
   "cell_type": "markdown",
   "metadata": {},
   "source": [
    "*Re-launch all of the above computations on AWS. Include the following with your submission: a) screenshot with the output for each question, and b) a screenshot with the results of running the following two commands on your instance.*"
   ]
  },
  {
   "cell_type": "markdown",
   "metadata": {},
   "source": [
    "**TODO** Run on AWS and insert images as specified."
   ]
  },
  {
   "cell_type": "code",
   "execution_count": null,
   "metadata": {
    "collapsed": true
   },
   "outputs": [],
   "source": []
  }
 ],
 "metadata": {
  "kernelspec": {
   "display_name": "Python 3",
   "language": "python",
   "name": "python3"
  },
  "language_info": {
   "codemirror_mode": {
    "name": "ipython",
    "version": 3
   },
   "file_extension": ".py",
   "mimetype": "text/x-python",
   "name": "python",
   "nbconvert_exporter": "python",
   "pygments_lexer": "ipython3",
   "version": "3.6.0"
  }
 },
 "nbformat": 4,
 "nbformat_minor": 2
}
