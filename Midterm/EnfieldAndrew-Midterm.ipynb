{
 "cells": [
  {
   "cell_type": "code",
   "execution_count": 1,
   "metadata": {
    "collapsed": true
   },
   "outputs": [],
   "source": [
    "# general\n",
    "import numpy as np\n",
    "import pandas as pd\n",
    "import matplotlib.pyplot as plt\n",
    "import seaborn as sns\n",
    "from IPython.display import display\n",
    "\n",
    "%matplotlib inline\n",
    "\n",
    "from pylab import rcParams\n",
    "rcParams['figure.figsize'] = 8, 5\n",
    "\n",
    "# first used in exercise one\n",
    "import midterm as mt\n",
    "from sklearn import preprocessing # for scale\n",
    "from sklearn.model_selection import train_test_split\n",
    "from sklearn.model_selection import KFold\n",
    "from sklearn.metrics import mean_squared_error\n",
    "\n",
    "# first used in exercise two\n",
    "# TODO"
   ]
  },
  {
   "cell_type": "code",
   "execution_count": 77,
   "metadata": {
    "collapsed": false
   },
   "outputs": [
    {
     "data": {
      "text/plain": [
       "<module 'midterm' from '/Users/andrewenfield/work/github/Data558/Midterm/midterm.py'>"
      ]
     },
     "execution_count": 77,
     "metadata": {},
     "output_type": "execute_result"
    }
   ],
   "source": [
    "# import importlib\n",
    "# importlib.reload(mt)"
   ]
  },
  {
   "cell_type": "markdown",
   "metadata": {},
   "source": [
    "# Exercise One"
   ]
  },
  {
   "cell_type": "markdown",
   "metadata": {},
   "source": [
    "## Derive the coordinate minimization formula"
   ]
  },
  {
   "cell_type": "markdown",
   "metadata": {},
   "source": [
    "**TODO** insert images showing derivation"
   ]
  },
  {
   "cell_type": "markdown",
   "metadata": {},
   "source": [
    "## Implement coordinate descent"
   ]
  },
  {
   "cell_type": "markdown",
   "metadata": {},
   "source": [
    "I've submitted my implementation in the midterm.py file. I use this implementation in this notebook - I imported the module above and gave it the alias 'mt'. In addition, in case it helps understand how my implementation works, I've included the tests I wrote as part of doing the implementation. These are in the file midterm-test.py.\n",
    "\n",
    "In more detail, here's where the requested functions are implemented in midterm.py:\n",
    "\n",
    "* *Write a function that computes the solution to the partial minimization problem.* See the function minimize_beta_term (which calls the a_term and c_term functions).\n",
    "* *Write a function computeobj that computes and returns F(β) for any β.* See the function elasticnet_objective.\n",
    "* *Write a function cycliccoorddescent that implements the cyclic coordinate descent algorithm. The function takes as input the initial point and the maximum number of iterations. The stopping criterion is the maximum number of iterations.* See the function cycliccoorddescent. This function calls the function coorddescent, which handles the the main algorithm for both cyclic and random implementations - this function passes a sequential set of j values.\n",
    "* *Write a function pickcoord that samples uniformly from the set {1, . . . , d} .* I implemented this functionality in the get_sequence_of_js function. This function returns a list of values that define the specific beta values/coefficients to be minimized. When called with the random parameter equal to False, the function returns a sequential list of j values (i.e., [1 2 3 1 2 3 ...]). When called with random equal to True, the function samples uniformly from the set {1,...,d} and returns a list of j values built from these random selections.\n",
    "* *Write a function randcoorddescent that implements the randomized coordinate descent algo- rithm. The function takes as input the initial point and the maximum number of iterations. The stopping criterion is the maximum number of iterations.* See the function randcoorddescent. This function calls the function coorddescent, which handles the the main algorithm for both cyclic and random implementations - this function passes a set of j values that have been randomly chosen."
   ]
  },
  {
   "cell_type": "markdown",
   "metadata": {},
   "source": [
    "## Load and standardize data"
   ]
  },
  {
   "cell_type": "markdown",
   "metadata": {},
   "source": [
    "*Consider the Hitters dataset from [2]. You may download it from [here](https://raw. githubusercontent.com/selva86/datasets/master/Hitters.csv). Standardize the data (i.e., center the predictors and the outputs and divide them by their standard deviations).*"
   ]
  },
  {
   "cell_type": "code",
   "execution_count": 3,
   "metadata": {
    "collapsed": false
   },
   "outputs": [
    {
     "data": {
      "text/plain": [
       "(322, 20)"
      ]
     },
     "execution_count": 3,
     "metadata": {},
     "output_type": "execute_result"
    }
   ],
   "source": [
    "h = pd.read_csv('Hitters.csv')\n",
    "h.shape"
   ]
  },
  {
   "cell_type": "code",
   "execution_count": 4,
   "metadata": {
    "collapsed": false
   },
   "outputs": [
    {
     "data": {
      "text/plain": [
       "Index(['AtBat', 'Hits', 'HmRun', 'Runs', 'RBI', 'Walks', 'Years', 'CAtBat',\n",
       "       'CHits', 'CHmRun', 'CRuns', 'CRBI', 'CWalks', 'League', 'Division',\n",
       "       'PutOuts', 'Assists', 'Errors', 'Salary', 'NewLeague'],\n",
       "      dtype='object')"
      ]
     },
     "execution_count": 4,
     "metadata": {},
     "output_type": "execute_result"
    }
   ],
   "source": [
    "h.columns"
   ]
  },
  {
   "cell_type": "code",
   "execution_count": 5,
   "metadata": {
    "collapsed": false
   },
   "outputs": [
    {
     "data": {
      "text/plain": [
       "(263, 20)"
      ]
     },
     "execution_count": 5,
     "metadata": {},
     "output_type": "execute_result"
    }
   ],
   "source": [
    "# remove rows w/ empty values - i think this is only those w/ no salary\n",
    "h = h.dropna()\n",
    "h.shape"
   ]
  },
  {
   "cell_type": "code",
   "execution_count": 6,
   "metadata": {
    "collapsed": false
   },
   "outputs": [
    {
     "data": {
      "text/plain": [
       "(263, 23)"
      ]
     },
     "execution_count": 6,
     "metadata": {},
     "output_type": "execute_result"
    }
   ],
   "source": [
    "# convert categorical vars to dummy variables\n",
    "h = pd.get_dummies(h)\n",
    "h.shape"
   ]
  },
  {
   "cell_type": "code",
   "execution_count": 7,
   "metadata": {
    "collapsed": false
   },
   "outputs": [
    {
     "data": {
      "text/html": [
       "<div>\n",
       "<table border=\"1\" class=\"dataframe\">\n",
       "  <thead>\n",
       "    <tr style=\"text-align: right;\">\n",
       "      <th></th>\n",
       "      <th>AtBat</th>\n",
       "      <th>Hits</th>\n",
       "      <th>HmRun</th>\n",
       "      <th>Runs</th>\n",
       "      <th>RBI</th>\n",
       "      <th>Walks</th>\n",
       "      <th>Years</th>\n",
       "      <th>CAtBat</th>\n",
       "      <th>CHits</th>\n",
       "      <th>CHmRun</th>\n",
       "      <th>...</th>\n",
       "      <th>PutOuts</th>\n",
       "      <th>Assists</th>\n",
       "      <th>Errors</th>\n",
       "      <th>Salary</th>\n",
       "      <th>League_A</th>\n",
       "      <th>League_N</th>\n",
       "      <th>Division_E</th>\n",
       "      <th>Division_W</th>\n",
       "      <th>NewLeague_A</th>\n",
       "      <th>NewLeague_N</th>\n",
       "    </tr>\n",
       "  </thead>\n",
       "  <tbody>\n",
       "    <tr>\n",
       "      <th>1</th>\n",
       "      <td>315</td>\n",
       "      <td>81</td>\n",
       "      <td>7</td>\n",
       "      <td>24</td>\n",
       "      <td>38</td>\n",
       "      <td>39</td>\n",
       "      <td>14</td>\n",
       "      <td>3449</td>\n",
       "      <td>835</td>\n",
       "      <td>69</td>\n",
       "      <td>...</td>\n",
       "      <td>632</td>\n",
       "      <td>43</td>\n",
       "      <td>10</td>\n",
       "      <td>475.0</td>\n",
       "      <td>0</td>\n",
       "      <td>1</td>\n",
       "      <td>0</td>\n",
       "      <td>1</td>\n",
       "      <td>0</td>\n",
       "      <td>1</td>\n",
       "    </tr>\n",
       "  </tbody>\n",
       "</table>\n",
       "<p>1 rows × 23 columns</p>\n",
       "</div>"
      ],
      "text/plain": [
       "   AtBat  Hits  HmRun  Runs  RBI  Walks  Years  CAtBat  CHits  CHmRun  \\\n",
       "1    315    81      7    24   38     39     14    3449    835      69   \n",
       "\n",
       "      ...       PutOuts  Assists  Errors  Salary  League_A  League_N  \\\n",
       "1     ...           632       43      10   475.0         0         1   \n",
       "\n",
       "   Division_E  Division_W  NewLeague_A  NewLeague_N  \n",
       "1           0           1            0            1  \n",
       "\n",
       "[1 rows x 23 columns]"
      ]
     },
     "execution_count": 7,
     "metadata": {},
     "output_type": "execute_result"
    }
   ],
   "source": [
    "h[:1]"
   ]
  },
  {
   "cell_type": "code",
   "execution_count": 8,
   "metadata": {
    "collapsed": false
   },
   "outputs": [
    {
     "data": {
      "text/plain": [
       "((263, 22), (263,))"
      ]
     },
     "execution_count": 8,
     "metadata": {},
     "output_type": "execute_result"
    }
   ],
   "source": [
    "# split into features and the value to predict (X and y)\n",
    "# scale all features so each col has mean zero and std 1\n",
    "X_scaled = preprocessing.scale(h.drop('Salary', axis=1))\n",
    "y_scaled = preprocessing.scale(h['Salary']) \n",
    "\n",
    "(X_scaled.shape, y_scaled.shape)"
   ]
  },
  {
   "cell_type": "markdown",
   "metadata": {},
   "source": [
    "## Find best lambda via cross-validation"
   ]
  },
  {
   "cell_type": "markdown",
   "metadata": {},
   "source": [
    "*In the remainder, the iteration counter iter refers here to t/d, that is the effective number of passes over all coordinates. Set the maximum number of iterations to 1000. Set α = 0.9. Run your own implementation of cross-validation on the Hitters dataset to find the optimal value of λ.*"
   ]
  },
  {
   "cell_type": "code",
   "execution_count": 57,
   "metadata": {
    "collapsed": false
   },
   "outputs": [
    {
     "data": {
      "text/plain": [
       "(22, 22000)"
      ]
     },
     "execution_count": 57,
     "metadata": {},
     "output_type": "execute_result"
    }
   ],
   "source": [
    "# 1000 is a lot, but it's what the problem specifies; multiply by the number\n",
    "# of features to get to an effective number of iterations of 1000\n",
    "feature_count = X_scaled.shape[1] \n",
    "actual_iteration_count = 1000 * feature_count\n",
    "(feature_count, actual_iteration_count)"
   ]
  },
  {
   "cell_type": "markdown",
   "metadata": {},
   "source": [
    "**TODO** update below to use the correct number of iterations per the answer to my disc group question."
   ]
  },
  {
   "cell_type": "code",
   "execution_count": 39,
   "metadata": {
    "collapsed": false
   },
   "outputs": [],
   "source": [
    "def train_and_test_single_fold(X_full, y_full, train_index, test_index, lam, alpha):\n",
    "    \"\"\"\n",
    "    Train using the data identified by the indices in train_index, and then test\n",
    "    (and return MSE) using the data identified by the indices in test_index.\n",
    "    \"\"\"\n",
    "    beta_vals = mt.randcoorddescent(X_full[train_index], y_full[train_index], \n",
    "                                    lam, alpha, max_iter=1000)\n",
    "                                    #lam, alpha, max_iter=actual_iteration_count)\n",
    "\n",
    "    final_coefs = mt.get_final_coefs(beta_vals)\n",
    "    \n",
    "    return mean_squared_error(y_full[test_index], X_full[test_index].dot(final_coefs))"
   ]
  },
  {
   "cell_type": "code",
   "execution_count": 40,
   "metadata": {
    "collapsed": true
   },
   "outputs": [],
   "source": [
    "def train_and_test_for_all_folds(X_full, y_full, train_indices, test_indices, lam, alpha):\n",
    "    \"\"\"\n",
    "    Train and test for all folds - for now, 10 folds, hard-coded. Return the mean of the \n",
    "    set of MSE values from all folds.\"\"\"\n",
    "    mses = [train_and_test_single_fold(X_full, y_full, \n",
    "                                       train_indices[i], test_indices[i], lam, alpha) for i in range(10)]\n",
    "    return(np.mean(mses))"
   ]
  },
  {
   "cell_type": "code",
   "execution_count": 41,
   "metadata": {
    "collapsed": true
   },
   "outputs": [],
   "source": [
    "# get arrays with 10 sets of test and train indices - one for each fold\n",
    "kf = KFold(10, shuffle=True, random_state=42)\n",
    "\n",
    "train_indices_list = []\n",
    "test_indices_list = []\n",
    "for train_index, test_index in kf.split(X_scaled):\n",
    "    train_indices_list.append(train_index)\n",
    "    test_indices_list.append(test_index)\n",
    "    \n",
    "train_indices = np.array(train_indices_list)\n",
    "test_indices = np.array(test_indices_list)"
   ]
  },
  {
   "cell_type": "code",
   "execution_count": 42,
   "metadata": {
    "collapsed": false
   },
   "outputs": [
    {
     "data": {
      "text/plain": [
       "array([  1.00000000e-05,   3.68694506e-05,   1.35935639e-04,\n",
       "         5.01187234e-04,   1.84784980e-03,   6.81292069e-03,\n",
       "         2.51188643e-02,   9.26118728e-02,   3.41454887e-01,\n",
       "         1.25892541e+00])"
      ]
     },
     "execution_count": 42,
     "metadata": {},
     "output_type": "execute_result"
    }
   ],
   "source": [
    "lambdas = np.logspace(-5, 0.1, num=10)\n",
    "lambdas"
   ]
  },
  {
   "cell_type": "code",
   "execution_count": 43,
   "metadata": {
    "collapsed": true
   },
   "outputs": [],
   "source": [
    "alpha = 0.9"
   ]
  },
  {
   "cell_type": "code",
   "execution_count": 44,
   "metadata": {
    "collapsed": false
   },
   "outputs": [
    {
     "data": {
      "text/plain": [
       "[(1.0000000000000001e-05, 0.55631811436675827),\n",
       " (3.6869450645195736e-05, 0.5537977540741138),\n",
       " (0.00013593563908785255, 0.5545620352876014),\n",
       " (0.00050118723362727253, 0.55685175632164829),\n",
       " (0.0018478497974222907, 0.55430660008596577),\n",
       " (0.0068129206905796083, 0.55774688526265404),\n",
       " (0.025118864315095794, 0.56484105028279896),\n",
       " (0.092611872812879373, 0.5744973867819837),\n",
       " (0.34145488738336005, 0.63463127163843835),\n",
       " (1.2589254117941673, 0.99170675337388681)]"
      ]
     },
     "execution_count": 44,
     "metadata": {},
     "output_type": "execute_result"
    }
   ],
   "source": [
    "# and finally, do 10-fold cross validation for each value of lambda, and\n",
    "# show the mean of each set's MSEs\n",
    "mses_by_lambda = [train_and_test_for_all_folds(X_scaled, y_scaled, \n",
    "                        train_indices, test_indices, lam, alpha) for lam in lambdas]\n",
    "list(zip(lambdas, mses_by_lambda))"
   ]
  },
  {
   "cell_type": "markdown",
   "metadata": {},
   "source": [
    "TBD Since a number of lambda values have very close to the same low average MSE, I'll choose TBD, which is the largest value of lambda - leading potentially more zeroed-out coefficients and so a simploer model - that has effectively the (same) lowest average MSE. "
   ]
  },
  {
   "cell_type": "code",
   "execution_count": 45,
   "metadata": {
    "collapsed": true
   },
   "outputs": [],
   "source": [
    "best_lam = 0.0068129206905796083"
   ]
  },
  {
   "cell_type": "markdown",
   "metadata": {},
   "source": [
    "## Run both implementations using the best value of lambda"
   ]
  },
  {
   "cell_type": "markdown",
   "metadata": {},
   "source": [
    "*Run cycliccoorddescent and randcoorddescent on the training set of the Hitters dataset for that value of λ found by your own implementation of cross-validation. Plot the curves of the objective values F(βt) for both algorithms versus the iteration counter iter (use different colors). What do you observe?*"
   ]
  },
  {
   "cell_type": "markdown",
   "metadata": {},
   "source": [
    "**TODO** answer questions per above."
   ]
  },
  {
   "cell_type": "code",
   "execution_count": 46,
   "metadata": {
    "collapsed": true
   },
   "outputs": [],
   "source": [
    "X_s_train, X_s_test, y_s_train, y_s_test = train_test_split(X_scaled,\n",
    "                                                            y_scaled,\n",
    "                                                            test_size=0.10, \n",
    "                                                            random_state=42)"
   ]
  },
  {
   "cell_type": "code",
   "execution_count": 51,
   "metadata": {
    "collapsed": false
   },
   "outputs": [
    {
     "data": {
      "text/plain": [
       "array([-0.59483499,  0.63289046,  0.01226144, -0.01836527,  0.        ,\n",
       "        0.25394428, -0.09559509, -0.17218187,  0.        ,  0.07080355,\n",
       "        0.67276549,  0.35166678, -0.38771906,  0.17399649,  0.08186762,\n",
       "       -0.03939991, -0.02816504,  0.01712241,  0.08223151, -0.04888765,\n",
       "        0.00337635, -0.00250086])"
      ]
     },
     "execution_count": 51,
     "metadata": {},
     "output_type": "execute_result"
    }
   ],
   "source": [
    "betas_cyclic = mt.cycliccoorddescent(X_scaled, y_scaled, best_lam, alpha, \n",
    "                                     max_iter=actual_iteration_count)\n",
    "mt.get_final_coefs(betas_cyclic)"
   ]
  },
  {
   "cell_type": "code",
   "execution_count": 52,
   "metadata": {
    "collapsed": false
   },
   "outputs": [
    {
     "data": {
      "text/plain": [
       "array([-0.59489154,  0.63292638,  0.0122507 , -0.01834487,  0.        ,\n",
       "        0.25395107, -0.09564566, -0.17179779,  0.        ,  0.07091877,\n",
       "        0.67252426,  0.35146399, -0.38771619,  0.17399943,  0.08186026,\n",
       "       -0.0393986 , -0.01033701,  0.03493284,  0.03167538, -0.09945939,\n",
       "        0.00458266, -0.00129254])"
      ]
     },
     "execution_count": 52,
     "metadata": {},
     "output_type": "execute_result"
    }
   ],
   "source": [
    "betas_random = mt.randcoorddescent(X_scaled, y_scaled, best_lam, alpha,\n",
    "                                   max_iter=actual_iteration_count)\n",
    "mt.get_final_coefs(betas_random)"
   ]
  },
  {
   "cell_type": "code",
   "execution_count": 54,
   "metadata": {
    "collapsed": false
   },
   "outputs": [
    {
     "data": {
      "text/html": [
       "<div>\n",
       "<table border=\"1\" class=\"dataframe\">\n",
       "  <thead>\n",
       "    <tr style=\"text-align: right;\">\n",
       "      <th></th>\n",
       "      <th>cyclic</th>\n",
       "      <th>random</th>\n",
       "    </tr>\n",
       "  </thead>\n",
       "  <tbody>\n",
       "    <tr>\n",
       "      <th>0</th>\n",
       "      <td>1.000000</td>\n",
       "      <td>1.000000</td>\n",
       "    </tr>\n",
       "    <tr>\n",
       "      <th>1</th>\n",
       "      <td>0.846672</td>\n",
       "      <td>0.826402</td>\n",
       "    </tr>\n",
       "    <tr>\n",
       "      <th>2</th>\n",
       "      <td>0.843278</td>\n",
       "      <td>0.596518</td>\n",
       "    </tr>\n",
       "  </tbody>\n",
       "</table>\n",
       "</div>"
      ],
      "text/plain": [
       "     cyclic    random\n",
       "0  1.000000  1.000000\n",
       "1  0.846672  0.826402\n",
       "2  0.843278  0.596518"
      ]
     },
     "execution_count": 54,
     "metadata": {},
     "output_type": "execute_result"
    }
   ],
   "source": [
    "obj_values = pd.DataFrame({\n",
    "    'cyclic': betas_cyclic.apply(lambda r: mt.elasticnet_objective(r.as_matrix(),\n",
    "                                    X_scaled, y_scaled, best_lam, alpha), axis=1),\n",
    "    'random': betas_random.apply(lambda r: mt.elasticnet_objective(r.as_matrix(),\n",
    "                                    X_scaled, y_scaled, best_lam, alpha), axis=1)\n",
    "})\n",
    "obj_values[:3]"
   ]
  },
  {
   "cell_type": "code",
   "execution_count": 55,
   "metadata": {
    "collapsed": true
   },
   "outputs": [],
   "source": [
    "def only_full_iterations(df):\n",
    "    \"\"\"Return a filtered dataframe with only rows for \n",
    "    complete iterations.\"\"\"\n",
    "    return df[::feature_count].reset_index(drop=True)"
   ]
  },
  {
   "cell_type": "code",
   "execution_count": 58,
   "metadata": {
    "collapsed": false
   },
   "outputs": [
    {
     "data": {
      "text/plain": [
       "<matplotlib.text.Text at 0x10a927c88>"
      ]
     },
     "execution_count": 58,
     "metadata": {},
     "output_type": "execute_result"
    },
    {
     "data": {
      "image/png": "[encoded data removed]",
      "text/plain": [
       "<matplotlib.figure.Figure at 0x11158a748>"
      ]
     },
     "metadata": {},
     "output_type": "display_data"
    }
   ],
   "source": [
    "ax = only_full_iterations(obj_values).plot(title=\"Objective function value per effective iteration\")\n",
    "ax.set_xlabel(\"Effective iteration\")\n",
    "ax.set_ylabel(\"Value of objective function\")"
   ]
  },
  {
   "cell_type": "markdown",
   "metadata": {},
   "source": [
    "It's hard to see if the random implementation converges more quickly in the above plot because so much of the plot shows a flat line. I'm curious, so I'll plot just the first iterations here."
   ]
  },
  {
   "cell_type": "code",
   "execution_count": 75,
   "metadata": {
    "collapsed": false
   },
   "outputs": [
    {
     "data": {
      "text/plain": [
       "<matplotlib.text.Text at 0x119c05208>"
      ]
     },
     "execution_count": 75,
     "metadata": {},
     "output_type": "execute_result"
    },
    {
     "data": {
      "image/png": "[encoded data removed]",
      "text/plain": [
       "<matplotlib.figure.Figure at 0x119bf56d8>"
      ]
     },
     "metadata": {},
     "output_type": "display_data"
    }
   ],
   "source": [
    "ax = only_full_iterations(obj_values)[:25].plot(title=\"Objective function value per effective iteration\")\n",
    "ax.set_xlabel(\"Effective iteration\")\n",
    "ax.set_ylabel(\"Value of objective function\")"
   ]
  },
  {
   "cell_type": "markdown",
   "metadata": {
    "collapsed": true
   },
   "source": [
    "## Optimize implementation"
   ]
  },
  {
   "cell_type": "markdown",
   "metadata": {
    "collapsed": true
   },
   "source": [
    "*In [1] Section 4.5.2 p. 113-114 two strategies are proposed to speed up the computations: covariance updating\n",
    "and warm start. Implement either of these (or both, if you are motivated) to speed up your own algorithm*"
   ]
  },
  {
   "cell_type": "markdown",
   "metadata": {
    "collapsed": true
   },
   "source": [
    "**TODO all**"
   ]
  },
  {
   "cell_type": "markdown",
   "metadata": {
    "collapsed": true
   },
   "source": [
    "# Exercise two"
   ]
  },
  {
   "cell_type": "markdown",
   "metadata": {},
   "source": [
    "## Generate simulated data"
   ]
  },
  {
   "cell_type": "markdown",
   "metadata": {},
   "source": [
    "*Generate a simulated data set with 50 examples in each of 5 classes, i.e. 250 observations total. Each example should have 50 features. Be sure to add a mean shift to the observations in each class so that there are five distinct classes.*"
   ]
  },
  {
   "cell_type": "code",
   "execution_count": 60,
   "metadata": {
    "collapsed": false
   },
   "outputs": [
    {
     "data": {
      "text/plain": [
       "(250, 51)"
      ]
     },
     "execution_count": 60,
     "metadata": {},
     "output_type": "execute_result"
    }
   ],
   "source": [
    "num_examples = 50\n",
    "num_features = 50\n",
    "mean_vals = [0, 10, 20, 30, 40]\n",
    "np.random.seed(42)\n",
    "d = pd.DataFrame(np.vstack([np.random.normal(mean, \n",
    "                 size=(num_examples,num_features)) for mean in mean_vals]))\n",
    "d.insert(0, 'Class', np.repeat(['A','B','C','D','E'], num_examples))\n",
    "d.shape"
   ]
  },
  {
   "cell_type": "code",
   "execution_count": 61,
   "metadata": {
    "collapsed": false
   },
   "outputs": [
    {
     "data": {
      "text/html": [
       "<div>\n",
       "<table border=\"1\" class=\"dataframe\">\n",
       "  <thead>\n",
       "    <tr style=\"text-align: right;\">\n",
       "      <th></th>\n",
       "      <th>Class</th>\n",
       "      <th>0</th>\n",
       "      <th>1</th>\n",
       "      <th>2</th>\n",
       "      <th>3</th>\n",
       "      <th>4</th>\n",
       "      <th>5</th>\n",
       "      <th>6</th>\n",
       "      <th>7</th>\n",
       "      <th>8</th>\n",
       "      <th>...</th>\n",
       "      <th>40</th>\n",
       "      <th>41</th>\n",
       "      <th>42</th>\n",
       "      <th>43</th>\n",
       "      <th>44</th>\n",
       "      <th>45</th>\n",
       "      <th>46</th>\n",
       "      <th>47</th>\n",
       "      <th>48</th>\n",
       "      <th>49</th>\n",
       "    </tr>\n",
       "  </thead>\n",
       "  <tbody>\n",
       "    <tr>\n",
       "      <th>0</th>\n",
       "      <td>A</td>\n",
       "      <td>0.496714</td>\n",
       "      <td>-0.138264</td>\n",
       "      <td>0.647689</td>\n",
       "      <td>1.52303</td>\n",
       "      <td>-0.234153</td>\n",
       "      <td>-0.234137</td>\n",
       "      <td>1.579213</td>\n",
       "      <td>0.767435</td>\n",
       "      <td>-0.469474</td>\n",
       "      <td>...</td>\n",
       "      <td>0.738467</td>\n",
       "      <td>0.171368</td>\n",
       "      <td>-0.115648</td>\n",
       "      <td>-0.301104</td>\n",
       "      <td>-1.478522</td>\n",
       "      <td>-0.719844</td>\n",
       "      <td>-0.460639</td>\n",
       "      <td>1.057122</td>\n",
       "      <td>0.343618</td>\n",
       "      <td>-1.76304</td>\n",
       "    </tr>\n",
       "  </tbody>\n",
       "</table>\n",
       "<p>1 rows × 51 columns</p>\n",
       "</div>"
      ],
      "text/plain": [
       "  Class         0         1         2        3         4         5         6  \\\n",
       "0     A  0.496714 -0.138264  0.647689  1.52303 -0.234153 -0.234137  1.579213   \n",
       "\n",
       "          7         8   ...           40        41        42        43  \\\n",
       "0  0.767435 -0.469474   ...     0.738467  0.171368 -0.115648 -0.301104   \n",
       "\n",
       "         44        45        46        47        48       49  \n",
       "0 -1.478522 -0.719844 -0.460639  1.057122  0.343618 -1.76304  \n",
       "\n",
       "[1 rows x 51 columns]"
      ]
     },
     "execution_count": 61,
     "metadata": {},
     "output_type": "execute_result"
    }
   ],
   "source": [
    "d[:1]"
   ]
  },
  {
   "cell_type": "code",
   "execution_count": 66,
   "metadata": {
    "collapsed": false
   },
   "outputs": [
    {
     "data": {
      "text/plain": [
       "(250, 50)"
      ]
     },
     "execution_count": 66,
     "metadata": {},
     "output_type": "execute_result"
    }
   ],
   "source": [
    "d_values = d.values[:, 1:num_features+1].astype('float')\n",
    "d_values_centered = preprocessing.scale(d_values, with_std=False)\n",
    "d_values_centered.shape"
   ]
  },
  {
   "cell_type": "code",
   "execution_count": 65,
   "metadata": {
    "collapsed": false
   },
   "outputs": [
    {
     "data": {
      "text/plain": [
       "array([-19.49620261, -20.11054553, -19.31122118, -18.42769024,\n",
       "       -20.1806612 , -20.17597982, -18.40108378, -19.29299655,\n",
       "       -20.4443487 , -19.61552864, -20.49037565, -20.54287502,\n",
       "       -19.70697955, -21.78506828, -21.8221139 , -20.55230636,\n",
       "       -21.15546401, -19.66594363, -20.92061749, -21.49926869,\n",
       "       -18.68856949, -20.21782653, -19.81979138, -21.42437696,\n",
       "       -20.54725713, -19.82765915, -21.06061019, -19.68364608,\n",
       "       -20.60194582, -20.25672432, -20.60772055, -18.14535976,\n",
       "       -19.9694022 , -21.07131093, -19.18567134, -21.22753792,\n",
       "       -19.7918389 , -21.84700507, -21.30689878, -19.83616755,\n",
       "       -19.15937416, -19.89229984, -20.12960253, -20.22224917,\n",
       "       -21.50609712, -20.73388198, -20.41045607, -18.92783009,\n",
       "       -19.64283395, -21.72147284])"
      ]
     },
     "execution_count": 65,
     "metadata": {},
     "output_type": "execute_result"
    }
   ],
   "source": [
    "d_values_centered[0]"
   ]
  },
  {
   "cell_type": "markdown",
   "metadata": {},
   "source": [
    "## Compute principal component vectors and compare to sklearn"
   ]
  },
  {
   "cell_type": "markdown",
   "metadata": {},
   "source": [
    "*Modify your normalized Oja algorithm to output the average of the final ten iterations. Use your own normalized Oja algorithm to compute the first 3 principal component vectors on the 250 observations. Compare your results to the ones obtained with scikit-learn’s PCA algorithm. Print the principal components from both your Oja algorithm and from scikit- learn.*"
   ]
  },
  {
   "cell_type": "code",
   "execution_count": null,
   "metadata": {
    "collapsed": true
   },
   "outputs": [],
   "source": []
  },
  {
   "cell_type": "code",
   "execution_count": null,
   "metadata": {
    "collapsed": true
   },
   "outputs": [],
   "source": []
  },
  {
   "cell_type": "code",
   "execution_count": null,
   "metadata": {
    "collapsed": true
   },
   "outputs": [],
   "source": []
  },
  {
   "cell_type": "markdown",
   "metadata": {},
   "source": [
    "## Compute vectors to explain 95% of the variance"
   ]
  },
  {
   "cell_type": "markdown",
   "metadata": {},
   "source": [
    "*Use your own normalized Oja algorithm to compute the principal component vectors that allow one to explain 95% of the variance. This set of vectors should be the smallest possible set of vectors explaining 95% of the variance. Compare your results to the ones obtained with scikit-learn’s PCA algorithm. Print the principal components from both your Oja algorithm and from scikit-learn.*"
   ]
  },
  {
   "cell_type": "code",
   "execution_count": null,
   "metadata": {
    "collapsed": true
   },
   "outputs": [],
   "source": []
  },
  {
   "cell_type": "code",
   "execution_count": null,
   "metadata": {
    "collapsed": true
   },
   "outputs": [],
   "source": []
  },
  {
   "cell_type": "markdown",
   "metadata": {},
   "source": [
    "## Run Oja code on AWS"
   ]
  },
  {
   "cell_type": "markdown",
   "metadata": {},
   "source": [
    "*Re-launch all of the above computations on AWS. Include the following with your submission: a) screenshot with the output for each question, and b) a screenshot with the results of running the following two commands on your instance.*"
   ]
  },
  {
   "cell_type": "markdown",
   "metadata": {},
   "source": [
    "**TODO** Run on AWS and insert images as specified."
   ]
  },
  {
   "cell_type": "code",
   "execution_count": null,
   "metadata": {
    "collapsed": true
   },
   "outputs": [],
   "source": []
  }
 ],
 "metadata": {
  "kernelspec": {
   "display_name": "Python 3",
   "language": "python",
   "name": "python3"
  },
  "language_info": {
   "codemirror_mode": {
    "name": "ipython",
    "version": 3
   },
   "file_extension": ".py",
   "mimetype": "text/x-python",
   "name": "python",
   "nbconvert_exporter": "python",
   "pygments_lexer": "ipython3",
   "version": "3.6.0"
  }
 },
 "nbformat": 4,
 "nbformat_minor": 2
}
