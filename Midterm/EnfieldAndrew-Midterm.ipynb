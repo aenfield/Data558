{
 "cells": [
  {
   "cell_type": "code",
   "execution_count": 129,
   "metadata": {
    "collapsed": true
   },
   "outputs": [],
   "source": [
    "# general\n",
    "import numpy as np\n",
    "import pandas as pd\n",
    "import matplotlib.pyplot as plt\n",
    "import seaborn as sns\n",
    "from IPython.display import display\n",
    "\n",
    "%matplotlib inline\n",
    "\n",
    "from pylab import rcParams\n",
    "rcParams['figure.figsize'] = 8, 5\n",
    "\n",
    "# first used in exercise one\n",
    "import midterm as mt\n",
    "from sklearn import preprocessing # for scale\n",
    "from sklearn.model_selection import train_test_split\n",
    "from sklearn.model_selection import KFold\n",
    "from sklearn.metrics import mean_squared_error\n",
    "\n",
    "# first used in exercise two\n",
    "from sklearn.decomposition import PCA"
   ]
  },
  {
   "cell_type": "code",
   "execution_count": 130,
   "metadata": {
    "collapsed": false
   },
   "outputs": [],
   "source": [
    "# import importlib\n",
    "# importlib.reload(mt)"
   ]
  },
  {
   "cell_type": "markdown",
   "metadata": {},
   "source": [
    "# Exercise One"
   ]
  },
  {
   "cell_type": "markdown",
   "metadata": {},
   "source": [
    "## Derive the coordinate minimization formula"
   ]
  },
  {
   "cell_type": "markdown",
   "metadata": {},
   "source": [
    "![firstpage](cmm1.png)"
   ]
  },
  {
   "cell_type": "markdown",
   "metadata": {},
   "source": [
    "![secondpage](cmm2.png)"
   ]
  },
  {
   "cell_type": "markdown",
   "metadata": {},
   "source": [
    "![thirdpage](cmm3.png)"
   ]
  },
  {
   "cell_type": "markdown",
   "metadata": {},
   "source": [
    "## Implement coordinate descent"
   ]
  },
  {
   "cell_type": "markdown",
   "metadata": {},
   "source": [
    "I've submitted my implementation in the midterm.py file. I use this implementation in this notebook - I imported the module above and gave it the alias 'mt'. In addition, in case it helps understand how my implementation works, I've included the tests I wrote as part of doing the implementation. These are in the file midterm-test.py.\n",
    "\n",
    "In more detail, here's where the requested functions are implemented in midterm.py:\n",
    "\n",
    "* *Write a function that computes the solution to the partial minimization problem.* See the function minimize_beta_term (which calls the a_term and c_term functions).\n",
    "* *Write a function computeobj that computes and returns F(β) for any β.* See the function elasticnet_objective.\n",
    "* *Write a function cycliccoorddescent that implements the cyclic coordinate descent algorithm. The function takes as input the initial point and the maximum number of iterations. The stopping criterion is the maximum number of iterations.* See the function cycliccoorddescent. This function calls the function coorddescent, which handles the the main algorithm for both cyclic and random implementations - this function passes a sequential set of j values.\n",
    "* *Write a function pickcoord that samples uniformly from the set {1, . . . , d} .* I implemented this functionality in the get_sequence_of_js function. This function returns a list of values that define the specific beta values/coefficients to be minimized. When called with the random parameter equal to False, the function returns a sequential list of j values (i.e., [1 2 3 1 2 3 ...]). When called with random equal to True, the function samples uniformly from the set {1,...,d} and returns a list of j values built from these random selections.\n",
    "* *Write a function randcoorddescent that implements the randomized coordinate descent algo- rithm. The function takes as input the initial point and the maximum number of iterations. The stopping criterion is the maximum number of iterations.* See the function randcoorddescent. This function calls the function coorddescent, which handles the the main algorithm for both cyclic and random implementations - this function passes a set of j values that have been randomly chosen."
   ]
  },
  {
   "cell_type": "markdown",
   "metadata": {},
   "source": [
    "## Load and standardize data"
   ]
  },
  {
   "cell_type": "markdown",
   "metadata": {},
   "source": [
    "*Consider the Hitters dataset from [2]. You may download it from [here](https://raw. githubusercontent.com/selva86/datasets/master/Hitters.csv). Standardize the data (i.e., center the predictors and the outputs and divide them by their standard deviations).*"
   ]
  },
  {
   "cell_type": "code",
   "execution_count": 131,
   "metadata": {
    "collapsed": false
   },
   "outputs": [
    {
     "data": {
      "text/plain": [
       "(322, 20)"
      ]
     },
     "execution_count": 131,
     "metadata": {},
     "output_type": "execute_result"
    }
   ],
   "source": [
    "h = pd.read_csv('Hitters.csv')\n",
    "h.shape"
   ]
  },
  {
   "cell_type": "code",
   "execution_count": 132,
   "metadata": {
    "collapsed": false
   },
   "outputs": [
    {
     "data": {
      "text/plain": [
       "Index(['AtBat', 'Hits', 'HmRun', 'Runs', 'RBI', 'Walks', 'Years', 'CAtBat',\n",
       "       'CHits', 'CHmRun', 'CRuns', 'CRBI', 'CWalks', 'League', 'Division',\n",
       "       'PutOuts', 'Assists', 'Errors', 'Salary', 'NewLeague'],\n",
       "      dtype='object')"
      ]
     },
     "execution_count": 132,
     "metadata": {},
     "output_type": "execute_result"
    }
   ],
   "source": [
    "h.columns"
   ]
  },
  {
   "cell_type": "code",
   "execution_count": 133,
   "metadata": {
    "collapsed": false
   },
   "outputs": [
    {
     "data": {
      "text/plain": [
       "(263, 20)"
      ]
     },
     "execution_count": 133,
     "metadata": {},
     "output_type": "execute_result"
    }
   ],
   "source": [
    "# remove rows w/ empty values - i think this is only those w/ no salary\n",
    "h = h.dropna()\n",
    "h.shape"
   ]
  },
  {
   "cell_type": "code",
   "execution_count": 134,
   "metadata": {
    "collapsed": false
   },
   "outputs": [
    {
     "data": {
      "text/plain": [
       "(263, 23)"
      ]
     },
     "execution_count": 134,
     "metadata": {},
     "output_type": "execute_result"
    }
   ],
   "source": [
    "# convert categorical vars to dummy variables\n",
    "h = pd.get_dummies(h)\n",
    "h.shape"
   ]
  },
  {
   "cell_type": "code",
   "execution_count": 135,
   "metadata": {
    "collapsed": false
   },
   "outputs": [
    {
     "data": {
      "text/html": [
       "<div>\n",
       "<table border=\"1\" class=\"dataframe\">\n",
       "  <thead>\n",
       "    <tr style=\"text-align: right;\">\n",
       "      <th></th>\n",
       "      <th>AtBat</th>\n",
       "      <th>Hits</th>\n",
       "      <th>HmRun</th>\n",
       "      <th>Runs</th>\n",
       "      <th>RBI</th>\n",
       "      <th>Walks</th>\n",
       "      <th>Years</th>\n",
       "      <th>CAtBat</th>\n",
       "      <th>CHits</th>\n",
       "      <th>CHmRun</th>\n",
       "      <th>...</th>\n",
       "      <th>PutOuts</th>\n",
       "      <th>Assists</th>\n",
       "      <th>Errors</th>\n",
       "      <th>Salary</th>\n",
       "      <th>League_A</th>\n",
       "      <th>League_N</th>\n",
       "      <th>Division_E</th>\n",
       "      <th>Division_W</th>\n",
       "      <th>NewLeague_A</th>\n",
       "      <th>NewLeague_N</th>\n",
       "    </tr>\n",
       "  </thead>\n",
       "  <tbody>\n",
       "    <tr>\n",
       "      <th>1</th>\n",
       "      <td>315</td>\n",
       "      <td>81</td>\n",
       "      <td>7</td>\n",
       "      <td>24</td>\n",
       "      <td>38</td>\n",
       "      <td>39</td>\n",
       "      <td>14</td>\n",
       "      <td>3449</td>\n",
       "      <td>835</td>\n",
       "      <td>69</td>\n",
       "      <td>...</td>\n",
       "      <td>632</td>\n",
       "      <td>43</td>\n",
       "      <td>10</td>\n",
       "      <td>475.0</td>\n",
       "      <td>0</td>\n",
       "      <td>1</td>\n",
       "      <td>0</td>\n",
       "      <td>1</td>\n",
       "      <td>0</td>\n",
       "      <td>1</td>\n",
       "    </tr>\n",
       "  </tbody>\n",
       "</table>\n",
       "<p>1 rows × 23 columns</p>\n",
       "</div>"
      ],
      "text/plain": [
       "   AtBat  Hits  HmRun  Runs  RBI  Walks  Years  CAtBat  CHits  CHmRun  \\\n",
       "1    315    81      7    24   38     39     14    3449    835      69   \n",
       "\n",
       "      ...       PutOuts  Assists  Errors  Salary  League_A  League_N  \\\n",
       "1     ...           632       43      10   475.0         0         1   \n",
       "\n",
       "   Division_E  Division_W  NewLeague_A  NewLeague_N  \n",
       "1           0           1            0            1  \n",
       "\n",
       "[1 rows x 23 columns]"
      ]
     },
     "execution_count": 135,
     "metadata": {},
     "output_type": "execute_result"
    }
   ],
   "source": [
    "h[:1]"
   ]
  },
  {
   "cell_type": "code",
   "execution_count": 136,
   "metadata": {
    "collapsed": false
   },
   "outputs": [
    {
     "data": {
      "text/plain": [
       "((263, 22), (263,))"
      ]
     },
     "execution_count": 136,
     "metadata": {},
     "output_type": "execute_result"
    }
   ],
   "source": [
    "# split into features and the value to predict (X and y)\n",
    "# scale all features so each col has mean zero and std 1\n",
    "X_scaled = preprocessing.scale(h.drop('Salary', axis=1))\n",
    "y_scaled = preprocessing.scale(h['Salary']) \n",
    "\n",
    "(X_scaled.shape, y_scaled.shape)"
   ]
  },
  {
   "cell_type": "markdown",
   "metadata": {},
   "source": [
    "## Find best lambda via cross-validation"
   ]
  },
  {
   "cell_type": "markdown",
   "metadata": {},
   "source": [
    "*In the remainder, the iteration counter iter refers here to t/d, that is the effective number of passes over all coordinates. Set the maximum number of iterations to 1000. Set α = 0.9. Run your own implementation of cross-validation on the Hitters dataset to find the optimal value of λ.*"
   ]
  },
  {
   "cell_type": "markdown",
   "metadata": {},
   "source": [
    "My best value of lambda, from my own cross-validation implementation using MSE, is shown below."
   ]
  },
  {
   "cell_type": "code",
   "execution_count": 137,
   "metadata": {
    "collapsed": false
   },
   "outputs": [
    {
     "data": {
      "text/plain": [
       "(22, 22000)"
      ]
     },
     "execution_count": 137,
     "metadata": {},
     "output_type": "execute_result"
    }
   ],
   "source": [
    "# 1000 is a lot, but it's what the problem specifies; multiply by the number\n",
    "# of features to get to an effective number of iterations of 1000; note also\n",
    "# that per the discussion board we can choose a smaller number if we get to \n",
    "# convergence (I use a smaller number during cross-validation)\n",
    "feature_count = X_scaled.shape[1] \n",
    "actual_iteration_count = 1000 * feature_count\n",
    "(feature_count, actual_iteration_count)"
   ]
  },
  {
   "cell_type": "code",
   "execution_count": 138,
   "metadata": {
    "collapsed": false
   },
   "outputs": [],
   "source": [
    "def train_and_test_single_fold(X_full, y_full, train_index, test_index, lam, alpha, beta0=None):\n",
    "    \"\"\"\n",
    "    Train using the data identified by the indices in train_index, and then test\n",
    "    (and return MSE) using the data identified by the indices in test_index.\n",
    "    \"\"\"\n",
    "    beta_vals = mt.randcoorddescent(X_full[train_index], y_full[train_index], \n",
    "                                    lam, alpha, max_iter=500, beta0=beta0)\n",
    "\n",
    "    final_coefs = mt.get_final_coefs(beta_vals)\n",
    "    \n",
    "    return mean_squared_error(y_full[test_index], X_full[test_index].dot(final_coefs))"
   ]
  },
  {
   "cell_type": "code",
   "execution_count": 139,
   "metadata": {
    "collapsed": true
   },
   "outputs": [],
   "source": [
    "def train_and_test_for_all_folds(X_full, y_full, train_indices, test_indices, lam, alpha):\n",
    "    \"\"\"\n",
    "    Train and test for all folds - for now, 10 folds, hard-coded. Return the mean of the \n",
    "    set of MSE values from all folds.\"\"\"\n",
    "    mses = [train_and_test_single_fold(X_full, y_full, \n",
    "                                       train_indices[i], test_indices[i], lam, alpha) for i in range(10)]\n",
    "    return(np.mean(mses))"
   ]
  },
  {
   "cell_type": "code",
   "execution_count": 140,
   "metadata": {
    "collapsed": true
   },
   "outputs": [],
   "source": [
    "# get arrays with 10 sets of test and train indices - one for each fold\n",
    "kf = KFold(10, shuffle=True, random_state=42)\n",
    "\n",
    "train_indices_list = []\n",
    "test_indices_list = []\n",
    "for train_index, test_index in kf.split(X_scaled):\n",
    "    train_indices_list.append(train_index)\n",
    "    test_indices_list.append(test_index)\n",
    "    \n",
    "train_indices = np.array(train_indices_list)\n",
    "test_indices = np.array(test_indices_list)"
   ]
  },
  {
   "cell_type": "code",
   "execution_count": 141,
   "metadata": {
    "collapsed": false
   },
   "outputs": [
    {
     "data": {
      "text/plain": [
       "array([  1.00000000e-05,   3.68694506e-05,   1.35935639e-04,\n",
       "         5.01187234e-04,   1.84784980e-03,   6.81292069e-03,\n",
       "         2.51188643e-02,   9.26118728e-02,   3.41454887e-01,\n",
       "         1.25892541e+00])"
      ]
     },
     "execution_count": 141,
     "metadata": {},
     "output_type": "execute_result"
    }
   ],
   "source": [
    "lambdas = np.logspace(-5, 0.1, num=10)\n",
    "lambdas"
   ]
  },
  {
   "cell_type": "code",
   "execution_count": 142,
   "metadata": {
    "collapsed": true
   },
   "outputs": [],
   "source": [
    "alpha = 0.9"
   ]
  },
  {
   "cell_type": "code",
   "execution_count": 143,
   "metadata": {
    "collapsed": false
   },
   "outputs": [
    {
     "data": {
      "text/plain": [
       "[(1.0000000000000001e-05, 0.5564141819182381),\n",
       " (3.6869450645195736e-05, 0.56579255935647643),\n",
       " (0.00013593563908785255, 0.56176060731687394),\n",
       " (0.00050118723362727253, 0.55447248022397366),\n",
       " (0.0018478497974222907, 0.55604922128375844),\n",
       " (0.0068129206905796083, 0.56006598415882003),\n",
       " (0.025118864315095794, 0.56602121278760953),\n",
       " (0.092611872812879373, 0.57708114844317915),\n",
       " (0.34145488738336005, 0.63552501573478071),\n",
       " (1.2589254117941673, 0.99170675337388681)]"
      ]
     },
     "execution_count": 143,
     "metadata": {},
     "output_type": "execute_result"
    }
   ],
   "source": [
    "# and finally, do 10-fold cross validation for each value of lambda, and\n",
    "# show the mean of each set's MSEs\n",
    "mses_by_lambda = [train_and_test_for_all_folds(X_scaled, y_scaled, \n",
    "                        train_indices, test_indices, lam, alpha) for lam in lambdas]\n",
    "list(zip(lambdas, mses_by_lambda))"
   ]
  },
  {
   "cell_type": "markdown",
   "metadata": {},
   "source": [
    "Since a number of lambda values have very close to the same low average MSE, I'll choose 0.006812, which is the largest value of lambda - leading potentially more zeroed-out coefficients and so a simploer model - that has effectively the (same) lowest average MSE. "
   ]
  },
  {
   "cell_type": "code",
   "execution_count": 145,
   "metadata": {
    "collapsed": true
   },
   "outputs": [],
   "source": [
    "best_lam = 0.0068129206905796083"
   ]
  },
  {
   "cell_type": "markdown",
   "metadata": {},
   "source": [
    "## Run both implementations using the best value of lambda"
   ]
  },
  {
   "cell_type": "markdown",
   "metadata": {},
   "source": [
    "*Run cycliccoorddescent and randcoorddescent on the training set of the Hitters dataset for that value of λ found by your own implementation of cross-validation. Plot the curves of the objective values F(βt) for both algorithms versus the iteration counter iter (use different colors). What do you observe?*"
   ]
  },
  {
   "cell_type": "markdown",
   "metadata": {},
   "source": [
    "The curves of the objective function for the cyclic and random versions of my implementation are below. Zoomed out - with 22,000 iterations - they look the same. When I zoom in and only show the first 25 effective iterations it's easier to see that the random coordinate descent implementation drops to something closer to the lowest objective function value more quickly."
   ]
  },
  {
   "cell_type": "code",
   "execution_count": 146,
   "metadata": {
    "collapsed": true
   },
   "outputs": [],
   "source": [
    "X_s_train, X_s_test, y_s_train, y_s_test = train_test_split(X_scaled,\n",
    "                                                            y_scaled,\n",
    "                                                            test_size=0.10, \n",
    "                                                            random_state=42)"
   ]
  },
  {
   "cell_type": "code",
   "execution_count": 147,
   "metadata": {
    "collapsed": false
   },
   "outputs": [
    {
     "data": {
      "text/plain": [
       "array([-0.59483499,  0.63289046,  0.01226144, -0.01836527,  0.        ,\n",
       "        0.25394428, -0.09559509, -0.17218187,  0.        ,  0.07080355,\n",
       "        0.67276549,  0.35166678, -0.38771906,  0.17399649,  0.08186762,\n",
       "       -0.03939991, -0.02816504,  0.01712241,  0.08223151, -0.04888765,\n",
       "        0.00337635, -0.00250086])"
      ]
     },
     "execution_count": 147,
     "metadata": {},
     "output_type": "execute_result"
    }
   ],
   "source": [
    "betas_cyclic = mt.cycliccoorddescent(X_scaled, y_scaled, best_lam, alpha, \n",
    "                                     max_iter=actual_iteration_count)\n",
    "mt.get_final_coefs(betas_cyclic)"
   ]
  },
  {
   "cell_type": "code",
   "execution_count": 148,
   "metadata": {
    "collapsed": false
   },
   "outputs": [
    {
     "data": {
      "text/plain": [
       "array([-0.59494834,  0.63297514,  0.01223474, -0.01830823,  0.        ,\n",
       "        0.25394882, -0.0956927 , -0.1713451 ,  0.        ,  0.07106199,\n",
       "        0.6722035 ,  0.35121048, -0.38767635,  0.1740001 ,  0.08184911,\n",
       "       -0.03939844, -0.0295728 ,  0.01570117,  0.10150963, -0.02958121,\n",
       "        0.00482197, -0.00104587])"
      ]
     },
     "execution_count": 148,
     "metadata": {},
     "output_type": "execute_result"
    }
   ],
   "source": [
    "betas_random = mt.randcoorddescent(X_scaled, y_scaled, best_lam, alpha,\n",
    "                                   max_iter=actual_iteration_count)\n",
    "mt.get_final_coefs(betas_random)"
   ]
  },
  {
   "cell_type": "code",
   "execution_count": 149,
   "metadata": {
    "collapsed": false
   },
   "outputs": [
    {
     "data": {
      "text/html": [
       "<div>\n",
       "<table border=\"1\" class=\"dataframe\">\n",
       "  <thead>\n",
       "    <tr style=\"text-align: right;\">\n",
       "      <th></th>\n",
       "      <th>cyclic</th>\n",
       "      <th>random</th>\n",
       "    </tr>\n",
       "  </thead>\n",
       "  <tbody>\n",
       "    <tr>\n",
       "      <th>0</th>\n",
       "      <td>1.000000</td>\n",
       "      <td>1.000000</td>\n",
       "    </tr>\n",
       "    <tr>\n",
       "      <th>1</th>\n",
       "      <td>0.846672</td>\n",
       "      <td>0.964134</td>\n",
       "    </tr>\n",
       "    <tr>\n",
       "      <th>2</th>\n",
       "      <td>0.843278</td>\n",
       "      <td>0.963996</td>\n",
       "    </tr>\n",
       "  </tbody>\n",
       "</table>\n",
       "</div>"
      ],
      "text/plain": [
       "     cyclic    random\n",
       "0  1.000000  1.000000\n",
       "1  0.846672  0.964134\n",
       "2  0.843278  0.963996"
      ]
     },
     "execution_count": 149,
     "metadata": {},
     "output_type": "execute_result"
    }
   ],
   "source": [
    "obj_values = pd.DataFrame({\n",
    "    'cyclic': betas_cyclic.apply(lambda r: mt.elasticnet_objective(r.as_matrix(),\n",
    "                                    X_scaled, y_scaled, best_lam, alpha), axis=1),\n",
    "    'random': betas_random.apply(lambda r: mt.elasticnet_objective(r.as_matrix(),\n",
    "                                    X_scaled, y_scaled, best_lam, alpha), axis=1)\n",
    "})\n",
    "obj_values[:3]"
   ]
  },
  {
   "cell_type": "code",
   "execution_count": 150,
   "metadata": {
    "collapsed": true
   },
   "outputs": [],
   "source": [
    "def only_full_iterations(df):\n",
    "    \"\"\"Return a filtered dataframe with only rows for \n",
    "    complete iterations.\"\"\"\n",
    "    return df[::feature_count].reset_index(drop=True)"
   ]
  },
  {
   "cell_type": "code",
   "execution_count": 151,
   "metadata": {
    "collapsed": false
   },
   "outputs": [
    {
     "data": {
      "text/plain": [
       "<matplotlib.text.Text at 0x115067d68>"
      ]
     },
     "execution_count": 151,
     "metadata": {},
     "output_type": "execute_result"
    },
    {
     "data": {
      "image/png": "[encoded data removed]",
      "text/plain": [
       "<matplotlib.figure.Figure at 0x11481dc88>"
      ]
     },
     "metadata": {},
     "output_type": "display_data"
    }
   ],
   "source": [
    "ax = only_full_iterations(obj_values).plot(title=\"Objective function value per effective iteration\")\n",
    "ax.set_xlabel(\"Effective iteration\")\n",
    "ax.set_ylabel(\"Value of objective function\")"
   ]
  },
  {
   "cell_type": "markdown",
   "metadata": {},
   "source": [
    "It's hard to see if the random implementation converges more quickly in the above plot because so much of the plot shows a flat line. I'm curious, so I'll plot just the first iterations here."
   ]
  },
  {
   "cell_type": "code",
   "execution_count": 152,
   "metadata": {
    "collapsed": false
   },
   "outputs": [
    {
     "data": {
      "text/plain": [
       "<matplotlib.text.Text at 0x1135629e8>"
      ]
     },
     "execution_count": 152,
     "metadata": {},
     "output_type": "execute_result"
    },
    {
     "data": {
      "image/png": "[encoded data removed]",
      "text/plain": [
       "<matplotlib.figure.Figure at 0x113544b00>"
      ]
     },
     "metadata": {},
     "output_type": "display_data"
    }
   ],
   "source": [
    "ax = only_full_iterations(obj_values)[:25].plot(title=\"Objective function value per effective iteration\")\n",
    "ax.set_xlabel(\"Effective iteration\")\n",
    "ax.set_ylabel(\"Value of objective function\")"
   ]
  },
  {
   "cell_type": "markdown",
   "metadata": {
    "collapsed": true
   },
   "source": [
    "## Optimize implementation"
   ]
  },
  {
   "cell_type": "markdown",
   "metadata": {
    "collapsed": true
   },
   "source": [
    "*In [1] Section 4.5.2 p. 113-114 two strategies are proposed to speed up the computations: covariance updating\n",
    "and warm start. Implement either of these (or both, if you are motivated) to speed up your own algorithm*"
   ]
  },
  {
   "cell_type": "markdown",
   "metadata": {
    "collapsed": true
   },
   "source": [
    "I'm implementing the warm start optimization here. I've updated my coordinate descent implementation takes an optional parameter called beta0 that, if provided, is used as the starting value for the coefficients (if not provided, the implementation just uses the zero vector, as it did without warm start)."
   ]
  },
  {
   "cell_type": "markdown",
   "metadata": {},
   "source": [
    "First, we need to get $\\lambda_0$, which I believe is the largest lambda value that doesn't yield an empty model with all coefficients zeroed out."
   ]
  },
  {
   "cell_type": "code",
   "execution_count": 153,
   "metadata": {
    "collapsed": false
   },
   "outputs": [
    {
     "data": {
      "text/plain": [
       "0.56696568561765237"
      ]
     },
     "execution_count": 153,
     "metadata": {},
     "output_type": "execute_result"
    }
   ],
   "source": [
    "lam0 = (1 / len(X_scaled)) * np.max(X_scaled.T.dot(y_scaled))\n",
    "lam0"
   ]
  },
  {
   "cell_type": "markdown",
   "metadata": {},
   "source": [
    "Note: If I try a value just about the above lambda I think the text is saying i should get a zero model... I don't. the above gives me about four non-zero coefficients (with an alpha of 1 so i'm full-on lasso with my elastic net implementation), and I can go up a bit further before I get to all zero coefficients. Why? I could be calculating the lambda_0 value incorrectly somehow, or not using it with my implementation correctly, or have an implementation with other errors, or something else."
   ]
  },
  {
   "cell_type": "markdown",
   "metadata": {},
   "source": [
    "So, we'll get our set of warm start lambda values starting at $\\lambda_0$ and going to nearly zero. The numpy logspace function takes the base 10 exponents as params, so we use np.log10 to convert our $\\lambda_0$ and nearly zero values before calling logspace."
   ]
  },
  {
   "cell_type": "code",
   "execution_count": 154,
   "metadata": {
    "collapsed": false
   },
   "outputs": [
    {
     "data": {
      "text/plain": [
       "array([  5.66965686e-01,   4.67550197e-02,   3.85566874e-03,\n",
       "         3.17959045e-04,   2.62206017e-05,   2.16229091e-06,\n",
       "         1.78314061e-07,   1.47047302e-08,   1.21263062e-09,\n",
       "         1.00000000e-10])"
      ]
     },
     "execution_count": 154,
     "metadata": {},
     "output_type": "execute_result"
    }
   ],
   "source": [
    "warmstart_lambdas = np.logspace(np.log10(lam0), np.log10(1e-10), num=10)\n",
    "warmstart_lambdas"
   ]
  },
  {
   "cell_type": "markdown",
   "metadata": {},
   "source": [
    "And then we can get a set of coefficients for each value of lambda, using the coefficients for the previous lambda as the warm start coefficient for each subsequent value of lambda.\n",
    "\n",
    "Note that with the current coordinate descent implementation, which uses only the number of iterations as a stopping point, this warm start approach won't actually in the end speed things up. To take advantage of the starting coefficients that are closer to the converged coefficients, I would need to update the stopping criteria with something that stops quickly if the solution has already converged - for example, code that looks at how much the objective value is changing and stops when the delta becomes very small."
   ]
  },
  {
   "cell_type": "code",
   "execution_count": 155,
   "metadata": {
    "collapsed": false
   },
   "outputs": [
    {
     "name": "stdout",
     "output_type": "stream",
     "text": [
      "lambda: 0.5669656856176524\n",
      "[ 0.          0.07829781  0.          0.          0.          0.03164642\n",
      "  0.          0.          0.          0.          0.06154196  0.1991093   0.\n",
      "  0.          0.          0.          0.          0.          0.          0.\n",
      "  0.          0.        ]\n",
      "lambda: 0.046755019708188884\n",
      "[ 0.          0.1993938   0.          0.          0.          0.10995739\n",
      "  0.          0.          0.03860334  0.03161367  0.13170916  0.25890056\n",
      "  0.          0.1451513   0.         -0.00970549 -0.00111211  0.01829923\n",
      "  0.         -0.12740611  0.          0.        ]\n",
      "lambda: 0.003855668735104611\n",
      "[-0.38939575  0.43266743 -0.00364565  0.03995799  0.01745007  0.19489505\n",
      " -0.14431893 -0.05871347  0.17946699  0.07965743  0.28271344  0.31462135\n",
      " -0.20369387  0.16799404  0.07125795 -0.05310011 -0.03126487  0.02428829\n",
      "  0.01675967 -0.12356384  0.00935441 -0.01008866]\n",
      "lambda: 0.0003179590445613576\n",
      "[-0.55503002  0.55186506  0.00508953  0.02028719  0.00702656  0.25192015\n",
      " -0.14866316 -0.12462101  0.22075469  0.08771881  0.40553842  0.3573862\n",
      " -0.35949244  0.17438413  0.09139807 -0.05672876 -0.03570028  0.03116451\n",
      "  0.0164317  -0.12303795  0.01502107 -0.01827141]\n",
      "lambda: 2.6220601655403476e-05\n",
      "[-0.62681591  0.63669176  0.02264651 -0.01269649 -0.0094995   0.27371118\n",
      " -0.13868702 -0.2047089   0.23478828  0.10115901  0.50508386  0.34350397\n",
      " -0.40203775  0.17383194  0.10183402 -0.05548472 -0.03828609  0.02982411\n",
      "  0.01455446 -0.12310057  0.01347723 -0.01951191]\n",
      "lambda: 2.162290907999865e-06\n",
      "[-0.66130575  0.68615947  0.03620182 -0.03907189 -0.0187578   0.28540246\n",
      " -0.13338841 -0.27532438  0.25193812  0.10262177  0.58321513  0.32924945\n",
      " -0.42279385  0.17493128  0.10387667 -0.05297534 -0.0391529   0.02837145\n",
      "  0.01297557 -0.12324122  0.01244466 -0.02003063]\n",
      "lambda: 1.783140612967348e-07\n",
      "[-0.67390108  0.71896558  0.04601375 -0.06825497 -0.02636225  0.29490061\n",
      " -0.11597835 -0.35097175  0.24486346  0.10550793  0.65240422  0.33247053\n",
      " -0.43522724  0.17546037  0.10783316 -0.05261665 -0.03959805  0.02815278\n",
      "  0.01277118 -0.12261155  0.01327915 -0.01866044]\n",
      "lambda: 1.4704730218538049e-08\n",
      "[-0.68139052  0.7403111   0.04888016 -0.07972422 -0.03158264  0.29346114\n",
      " -0.09580471 -0.42920788  0.23973734  0.10417774  0.71961923  0.34244517\n",
      " -0.44301179  0.17592849  0.10949938 -0.05068407 -0.04046248  0.02780868\n",
      "  0.01182953 -0.1220041   0.01243858 -0.01810609]\n",
      "lambda: 1.2126306205328158e-09\n",
      "[-0.68610846  0.74732723  0.05266536 -0.08889463 -0.03194362  0.29891269\n",
      " -0.08960387 -0.47431231  0.23526217  0.09318252  0.76831675  0.35664311\n",
      " -0.4532177   0.17620145  0.11104793 -0.05043809 -0.04133897  0.02705137\n",
      "  0.01150102 -0.12167745  0.01263012 -0.01779518]\n",
      "lambda: 1e-10\n",
      "[-0.68574467  0.75161907  0.05632666 -0.09746748 -0.0325026   0.30029903\n",
      " -0.08568204 -0.51873538  0.2313279   0.0824829   0.80774118  0.37409055\n",
      " -0.45875823  0.17584662  0.11221822 -0.05042699 -0.04114533  0.0273434\n",
      "  0.01105578 -0.12165086  0.0122474  -0.01783868]\n"
     ]
    }
   ],
   "source": [
    "starting_beta = np.zeros(feature_count) # start at zero the first time\n",
    "\n",
    "for lam in warmstart_lambdas:\n",
    "    # use 1 for elastic net to get full on lasso, at least for this experiment\n",
    "    beta_vals = mt.randcoorddescent(X_scaled, y_scaled, lam, 1, beta0=starting_beta)\n",
    "    final_coefs = mt.get_final_coefs(beta_vals)\n",
    "    print(\"lambda: {}\".format(lam))\n",
    "    print(final_coefs)\n",
    "    \n",
    "    # and use the current final coefs as the starting point for the next lambda val\n",
    "    starting_beta = final_coefs"
   ]
  },
  {
   "cell_type": "markdown",
   "metadata": {
    "collapsed": true
   },
   "source": [
    "# Exercise two"
   ]
  },
  {
   "cell_type": "markdown",
   "metadata": {},
   "source": [
    "## Generate simulated data"
   ]
  },
  {
   "cell_type": "markdown",
   "metadata": {},
   "source": [
    "*Generate a simulated data set with 50 examples in each of 5 classes, i.e. 250 observations total. Each example should have 50 features. Be sure to add a mean shift to the observations in each class so that there are five distinct classes.*"
   ]
  },
  {
   "cell_type": "code",
   "execution_count": 156,
   "metadata": {
    "collapsed": false
   },
   "outputs": [
    {
     "data": {
      "text/plain": [
       "(250, 51)"
      ]
     },
     "execution_count": 156,
     "metadata": {},
     "output_type": "execute_result"
    }
   ],
   "source": [
    "num_examples = 50\n",
    "num_features = 50\n",
    "mean_vals = [0, 1.5, 3, 4.5, 6]\n",
    "np.random.seed(42)\n",
    "d = pd.DataFrame(np.vstack([np.random.normal(mean, \n",
    "                 size=(num_examples,num_features)) for mean in mean_vals]))\n",
    "d.insert(0, 'Class', np.repeat(['A','B','C','D','E'], num_examples))\n",
    "d.shape"
   ]
  },
  {
   "cell_type": "code",
   "execution_count": 157,
   "metadata": {
    "collapsed": false
   },
   "outputs": [
    {
     "data": {
      "text/html": [
       "<div>\n",
       "<table border=\"1\" class=\"dataframe\">\n",
       "  <thead>\n",
       "    <tr style=\"text-align: right;\">\n",
       "      <th></th>\n",
       "      <th>Class</th>\n",
       "      <th>0</th>\n",
       "      <th>1</th>\n",
       "      <th>2</th>\n",
       "      <th>3</th>\n",
       "      <th>4</th>\n",
       "      <th>5</th>\n",
       "      <th>6</th>\n",
       "      <th>7</th>\n",
       "      <th>8</th>\n",
       "      <th>...</th>\n",
       "      <th>40</th>\n",
       "      <th>41</th>\n",
       "      <th>42</th>\n",
       "      <th>43</th>\n",
       "      <th>44</th>\n",
       "      <th>45</th>\n",
       "      <th>46</th>\n",
       "      <th>47</th>\n",
       "      <th>48</th>\n",
       "      <th>49</th>\n",
       "    </tr>\n",
       "  </thead>\n",
       "  <tbody>\n",
       "    <tr>\n",
       "      <th>0</th>\n",
       "      <td>A</td>\n",
       "      <td>0.496714</td>\n",
       "      <td>-0.138264</td>\n",
       "      <td>0.647689</td>\n",
       "      <td>1.52303</td>\n",
       "      <td>-0.234153</td>\n",
       "      <td>-0.234137</td>\n",
       "      <td>1.579213</td>\n",
       "      <td>0.767435</td>\n",
       "      <td>-0.469474</td>\n",
       "      <td>...</td>\n",
       "      <td>0.738467</td>\n",
       "      <td>0.171368</td>\n",
       "      <td>-0.115648</td>\n",
       "      <td>-0.301104</td>\n",
       "      <td>-1.478522</td>\n",
       "      <td>-0.719844</td>\n",
       "      <td>-0.460639</td>\n",
       "      <td>1.057122</td>\n",
       "      <td>0.343618</td>\n",
       "      <td>-1.76304</td>\n",
       "    </tr>\n",
       "  </tbody>\n",
       "</table>\n",
       "<p>1 rows × 51 columns</p>\n",
       "</div>"
      ],
      "text/plain": [
       "  Class         0         1         2        3         4         5         6  \\\n",
       "0     A  0.496714 -0.138264  0.647689  1.52303 -0.234153 -0.234137  1.579213   \n",
       "\n",
       "          7         8   ...           40        41        42        43  \\\n",
       "0  0.767435 -0.469474   ...     0.738467  0.171368 -0.115648 -0.301104   \n",
       "\n",
       "         44        45        46        47        48       49  \n",
       "0 -1.478522 -0.719844 -0.460639  1.057122  0.343618 -1.76304  \n",
       "\n",
       "[1 rows x 51 columns]"
      ]
     },
     "execution_count": 157,
     "metadata": {},
     "output_type": "execute_result"
    }
   ],
   "source": [
    "d[:1]"
   ]
  },
  {
   "cell_type": "code",
   "execution_count": 158,
   "metadata": {
    "collapsed": false
   },
   "outputs": [
    {
     "data": {
      "text/plain": [
       "(250, 50)"
      ]
     },
     "execution_count": 158,
     "metadata": {},
     "output_type": "execute_result"
    }
   ],
   "source": [
    "d_values = d.values[:, 1:num_features+1].astype('float')\n",
    "d_values_centered = preprocessing.scale(d_values, with_std=False)\n",
    "d_values_centered.shape"
   ]
  },
  {
   "cell_type": "code",
   "execution_count": 159,
   "metadata": {
    "collapsed": false
   },
   "outputs": [
    {
     "data": {
      "text/plain": [
       "array([-2.49620261, -3.11054553, -2.31122118, -1.42769024, -3.1806612 ,\n",
       "       -3.17597982, -1.40108378, -2.29299655, -3.4443487 , -2.61552864,\n",
       "       -3.49037565, -3.54287502, -2.70697955, -4.78506828, -4.8221139 ,\n",
       "       -3.55230636, -4.15546401, -2.66594363, -3.92061749, -4.49926869,\n",
       "       -1.68856949, -3.21782653, -2.81979138, -4.42437696, -3.54725713,\n",
       "       -2.82765915, -4.06061019, -2.68364608, -3.60194582, -3.25672432,\n",
       "       -3.60772055, -1.14535976, -2.9694022 , -4.07131093, -2.18567134,\n",
       "       -4.22753792, -2.7918389 , -4.84700507, -4.30689878, -2.83616755,\n",
       "       -2.15937416, -2.89229984, -3.12960253, -3.22224917, -4.50609712,\n",
       "       -3.73388198, -3.41045607, -1.92783009, -2.64283395, -4.72147284])"
      ]
     },
     "execution_count": 159,
     "metadata": {},
     "output_type": "execute_result"
    }
   ],
   "source": [
    "d_values_centered[0]"
   ]
  },
  {
   "cell_type": "markdown",
   "metadata": {},
   "source": [
    "## Compute principal component vectors and compare to sklearn"
   ]
  },
  {
   "cell_type": "markdown",
   "metadata": {},
   "source": [
    "*Modify your normalized Oja algorithm to output the average of the final ten iterations. Use your own normalized Oja algorithm to compute the first 3 principal component vectors on the 250 observations. Compare your results to the ones obtained with scikit-learn’s PCA algorithm. Print the principal components from both your Oja algorithm and from scikit- learn.*"
   ]
  },
  {
   "cell_type": "markdown",
   "metadata": {},
   "source": [
    "I modified my implementation to return the average of the final ten iterations for each principal component vector. The implementation is in the already-imported midterm module, aliased as 'mt'. The top-level function in the implementation is oja_fit, which takes the data and a number of components, and calls oja and deflate appropriately so that it can return the requested set of principal component vectors (and, in the new-and-improved code, the eigenvalues and all lambda values)."
   ]
  },
  {
   "cell_type": "markdown",
   "metadata": {},
   "source": [
    "My vectors aren't the same as the vectors returned by sklearn. Even so, when I use my vectors to transform the data (in the next section), I do get what look to be separated values. Even so, I believe I should get the same values as sklearn. If I had more time to work on this, the first thing I would do is to check different options for the step parameters, to see if and how they affect convergence and the resulting components."
   ]
  },
  {
   "cell_type": "code",
   "execution_count": 160,
   "metadata": {
    "collapsed": false
   },
   "outputs": [],
   "source": [
    "np.random.seed(42)\n",
    "pca_vectors_mine, eigenvals, all_lambdas = mt.oja_fit(d_values_centered, 3, 0.001, 2, 500)"
   ]
  },
  {
   "cell_type": "code",
   "execution_count": 161,
   "metadata": {
    "collapsed": false
   },
   "outputs": [
    {
     "name": "stdout",
     "output_type": "stream",
     "text": [
      "(3, 50) (3,) (3, 500)\n"
     ]
    }
   ],
   "source": [
    "print(pca_vectors_mine.shape, eigenvals.shape, all_lambdas.shape)"
   ]
  },
  {
   "cell_type": "code",
   "execution_count": 162,
   "metadata": {
    "collapsed": false
   },
   "outputs": [
    {
     "data": {
      "text/plain": [
       "array([[-0.09813747, -0.12353179, -0.08275335, -0.03018644, -0.13566331,\n",
       "        -0.13256877, -0.03629411, -0.07712304, -0.14370394, -0.08655488,\n",
       "        -0.14668615, -0.14444856, -0.10160648, -0.22656392, -0.21234143,\n",
       "        -0.14888264, -0.17760411, -0.1051564 , -0.17455267, -0.19909342,\n",
       "        -0.03909394, -0.13313378, -0.11500881, -0.1974808 , -0.15149413,\n",
       "        -0.11162656, -0.18293648, -0.09262079, -0.14918608, -0.13134868,\n",
       "        -0.15164504, -0.02963683, -0.11775   , -0.1782208 , -0.07287215,\n",
       "        -0.18361408, -0.10763083, -0.22327931, -0.19434609, -0.11174522,\n",
       "        -0.07929728, -0.10684167, -0.12830789, -0.13529651, -0.20468958,\n",
       "        -0.16296384, -0.14934412, -0.07013369, -0.09818444, -0.21332711],\n",
       "       [ 0.09213919, -0.0031373 ,  0.11141134,  0.25247706, -0.00912486,\n",
       "        -0.01596356,  0.26019114,  0.13519042, -0.05244876,  0.10282576,\n",
       "        -0.04792379, -0.04648669,  0.05117736, -0.26866084, -0.24180678,\n",
       "        -0.06566925, -0.13363059,  0.07264878, -0.11806779, -0.19277428,\n",
       "         0.24778199, -0.01991591,  0.03479111, -0.19786509, -0.0652142 ,\n",
       "         0.03400746, -0.15377235,  0.07245214, -0.07411016, -0.02297484,\n",
       "        -0.06859683,  0.31079876,  0.01546095, -0.1423358 ,  0.14755722,\n",
       "        -0.16408564,  0.0533327 , -0.2772929 , -0.18234331,  0.05657563,\n",
       "         0.1291143 ,  0.04975375,  0.005579  , -0.02648826, -0.20414203,\n",
       "        -0.08877316, -0.04525939,  0.18416568,  0.07073328, -0.24467726],\n",
       "       [ 0.07258939, -0.0218025 ,  0.0948384 ,  0.2244636 , -0.03612942,\n",
       "        -0.03617552,  0.23289941,  0.11263686, -0.07093269,  0.07935668,\n",
       "        -0.07039311, -0.07033317,  0.03434751, -0.28522738, -0.25695373,\n",
       "        -0.08489078, -0.15157531,  0.04488914, -0.13589067, -0.21079146,\n",
       "         0.216134  , -0.03449515,  0.00889748, -0.21250342, -0.0817709 ,\n",
       "         0.01536773, -0.17204032,  0.05433963, -0.09045799, -0.0448373 ,\n",
       "        -0.09058731,  0.27312024, -0.00298007, -0.15828115,  0.12092326,\n",
       "        -0.18255575,  0.0298356 , -0.2919383 , -0.19842536,  0.02753506,\n",
       "         0.10843928,  0.0238421 , -0.01839477, -0.04570839, -0.22049854,\n",
       "        -0.10839205, -0.06988484,  0.15560154,  0.04967811, -0.26247449]])"
      ]
     },
     "execution_count": 162,
     "metadata": {},
     "output_type": "execute_result"
    }
   ],
   "source": [
    "pca_vectors_mine"
   ]
  },
  {
   "cell_type": "code",
   "execution_count": 163,
   "metadata": {
    "collapsed": false
   },
   "outputs": [
    {
     "data": {
      "text/plain": [
       "array([[-0.14626921, -0.13696733, -0.13822931, -0.13306571, -0.14546635,\n",
       "        -0.13989376, -0.14462336, -0.1375427 , -0.1390319 , -0.13622898,\n",
       "        -0.14349811, -0.14076473, -0.13348718, -0.14554114, -0.14010643,\n",
       "        -0.14107633, -0.14585557, -0.14452166, -0.14695032, -0.14382927,\n",
       "        -0.13980499, -0.14005139, -0.13932057, -0.14136208, -0.1431205 ,\n",
       "        -0.14005829, -0.14316148, -0.13308255, -0.13828971, -0.13686787,\n",
       "        -0.14114567, -0.15161587, -0.13829576, -0.14258304, -0.13807875,\n",
       "        -0.13778224, -0.14086929, -0.13981586, -0.14472255, -0.14548839,\n",
       "        -0.13770503, -0.13819986, -0.14326373, -0.14216992, -0.14826864,\n",
       "        -0.1467505 , -0.14639755, -0.14892919, -0.13830377, -0.13965711],\n",
       "       [ 0.06449019, -0.03191242, -0.20098416, -0.01594992,  0.02088346,\n",
       "        -0.07633151,  0.21011137, -0.24900575,  0.18718307, -0.08461287,\n",
       "        -0.07513274,  0.02983775,  0.08041682, -0.20045864, -0.09912717,\n",
       "         0.0501082 ,  0.22547261,  0.00501756, -0.0320576 , -0.17788327,\n",
       "         0.05064192, -0.02914277, -0.0042566 , -0.01466544, -0.34897347,\n",
       "         0.13100372,  0.41199356, -0.03149774, -0.13186001, -0.09572272,\n",
       "         0.0237375 ,  0.08583061,  0.05928392, -0.19644262, -0.08602794,\n",
       "         0.02269395, -0.09578078, -0.22349756, -0.02619908,  0.05173324,\n",
       "         0.05050566,  0.26368429,  0.0894474 ,  0.0551013 ,  0.03065625,\n",
       "        -0.01033689,  0.28666158,  0.12551824, -0.08300693, -0.03483081],\n",
       "       [ 0.09623904,  0.04944048,  0.16113276,  0.03435622, -0.1146986 ,\n",
       "        -0.22124298, -0.05952305,  0.2297129 ,  0.01599637,  0.12855853,\n",
       "        -0.10273738, -0.16904136, -0.02935668,  0.20406224, -0.11993844,\n",
       "         0.18432695, -0.19219745,  0.09567039,  0.05214485,  0.00523024,\n",
       "         0.09473631, -0.22875965,  0.02173263, -0.25041145, -0.31578502,\n",
       "         0.03775785, -0.07629735, -0.05736344,  0.00697624,  0.00198379,\n",
       "         0.18017281, -0.0531906 , -0.06451191, -0.00442905,  0.24298863,\n",
       "         0.30248714, -0.08021132, -0.049821  , -0.06753186,  0.25067612,\n",
       "        -0.0383017 , -0.16521644,  0.0990252 , -0.04386327, -0.17440184,\n",
       "        -0.02941642,  0.25828507,  0.0361087 , -0.07809411,  0.01021743]])"
      ]
     },
     "execution_count": 163,
     "metadata": {},
     "output_type": "execute_result"
    }
   ],
   "source": [
    "pca_sklearn = PCA(3, svd_solver='full')\n",
    "pca_sklearn.fit(d_values_centered)\n",
    "pca_sklearn.components_[:3]"
   ]
  },
  {
   "cell_type": "markdown",
   "metadata": {},
   "source": [
    "## Compute vectors to explain 95% of the variance"
   ]
  },
  {
   "cell_type": "markdown",
   "metadata": {},
   "source": [
    "*Use your own normalized Oja algorithm to compute the principal component vectors that allow one to explain 95% of the variance. This set of vectors should be the smallest possible set of vectors explaining 95% of the variance. Compare your results to the ones obtained with scikit-learn’s PCA algorithm. Print the principal components from both your Oja algorithm and from scikit-learn.*"
   ]
  },
  {
   "cell_type": "markdown",
   "metadata": {},
   "source": [
    "I calculate the proportion of variance explained using the eigenvalues associated with each principal component vector. In the example below I retrieve the first 10 principal components - at this point each successive component is contributing close to zero additional variance, so it's ok to stop - and then divide the cumulative sums of the eigenvalues to that point by the total of all of the eigenvalues. With this approach I see that I can explain 99.9% of the variance with the first two principal components. The sklearn implementation requires 28 vectors to explain 95% of the variance - it gets 82% of the variance with the first component, compared to my implementation which gets 89% of the variance - and then takes the next 27 components to get the remaining 13% to get to 95%."
   ]
  },
  {
   "cell_type": "code",
   "execution_count": 164,
   "metadata": {
    "collapsed": false
   },
   "outputs": [
    {
     "data": {
      "text/plain": [
       "(10, 50)"
      ]
     },
     "execution_count": 164,
     "metadata": {},
     "output_type": "execute_result"
    }
   ],
   "source": [
    "np.random.seed(42)\n",
    "how_many_vectors = 10\n",
    "pca_vectors_mine_more, eigenvals, all_lambdas = mt.oja_fit(d_values_centered, how_many_vectors, 0.001, 2, 500)\n",
    "pca_vectors_mine_more.shape"
   ]
  },
  {
   "cell_type": "code",
   "execution_count": 165,
   "metadata": {
    "collapsed": false
   },
   "outputs": [
    {
     "data": {
      "text/plain": [
       "array([  1.96758289e+02,   2.30841462e+01,   1.29319398e-01,\n",
       "         5.10538437e-04,   2.13681824e-06,   8.76120411e-09,\n",
       "         4.57289927e-11,   1.64580581e-13,   6.35023328e-16,\n",
       "         2.46402954e-18])"
      ]
     },
     "execution_count": 165,
     "metadata": {},
     "output_type": "execute_result"
    }
   ],
   "source": [
    "eigenvals"
   ]
  },
  {
   "cell_type": "code",
   "execution_count": 166,
   "metadata": {
    "collapsed": false
   },
   "outputs": [
    {
     "data": {
      "text/plain": [
       "array([ 196.75828873,  219.84243498,  219.97175438,  219.97226491,\n",
       "        219.97226705,  219.97226706,  219.97226706,  219.97226706,\n",
       "        219.97226706,  219.97226706])"
      ]
     },
     "execution_count": 166,
     "metadata": {},
     "output_type": "execute_result"
    }
   ],
   "source": [
    "np.cumsum(eigenvals)"
   ]
  },
  {
   "cell_type": "markdown",
   "metadata": {},
   "source": [
    "My proportion of variance explained, by vector, is as follows."
   ]
  },
  {
   "cell_type": "code",
   "execution_count": 167,
   "metadata": {
    "collapsed": false
   },
   "outputs": [
    {
     "data": {
      "text/plain": [
       "array([ 0.89446861,  0.99940978,  0.99999767,  0.99999999,  1.        ,\n",
       "        1.        ,  1.        ,  1.        ,  1.        ,  1.        ])"
      ]
     },
     "execution_count": 167,
     "metadata": {},
     "output_type": "execute_result"
    }
   ],
   "source": [
    "np.cumsum(eigenvals) / np.sum(eigenvals)"
   ]
  },
  {
   "cell_type": "code",
   "execution_count": 176,
   "metadata": {
    "collapsed": false
   },
   "outputs": [
    {
     "data": {
      "text/plain": [
       "PCA(copy=True, iterated_power='auto', n_components=30, random_state=None,\n",
       "  svd_solver='full', tol=0.0, whiten=False)"
      ]
     },
     "execution_count": 176,
     "metadata": {},
     "output_type": "execute_result"
    }
   ],
   "source": [
    "pca_sklearn_more = PCA(how_many_vectors + 20, svd_solver='full')\n",
    "pca_sklearn_more.fit(d_values_centered)"
   ]
  },
  {
   "cell_type": "markdown",
   "metadata": {},
   "source": [
    "The sklearn proportion of variance explained, by vector, is as follows."
   ]
  },
  {
   "cell_type": "code",
   "execution_count": 177,
   "metadata": {
    "collapsed": false
   },
   "outputs": [
    {
     "data": {
      "text/plain": [
       "array([ 0.82164077,  0.82905033,  0.83604198,  0.84287748,  0.84949629,\n",
       "        0.85568219,  0.86178473,  0.86777748,  0.87336048,  0.87859895,\n",
       "        0.88373537,  0.88881477,  0.89363748,  0.89840334,  0.90304132,\n",
       "        0.90750953,  0.91185936,  0.91613461,  0.92015777,  0.92404748,\n",
       "        0.92783982,  0.93161968,  0.93529022,  0.93884115,  0.94228115,\n",
       "        0.9456249 ,  0.94887999,  0.95208692,  0.95520353,  0.95817802])"
      ]
     },
     "execution_count": 177,
     "metadata": {},
     "output_type": "execute_result"
    }
   ],
   "source": [
    "np.cumsum(pca_sklearn_more.explained_variance_ratio_)"
   ]
  },
  {
   "cell_type": "markdown",
   "metadata": {},
   "source": [
    "And here are my vectors and then the sklearn vectors."
   ]
  },
  {
   "cell_type": "code",
   "execution_count": 170,
   "metadata": {
    "collapsed": false
   },
   "outputs": [
    {
     "data": {
      "text/plain": [
       "array([[-0.09813747, -0.12353179, -0.08275335, -0.03018644, -0.13566331,\n",
       "        -0.13256877, -0.03629411, -0.07712304, -0.14370394, -0.08655488,\n",
       "        -0.14668615, -0.14444856, -0.10160648, -0.22656392, -0.21234143,\n",
       "        -0.14888264, -0.17760411, -0.1051564 , -0.17455267, -0.19909342,\n",
       "        -0.03909394, -0.13313378, -0.11500881, -0.1974808 , -0.15149413,\n",
       "        -0.11162656, -0.18293648, -0.09262079, -0.14918608, -0.13134868,\n",
       "        -0.15164504, -0.02963683, -0.11775   , -0.1782208 , -0.07287215,\n",
       "        -0.18361408, -0.10763083, -0.22327931, -0.19434609, -0.11174522,\n",
       "        -0.07929728, -0.10684167, -0.12830789, -0.13529651, -0.20468958,\n",
       "        -0.16296384, -0.14934412, -0.07013369, -0.09818444, -0.21332711],\n",
       "       [ 0.09213919, -0.0031373 ,  0.11141134,  0.25247706, -0.00912486,\n",
       "        -0.01596356,  0.26019114,  0.13519042, -0.05244876,  0.10282576,\n",
       "        -0.04792379, -0.04648669,  0.05117736, -0.26866084, -0.24180678,\n",
       "        -0.06566925, -0.13363059,  0.07264878, -0.11806779, -0.19277428,\n",
       "         0.24778199, -0.01991591,  0.03479111, -0.19786509, -0.0652142 ,\n",
       "         0.03400746, -0.15377235,  0.07245214, -0.07411016, -0.02297484,\n",
       "        -0.06859683,  0.31079876,  0.01546095, -0.1423358 ,  0.14755722,\n",
       "        -0.16408564,  0.0533327 , -0.2772929 , -0.18234331,  0.05657563,\n",
       "         0.1291143 ,  0.04975375,  0.005579  , -0.02648826, -0.20414203,\n",
       "        -0.08877316, -0.04525939,  0.18416568,  0.07073328, -0.24467726]])"
      ]
     },
     "execution_count": 170,
     "metadata": {},
     "output_type": "execute_result"
    }
   ],
   "source": [
    "pca_vectors_mine_more[:2]"
   ]
  },
  {
   "cell_type": "code",
   "execution_count": 171,
   "metadata": {
    "collapsed": false
   },
   "outputs": [
    {
     "data": {
      "text/plain": [
       "array([[-0.14626921, -0.13696733, -0.13822931, -0.13306571, -0.14546635,\n",
       "        -0.13989376, -0.14462336, -0.1375427 , -0.1390319 , -0.13622898,\n",
       "        -0.14349811, -0.14076473, -0.13348718, -0.14554114, -0.14010643,\n",
       "        -0.14107633, -0.14585557, -0.14452166, -0.14695032, -0.14382927,\n",
       "        -0.13980499, -0.14005139, -0.13932057, -0.14136208, -0.1431205 ,\n",
       "        -0.14005829, -0.14316148, -0.13308255, -0.13828971, -0.13686787,\n",
       "        -0.14114567, -0.15161587, -0.13829576, -0.14258304, -0.13807875,\n",
       "        -0.13778224, -0.14086929, -0.13981586, -0.14472255, -0.14548839,\n",
       "        -0.13770503, -0.13819986, -0.14326373, -0.14216992, -0.14826864,\n",
       "        -0.1467505 , -0.14639755, -0.14892919, -0.13830377, -0.13965711],\n",
       "       [ 0.06449019, -0.03191242, -0.20098416, -0.01594992,  0.02088346,\n",
       "        -0.07633151,  0.21011137, -0.24900575,  0.18718307, -0.08461287,\n",
       "        -0.07513274,  0.02983775,  0.08041682, -0.20045864, -0.09912717,\n",
       "         0.0501082 ,  0.22547261,  0.00501756, -0.0320576 , -0.17788327,\n",
       "         0.05064192, -0.02914277, -0.0042566 , -0.01466544, -0.34897347,\n",
       "         0.13100372,  0.41199356, -0.03149774, -0.13186001, -0.09572272,\n",
       "         0.0237375 ,  0.08583061,  0.05928392, -0.19644262, -0.08602794,\n",
       "         0.02269395, -0.09578078, -0.22349756, -0.02619908,  0.05173324,\n",
       "         0.05050566,  0.26368429,  0.0894474 ,  0.0551013 ,  0.03065625,\n",
       "        -0.01033689,  0.28666158,  0.12551824, -0.08300693, -0.03483081]])"
      ]
     },
     "execution_count": 171,
     "metadata": {},
     "output_type": "execute_result"
    }
   ],
   "source": [
    "pca_sklearn_more.components_[:2]"
   ]
  },
  {
   "cell_type": "markdown",
   "metadata": {},
   "source": [
    "## Side note, for me: plot 2-D representation"
   ]
  },
  {
   "cell_type": "markdown",
   "metadata": {},
   "source": [
    "My vectors aren't the same as the ones from sklearn, and I'm curious if they still do a good job of splitting the different classes, judged visually. Based on the first plot below, which shows the actual data projected using my first two principal component vectors, my vectors **do** separate the data. That said, the pattern shown by the sklearn vectors does look different - each class has approximately the same range on the y-axis/based on the second principal component, compared to different ranges for my vectors - which would be interesting to investigate further. "
   ]
  },
  {
   "cell_type": "code",
   "execution_count": 178,
   "metadata": {
    "collapsed": true
   },
   "outputs": [],
   "source": [
    "# add my and sklearn values to data\n",
    "d['mine_PCA1'] = d_values_centered.dot(pca_vectors_mine_more[0])\n",
    "d['mine_PCA2'] = d_values_centered.dot(pca_vectors_mine_more[1])\n",
    "d['sklearn_PCA1'] = d_values_centered.dot(pca_sklearn_more.components_[0])\n",
    "d['sklearn_PCA2'] = d_values_centered.dot(pca_sklearn_more.components_[1])"
   ]
  },
  {
   "cell_type": "code",
   "execution_count": 179,
   "metadata": {
    "collapsed": false
   },
   "outputs": [
    {
     "data": {
      "text/plain": [
       "<matplotlib.text.Text at 0x114a16c18>"
      ]
     },
     "execution_count": 179,
     "metadata": {},
     "output_type": "execute_result"
    },
    {
     "data": {
      "image/png": "[encoded data removed]",
      "text/plain": [
       "<matplotlib.figure.Figure at 0x113568c50>"
      ]
     },
     "metadata": {},
     "output_type": "display_data"
    }
   ],
   "source": [
    "sns.lmplot(\"mine_PCA1\", \"mine_PCA2\", hue=\"Class\", \n",
    "           markers=[\"o\",\"x\",\"+\",\"D\",\"*\"], data=d, fit_reg=False)\n",
    "sns.plt.title(\"PCA - my Oja algorithm\")"
   ]
  },
  {
   "cell_type": "code",
   "execution_count": 180,
   "metadata": {
    "collapsed": false
   },
   "outputs": [
    {
     "data": {
      "text/plain": [
       "<matplotlib.text.Text at 0x1157e54a8>"
      ]
     },
     "execution_count": 180,
     "metadata": {},
     "output_type": "execute_result"
    },
    {
     "data": {
      "image/png": "[encoded data removed]",
      "text/plain": [
       "<matplotlib.figure.Figure at 0x114996940>"
      ]
     },
     "metadata": {},
     "output_type": "display_data"
    }
   ],
   "source": [
    "sns.lmplot(\"sklearn_PCA1\", \"sklearn_PCA2\", hue=\"Class\", \n",
    "           markers=[\"o\",\"x\",\"+\",\"+\",\"*\"], data=d, fit_reg=False)\n",
    "sns.plt.title(\"PCA - sklearn\")"
   ]
  },
  {
   "cell_type": "markdown",
   "metadata": {},
   "source": [
    "## Run Oja code on AWS"
   ]
  },
  {
   "cell_type": "markdown",
   "metadata": {},
   "source": [
    "*Re-launch all of the above computations on AWS. Include the following with your submission: a) screenshot with the output for each question, and b) a screenshot with the results of running the following two commands on your instance.*"
   ]
  },
  {
   "cell_type": "markdown",
   "metadata": {},
   "source": [
    "I ran the code on EC2 by first transferring the file using Git, and then by running a Jupyter Notebook server locally on the EC2 instance, setting up an SSH tunnel from my local Mac to the EC2 instance - pointing port 8157 on my local machine to port 8888 on the EC2 instance, and then viewing the HTML (generated on the EC2 instance) in my local browser.\n",
    "\n",
    "Here's the address bar showing the use of the tunneled port 8157."
   ]
  },
  {
   "cell_type": "markdown",
   "metadata": {
    "collapsed": true
   },
   "source": [
    "![firstpage](ec2_1.png)"
   ]
  },
  {
   "cell_type": "markdown",
   "metadata": {},
   "source": [
    "Here are screen shots of all of the Oja code running on EC2."
   ]
  },
  {
   "cell_type": "markdown",
   "metadata": {},
   "source": [
    "![firstpage](ec2_3.png)"
   ]
  },
  {
   "cell_type": "markdown",
   "metadata": {},
   "source": [
    "![firstpage](ec2_4.png)"
   ]
  },
  {
   "cell_type": "markdown",
   "metadata": {},
   "source": [
    "![firstpage](ec2_5.png)"
   ]
  },
  {
   "cell_type": "markdown",
   "metadata": {},
   "source": [
    "![firstpage](ec2_6.png)"
   ]
  },
  {
   "cell_type": "markdown",
   "metadata": {},
   "source": [
    "![firstpage](ec2_7.png)"
   ]
  },
  {
   "cell_type": "markdown",
   "metadata": {},
   "source": [
    "![firstpage](ec2_8.png)"
   ]
  },
  {
   "cell_type": "markdown",
   "metadata": {},
   "source": [
    "![firstpage](ec2_9.png)"
   ]
  },
  {
   "cell_type": "markdown",
   "metadata": {},
   "source": [
    "![firstpage](ec2_10.png)"
   ]
  },
  {
   "cell_type": "markdown",
   "metadata": {},
   "source": [
    "![firstpage](ec2_11.png)"
   ]
  },
  {
   "cell_type": "markdown",
   "metadata": {},
   "source": [
    "![firstpage](ec2_12.png)"
   ]
  },
  {
   "cell_type": "markdown",
   "metadata": {},
   "source": [
    "Finally, here's the output of running history after setting formatting. I had two SSH terminal connections open so I include images from running history on both sessions."
   ]
  },
  {
   "cell_type": "markdown",
   "metadata": {},
   "source": [
    "![firstpage](history1.png)"
   ]
  },
  {
   "cell_type": "markdown",
   "metadata": {},
   "source": [
    "![firstpage](history2.png)"
   ]
  },
  {
   "cell_type": "code",
   "execution_count": null,
   "metadata": {
    "collapsed": true
   },
   "outputs": [],
   "source": []
  }
 ],
 "metadata": {
  "kernelspec": {
   "display_name": "Python 3",
   "language": "python",
   "name": "python3"
  },
  "language_info": {
   "codemirror_mode": {
    "name": "ipython",
    "version": 3
   },
   "file_extension": ".py",
   "mimetype": "text/x-python",
   "name": "python",
   "nbconvert_exporter": "python",
   "pygments_lexer": "ipython3",
   "version": "3.6.0"
  }
 },
 "nbformat": 4,
 "nbformat_minor": 2
}
